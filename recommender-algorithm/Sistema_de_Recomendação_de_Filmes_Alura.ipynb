{
  "nbformat": 4,
  "nbformat_minor": 0,
  "metadata": {
    "colab": {
      "name": "Sistema de Recomendação de Filmes - Alura.ipynb",
      "provenance": []
    },
    "kernelspec": {
      "name": "python3",
      "display_name": "Python 3"
    }
  },
  "cells": [
    {
      "cell_type": "code",
      "metadata": {
        "id": "jAxj0NqJPBDk",
        "colab": {
          "base_uri": "https://localhost:8080/",
          "height": 35
        },
        "outputId": "f2d1c7fb-7734-4f2a-c832-f1b1177bd834"
      },
      "source": [
        "from google.colab import drive\n",
        "drive.mount('/content/drive')"
      ],
      "execution_count": null,
      "outputs": [
        {
          "output_type": "stream",
          "text": [
            "Mounted at /content/drive\n"
          ],
          "name": "stdout"
        }
      ]
    },
    {
      "cell_type": "code",
      "metadata": {
        "id": "fz8Cu3kCP7bK",
        "colab": {
          "base_uri": "https://localhost:8080/",
          "height": 35
        },
        "outputId": "97f40cb3-c83e-40bf-f3df-e15c7a734fe2"
      },
      "source": [
        "%cd drive/My\\ Drive/Datasets/Movie-Lens"
      ],
      "execution_count": null,
      "outputs": [
        {
          "output_type": "stream",
          "text": [
            "/content/drive/My Drive/Datasets/Movie-Lens\n"
          ],
          "name": "stdout"
        }
      ]
    },
    {
      "cell_type": "code",
      "metadata": {
        "id": "xUOB87_rQJPp",
        "colab": {
          "base_uri": "https://localhost:8080/",
          "height": 35
        },
        "outputId": "4d9c0415-f0df-440d-e7ac-07a2fbf27a63"
      },
      "source": [
        "%ls"
      ],
      "execution_count": null,
      "outputs": [
        {
          "output_type": "stream",
          "text": [
            "links.csv  movies.csv  ratings.csv  README.txt  tags.csv\n"
          ],
          "name": "stdout"
        }
      ]
    },
    {
      "cell_type": "code",
      "metadata": {
        "id": "5PnwHrlLQP-J"
      },
      "source": [
        "import pandas as pd\n",
        "import numpy as np"
      ],
      "execution_count": null,
      "outputs": []
    },
    {
      "cell_type": "code",
      "metadata": {
        "id": "FTUkyxqOQZN4",
        "colab": {
          "base_uri": "https://localhost:8080/",
          "height": 230
        },
        "outputId": "997c43d9-a0f6-4b0c-8976-f07f56e0c0c4"
      },
      "source": [
        "films = pd.read_csv('movies.csv')\n",
        "films.columns = ['filmeId', 'titulo', 'generos']\n",
        "films.set_index('filmeId', inplace=True)\n",
        "films.head()"
      ],
      "execution_count": null,
      "outputs": [
        {
          "output_type": "execute_result",
          "data": {
            "text/html": [
              "<div>\n",
              "<style scoped>\n",
              "    .dataframe tbody tr th:only-of-type {\n",
              "        vertical-align: middle;\n",
              "    }\n",
              "\n",
              "    .dataframe tbody tr th {\n",
              "        vertical-align: top;\n",
              "    }\n",
              "\n",
              "    .dataframe thead th {\n",
              "        text-align: right;\n",
              "    }\n",
              "</style>\n",
              "<table border=\"1\" class=\"dataframe\">\n",
              "  <thead>\n",
              "    <tr style=\"text-align: right;\">\n",
              "      <th></th>\n",
              "      <th>titulo</th>\n",
              "      <th>generos</th>\n",
              "    </tr>\n",
              "    <tr>\n",
              "      <th>filmeId</th>\n",
              "      <th></th>\n",
              "      <th></th>\n",
              "    </tr>\n",
              "  </thead>\n",
              "  <tbody>\n",
              "    <tr>\n",
              "      <th>1</th>\n",
              "      <td>Toy Story (1995)</td>\n",
              "      <td>Adventure|Animation|Children|Comedy|Fantasy</td>\n",
              "    </tr>\n",
              "    <tr>\n",
              "      <th>2</th>\n",
              "      <td>Jumanji (1995)</td>\n",
              "      <td>Adventure|Children|Fantasy</td>\n",
              "    </tr>\n",
              "    <tr>\n",
              "      <th>3</th>\n",
              "      <td>Grumpier Old Men (1995)</td>\n",
              "      <td>Comedy|Romance</td>\n",
              "    </tr>\n",
              "    <tr>\n",
              "      <th>4</th>\n",
              "      <td>Waiting to Exhale (1995)</td>\n",
              "      <td>Comedy|Drama|Romance</td>\n",
              "    </tr>\n",
              "    <tr>\n",
              "      <th>5</th>\n",
              "      <td>Father of the Bride Part II (1995)</td>\n",
              "      <td>Comedy</td>\n",
              "    </tr>\n",
              "  </tbody>\n",
              "</table>\n",
              "</div>"
            ],
            "text/plain": [
              "                                     titulo                                      generos\n",
              "filmeId                                                                                 \n",
              "1                          Toy Story (1995)  Adventure|Animation|Children|Comedy|Fantasy\n",
              "2                            Jumanji (1995)                   Adventure|Children|Fantasy\n",
              "3                   Grumpier Old Men (1995)                               Comedy|Romance\n",
              "4                  Waiting to Exhale (1995)                         Comedy|Drama|Romance\n",
              "5        Father of the Bride Part II (1995)                                       Comedy"
            ]
          },
          "metadata": {
            "tags": []
          },
          "execution_count": 5
        }
      ]
    },
    {
      "cell_type": "code",
      "metadata": {
        "id": "z6XEMh_wQf0J",
        "colab": {
          "base_uri": "https://localhost:8080/",
          "height": 200
        },
        "outputId": "ab1c107f-269f-4f78-c496-116c603ce5fd"
      },
      "source": [
        "ratings = pd.read_csv('ratings.csv')\n",
        "ratings.columns = ['usuarioId', 'filmeId', 'nota', 'momento']\n",
        "ratings.head()"
      ],
      "execution_count": null,
      "outputs": [
        {
          "output_type": "execute_result",
          "data": {
            "text/html": [
              "<div>\n",
              "<style scoped>\n",
              "    .dataframe tbody tr th:only-of-type {\n",
              "        vertical-align: middle;\n",
              "    }\n",
              "\n",
              "    .dataframe tbody tr th {\n",
              "        vertical-align: top;\n",
              "    }\n",
              "\n",
              "    .dataframe thead th {\n",
              "        text-align: right;\n",
              "    }\n",
              "</style>\n",
              "<table border=\"1\" class=\"dataframe\">\n",
              "  <thead>\n",
              "    <tr style=\"text-align: right;\">\n",
              "      <th></th>\n",
              "      <th>usuarioId</th>\n",
              "      <th>filmeId</th>\n",
              "      <th>nota</th>\n",
              "      <th>momento</th>\n",
              "    </tr>\n",
              "  </thead>\n",
              "  <tbody>\n",
              "    <tr>\n",
              "      <th>0</th>\n",
              "      <td>1</td>\n",
              "      <td>1</td>\n",
              "      <td>4.0</td>\n",
              "      <td>964982703</td>\n",
              "    </tr>\n",
              "    <tr>\n",
              "      <th>1</th>\n",
              "      <td>1</td>\n",
              "      <td>3</td>\n",
              "      <td>4.0</td>\n",
              "      <td>964981247</td>\n",
              "    </tr>\n",
              "    <tr>\n",
              "      <th>2</th>\n",
              "      <td>1</td>\n",
              "      <td>6</td>\n",
              "      <td>4.0</td>\n",
              "      <td>964982224</td>\n",
              "    </tr>\n",
              "    <tr>\n",
              "      <th>3</th>\n",
              "      <td>1</td>\n",
              "      <td>47</td>\n",
              "      <td>5.0</td>\n",
              "      <td>964983815</td>\n",
              "    </tr>\n",
              "    <tr>\n",
              "      <th>4</th>\n",
              "      <td>1</td>\n",
              "      <td>50</td>\n",
              "      <td>5.0</td>\n",
              "      <td>964982931</td>\n",
              "    </tr>\n",
              "  </tbody>\n",
              "</table>\n",
              "</div>"
            ],
            "text/plain": [
              "   usuarioId  filmeId  nota    momento\n",
              "0          1        1   4.0  964982703\n",
              "1          1        3   4.0  964981247\n",
              "2          1        6   4.0  964982224\n",
              "3          1       47   5.0  964983815\n",
              "4          1       50   5.0  964982931"
            ]
          },
          "metadata": {
            "tags": []
          },
          "execution_count": 6
        }
      ]
    },
    {
      "cell_type": "code",
      "metadata": {
        "id": "mr6ZjjtwQ6wY",
        "colab": {
          "base_uri": "https://localhost:8080/",
          "height": 291
        },
        "outputId": "aadc3a1c-1e3e-4290-ce05-9243a9410bf9"
      },
      "source": [
        "ratings.describe()"
      ],
      "execution_count": null,
      "outputs": [
        {
          "output_type": "execute_result",
          "data": {
            "text/html": [
              "<div>\n",
              "<style scoped>\n",
              "    .dataframe tbody tr th:only-of-type {\n",
              "        vertical-align: middle;\n",
              "    }\n",
              "\n",
              "    .dataframe tbody tr th {\n",
              "        vertical-align: top;\n",
              "    }\n",
              "\n",
              "    .dataframe thead th {\n",
              "        text-align: right;\n",
              "    }\n",
              "</style>\n",
              "<table border=\"1\" class=\"dataframe\">\n",
              "  <thead>\n",
              "    <tr style=\"text-align: right;\">\n",
              "      <th></th>\n",
              "      <th>usuarioId</th>\n",
              "      <th>filmeId</th>\n",
              "      <th>nota</th>\n",
              "      <th>momento</th>\n",
              "    </tr>\n",
              "  </thead>\n",
              "  <tbody>\n",
              "    <tr>\n",
              "      <th>count</th>\n",
              "      <td>100836.000000</td>\n",
              "      <td>100836.000000</td>\n",
              "      <td>100836.000000</td>\n",
              "      <td>1.008360e+05</td>\n",
              "    </tr>\n",
              "    <tr>\n",
              "      <th>mean</th>\n",
              "      <td>326.127564</td>\n",
              "      <td>19435.295718</td>\n",
              "      <td>3.501557</td>\n",
              "      <td>1.205946e+09</td>\n",
              "    </tr>\n",
              "    <tr>\n",
              "      <th>std</th>\n",
              "      <td>182.618491</td>\n",
              "      <td>35530.987199</td>\n",
              "      <td>1.042529</td>\n",
              "      <td>2.162610e+08</td>\n",
              "    </tr>\n",
              "    <tr>\n",
              "      <th>min</th>\n",
              "      <td>1.000000</td>\n",
              "      <td>1.000000</td>\n",
              "      <td>0.500000</td>\n",
              "      <td>8.281246e+08</td>\n",
              "    </tr>\n",
              "    <tr>\n",
              "      <th>25%</th>\n",
              "      <td>177.000000</td>\n",
              "      <td>1199.000000</td>\n",
              "      <td>3.000000</td>\n",
              "      <td>1.019124e+09</td>\n",
              "    </tr>\n",
              "    <tr>\n",
              "      <th>50%</th>\n",
              "      <td>325.000000</td>\n",
              "      <td>2991.000000</td>\n",
              "      <td>3.500000</td>\n",
              "      <td>1.186087e+09</td>\n",
              "    </tr>\n",
              "    <tr>\n",
              "      <th>75%</th>\n",
              "      <td>477.000000</td>\n",
              "      <td>8122.000000</td>\n",
              "      <td>4.000000</td>\n",
              "      <td>1.435994e+09</td>\n",
              "    </tr>\n",
              "    <tr>\n",
              "      <th>max</th>\n",
              "      <td>610.000000</td>\n",
              "      <td>193609.000000</td>\n",
              "      <td>5.000000</td>\n",
              "      <td>1.537799e+09</td>\n",
              "    </tr>\n",
              "  </tbody>\n",
              "</table>\n",
              "</div>"
            ],
            "text/plain": [
              "           usuarioId        filmeId           nota       momento\n",
              "count  100836.000000  100836.000000  100836.000000  1.008360e+05\n",
              "mean      326.127564   19435.295718       3.501557  1.205946e+09\n",
              "std       182.618491   35530.987199       1.042529  2.162610e+08\n",
              "min         1.000000       1.000000       0.500000  8.281246e+08\n",
              "25%       177.000000    1199.000000       3.000000  1.019124e+09\n",
              "50%       325.000000    2991.000000       3.500000  1.186087e+09\n",
              "75%       477.000000    8122.000000       4.000000  1.435994e+09\n",
              "max       610.000000  193609.000000       5.000000  1.537799e+09"
            ]
          },
          "metadata": {
            "tags": []
          },
          "execution_count": 7
        }
      ]
    },
    {
      "cell_type": "markdown",
      "metadata": {
        "id": "NasIeSpRRLs2"
      },
      "source": [
        "# Primeira tentativa de recomendação"
      ]
    },
    {
      "cell_type": "code",
      "metadata": {
        "id": "0Z8r1xLERCcQ",
        "colab": {
          "base_uri": "https://localhost:8080/",
          "height": 124
        },
        "outputId": "ead5264e-60b8-42b5-a3ed-33b5825c4e2f"
      },
      "source": [
        "total_de_votos = ratings[\"filmeId\"].value_counts()\n",
        "total_de_votos.head()"
      ],
      "execution_count": null,
      "outputs": [
        {
          "output_type": "execute_result",
          "data": {
            "text/plain": [
              "356     329\n",
              "318     317\n",
              "296     307\n",
              "593     279\n",
              "2571    278\n",
              "Name: filmeId, dtype: int64"
            ]
          },
          "metadata": {
            "tags": []
          },
          "execution_count": 8
        }
      ]
    },
    {
      "cell_type": "code",
      "metadata": {
        "id": "flPRv1caSN1Y",
        "colab": {
          "base_uri": "https://localhost:8080/",
          "height": 70
        },
        "outputId": "722ea21e-e072-4473-fba1-21fdedcd771d"
      },
      "source": [
        "films.loc[318]"
      ],
      "execution_count": null,
      "outputs": [
        {
          "output_type": "execute_result",
          "data": {
            "text/plain": [
              "titulo     Shawshank Redemption, The (1994)\n",
              "generos                         Crime|Drama\n",
              "Name: 318, dtype: object"
            ]
          },
          "metadata": {
            "tags": []
          },
          "execution_count": 9
        }
      ]
    },
    {
      "cell_type": "code",
      "metadata": {
        "id": "tUl5fVBJSdUI",
        "colab": {
          "base_uri": "https://localhost:8080/",
          "height": 230
        },
        "outputId": "0ad16d93-4ebf-4ce8-bacd-d80002289225"
      },
      "source": [
        "films['total_de_votos'] = total_de_votos\n",
        "films.head()"
      ],
      "execution_count": null,
      "outputs": [
        {
          "output_type": "execute_result",
          "data": {
            "text/html": [
              "<div>\n",
              "<style scoped>\n",
              "    .dataframe tbody tr th:only-of-type {\n",
              "        vertical-align: middle;\n",
              "    }\n",
              "\n",
              "    .dataframe tbody tr th {\n",
              "        vertical-align: top;\n",
              "    }\n",
              "\n",
              "    .dataframe thead th {\n",
              "        text-align: right;\n",
              "    }\n",
              "</style>\n",
              "<table border=\"1\" class=\"dataframe\">\n",
              "  <thead>\n",
              "    <tr style=\"text-align: right;\">\n",
              "      <th></th>\n",
              "      <th>titulo</th>\n",
              "      <th>generos</th>\n",
              "      <th>total_de_votos</th>\n",
              "    </tr>\n",
              "    <tr>\n",
              "      <th>filmeId</th>\n",
              "      <th></th>\n",
              "      <th></th>\n",
              "      <th></th>\n",
              "    </tr>\n",
              "  </thead>\n",
              "  <tbody>\n",
              "    <tr>\n",
              "      <th>1</th>\n",
              "      <td>Toy Story (1995)</td>\n",
              "      <td>Adventure|Animation|Children|Comedy|Fantasy</td>\n",
              "      <td>215.0</td>\n",
              "    </tr>\n",
              "    <tr>\n",
              "      <th>2</th>\n",
              "      <td>Jumanji (1995)</td>\n",
              "      <td>Adventure|Children|Fantasy</td>\n",
              "      <td>110.0</td>\n",
              "    </tr>\n",
              "    <tr>\n",
              "      <th>3</th>\n",
              "      <td>Grumpier Old Men (1995)</td>\n",
              "      <td>Comedy|Romance</td>\n",
              "      <td>52.0</td>\n",
              "    </tr>\n",
              "    <tr>\n",
              "      <th>4</th>\n",
              "      <td>Waiting to Exhale (1995)</td>\n",
              "      <td>Comedy|Drama|Romance</td>\n",
              "      <td>7.0</td>\n",
              "    </tr>\n",
              "    <tr>\n",
              "      <th>5</th>\n",
              "      <td>Father of the Bride Part II (1995)</td>\n",
              "      <td>Comedy</td>\n",
              "      <td>49.0</td>\n",
              "    </tr>\n",
              "  </tbody>\n",
              "</table>\n",
              "</div>"
            ],
            "text/plain": [
              "                                     titulo  ... total_de_votos\n",
              "filmeId                                      ...               \n",
              "1                          Toy Story (1995)  ...          215.0\n",
              "2                            Jumanji (1995)  ...          110.0\n",
              "3                   Grumpier Old Men (1995)  ...           52.0\n",
              "4                  Waiting to Exhale (1995)  ...            7.0\n",
              "5        Father of the Bride Part II (1995)  ...           49.0\n",
              "\n",
              "[5 rows x 3 columns]"
            ]
          },
          "metadata": {
            "tags": []
          },
          "execution_count": 10
        }
      ]
    },
    {
      "cell_type": "markdown",
      "metadata": {
        "id": "ex3OucDUWDTr"
      },
      "source": [
        "Heurística de Total de Votos"
      ]
    },
    {
      "cell_type": "code",
      "metadata": {
        "id": "-fkKIc8WTQG5",
        "colab": {
          "base_uri": "https://localhost:8080/",
          "height": 230
        },
        "outputId": "7727ff44-f80a-4f59-cfd5-05cec3611114"
      },
      "source": [
        "# aqui simplesmente indicamos os filmes mais populares (com mais votos)\n",
        "# sem saber nada a respeito dos gostos da pessoa que estamos recomendando\n",
        "films.sort_values('total_de_votos', ascending=False).head()"
      ],
      "execution_count": null,
      "outputs": [
        {
          "output_type": "execute_result",
          "data": {
            "text/html": [
              "<div>\n",
              "<style scoped>\n",
              "    .dataframe tbody tr th:only-of-type {\n",
              "        vertical-align: middle;\n",
              "    }\n",
              "\n",
              "    .dataframe tbody tr th {\n",
              "        vertical-align: top;\n",
              "    }\n",
              "\n",
              "    .dataframe thead th {\n",
              "        text-align: right;\n",
              "    }\n",
              "</style>\n",
              "<table border=\"1\" class=\"dataframe\">\n",
              "  <thead>\n",
              "    <tr style=\"text-align: right;\">\n",
              "      <th></th>\n",
              "      <th>titulo</th>\n",
              "      <th>generos</th>\n",
              "      <th>total_de_votos</th>\n",
              "    </tr>\n",
              "    <tr>\n",
              "      <th>filmeId</th>\n",
              "      <th></th>\n",
              "      <th></th>\n",
              "      <th></th>\n",
              "    </tr>\n",
              "  </thead>\n",
              "  <tbody>\n",
              "    <tr>\n",
              "      <th>356</th>\n",
              "      <td>Forrest Gump (1994)</td>\n",
              "      <td>Comedy|Drama|Romance|War</td>\n",
              "      <td>329.0</td>\n",
              "    </tr>\n",
              "    <tr>\n",
              "      <th>318</th>\n",
              "      <td>Shawshank Redemption, The (1994)</td>\n",
              "      <td>Crime|Drama</td>\n",
              "      <td>317.0</td>\n",
              "    </tr>\n",
              "    <tr>\n",
              "      <th>296</th>\n",
              "      <td>Pulp Fiction (1994)</td>\n",
              "      <td>Comedy|Crime|Drama|Thriller</td>\n",
              "      <td>307.0</td>\n",
              "    </tr>\n",
              "    <tr>\n",
              "      <th>593</th>\n",
              "      <td>Silence of the Lambs, The (1991)</td>\n",
              "      <td>Crime|Horror|Thriller</td>\n",
              "      <td>279.0</td>\n",
              "    </tr>\n",
              "    <tr>\n",
              "      <th>2571</th>\n",
              "      <td>Matrix, The (1999)</td>\n",
              "      <td>Action|Sci-Fi|Thriller</td>\n",
              "      <td>278.0</td>\n",
              "    </tr>\n",
              "  </tbody>\n",
              "</table>\n",
              "</div>"
            ],
            "text/plain": [
              "                                   titulo  ... total_de_votos\n",
              "filmeId                                    ...               \n",
              "356                   Forrest Gump (1994)  ...          329.0\n",
              "318      Shawshank Redemption, The (1994)  ...          317.0\n",
              "296                   Pulp Fiction (1994)  ...          307.0\n",
              "593      Silence of the Lambs, The (1991)  ...          279.0\n",
              "2571                   Matrix, The (1999)  ...          278.0\n",
              "\n",
              "[5 rows x 3 columns]"
            ]
          },
          "metadata": {
            "tags": []
          },
          "execution_count": 11
        }
      ]
    },
    {
      "cell_type": "code",
      "metadata": {
        "id": "pdmrcfkFTY4J",
        "colab": {
          "base_uri": "https://localhost:8080/",
          "height": 248
        },
        "outputId": "7c94b3e9-6516-4a44-c3d9-ee501c8b2f29"
      },
      "source": [
        "notas_medias = ratings.groupby('filmeId').mean()['nota']\n",
        "notas_medias"
      ],
      "execution_count": null,
      "outputs": [
        {
          "output_type": "execute_result",
          "data": {
            "text/plain": [
              "filmeId\n",
              "1         3.920930\n",
              "2         3.431818\n",
              "3         3.259615\n",
              "4         2.357143\n",
              "5         3.071429\n",
              "            ...   \n",
              "193581    4.000000\n",
              "193583    3.500000\n",
              "193585    3.500000\n",
              "193587    3.500000\n",
              "193609    4.000000\n",
              "Name: nota, Length: 9724, dtype: float64"
            ]
          },
          "metadata": {
            "tags": []
          },
          "execution_count": 12
        }
      ]
    },
    {
      "cell_type": "code",
      "metadata": {
        "id": "TcVKIcsFT3K5",
        "colab": {
          "base_uri": "https://localhost:8080/",
          "height": 382
        },
        "outputId": "039d5aec-b3cf-4946-ff79-7b92090ff3d7"
      },
      "source": [
        "films['nota_media'] = notas_medias\n",
        "films.sort_values('total_de_votos', ascending=False).head(10)"
      ],
      "execution_count": null,
      "outputs": [
        {
          "output_type": "execute_result",
          "data": {
            "text/html": [
              "<div>\n",
              "<style scoped>\n",
              "    .dataframe tbody tr th:only-of-type {\n",
              "        vertical-align: middle;\n",
              "    }\n",
              "\n",
              "    .dataframe tbody tr th {\n",
              "        vertical-align: top;\n",
              "    }\n",
              "\n",
              "    .dataframe thead th {\n",
              "        text-align: right;\n",
              "    }\n",
              "</style>\n",
              "<table border=\"1\" class=\"dataframe\">\n",
              "  <thead>\n",
              "    <tr style=\"text-align: right;\">\n",
              "      <th></th>\n",
              "      <th>titulo</th>\n",
              "      <th>generos</th>\n",
              "      <th>total_de_votos</th>\n",
              "      <th>nota_media</th>\n",
              "    </tr>\n",
              "    <tr>\n",
              "      <th>filmeId</th>\n",
              "      <th></th>\n",
              "      <th></th>\n",
              "      <th></th>\n",
              "      <th></th>\n",
              "    </tr>\n",
              "  </thead>\n",
              "  <tbody>\n",
              "    <tr>\n",
              "      <th>356</th>\n",
              "      <td>Forrest Gump (1994)</td>\n",
              "      <td>Comedy|Drama|Romance|War</td>\n",
              "      <td>329.0</td>\n",
              "      <td>4.164134</td>\n",
              "    </tr>\n",
              "    <tr>\n",
              "      <th>318</th>\n",
              "      <td>Shawshank Redemption, The (1994)</td>\n",
              "      <td>Crime|Drama</td>\n",
              "      <td>317.0</td>\n",
              "      <td>4.429022</td>\n",
              "    </tr>\n",
              "    <tr>\n",
              "      <th>296</th>\n",
              "      <td>Pulp Fiction (1994)</td>\n",
              "      <td>Comedy|Crime|Drama|Thriller</td>\n",
              "      <td>307.0</td>\n",
              "      <td>4.197068</td>\n",
              "    </tr>\n",
              "    <tr>\n",
              "      <th>593</th>\n",
              "      <td>Silence of the Lambs, The (1991)</td>\n",
              "      <td>Crime|Horror|Thriller</td>\n",
              "      <td>279.0</td>\n",
              "      <td>4.161290</td>\n",
              "    </tr>\n",
              "    <tr>\n",
              "      <th>2571</th>\n",
              "      <td>Matrix, The (1999)</td>\n",
              "      <td>Action|Sci-Fi|Thriller</td>\n",
              "      <td>278.0</td>\n",
              "      <td>4.192446</td>\n",
              "    </tr>\n",
              "    <tr>\n",
              "      <th>260</th>\n",
              "      <td>Star Wars: Episode IV - A New Hope (1977)</td>\n",
              "      <td>Action|Adventure|Sci-Fi</td>\n",
              "      <td>251.0</td>\n",
              "      <td>4.231076</td>\n",
              "    </tr>\n",
              "    <tr>\n",
              "      <th>480</th>\n",
              "      <td>Jurassic Park (1993)</td>\n",
              "      <td>Action|Adventure|Sci-Fi|Thriller</td>\n",
              "      <td>238.0</td>\n",
              "      <td>3.750000</td>\n",
              "    </tr>\n",
              "    <tr>\n",
              "      <th>110</th>\n",
              "      <td>Braveheart (1995)</td>\n",
              "      <td>Action|Drama|War</td>\n",
              "      <td>237.0</td>\n",
              "      <td>4.031646</td>\n",
              "    </tr>\n",
              "    <tr>\n",
              "      <th>589</th>\n",
              "      <td>Terminator 2: Judgment Day (1991)</td>\n",
              "      <td>Action|Sci-Fi</td>\n",
              "      <td>224.0</td>\n",
              "      <td>3.970982</td>\n",
              "    </tr>\n",
              "    <tr>\n",
              "      <th>527</th>\n",
              "      <td>Schindler's List (1993)</td>\n",
              "      <td>Drama|War</td>\n",
              "      <td>220.0</td>\n",
              "      <td>4.225000</td>\n",
              "    </tr>\n",
              "  </tbody>\n",
              "</table>\n",
              "</div>"
            ],
            "text/plain": [
              "                                            titulo  ... nota_media\n",
              "filmeId                                             ...           \n",
              "356                            Forrest Gump (1994)  ...   4.164134\n",
              "318               Shawshank Redemption, The (1994)  ...   4.429022\n",
              "296                            Pulp Fiction (1994)  ...   4.197068\n",
              "593               Silence of the Lambs, The (1991)  ...   4.161290\n",
              "2571                            Matrix, The (1999)  ...   4.192446\n",
              "260      Star Wars: Episode IV - A New Hope (1977)  ...   4.231076\n",
              "480                           Jurassic Park (1993)  ...   3.750000\n",
              "110                              Braveheart (1995)  ...   4.031646\n",
              "589              Terminator 2: Judgment Day (1991)  ...   3.970982\n",
              "527                        Schindler's List (1993)  ...   4.225000\n",
              "\n",
              "[10 rows x 4 columns]"
            ]
          },
          "metadata": {
            "tags": []
          },
          "execution_count": 13
        }
      ]
    },
    {
      "cell_type": "code",
      "metadata": {
        "id": "1xFKQSzRUKu_"
      },
      "source": [
        "# muita gente assistiu mas nem todos votaram"
      ],
      "execution_count": null,
      "outputs": []
    },
    {
      "cell_type": "code",
      "metadata": {
        "id": "bBYHxoGFU_Nj",
        "colab": {
          "base_uri": "https://localhost:8080/",
          "height": 382
        },
        "outputId": "796e6c40-51c9-4dec-a786-9b179294c86d"
      },
      "source": [
        "# os melhores sao os que possuem apenas um voto com nota 05\n",
        "films.sort_values('nota_media', ascending=False).head(10)"
      ],
      "execution_count": null,
      "outputs": [
        {
          "output_type": "execute_result",
          "data": {
            "text/html": [
              "<div>\n",
              "<style scoped>\n",
              "    .dataframe tbody tr th:only-of-type {\n",
              "        vertical-align: middle;\n",
              "    }\n",
              "\n",
              "    .dataframe tbody tr th {\n",
              "        vertical-align: top;\n",
              "    }\n",
              "\n",
              "    .dataframe thead th {\n",
              "        text-align: right;\n",
              "    }\n",
              "</style>\n",
              "<table border=\"1\" class=\"dataframe\">\n",
              "  <thead>\n",
              "    <tr style=\"text-align: right;\">\n",
              "      <th></th>\n",
              "      <th>titulo</th>\n",
              "      <th>generos</th>\n",
              "      <th>total_de_votos</th>\n",
              "      <th>nota_media</th>\n",
              "    </tr>\n",
              "    <tr>\n",
              "      <th>filmeId</th>\n",
              "      <th></th>\n",
              "      <th></th>\n",
              "      <th></th>\n",
              "      <th></th>\n",
              "    </tr>\n",
              "  </thead>\n",
              "  <tbody>\n",
              "    <tr>\n",
              "      <th>88448</th>\n",
              "      <td>Paper Birds (Pájaros de papel) (2010)</td>\n",
              "      <td>Comedy|Drama</td>\n",
              "      <td>1.0</td>\n",
              "      <td>5.0</td>\n",
              "    </tr>\n",
              "    <tr>\n",
              "      <th>100556</th>\n",
              "      <td>Act of Killing, The (2012)</td>\n",
              "      <td>Documentary</td>\n",
              "      <td>1.0</td>\n",
              "      <td>5.0</td>\n",
              "    </tr>\n",
              "    <tr>\n",
              "      <th>143031</th>\n",
              "      <td>Jump In! (2007)</td>\n",
              "      <td>Comedy|Drama|Romance</td>\n",
              "      <td>1.0</td>\n",
              "      <td>5.0</td>\n",
              "    </tr>\n",
              "    <tr>\n",
              "      <th>143511</th>\n",
              "      <td>Human (2015)</td>\n",
              "      <td>Documentary</td>\n",
              "      <td>1.0</td>\n",
              "      <td>5.0</td>\n",
              "    </tr>\n",
              "    <tr>\n",
              "      <th>143559</th>\n",
              "      <td>L.A. Slasher (2015)</td>\n",
              "      <td>Comedy|Crime|Fantasy</td>\n",
              "      <td>1.0</td>\n",
              "      <td>5.0</td>\n",
              "    </tr>\n",
              "    <tr>\n",
              "      <th>6201</th>\n",
              "      <td>Lady Jane (1986)</td>\n",
              "      <td>Drama|Romance</td>\n",
              "      <td>1.0</td>\n",
              "      <td>5.0</td>\n",
              "    </tr>\n",
              "    <tr>\n",
              "      <th>102217</th>\n",
              "      <td>Bill Hicks: Revelations (1993)</td>\n",
              "      <td>Comedy</td>\n",
              "      <td>1.0</td>\n",
              "      <td>5.0</td>\n",
              "    </tr>\n",
              "    <tr>\n",
              "      <th>102084</th>\n",
              "      <td>Justice League: Doom (2012)</td>\n",
              "      <td>Action|Animation|Fantasy</td>\n",
              "      <td>1.0</td>\n",
              "      <td>5.0</td>\n",
              "    </tr>\n",
              "    <tr>\n",
              "      <th>6192</th>\n",
              "      <td>Open Hearts (Elsker dig for evigt) (2002)</td>\n",
              "      <td>Romance</td>\n",
              "      <td>1.0</td>\n",
              "      <td>5.0</td>\n",
              "    </tr>\n",
              "    <tr>\n",
              "      <th>145994</th>\n",
              "      <td>Formula of Love (1984)</td>\n",
              "      <td>Comedy</td>\n",
              "      <td>1.0</td>\n",
              "      <td>5.0</td>\n",
              "    </tr>\n",
              "  </tbody>\n",
              "</table>\n",
              "</div>"
            ],
            "text/plain": [
              "                                            titulo  ... nota_media\n",
              "filmeId                                             ...           \n",
              "88448        Paper Birds (Pájaros de papel) (2010)  ...        5.0\n",
              "100556                  Act of Killing, The (2012)  ...        5.0\n",
              "143031                             Jump In! (2007)  ...        5.0\n",
              "143511                                Human (2015)  ...        5.0\n",
              "143559                         L.A. Slasher (2015)  ...        5.0\n",
              "6201                              Lady Jane (1986)  ...        5.0\n",
              "102217              Bill Hicks: Revelations (1993)  ...        5.0\n",
              "102084                Justice League: Doom (2012)   ...        5.0\n",
              "6192     Open Hearts (Elsker dig for evigt) (2002)  ...        5.0\n",
              "145994                      Formula of Love (1984)  ...        5.0\n",
              "\n",
              "[10 rows x 4 columns]"
            ]
          },
          "metadata": {
            "tags": []
          },
          "execution_count": 15
        }
      ]
    },
    {
      "cell_type": "code",
      "metadata": {
        "id": "3CZe1BhBVBqg",
        "colab": {
          "base_uri": "https://localhost:8080/",
          "height": 382
        },
        "outputId": "7f241e51-7753-4fc6-ce48-6c3b33c930eb"
      },
      "source": [
        "filmes_com_mais_de_50_votos = films.query(\"total_de_votos >= 50\")\n",
        "filmes_com_mais_de_50_votos.sort_values(\"nota_media\", ascending=False).head(10)"
      ],
      "execution_count": null,
      "outputs": [
        {
          "output_type": "execute_result",
          "data": {
            "text/html": [
              "<div>\n",
              "<style scoped>\n",
              "    .dataframe tbody tr th:only-of-type {\n",
              "        vertical-align: middle;\n",
              "    }\n",
              "\n",
              "    .dataframe tbody tr th {\n",
              "        vertical-align: top;\n",
              "    }\n",
              "\n",
              "    .dataframe thead th {\n",
              "        text-align: right;\n",
              "    }\n",
              "</style>\n",
              "<table border=\"1\" class=\"dataframe\">\n",
              "  <thead>\n",
              "    <tr style=\"text-align: right;\">\n",
              "      <th></th>\n",
              "      <th>titulo</th>\n",
              "      <th>generos</th>\n",
              "      <th>total_de_votos</th>\n",
              "      <th>nota_media</th>\n",
              "    </tr>\n",
              "    <tr>\n",
              "      <th>filmeId</th>\n",
              "      <th></th>\n",
              "      <th></th>\n",
              "      <th></th>\n",
              "      <th></th>\n",
              "    </tr>\n",
              "  </thead>\n",
              "  <tbody>\n",
              "    <tr>\n",
              "      <th>318</th>\n",
              "      <td>Shawshank Redemption, The (1994)</td>\n",
              "      <td>Crime|Drama</td>\n",
              "      <td>317.0</td>\n",
              "      <td>4.429022</td>\n",
              "    </tr>\n",
              "    <tr>\n",
              "      <th>858</th>\n",
              "      <td>Godfather, The (1972)</td>\n",
              "      <td>Crime|Drama</td>\n",
              "      <td>192.0</td>\n",
              "      <td>4.289062</td>\n",
              "    </tr>\n",
              "    <tr>\n",
              "      <th>2959</th>\n",
              "      <td>Fight Club (1999)</td>\n",
              "      <td>Action|Crime|Drama|Thriller</td>\n",
              "      <td>218.0</td>\n",
              "      <td>4.272936</td>\n",
              "    </tr>\n",
              "    <tr>\n",
              "      <th>1276</th>\n",
              "      <td>Cool Hand Luke (1967)</td>\n",
              "      <td>Drama</td>\n",
              "      <td>57.0</td>\n",
              "      <td>4.271930</td>\n",
              "    </tr>\n",
              "    <tr>\n",
              "      <th>750</th>\n",
              "      <td>Dr. Strangelove or: How I Learned to Stop Worr...</td>\n",
              "      <td>Comedy|War</td>\n",
              "      <td>97.0</td>\n",
              "      <td>4.268041</td>\n",
              "    </tr>\n",
              "    <tr>\n",
              "      <th>904</th>\n",
              "      <td>Rear Window (1954)</td>\n",
              "      <td>Mystery|Thriller</td>\n",
              "      <td>84.0</td>\n",
              "      <td>4.261905</td>\n",
              "    </tr>\n",
              "    <tr>\n",
              "      <th>1221</th>\n",
              "      <td>Godfather: Part II, The (1974)</td>\n",
              "      <td>Crime|Drama</td>\n",
              "      <td>129.0</td>\n",
              "      <td>4.259690</td>\n",
              "    </tr>\n",
              "    <tr>\n",
              "      <th>48516</th>\n",
              "      <td>Departed, The (2006)</td>\n",
              "      <td>Crime|Drama|Thriller</td>\n",
              "      <td>107.0</td>\n",
              "      <td>4.252336</td>\n",
              "    </tr>\n",
              "    <tr>\n",
              "      <th>1213</th>\n",
              "      <td>Goodfellas (1990)</td>\n",
              "      <td>Crime|Drama</td>\n",
              "      <td>126.0</td>\n",
              "      <td>4.250000</td>\n",
              "    </tr>\n",
              "    <tr>\n",
              "      <th>912</th>\n",
              "      <td>Casablanca (1942)</td>\n",
              "      <td>Drama|Romance</td>\n",
              "      <td>100.0</td>\n",
              "      <td>4.240000</td>\n",
              "    </tr>\n",
              "  </tbody>\n",
              "</table>\n",
              "</div>"
            ],
            "text/plain": [
              "                                                    titulo  ... nota_media\n",
              "filmeId                                                     ...           \n",
              "318                       Shawshank Redemption, The (1994)  ...   4.429022\n",
              "858                                  Godfather, The (1972)  ...   4.289062\n",
              "2959                                     Fight Club (1999)  ...   4.272936\n",
              "1276                                 Cool Hand Luke (1967)  ...   4.271930\n",
              "750      Dr. Strangelove or: How I Learned to Stop Worr...  ...   4.268041\n",
              "904                                     Rear Window (1954)  ...   4.261905\n",
              "1221                        Godfather: Part II, The (1974)  ...   4.259690\n",
              "48516                                 Departed, The (2006)  ...   4.252336\n",
              "1213                                     Goodfellas (1990)  ...   4.250000\n",
              "912                                      Casablanca (1942)  ...   4.240000\n",
              "\n",
              "[10 rows x 4 columns]"
            ]
          },
          "metadata": {
            "tags": []
          },
          "execution_count": 16
        }
      ]
    },
    {
      "cell_type": "code",
      "metadata": {
        "id": "SqPuPtg-VlSI",
        "colab": {
          "base_uri": "https://localhost:8080/",
          "height": 291
        },
        "outputId": "7a345e19-4aa7-492e-cb84-fd1831ac10f7"
      },
      "source": [
        "eu_assisti = [1, 21, 19, 10, 11, 7, 2]\n",
        "films.loc[eu_assisti]"
      ],
      "execution_count": null,
      "outputs": [
        {
          "output_type": "execute_result",
          "data": {
            "text/html": [
              "<div>\n",
              "<style scoped>\n",
              "    .dataframe tbody tr th:only-of-type {\n",
              "        vertical-align: middle;\n",
              "    }\n",
              "\n",
              "    .dataframe tbody tr th {\n",
              "        vertical-align: top;\n",
              "    }\n",
              "\n",
              "    .dataframe thead th {\n",
              "        text-align: right;\n",
              "    }\n",
              "</style>\n",
              "<table border=\"1\" class=\"dataframe\">\n",
              "  <thead>\n",
              "    <tr style=\"text-align: right;\">\n",
              "      <th></th>\n",
              "      <th>titulo</th>\n",
              "      <th>generos</th>\n",
              "      <th>total_de_votos</th>\n",
              "      <th>nota_media</th>\n",
              "    </tr>\n",
              "    <tr>\n",
              "      <th>filmeId</th>\n",
              "      <th></th>\n",
              "      <th></th>\n",
              "      <th></th>\n",
              "      <th></th>\n",
              "    </tr>\n",
              "  </thead>\n",
              "  <tbody>\n",
              "    <tr>\n",
              "      <th>1</th>\n",
              "      <td>Toy Story (1995)</td>\n",
              "      <td>Adventure|Animation|Children|Comedy|Fantasy</td>\n",
              "      <td>215.0</td>\n",
              "      <td>3.920930</td>\n",
              "    </tr>\n",
              "    <tr>\n",
              "      <th>21</th>\n",
              "      <td>Get Shorty (1995)</td>\n",
              "      <td>Comedy|Crime|Thriller</td>\n",
              "      <td>89.0</td>\n",
              "      <td>3.494382</td>\n",
              "    </tr>\n",
              "    <tr>\n",
              "      <th>19</th>\n",
              "      <td>Ace Ventura: When Nature Calls (1995)</td>\n",
              "      <td>Comedy</td>\n",
              "      <td>88.0</td>\n",
              "      <td>2.727273</td>\n",
              "    </tr>\n",
              "    <tr>\n",
              "      <th>10</th>\n",
              "      <td>GoldenEye (1995)</td>\n",
              "      <td>Action|Adventure|Thriller</td>\n",
              "      <td>132.0</td>\n",
              "      <td>3.496212</td>\n",
              "    </tr>\n",
              "    <tr>\n",
              "      <th>11</th>\n",
              "      <td>American President, The (1995)</td>\n",
              "      <td>Comedy|Drama|Romance</td>\n",
              "      <td>70.0</td>\n",
              "      <td>3.671429</td>\n",
              "    </tr>\n",
              "    <tr>\n",
              "      <th>7</th>\n",
              "      <td>Sabrina (1995)</td>\n",
              "      <td>Comedy|Romance</td>\n",
              "      <td>54.0</td>\n",
              "      <td>3.185185</td>\n",
              "    </tr>\n",
              "    <tr>\n",
              "      <th>2</th>\n",
              "      <td>Jumanji (1995)</td>\n",
              "      <td>Adventure|Children|Fantasy</td>\n",
              "      <td>110.0</td>\n",
              "      <td>3.431818</td>\n",
              "    </tr>\n",
              "  </tbody>\n",
              "</table>\n",
              "</div>"
            ],
            "text/plain": [
              "                                        titulo  ... nota_media\n",
              "filmeId                                         ...           \n",
              "1                             Toy Story (1995)  ...   3.920930\n",
              "21                           Get Shorty (1995)  ...   3.494382\n",
              "19       Ace Ventura: When Nature Calls (1995)  ...   2.727273\n",
              "10                            GoldenEye (1995)  ...   3.496212\n",
              "11              American President, The (1995)  ...   3.671429\n",
              "7                               Sabrina (1995)  ...   3.185185\n",
              "2                               Jumanji (1995)  ...   3.431818\n",
              "\n",
              "[7 rows x 4 columns]"
            ]
          },
          "metadata": {
            "tags": []
          },
          "execution_count": 17
        }
      ]
    },
    {
      "cell_type": "markdown",
      "metadata": {
        "id": "WMp62sowYH0C"
      },
      "source": [
        "Heurística por genero de filme (com filmes com mais de 50 votos)"
      ]
    },
    {
      "cell_type": "code",
      "metadata": {
        "id": "Z6esHsVbXFxo",
        "colab": {
          "base_uri": "https://localhost:8080/",
          "height": 170
        },
        "outputId": "2199b19f-0863-4e83-e5d9-2f991492cec2"
      },
      "source": [
        "filmes_com_mais_de_50_votos.query(\"generos=='Adventure|Children|Fantasy'\").sort_values(\"nota_media\", ascending=False).head(10)"
      ],
      "execution_count": null,
      "outputs": [
        {
          "output_type": "execute_result",
          "data": {
            "text/html": [
              "<div>\n",
              "<style scoped>\n",
              "    .dataframe tbody tr th:only-of-type {\n",
              "        vertical-align: middle;\n",
              "    }\n",
              "\n",
              "    .dataframe tbody tr th {\n",
              "        vertical-align: top;\n",
              "    }\n",
              "\n",
              "    .dataframe thead th {\n",
              "        text-align: right;\n",
              "    }\n",
              "</style>\n",
              "<table border=\"1\" class=\"dataframe\">\n",
              "  <thead>\n",
              "    <tr style=\"text-align: right;\">\n",
              "      <th></th>\n",
              "      <th>titulo</th>\n",
              "      <th>generos</th>\n",
              "      <th>total_de_votos</th>\n",
              "      <th>nota_media</th>\n",
              "    </tr>\n",
              "    <tr>\n",
              "      <th>filmeId</th>\n",
              "      <th></th>\n",
              "      <th></th>\n",
              "      <th></th>\n",
              "      <th></th>\n",
              "    </tr>\n",
              "  </thead>\n",
              "  <tbody>\n",
              "    <tr>\n",
              "      <th>4896</th>\n",
              "      <td>Harry Potter and the Sorcerer's Stone (a.k.a. ...</td>\n",
              "      <td>Adventure|Children|Fantasy</td>\n",
              "      <td>107.0</td>\n",
              "      <td>3.761682</td>\n",
              "    </tr>\n",
              "    <tr>\n",
              "      <th>41566</th>\n",
              "      <td>Chronicles of Narnia: The Lion, the Witch and ...</td>\n",
              "      <td>Adventure|Children|Fantasy</td>\n",
              "      <td>62.0</td>\n",
              "      <td>3.443548</td>\n",
              "    </tr>\n",
              "    <tr>\n",
              "      <th>2</th>\n",
              "      <td>Jumanji (1995)</td>\n",
              "      <td>Adventure|Children|Fantasy</td>\n",
              "      <td>110.0</td>\n",
              "      <td>3.431818</td>\n",
              "    </tr>\n",
              "  </tbody>\n",
              "</table>\n",
              "</div>"
            ],
            "text/plain": [
              "                                                    titulo  ... nota_media\n",
              "filmeId                                                     ...           \n",
              "4896     Harry Potter and the Sorcerer's Stone (a.k.a. ...  ...   3.761682\n",
              "41566    Chronicles of Narnia: The Lion, the Witch and ...  ...   3.443548\n",
              "2                                           Jumanji (1995)  ...   3.431818\n",
              "\n",
              "[3 rows x 4 columns]"
            ]
          },
          "metadata": {
            "tags": []
          },
          "execution_count": 18
        }
      ]
    },
    {
      "cell_type": "code",
      "metadata": {
        "id": "hqCrevktYVFP"
      },
      "source": [
        "# total de votos baixo"
      ],
      "execution_count": null,
      "outputs": []
    },
    {
      "cell_type": "code",
      "metadata": {
        "id": "8hq-f9qLZ59W"
      },
      "source": [
        "# vamos aprender a filtrar os dados com base na colaboração de dados entre os usuarios do sistema\n",
        "# collaborative filtering x content based filtering"
      ],
      "execution_count": null,
      "outputs": []
    },
    {
      "cell_type": "markdown",
      "metadata": {
        "id": "mNptBkeZjT0K"
      },
      "source": [
        "# Procurar usuários \"similares\""
      ]
    },
    {
      "cell_type": "markdown",
      "metadata": {
        "id": "3kPSs_lgjZYI"
      },
      "source": [
        "- joão deu nota 4 no filme toy story\n",
        "- maria deu nota 5 no filme toy story\n",
        "- paulo deu nota 3 no filme toy story\n",
        "- joana deu nota 3.5 no filme toy story\n",
        "\n",
        "Distancia entre duas pessoas:\n",
        "5-4=1\n",
        "4- 3.5 = 0.5"
      ]
    },
    {
      "cell_type": "code",
      "metadata": {
        "id": "4pbHgqW8jY2S",
        "colab": {
          "base_uri": "https://localhost:8080/",
          "height": 298
        },
        "outputId": "b1b122e9-4380-40b4-bb1e-ae9bee22944e"
      },
      "source": [
        "# joao = [4, 4.5]\n",
        "# maria = [5, 5]\n",
        "\n",
        "import matplotlib.pyplot as plt\n",
        "plt.plot(4, 4.5, \"go\")\n",
        "plt.plot(5, 5, \"yo\")\n",
        "plt.legend([\"João\", \"Maria\"])\n",
        "plt.title(\"Calcular a distancia entre dois usuários\")\n",
        "\n",
        "plt.plot([4, 5], [4.5, 4.5], color='b',linestyle='-')\n",
        "plt.plot([4, 5], [4.5, 5], color='b',linestyle='-')\n",
        "plt.plot([5, 5], [4.5, 5], color='b',linestyle='-')"
      ],
      "execution_count": null,
      "outputs": [
        {
          "output_type": "execute_result",
          "data": {
            "text/plain": [
              "[<matplotlib.lines.Line2D at 0x7fca8510b3c8>]"
            ]
          },
          "metadata": {
            "tags": []
          },
          "execution_count": 21
        },
        {
          "output_type": "display_data",
          "data": {
            "image/png": "[encoded data removed]",
            "text/plain": [
              "<Figure size 432x288 with 1 Axes>"
            ]
          },
          "metadata": {
            "tags": [],
            "needs_background": "light"
          }
        }
      ]
    },
    {
      "cell_type": "code",
      "metadata": {
        "id": "Eg6eZ1OkaHyz",
        "colab": {
          "base_uri": "https://localhost:8080/",
          "height": 35
        },
        "outputId": "169f1e70-5831-498b-e095-eef2ef231e19"
      },
      "source": [
        "joao = np.array([4, 4.5])\n",
        "maria = np.array([5, 5])\n",
        "\n",
        "joao - maria"
      ],
      "execution_count": null,
      "outputs": [
        {
          "output_type": "execute_result",
          "data": {
            "text/plain": [
              "array([-1. , -0.5])"
            ]
          },
          "metadata": {
            "tags": []
          },
          "execution_count": 22
        }
      ]
    },
    {
      "cell_type": "code",
      "metadata": {
        "id": "77m3iA0wlGJl"
      },
      "source": [
        "def pitagoras(a,b):\n",
        "  (delta_x, delta_y) = a - b\n",
        "  return np.sqrt(delta_x**2 + delta_y**2)"
      ],
      "execution_count": null,
      "outputs": []
    },
    {
      "cell_type": "code",
      "metadata": {
        "id": "CstrItCYlYT8",
        "colab": {
          "base_uri": "https://localhost:8080/",
          "height": 35
        },
        "outputId": "09d86542-af8e-4ece-8dc4-3575ded9aab7"
      },
      "source": [
        "pitagoras(joao, maria)"
      ],
      "execution_count": null,
      "outputs": [
        {
          "output_type": "execute_result",
          "data": {
            "text/plain": [
              "1.118033988749895"
            ]
          },
          "metadata": {
            "tags": []
          },
          "execution_count": 24
        }
      ]
    },
    {
      "cell_type": "code",
      "metadata": {
        "id": "FLblEahzlaws",
        "colab": {
          "base_uri": "https://localhost:8080/",
          "height": 35
        },
        "outputId": "4dcdc825-3475-4d9c-d1c5-63705c95c84b"
      },
      "source": [
        "# usando o numpy - pitagoras já implementado!\n",
        "np.linalg.norm(joao-maria)"
      ],
      "execution_count": null,
      "outputs": [
        {
          "output_type": "execute_result",
          "data": {
            "text/plain": [
              "1.118033988749895"
            ]
          },
          "metadata": {
            "tags": []
          },
          "execution_count": 25
        }
      ]
    },
    {
      "cell_type": "code",
      "metadata": {
        "id": "cYsmRio9lm6j",
        "colab": {
          "base_uri": "https://localhost:8080/",
          "height": 298
        },
        "outputId": "98d142d1-383c-46a8-9a6a-416567ac76d1"
      },
      "source": [
        "import matplotlib.pyplot as plt\n",
        "plt.plot(4, 4.5, \"go\")\n",
        "plt.plot(5, 5, \"yo\")\n",
        "plt.plot(3.5, 4.5, \"bo\")\n",
        "plt.legend([\"João\", \"Maria\", \"Joaquina\"])\n",
        "plt.title(\"Calcular a distancia entre usuários\")"
      ],
      "execution_count": null,
      "outputs": [
        {
          "output_type": "execute_result",
          "data": {
            "text/plain": [
              "Text(0.5, 1.0, 'Calcular a distancia entre usuários')"
            ]
          },
          "metadata": {
            "tags": []
          },
          "execution_count": 26
        },
        {
          "output_type": "display_data",
          "data": {
            "image/png": "[encoded data removed]",
            "text/plain": [
              "<Figure size 432x288 with 1 Axes>"
            ]
          },
          "metadata": {
            "tags": [],
            "needs_background": "light"
          }
        }
      ]
    },
    {
      "cell_type": "code",
      "metadata": {
        "id": "0JIfT7Ypl7lL",
        "colab": {
          "base_uri": "https://localhost:8080/",
          "height": 52
        },
        "outputId": "8c9725e2-f129-4131-f51d-2deed20b25a7"
      },
      "source": [
        "joaquina = [3.5, 4.5]\n",
        "print(pitagoras(joao, maria))\n",
        "print(pitagoras(joao, joaquina))"
      ],
      "execution_count": null,
      "outputs": [
        {
          "output_type": "stream",
          "text": [
            "1.118033988749895\n",
            "0.5\n"
          ],
          "name": "stdout"
        }
      ]
    },
    {
      "cell_type": "markdown",
      "metadata": {
        "id": "2x6ZiMwZxVxw"
      },
      "source": [
        "# Distancia entre usuários do dataset"
      ]
    },
    {
      "cell_type": "code",
      "metadata": {
        "id": "FlJ0wI92mJ1T"
      },
      "source": [
        "# joao é mais proximo da joaquina\n",
        "# na hora de recomendar filmes para o joao, pegar os filmes que\n",
        "# foram vistos pela joaquina\n",
        "\n",
        "# vamos chamar pitagoras de distancia\n",
        "def distancia_de_vetores(a, b):\n",
        "  return np.linalg.norm(a-b)"
      ],
      "execution_count": null,
      "outputs": []
    },
    {
      "cell_type": "code",
      "metadata": {
        "id": "ySVz5Q50mdZr"
      },
      "source": [
        "notas_do_usuario = ratings.query(\"usuarioId==1\")\n",
        "notas_do_usuario = notas_do_usuario[['filmeId', 'nota']].set_index('filmeId')\n",
        "# executar isso para qualquer usuario"
      ],
      "execution_count": null,
      "outputs": []
    },
    {
      "cell_type": "code",
      "metadata": {
        "id": "-1wX4Jzjtf0h"
      },
      "source": [
        "def notas_do_usuario(usuario):\n",
        "  notas_do_usuario = ratings.query(\"usuarioId==%d\" % usuario)\n",
        "  notas_do_usuario = notas_do_usuario[[\"filmeId\", \"nota\"]].set_index(\"filmeId\")\n",
        "  return notas_do_usuario"
      ],
      "execution_count": null,
      "outputs": []
    },
    {
      "cell_type": "code",
      "metadata": {
        "id": "A2Ucp6eUuYHq"
      },
      "source": [
        "usuario4 = notas_do_usuario(4)\n",
        "usuario1 = notas_do_usuario(1)"
      ],
      "execution_count": null,
      "outputs": []
    },
    {
      "cell_type": "code",
      "metadata": {
        "id": "y_RGNGkvubzK",
        "colab": {
          "base_uri": "https://localhost:8080/",
          "height": 1000
        },
        "outputId": "10e76664-4986-4931-d8cd-7cc6e58b5191"
      },
      "source": [
        "diferencas = usuario1.join(usuario4, lsuffix=\"_esquerda\", rsuffix='_direita').dropna()\n",
        "diferencas"
      ],
      "execution_count": null,
      "outputs": [
        {
          "output_type": "execute_result",
          "data": {
            "text/html": [
              "<div>\n",
              "<style scoped>\n",
              "    .dataframe tbody tr th:only-of-type {\n",
              "        vertical-align: middle;\n",
              "    }\n",
              "\n",
              "    .dataframe tbody tr th {\n",
              "        vertical-align: top;\n",
              "    }\n",
              "\n",
              "    .dataframe thead th {\n",
              "        text-align: right;\n",
              "    }\n",
              "</style>\n",
              "<table border=\"1\" class=\"dataframe\">\n",
              "  <thead>\n",
              "    <tr style=\"text-align: right;\">\n",
              "      <th></th>\n",
              "      <th>nota_esquerda</th>\n",
              "      <th>nota_direita</th>\n",
              "    </tr>\n",
              "    <tr>\n",
              "      <th>filmeId</th>\n",
              "      <th></th>\n",
              "      <th></th>\n",
              "    </tr>\n",
              "  </thead>\n",
              "  <tbody>\n",
              "    <tr>\n",
              "      <th>47</th>\n",
              "      <td>5.0</td>\n",
              "      <td>2.0</td>\n",
              "    </tr>\n",
              "    <tr>\n",
              "      <th>235</th>\n",
              "      <td>4.0</td>\n",
              "      <td>2.0</td>\n",
              "    </tr>\n",
              "    <tr>\n",
              "      <th>260</th>\n",
              "      <td>5.0</td>\n",
              "      <td>5.0</td>\n",
              "    </tr>\n",
              "    <tr>\n",
              "      <th>296</th>\n",
              "      <td>3.0</td>\n",
              "      <td>1.0</td>\n",
              "    </tr>\n",
              "    <tr>\n",
              "      <th>441</th>\n",
              "      <td>4.0</td>\n",
              "      <td>1.0</td>\n",
              "    </tr>\n",
              "    <tr>\n",
              "      <th>457</th>\n",
              "      <td>5.0</td>\n",
              "      <td>5.0</td>\n",
              "    </tr>\n",
              "    <tr>\n",
              "      <th>553</th>\n",
              "      <td>5.0</td>\n",
              "      <td>2.0</td>\n",
              "    </tr>\n",
              "    <tr>\n",
              "      <th>593</th>\n",
              "      <td>4.0</td>\n",
              "      <td>5.0</td>\n",
              "    </tr>\n",
              "    <tr>\n",
              "      <th>608</th>\n",
              "      <td>5.0</td>\n",
              "      <td>5.0</td>\n",
              "    </tr>\n",
              "    <tr>\n",
              "      <th>648</th>\n",
              "      <td>3.0</td>\n",
              "      <td>3.0</td>\n",
              "    </tr>\n",
              "    <tr>\n",
              "      <th>919</th>\n",
              "      <td>5.0</td>\n",
              "      <td>5.0</td>\n",
              "    </tr>\n",
              "    <tr>\n",
              "      <th>1025</th>\n",
              "      <td>5.0</td>\n",
              "      <td>4.0</td>\n",
              "    </tr>\n",
              "    <tr>\n",
              "      <th>1060</th>\n",
              "      <td>4.0</td>\n",
              "      <td>2.0</td>\n",
              "    </tr>\n",
              "    <tr>\n",
              "      <th>1073</th>\n",
              "      <td>5.0</td>\n",
              "      <td>4.0</td>\n",
              "    </tr>\n",
              "    <tr>\n",
              "      <th>1080</th>\n",
              "      <td>5.0</td>\n",
              "      <td>5.0</td>\n",
              "    </tr>\n",
              "    <tr>\n",
              "      <th>1136</th>\n",
              "      <td>5.0</td>\n",
              "      <td>5.0</td>\n",
              "    </tr>\n",
              "    <tr>\n",
              "      <th>1196</th>\n",
              "      <td>5.0</td>\n",
              "      <td>5.0</td>\n",
              "    </tr>\n",
              "    <tr>\n",
              "      <th>1197</th>\n",
              "      <td>5.0</td>\n",
              "      <td>5.0</td>\n",
              "    </tr>\n",
              "    <tr>\n",
              "      <th>1198</th>\n",
              "      <td>5.0</td>\n",
              "      <td>3.0</td>\n",
              "    </tr>\n",
              "    <tr>\n",
              "      <th>1213</th>\n",
              "      <td>5.0</td>\n",
              "      <td>4.0</td>\n",
              "    </tr>\n",
              "    <tr>\n",
              "      <th>1219</th>\n",
              "      <td>2.0</td>\n",
              "      <td>4.0</td>\n",
              "    </tr>\n",
              "    <tr>\n",
              "      <th>1265</th>\n",
              "      <td>4.0</td>\n",
              "      <td>4.0</td>\n",
              "    </tr>\n",
              "    <tr>\n",
              "      <th>1282</th>\n",
              "      <td>5.0</td>\n",
              "      <td>5.0</td>\n",
              "    </tr>\n",
              "    <tr>\n",
              "      <th>1291</th>\n",
              "      <td>5.0</td>\n",
              "      <td>4.0</td>\n",
              "    </tr>\n",
              "    <tr>\n",
              "      <th>1500</th>\n",
              "      <td>4.0</td>\n",
              "      <td>4.0</td>\n",
              "    </tr>\n",
              "    <tr>\n",
              "      <th>1517</th>\n",
              "      <td>5.0</td>\n",
              "      <td>4.0</td>\n",
              "    </tr>\n",
              "    <tr>\n",
              "      <th>1580</th>\n",
              "      <td>3.0</td>\n",
              "      <td>3.0</td>\n",
              "    </tr>\n",
              "    <tr>\n",
              "      <th>1617</th>\n",
              "      <td>5.0</td>\n",
              "      <td>2.0</td>\n",
              "    </tr>\n",
              "    <tr>\n",
              "      <th>1732</th>\n",
              "      <td>5.0</td>\n",
              "      <td>4.0</td>\n",
              "    </tr>\n",
              "    <tr>\n",
              "      <th>1967</th>\n",
              "      <td>4.0</td>\n",
              "      <td>5.0</td>\n",
              "    </tr>\n",
              "    <tr>\n",
              "      <th>2078</th>\n",
              "      <td>5.0</td>\n",
              "      <td>5.0</td>\n",
              "    </tr>\n",
              "    <tr>\n",
              "      <th>2174</th>\n",
              "      <td>4.0</td>\n",
              "      <td>5.0</td>\n",
              "    </tr>\n",
              "    <tr>\n",
              "      <th>2395</th>\n",
              "      <td>5.0</td>\n",
              "      <td>3.0</td>\n",
              "    </tr>\n",
              "    <tr>\n",
              "      <th>2406</th>\n",
              "      <td>4.0</td>\n",
              "      <td>4.0</td>\n",
              "    </tr>\n",
              "    <tr>\n",
              "      <th>2571</th>\n",
              "      <td>5.0</td>\n",
              "      <td>1.0</td>\n",
              "    </tr>\n",
              "    <tr>\n",
              "      <th>2628</th>\n",
              "      <td>4.0</td>\n",
              "      <td>1.0</td>\n",
              "    </tr>\n",
              "    <tr>\n",
              "      <th>2692</th>\n",
              "      <td>5.0</td>\n",
              "      <td>5.0</td>\n",
              "    </tr>\n",
              "    <tr>\n",
              "      <th>2858</th>\n",
              "      <td>5.0</td>\n",
              "      <td>5.0</td>\n",
              "    </tr>\n",
              "    <tr>\n",
              "      <th>2959</th>\n",
              "      <td>5.0</td>\n",
              "      <td>2.0</td>\n",
              "    </tr>\n",
              "    <tr>\n",
              "      <th>2997</th>\n",
              "      <td>4.0</td>\n",
              "      <td>4.0</td>\n",
              "    </tr>\n",
              "    <tr>\n",
              "      <th>3033</th>\n",
              "      <td>5.0</td>\n",
              "      <td>4.0</td>\n",
              "    </tr>\n",
              "    <tr>\n",
              "      <th>3176</th>\n",
              "      <td>1.0</td>\n",
              "      <td>4.0</td>\n",
              "    </tr>\n",
              "    <tr>\n",
              "      <th>3386</th>\n",
              "      <td>5.0</td>\n",
              "      <td>4.0</td>\n",
              "    </tr>\n",
              "    <tr>\n",
              "      <th>3489</th>\n",
              "      <td>4.0</td>\n",
              "      <td>1.0</td>\n",
              "    </tr>\n",
              "    <tr>\n",
              "      <th>3809</th>\n",
              "      <td>4.0</td>\n",
              "      <td>3.0</td>\n",
              "    </tr>\n",
              "  </tbody>\n",
              "</table>\n",
              "</div>"
            ],
            "text/plain": [
              "         nota_esquerda  nota_direita\n",
              "filmeId                             \n",
              "47                 5.0           2.0\n",
              "235                4.0           2.0\n",
              "260                5.0           5.0\n",
              "296                3.0           1.0\n",
              "441                4.0           1.0\n",
              "457                5.0           5.0\n",
              "553                5.0           2.0\n",
              "593                4.0           5.0\n",
              "608                5.0           5.0\n",
              "648                3.0           3.0\n",
              "919                5.0           5.0\n",
              "1025               5.0           4.0\n",
              "1060               4.0           2.0\n",
              "1073               5.0           4.0\n",
              "1080               5.0           5.0\n",
              "1136               5.0           5.0\n",
              "1196               5.0           5.0\n",
              "1197               5.0           5.0\n",
              "1198               5.0           3.0\n",
              "1213               5.0           4.0\n",
              "1219               2.0           4.0\n",
              "1265               4.0           4.0\n",
              "1282               5.0           5.0\n",
              "1291               5.0           4.0\n",
              "1500               4.0           4.0\n",
              "1517               5.0           4.0\n",
              "1580               3.0           3.0\n",
              "1617               5.0           2.0\n",
              "1732               5.0           4.0\n",
              "1967               4.0           5.0\n",
              "2078               5.0           5.0\n",
              "2174               4.0           5.0\n",
              "2395               5.0           3.0\n",
              "2406               4.0           4.0\n",
              "2571               5.0           1.0\n",
              "2628               4.0           1.0\n",
              "2692               5.0           5.0\n",
              "2858               5.0           5.0\n",
              "2959               5.0           2.0\n",
              "2997               4.0           4.0\n",
              "3033               5.0           4.0\n",
              "3176               1.0           4.0\n",
              "3386               5.0           4.0\n",
              "3489               4.0           1.0\n",
              "3809               4.0           3.0"
            ]
          },
          "metadata": {
            "tags": []
          },
          "execution_count": 32
        }
      ]
    },
    {
      "cell_type": "code",
      "metadata": {
        "id": "M6INa5GqukNR",
        "colab": {
          "base_uri": "https://localhost:8080/",
          "height": 35
        },
        "outputId": "b34d74ca-6a49-4216-f6b1-5b9d1bcd13d4"
      },
      "source": [
        "# calcular as distancias entre os dois vetores\n",
        "distancia_de_vetores(diferencas['nota_esquerda'], diferencas['nota_direita'])"
      ],
      "execution_count": null,
      "outputs": [
        {
          "output_type": "execute_result",
          "data": {
            "text/plain": [
              "11.135528725660043"
            ]
          },
          "metadata": {
            "tags": []
          },
          "execution_count": 33
        }
      ]
    },
    {
      "cell_type": "code",
      "metadata": {
        "id": "sv-VV6qpwAFr"
      },
      "source": [
        "def distancia_de_usuarios(usuario_id1, usuario_id2, minimo=5):\n",
        "  notas1 = notas_do_usuario(usuario_id1)\n",
        "  notas2 = notas_do_usuario(usuario_id2)\n",
        "  diferencas = notas1.join(notas2, lsuffix='_esquerda', rsuffix='_direita').dropna()\n",
        "\n",
        "  if (len(diferencas) < minimo):\n",
        "    return [usuario_id1, usuario_id2, 10000]\n",
        "\n",
        "  distancia = distancia_de_vetores(diferencas['nota_esquerda'], diferencas['nota_direita'])\n",
        "  return [usuario_id1, usuario_id2, distancia]\n"
      ],
      "execution_count": null,
      "outputs": []
    },
    {
      "cell_type": "code",
      "metadata": {
        "id": "ZlB8Q5cHwxiA",
        "colab": {
          "base_uri": "https://localhost:8080/",
          "height": 35
        },
        "outputId": "d26bfcef-6c87-44b7-8efe-848e72599361"
      },
      "source": [
        "distancia_de_usuarios(1,4)"
      ],
      "execution_count": null,
      "outputs": [
        {
          "output_type": "execute_result",
          "data": {
            "text/plain": [
              "[1, 4, 11.135528725660043]"
            ]
          },
          "metadata": {
            "tags": []
          },
          "execution_count": 35
        }
      ]
    },
    {
      "cell_type": "code",
      "metadata": {
        "id": "2ICoi99mw0Ax",
        "colab": {
          "base_uri": "https://localhost:8080/",
          "height": 35
        },
        "outputId": "c376d79f-744b-4465-d853-950ec29c67b6"
      },
      "source": [
        "distancia_de_usuarios(1,10)"
      ],
      "execution_count": null,
      "outputs": [
        {
          "output_type": "execute_result",
          "data": {
            "text/plain": [
              "[1, 10, 7.858116822750856]"
            ]
          },
          "metadata": {
            "tags": []
          },
          "execution_count": 36
        }
      ]
    },
    {
      "cell_type": "code",
      "metadata": {
        "id": "k2fuKB16w32I",
        "colab": {
          "base_uri": "https://localhost:8080/",
          "height": 35
        },
        "outputId": "3e92c8e4-79b3-4d51-d043-d0c6481392ca"
      },
      "source": [
        "distancia_de_usuarios(1,234)"
      ],
      "execution_count": null,
      "outputs": [
        {
          "output_type": "execute_result",
          "data": {
            "text/plain": [
              "[1, 234, 9.38083151964686]"
            ]
          },
          "metadata": {
            "tags": []
          },
          "execution_count": 37
        }
      ]
    },
    {
      "cell_type": "code",
      "metadata": {
        "id": "lxXygJq5w5lY"
      },
      "source": [
        "# sistema deve passar por todos os usuarios e comparar quais são os mais próximos\n",
        "quantidade_de_usuarios = len(ratings['usuarioId'].unique())\n"
      ],
      "execution_count": null,
      "outputs": []
    },
    {
      "cell_type": "code",
      "metadata": {
        "id": "ptsIct_zxlW4"
      },
      "source": [
        "def distancia_de_todos(voce_id):\n",
        "  distancias = []\n",
        "  for usuario_id in ratings['usuarioId'].unique():\n",
        "    informacoes = distancia_de_usuarios(voce_id, usuario_id)\n",
        "    distancias.append(informacoes)\n",
        "  return distancias"
      ],
      "execution_count": null,
      "outputs": []
    },
    {
      "cell_type": "code",
      "metadata": {
        "id": "UQCzVi9NymlX",
        "colab": {
          "base_uri": "https://localhost:8080/",
          "height": 106
        },
        "outputId": "38e5fc6a-f8c9-4a89-bb5f-b2b758a68a2d"
      },
      "source": [
        "distancia_de_todos(1)[:5]"
      ],
      "execution_count": null,
      "outputs": [
        {
          "output_type": "execute_result",
          "data": {
            "text/plain": [
              "[[1, 1, 0.0],\n",
              " [1, 2, 10000],\n",
              " [1, 3, 8.200609733428363],\n",
              " [1, 4, 11.135528725660043],\n",
              " [1, 5, 3.7416573867739413]]"
            ]
          },
          "metadata": {
            "tags": []
          },
          "execution_count": 40
        }
      ]
    },
    {
      "cell_type": "code",
      "metadata": {
        "id": "lC0HXQaJzMD7"
      },
      "source": [
        "# menos codigo para criar a lista\n",
        "def distancia_de_todos(voce_id):\n",
        "  todos_os_usuarios = ratings['usuarioId'].unique()\n",
        "  distancias = [distancia_de_usuarios(voce_id, usuario_id) for usuario_id in todos_os_usuarios]\n",
        "  distancias = pd.DataFrame(distancias, columns = ['voce', 'outra_pessoa', 'distancia'])\n",
        "  return distancias"
      ],
      "execution_count": null,
      "outputs": []
    },
    {
      "cell_type": "code",
      "metadata": {
        "id": "VdNXGCQ-z89X",
        "colab": {
          "base_uri": "https://localhost:8080/",
          "height": 200
        },
        "outputId": "e7450c0f-2e00-4d87-c34d-aea8a316e8e6"
      },
      "source": [
        "distancia_de_todos(1).head()"
      ],
      "execution_count": null,
      "outputs": [
        {
          "output_type": "execute_result",
          "data": {
            "text/html": [
              "<div>\n",
              "<style scoped>\n",
              "    .dataframe tbody tr th:only-of-type {\n",
              "        vertical-align: middle;\n",
              "    }\n",
              "\n",
              "    .dataframe tbody tr th {\n",
              "        vertical-align: top;\n",
              "    }\n",
              "\n",
              "    .dataframe thead th {\n",
              "        text-align: right;\n",
              "    }\n",
              "</style>\n",
              "<table border=\"1\" class=\"dataframe\">\n",
              "  <thead>\n",
              "    <tr style=\"text-align: right;\">\n",
              "      <th></th>\n",
              "      <th>voce</th>\n",
              "      <th>outra_pessoa</th>\n",
              "      <th>distancia</th>\n",
              "    </tr>\n",
              "  </thead>\n",
              "  <tbody>\n",
              "    <tr>\n",
              "      <th>0</th>\n",
              "      <td>1</td>\n",
              "      <td>1</td>\n",
              "      <td>0.000000</td>\n",
              "    </tr>\n",
              "    <tr>\n",
              "      <th>1</th>\n",
              "      <td>1</td>\n",
              "      <td>2</td>\n",
              "      <td>10000.000000</td>\n",
              "    </tr>\n",
              "    <tr>\n",
              "      <th>2</th>\n",
              "      <td>1</td>\n",
              "      <td>3</td>\n",
              "      <td>8.200610</td>\n",
              "    </tr>\n",
              "    <tr>\n",
              "      <th>3</th>\n",
              "      <td>1</td>\n",
              "      <td>4</td>\n",
              "      <td>11.135529</td>\n",
              "    </tr>\n",
              "    <tr>\n",
              "      <th>4</th>\n",
              "      <td>1</td>\n",
              "      <td>5</td>\n",
              "      <td>3.741657</td>\n",
              "    </tr>\n",
              "  </tbody>\n",
              "</table>\n",
              "</div>"
            ],
            "text/plain": [
              "   voce  outra_pessoa     distancia\n",
              "0     1             1      0.000000\n",
              "1     1             2  10000.000000\n",
              "2     1             3      8.200610\n",
              "3     1             4     11.135529\n",
              "4     1             5      3.741657"
            ]
          },
          "metadata": {
            "tags": []
          },
          "execution_count": 42
        }
      ]
    },
    {
      "cell_type": "code",
      "metadata": {
        "id": "F8WNd3acz-HP"
      },
      "source": [
        "def mais_proximos_de(voce_id):\n",
        "  distancias = distancia_de_todos(voce_id)\n",
        "  distancias = distancias.sort_values('distancia')\n",
        "  distancias = distancias.set_index('outra_pessoa').drop(voce_id)\n",
        "  return distancias"
      ],
      "execution_count": null,
      "outputs": []
    },
    {
      "cell_type": "code",
      "metadata": {
        "id": "BSVQuAna2cpI",
        "colab": {
          "base_uri": "https://localhost:8080/",
          "height": 382
        },
        "outputId": "dc7100f4-00f9-4cec-f0ff-2999306d2edd"
      },
      "source": [
        "mais_proximos_de(1).head(10)"
      ],
      "execution_count": null,
      "outputs": [
        {
          "output_type": "execute_result",
          "data": {
            "text/html": [
              "<div>\n",
              "<style scoped>\n",
              "    .dataframe tbody tr th:only-of-type {\n",
              "        vertical-align: middle;\n",
              "    }\n",
              "\n",
              "    .dataframe tbody tr th {\n",
              "        vertical-align: top;\n",
              "    }\n",
              "\n",
              "    .dataframe thead th {\n",
              "        text-align: right;\n",
              "    }\n",
              "</style>\n",
              "<table border=\"1\" class=\"dataframe\">\n",
              "  <thead>\n",
              "    <tr style=\"text-align: right;\">\n",
              "      <th></th>\n",
              "      <th>voce</th>\n",
              "      <th>distancia</th>\n",
              "    </tr>\n",
              "    <tr>\n",
              "      <th>outra_pessoa</th>\n",
              "      <th></th>\n",
              "      <th></th>\n",
              "    </tr>\n",
              "  </thead>\n",
              "  <tbody>\n",
              "    <tr>\n",
              "      <th>77</th>\n",
              "      <td>1</td>\n",
              "      <td>0.000000</td>\n",
              "    </tr>\n",
              "    <tr>\n",
              "      <th>511</th>\n",
              "      <td>1</td>\n",
              "      <td>0.500000</td>\n",
              "    </tr>\n",
              "    <tr>\n",
              "      <th>366</th>\n",
              "      <td>1</td>\n",
              "      <td>0.707107</td>\n",
              "    </tr>\n",
              "    <tr>\n",
              "      <th>523</th>\n",
              "      <td>1</td>\n",
              "      <td>1.000000</td>\n",
              "    </tr>\n",
              "    <tr>\n",
              "      <th>49</th>\n",
              "      <td>1</td>\n",
              "      <td>1.000000</td>\n",
              "    </tr>\n",
              "    <tr>\n",
              "      <th>9</th>\n",
              "      <td>1</td>\n",
              "      <td>1.000000</td>\n",
              "    </tr>\n",
              "    <tr>\n",
              "      <th>258</th>\n",
              "      <td>1</td>\n",
              "      <td>1.000000</td>\n",
              "    </tr>\n",
              "    <tr>\n",
              "      <th>319</th>\n",
              "      <td>1</td>\n",
              "      <td>1.118034</td>\n",
              "    </tr>\n",
              "    <tr>\n",
              "      <th>398</th>\n",
              "      <td>1</td>\n",
              "      <td>1.224745</td>\n",
              "    </tr>\n",
              "    <tr>\n",
              "      <th>65</th>\n",
              "      <td>1</td>\n",
              "      <td>1.322876</td>\n",
              "    </tr>\n",
              "  </tbody>\n",
              "</table>\n",
              "</div>"
            ],
            "text/plain": [
              "              voce  distancia\n",
              "outra_pessoa                 \n",
              "77               1   0.000000\n",
              "511              1   0.500000\n",
              "366              1   0.707107\n",
              "523              1   1.000000\n",
              "49               1   1.000000\n",
              "9                1   1.000000\n",
              "258              1   1.000000\n",
              "319              1   1.118034\n",
              "398              1   1.224745\n",
              "65               1   1.322876"
            ]
          },
          "metadata": {
            "tags": []
          },
          "execution_count": 44
        }
      ]
    },
    {
      "cell_type": "markdown",
      "metadata": {
        "id": "ip3ZHf-iF-eP"
      },
      "source": [
        "# Parametros para teste"
      ]
    },
    {
      "cell_type": "code",
      "metadata": {
        "id": "_2RDNC382fSv"
      },
      "source": [
        "def mais_proximos_de(voce_id, numero_de_usuarios_a_analisar=None):\n",
        "  distancias = distancia_de_todos(voce_id, numero_de_usuarios_a_analisar = numero_de_usuarios_a_analisar)\n",
        "  distancias = distancias.sort_values('distancia')\n",
        "  distancias = distancias.set_index('outra_pessoa').drop(voce_id)\n",
        "  return distancias"
      ],
      "execution_count": null,
      "outputs": []
    },
    {
      "cell_type": "code",
      "metadata": {
        "id": "2qgaScAcIid-"
      },
      "source": [
        "def distancia_de_usuarios(usuario_id1, usuario_id2, minimo=5):\n",
        "  notas1 = notas_do_usuario(usuario_id1)\n",
        "  notas2 = notas_do_usuario(usuario_id2)\n",
        "  diferencas = notas1.join(notas2, lsuffix='_esquerda', rsuffix='_direita').dropna()\n",
        "\n",
        "  if (len(diferencas) < minimo):\n",
        "    return None\n",
        "\n",
        "  distancia = distancia_de_vetores(diferencas['nota_esquerda'], diferencas['nota_direita'])\n",
        "  return [usuario_id1, usuario_id2, distancia]"
      ],
      "execution_count": null,
      "outputs": []
    },
    {
      "cell_type": "code",
      "metadata": {
        "id": "7mglHAMWGuKC"
      },
      "source": [
        "def distancia_de_todos(voce_id, numero_de_usuarios_a_analisar=None):\n",
        "  todos_os_usuarios = ratings['usuarioId'].unique()\n",
        "  if numero_de_usuarios_a_analisar:\n",
        "    todos_os_usuarios[:numero_de_usuarios_a_analisar]\n",
        "  distancias = [distancia_de_usuarios(voce_id, usuario_id) for usuario_id in todos_os_usuarios]\n",
        "  distancias = list(filter(None, distancias))\n",
        "  distancias = pd.DataFrame(distancias, columns = ['voce', 'outra_pessoa', 'distancia'])\n",
        "  return distancias"
      ],
      "execution_count": null,
      "outputs": []
    },
    {
      "cell_type": "code",
      "metadata": {
        "id": "muRoMXYwG7nm",
        "colab": {
          "base_uri": "https://localhost:8080/",
          "height": 441
        },
        "outputId": "164929d8-b23b-43cf-acf8-fd74e2ab82d2"
      },
      "source": [
        "mais_proximos_de(1, numero_de_usuarios_a_analisar=100)"
      ],
      "execution_count": null,
      "outputs": [
        {
          "output_type": "execute_result",
          "data": {
            "text/html": [
              "<div>\n",
              "<style scoped>\n",
              "    .dataframe tbody tr th:only-of-type {\n",
              "        vertical-align: middle;\n",
              "    }\n",
              "\n",
              "    .dataframe tbody tr th {\n",
              "        vertical-align: top;\n",
              "    }\n",
              "\n",
              "    .dataframe thead th {\n",
              "        text-align: right;\n",
              "    }\n",
              "</style>\n",
              "<table border=\"1\" class=\"dataframe\">\n",
              "  <thead>\n",
              "    <tr style=\"text-align: right;\">\n",
              "      <th></th>\n",
              "      <th>voce</th>\n",
              "      <th>distancia</th>\n",
              "    </tr>\n",
              "    <tr>\n",
              "      <th>outra_pessoa</th>\n",
              "      <th></th>\n",
              "      <th></th>\n",
              "    </tr>\n",
              "  </thead>\n",
              "  <tbody>\n",
              "    <tr>\n",
              "      <th>77</th>\n",
              "      <td>1</td>\n",
              "      <td>0.000000</td>\n",
              "    </tr>\n",
              "    <tr>\n",
              "      <th>511</th>\n",
              "      <td>1</td>\n",
              "      <td>0.500000</td>\n",
              "    </tr>\n",
              "    <tr>\n",
              "      <th>366</th>\n",
              "      <td>1</td>\n",
              "      <td>0.707107</td>\n",
              "    </tr>\n",
              "    <tr>\n",
              "      <th>258</th>\n",
              "      <td>1</td>\n",
              "      <td>1.000000</td>\n",
              "    </tr>\n",
              "    <tr>\n",
              "      <th>9</th>\n",
              "      <td>1</td>\n",
              "      <td>1.000000</td>\n",
              "    </tr>\n",
              "    <tr>\n",
              "      <th>...</th>\n",
              "      <td>...</td>\n",
              "      <td>...</td>\n",
              "    </tr>\n",
              "    <tr>\n",
              "      <th>474</th>\n",
              "      <td>1</td>\n",
              "      <td>18.594354</td>\n",
              "    </tr>\n",
              "    <tr>\n",
              "      <th>160</th>\n",
              "      <td>1</td>\n",
              "      <td>18.794946</td>\n",
              "    </tr>\n",
              "    <tr>\n",
              "      <th>217</th>\n",
              "      <td>1</td>\n",
              "      <td>19.646883</td>\n",
              "    </tr>\n",
              "    <tr>\n",
              "      <th>599</th>\n",
              "      <td>1</td>\n",
              "      <td>19.665960</td>\n",
              "    </tr>\n",
              "    <tr>\n",
              "      <th>68</th>\n",
              "      <td>1</td>\n",
              "      <td>21.558061</td>\n",
              "    </tr>\n",
              "  </tbody>\n",
              "</table>\n",
              "<p>546 rows × 2 columns</p>\n",
              "</div>"
            ],
            "text/plain": [
              "              voce  distancia\n",
              "outra_pessoa                 \n",
              "77               1   0.000000\n",
              "511              1   0.500000\n",
              "366              1   0.707107\n",
              "258              1   1.000000\n",
              "9                1   1.000000\n",
              "...            ...        ...\n",
              "474              1  18.594354\n",
              "160              1  18.794946\n",
              "217              1  19.646883\n",
              "599              1  19.665960\n",
              "68               1  21.558061\n",
              "\n",
              "[546 rows x 2 columns]"
            ]
          },
          "metadata": {
            "tags": []
          },
          "execution_count": 48
        }
      ]
    },
    {
      "cell_type": "code",
      "metadata": {
        "id": "ClbEORI6HABK"
      },
      "source": [
        "def sugere_para(voce, n=None):\n",
        "  notas_de_voce = notas_do_usuario(voce)\n",
        "  filmes_que_voce_ja_viu = notas_de_voce.index\n",
        "\n",
        "  similares = mais_proximos_de(voce, numero_de_usuarios_a_analisar=n)\n",
        "  similar = similares.iloc[0].name\n",
        "  notas_do_similar = notas_do_usuario(similar)\n",
        "  notas_de_similar = notas_do_usuario(voce)\n",
        "  notas_do_similar = notas_do_similar.drop(filmes_que_voce_ja_viu, errors='ignore')\n",
        "  recomendacoes = notas_do_similar.sort_values('nota', ascending=False)\n",
        "  return recomendacoes.join(films)"
      ],
      "execution_count": null,
      "outputs": []
    },
    {
      "cell_type": "code",
      "metadata": {
        "id": "vrEDUmMuKYvB",
        "colab": {
          "base_uri": "https://localhost:8080/",
          "height": 230
        },
        "outputId": "e3ecfed5-3dbc-486d-f5bf-bad10d709c87"
      },
      "source": [
        "sugere_para(53).head()"
      ],
      "execution_count": null,
      "outputs": [
        {
          "output_type": "execute_result",
          "data": {
            "text/html": [
              "<div>\n",
              "<style scoped>\n",
              "    .dataframe tbody tr th:only-of-type {\n",
              "        vertical-align: middle;\n",
              "    }\n",
              "\n",
              "    .dataframe tbody tr th {\n",
              "        vertical-align: top;\n",
              "    }\n",
              "\n",
              "    .dataframe thead th {\n",
              "        text-align: right;\n",
              "    }\n",
              "</style>\n",
              "<table border=\"1\" class=\"dataframe\">\n",
              "  <thead>\n",
              "    <tr style=\"text-align: right;\">\n",
              "      <th></th>\n",
              "      <th>nota</th>\n",
              "      <th>titulo</th>\n",
              "      <th>generos</th>\n",
              "      <th>total_de_votos</th>\n",
              "      <th>nota_media</th>\n",
              "    </tr>\n",
              "    <tr>\n",
              "      <th>filmeId</th>\n",
              "      <th></th>\n",
              "      <th></th>\n",
              "      <th></th>\n",
              "      <th></th>\n",
              "      <th></th>\n",
              "    </tr>\n",
              "  </thead>\n",
              "  <tbody>\n",
              "    <tr>\n",
              "      <th>1217</th>\n",
              "      <td>5.0</td>\n",
              "      <td>Ran (1985)</td>\n",
              "      <td>Drama|War</td>\n",
              "      <td>15.0</td>\n",
              "      <td>4.433333</td>\n",
              "    </tr>\n",
              "    <tr>\n",
              "      <th>7147</th>\n",
              "      <td>5.0</td>\n",
              "      <td>Big Fish (2003)</td>\n",
              "      <td>Drama|Fantasy|Romance</td>\n",
              "      <td>69.0</td>\n",
              "      <td>3.833333</td>\n",
              "    </tr>\n",
              "    <tr>\n",
              "      <th>2959</th>\n",
              "      <td>5.0</td>\n",
              "      <td>Fight Club (1999)</td>\n",
              "      <td>Action|Crime|Drama|Thriller</td>\n",
              "      <td>218.0</td>\n",
              "      <td>4.272936</td>\n",
              "    </tr>\n",
              "    <tr>\n",
              "      <th>5464</th>\n",
              "      <td>5.0</td>\n",
              "      <td>Road to Perdition (2002)</td>\n",
              "      <td>Crime|Drama</td>\n",
              "      <td>49.0</td>\n",
              "      <td>3.520408</td>\n",
              "    </tr>\n",
              "    <tr>\n",
              "      <th>1247</th>\n",
              "      <td>5.0</td>\n",
              "      <td>Graduate, The (1967)</td>\n",
              "      <td>Comedy|Drama|Romance</td>\n",
              "      <td>79.0</td>\n",
              "      <td>4.063291</td>\n",
              "    </tr>\n",
              "  </tbody>\n",
              "</table>\n",
              "</div>"
            ],
            "text/plain": [
              "         nota                    titulo  ... total_de_votos  nota_media\n",
              "filmeId                                  ...                           \n",
              "1217      5.0                Ran (1985)  ...           15.0    4.433333\n",
              "7147      5.0           Big Fish (2003)  ...           69.0    3.833333\n",
              "2959      5.0         Fight Club (1999)  ...          218.0    4.272936\n",
              "5464      5.0  Road to Perdition (2002)  ...           49.0    3.520408\n",
              "1247      5.0      Graduate, The (1967)  ...           79.0    4.063291\n",
              "\n",
              "[5 rows x 5 columns]"
            ]
          },
          "metadata": {
            "tags": []
          },
          "execution_count": 50
        }
      ]
    },
    {
      "cell_type": "markdown",
      "metadata": {
        "id": "8NhmPuMmPRdJ"
      },
      "source": [
        "# Sugerir baseado em vários usuários"
      ]
    },
    {
      "cell_type": "code",
      "metadata": {
        "id": "VzvrWbC3OGoh"
      },
      "source": [
        "def mais_proximos_de(voce_id, n_mais_proximos=10, numero_de_usuarios_a_analisar=None):\n",
        "  distancias = distancia_de_todos(voce_id, numero_de_usuarios_a_analisar= numero_de_usuarios_a_analisar)\n",
        "  distancias = distancias.sort_values(\"distancia\")\n",
        "  distancias = distancias.set_index('outra_pessoa').drop(voce_id)\n",
        "  return distancias.head(n_mais_proximos)"
      ],
      "execution_count": null,
      "outputs": []
    },
    {
      "cell_type": "code",
      "metadata": {
        "id": "pwn7CfyrbeTC",
        "colab": {
          "base_uri": "https://localhost:8080/",
          "height": 139
        },
        "outputId": "f7a3a25c-fda0-421f-8f93-5673fdc97a4b"
      },
      "source": [
        "mais_proximos_de(1, n_mais_proximos=2,numero_de_usuarios_a_analisar=300)"
      ],
      "execution_count": null,
      "outputs": [
        {
          "output_type": "execute_result",
          "data": {
            "text/html": [
              "<div>\n",
              "<style scoped>\n",
              "    .dataframe tbody tr th:only-of-type {\n",
              "        vertical-align: middle;\n",
              "    }\n",
              "\n",
              "    .dataframe tbody tr th {\n",
              "        vertical-align: top;\n",
              "    }\n",
              "\n",
              "    .dataframe thead th {\n",
              "        text-align: right;\n",
              "    }\n",
              "</style>\n",
              "<table border=\"1\" class=\"dataframe\">\n",
              "  <thead>\n",
              "    <tr style=\"text-align: right;\">\n",
              "      <th></th>\n",
              "      <th>voce</th>\n",
              "      <th>distancia</th>\n",
              "    </tr>\n",
              "    <tr>\n",
              "      <th>outra_pessoa</th>\n",
              "      <th></th>\n",
              "      <th></th>\n",
              "    </tr>\n",
              "  </thead>\n",
              "  <tbody>\n",
              "    <tr>\n",
              "      <th>77</th>\n",
              "      <td>1</td>\n",
              "      <td>0.0</td>\n",
              "    </tr>\n",
              "    <tr>\n",
              "      <th>511</th>\n",
              "      <td>1</td>\n",
              "      <td>0.5</td>\n",
              "    </tr>\n",
              "  </tbody>\n",
              "</table>\n",
              "</div>"
            ],
            "text/plain": [
              "              voce  distancia\n",
              "outra_pessoa                 \n",
              "77               1        0.0\n",
              "511              1        0.5"
            ]
          },
          "metadata": {
            "tags": []
          },
          "execution_count": 55
        }
      ]
    },
    {
      "cell_type": "code",
      "metadata": {
        "id": "TinyhHoLbgy_",
        "colab": {
          "base_uri": "https://localhost:8080/",
          "height": 230
        },
        "outputId": "b8a5613b-dd96-457d-acfe-e962eb64b92a"
      },
      "source": [
        "voce = 1\n",
        "n_mais_proximos = 20\n",
        "\n",
        "numero_de_usuarios_a_analisar = 300\n",
        "notas_de_voce = notas_do_usuario(voce)\n",
        "filmes_que_voce_ja_viu = notas_de_voce.index\n",
        "\n",
        "similares = mais_proximos_de(voce, n_mais_proximos= n_mais_proximos, numero_de_usuarios_a_analisar=numero_de_usuarios_a_analisar)\n",
        "usuarios_similares = similares.index\n",
        "notas_dos_similares = ratings.set_index('usuarioId').loc[usuarios_similares]\n",
        "recomendacoes = notas_dos_similares.groupby(\"filmeId\").mean()[['nota']]\n",
        "recomendacoes = recomendacoes.sort_values('nota', ascending=False)\n",
        "recomendacoes.join(films).head()"
      ],
      "execution_count": null,
      "outputs": [
        {
          "output_type": "execute_result",
          "data": {
            "text/html": [
              "<div>\n",
              "<style scoped>\n",
              "    .dataframe tbody tr th:only-of-type {\n",
              "        vertical-align: middle;\n",
              "    }\n",
              "\n",
              "    .dataframe tbody tr th {\n",
              "        vertical-align: top;\n",
              "    }\n",
              "\n",
              "    .dataframe thead th {\n",
              "        text-align: right;\n",
              "    }\n",
              "</style>\n",
              "<table border=\"1\" class=\"dataframe\">\n",
              "  <thead>\n",
              "    <tr style=\"text-align: right;\">\n",
              "      <th></th>\n",
              "      <th>nota</th>\n",
              "      <th>titulo</th>\n",
              "      <th>generos</th>\n",
              "      <th>total_de_votos</th>\n",
              "      <th>nota_media</th>\n",
              "    </tr>\n",
              "    <tr>\n",
              "      <th>filmeId</th>\n",
              "      <th></th>\n",
              "      <th></th>\n",
              "      <th></th>\n",
              "      <th></th>\n",
              "      <th></th>\n",
              "    </tr>\n",
              "  </thead>\n",
              "  <tbody>\n",
              "    <tr>\n",
              "      <th>608</th>\n",
              "      <td>5.0</td>\n",
              "      <td>Fargo (1996)</td>\n",
              "      <td>Comedy|Crime|Drama|Thriller</td>\n",
              "      <td>181.0</td>\n",
              "      <td>4.116022</td>\n",
              "    </tr>\n",
              "    <tr>\n",
              "      <th>6711</th>\n",
              "      <td>5.0</td>\n",
              "      <td>Lost in Translation (2003)</td>\n",
              "      <td>Comedy|Drama|Romance</td>\n",
              "      <td>74.0</td>\n",
              "      <td>4.033784</td>\n",
              "    </tr>\n",
              "    <tr>\n",
              "      <th>102407</th>\n",
              "      <td>5.0</td>\n",
              "      <td>Great Gatsby, The (2013)</td>\n",
              "      <td>Drama</td>\n",
              "      <td>20.0</td>\n",
              "      <td>3.375000</td>\n",
              "    </tr>\n",
              "    <tr>\n",
              "      <th>5971</th>\n",
              "      <td>5.0</td>\n",
              "      <td>My Neighbor Totoro (Tonari no Totoro) (1988)</td>\n",
              "      <td>Animation|Children|Drama|Fantasy</td>\n",
              "      <td>37.0</td>\n",
              "      <td>3.959459</td>\n",
              "    </tr>\n",
              "    <tr>\n",
              "      <th>112290</th>\n",
              "      <td>5.0</td>\n",
              "      <td>Boyhood (2014)</td>\n",
              "      <td>Drama</td>\n",
              "      <td>17.0</td>\n",
              "      <td>3.823529</td>\n",
              "    </tr>\n",
              "  </tbody>\n",
              "</table>\n",
              "</div>"
            ],
            "text/plain": [
              "         nota  ... nota_media\n",
              "filmeId        ...           \n",
              "608       5.0  ...   4.116022\n",
              "6711      5.0  ...   4.033784\n",
              "102407    5.0  ...   3.375000\n",
              "5971      5.0  ...   3.959459\n",
              "112290    5.0  ...   3.823529\n",
              "\n",
              "[5 rows x 5 columns]"
            ]
          },
          "metadata": {
            "tags": []
          },
          "execution_count": 65
        }
      ]
    },
    {
      "cell_type": "code",
      "metadata": {
        "id": "PrdKCMLXctxh"
      },
      "source": [
        "def knn(voce_id, k_mais_proximos=10, numero_de_usuarios_a_analisar=None):\n",
        "  distancias = distancia_de_todos(voce_id, numero_de_usuarios_a_analisar= numero_de_usuarios_a_analisar)\n",
        "  distancias = distancias.sort_values(\"distancia\")\n",
        "  distancias = distancias.set_index('outra_pessoa').drop(voce_id)\n",
        "  return distancias.head(k_mais_proximos)"
      ],
      "execution_count": null,
      "outputs": []
    },
    {
      "cell_type": "code",
      "metadata": {
        "id": "EFh3T8QtgH05"
      },
      "source": [
        "def sugere_para(voce, k_mais_proximos =10, numero_de_usuarios_a_analisar=None):\n",
        "  notas_de_voce = notas_do_usuario(voce)\n",
        "  filmes_que_voce_ja_viu = notas_de_voce.index\n",
        "\n",
        "  similares = mais_proximos_de(voce, k_mais_proximos=k_mais_proximos, numero_de_usuarios_a_analisar=numero_de_usuarios_a_analisar)\n",
        "  usuarios_similares = similares.index\n",
        "  notas_dos_similares = ratings.set_index('usuarioId').loc[usuarios_similares]\n",
        "  recomendacoes = notas_dos_similares.groupby(\"filmeId\").mean()[['nota']]\n",
        "  recomendacoes = recomendacoes.sort_values('nota', ascending=False)\n",
        "  return recomendacoes.join(films).head()"
      ],
      "execution_count": null,
      "outputs": []
    },
    {
      "cell_type": "markdown",
      "metadata": {
        "id": "HZ82UHUMgg19"
      },
      "source": [
        "# Testar um usuário novo"
      ]
    },
    {
      "cell_type": "code",
      "metadata": {
        "id": "IU0yT1O-gfH4"
      },
      "source": [
        ""
      ],
      "execution_count": null,
      "outputs": []
    }
  ]
}