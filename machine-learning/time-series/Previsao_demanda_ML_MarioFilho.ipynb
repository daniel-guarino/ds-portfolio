{
  "nbformat": 4,
  "nbformat_minor": 0,
  "metadata": {
    "colab": {
      "name": "Previsao-demanda-ML-MarioFilho.ipynb",
      "provenance": []
    },
    "kernelspec": {
      "name": "python3",
      "display_name": "Python 3"
    },
    "widgets": {
      "application/vnd.jupyter.widget-state+json": {
        "626ef1f5c344408ca296105dc7dd4244": {
          "model_module": "@jupyter-widgets/controls",
          "model_name": "HBoxModel",
          "state": {
            "_view_name": "HBoxView",
            "_dom_classes": [],
            "_model_name": "HBoxModel",
            "_view_module": "@jupyter-widgets/controls",
            "_model_module_version": "1.5.0",
            "_view_count": null,
            "_view_module_version": "1.5.0",
            "box_style": "",
            "layout": "IPY_MODEL_5b584d9613bd4a33bf936601ebe071f2",
            "_model_module": "@jupyter-widgets/controls",
            "children": [
              "IPY_MODEL_dff1cf163ff041d5a16689a7492412ab",
              "IPY_MODEL_6611ae3955e04f2f8e62ab76d43abf66"
            ]
          }
        },
        "5b584d9613bd4a33bf936601ebe071f2": {
          "model_module": "@jupyter-widgets/base",
          "model_name": "LayoutModel",
          "state": {
            "_view_name": "LayoutView",
            "grid_template_rows": null,
            "right": null,
            "justify_content": null,
            "_view_module": "@jupyter-widgets/base",
            "overflow": null,
            "_model_module_version": "1.2.0",
            "_view_count": null,
            "flex_flow": null,
            "width": null,
            "min_width": null,
            "border": null,
            "align_items": null,
            "bottom": null,
            "_model_module": "@jupyter-widgets/base",
            "top": null,
            "grid_column": null,
            "overflow_y": null,
            "overflow_x": null,
            "grid_auto_flow": null,
            "grid_area": null,
            "grid_template_columns": null,
            "flex": null,
            "_model_name": "LayoutModel",
            "justify_items": null,
            "grid_row": null,
            "max_height": null,
            "align_content": null,
            "visibility": null,
            "align_self": null,
            "height": null,
            "min_height": null,
            "padding": null,
            "grid_auto_rows": null,
            "grid_gap": null,
            "max_width": null,
            "order": null,
            "_view_module_version": "1.2.0",
            "grid_template_areas": null,
            "object_position": null,
            "object_fit": null,
            "grid_auto_columns": null,
            "margin": null,
            "display": null,
            "left": null
          }
        },
        "dff1cf163ff041d5a16689a7492412ab": {
          "model_module": "@jupyter-widgets/controls",
          "model_name": "FloatProgressModel",
          "state": {
            "_view_name": "ProgressView",
            "style": "IPY_MODEL_21f48fe01db745df863a17a61d4e6ae5",
            "_dom_classes": [],
            "description": "100%",
            "_model_name": "FloatProgressModel",
            "bar_style": "success",
            "max": 12,
            "_view_module": "@jupyter-widgets/controls",
            "_model_module_version": "1.5.0",
            "value": 12,
            "_view_count": null,
            "_view_module_version": "1.5.0",
            "orientation": "horizontal",
            "min": 0,
            "description_tooltip": null,
            "_model_module": "@jupyter-widgets/controls",
            "layout": "IPY_MODEL_cabad114de854da2b548c39f739d41f7"
          }
        },
        "6611ae3955e04f2f8e62ab76d43abf66": {
          "model_module": "@jupyter-widgets/controls",
          "model_name": "HTMLModel",
          "state": {
            "_view_name": "HTMLView",
            "style": "IPY_MODEL_6643a003b7fc4312900a2c635fbec6a7",
            "_dom_classes": [],
            "description": "",
            "_model_name": "HTMLModel",
            "placeholder": "​",
            "_view_module": "@jupyter-widgets/controls",
            "_model_module_version": "1.5.0",
            "value": " 12/12 [16:39&lt;00:00, 83.33s/it]",
            "_view_count": null,
            "_view_module_version": "1.5.0",
            "description_tooltip": null,
            "_model_module": "@jupyter-widgets/controls",
            "layout": "IPY_MODEL_11de903ae29a4124b44f0f424fd131fa"
          }
        },
        "21f48fe01db745df863a17a61d4e6ae5": {
          "model_module": "@jupyter-widgets/controls",
          "model_name": "ProgressStyleModel",
          "state": {
            "_view_name": "StyleView",
            "_model_name": "ProgressStyleModel",
            "description_width": "initial",
            "_view_module": "@jupyter-widgets/base",
            "_model_module_version": "1.5.0",
            "_view_count": null,
            "_view_module_version": "1.2.0",
            "bar_color": null,
            "_model_module": "@jupyter-widgets/controls"
          }
        },
        "cabad114de854da2b548c39f739d41f7": {
          "model_module": "@jupyter-widgets/base",
          "model_name": "LayoutModel",
          "state": {
            "_view_name": "LayoutView",
            "grid_template_rows": null,
            "right": null,
            "justify_content": null,
            "_view_module": "@jupyter-widgets/base",
            "overflow": null,
            "_model_module_version": "1.2.0",
            "_view_count": null,
            "flex_flow": null,
            "width": null,
            "min_width": null,
            "border": null,
            "align_items": null,
            "bottom": null,
            "_model_module": "@jupyter-widgets/base",
            "top": null,
            "grid_column": null,
            "overflow_y": null,
            "overflow_x": null,
            "grid_auto_flow": null,
            "grid_area": null,
            "grid_template_columns": null,
            "flex": null,
            "_model_name": "LayoutModel",
            "justify_items": null,
            "grid_row": null,
            "max_height": null,
            "align_content": null,
            "visibility": null,
            "align_self": null,
            "height": null,
            "min_height": null,
            "padding": null,
            "grid_auto_rows": null,
            "grid_gap": null,
            "max_width": null,
            "order": null,
            "_view_module_version": "1.2.0",
            "grid_template_areas": null,
            "object_position": null,
            "object_fit": null,
            "grid_auto_columns": null,
            "margin": null,
            "display": null,
            "left": null
          }
        },
        "6643a003b7fc4312900a2c635fbec6a7": {
          "model_module": "@jupyter-widgets/controls",
          "model_name": "DescriptionStyleModel",
          "state": {
            "_view_name": "StyleView",
            "_model_name": "DescriptionStyleModel",
            "description_width": "",
            "_view_module": "@jupyter-widgets/base",
            "_model_module_version": "1.5.0",
            "_view_count": null,
            "_view_module_version": "1.2.0",
            "_model_module": "@jupyter-widgets/controls"
          }
        },
        "11de903ae29a4124b44f0f424fd131fa": {
          "model_module": "@jupyter-widgets/base",
          "model_name": "LayoutModel",
          "state": {
            "_view_name": "LayoutView",
            "grid_template_rows": null,
            "right": null,
            "justify_content": null,
            "_view_module": "@jupyter-widgets/base",
            "overflow": null,
            "_model_module_version": "1.2.0",
            "_view_count": null,
            "flex_flow": null,
            "width": null,
            "min_width": null,
            "border": null,
            "align_items": null,
            "bottom": null,
            "_model_module": "@jupyter-widgets/base",
            "top": null,
            "grid_column": null,
            "overflow_y": null,
            "overflow_x": null,
            "grid_auto_flow": null,
            "grid_area": null,
            "grid_template_columns": null,
            "flex": null,
            "_model_name": "LayoutModel",
            "justify_items": null,
            "grid_row": null,
            "max_height": null,
            "align_content": null,
            "visibility": null,
            "align_self": null,
            "height": null,
            "min_height": null,
            "padding": null,
            "grid_auto_rows": null,
            "grid_gap": null,
            "max_width": null,
            "order": null,
            "_view_module_version": "1.2.0",
            "grid_template_areas": null,
            "object_position": null,
            "object_fit": null,
            "grid_auto_columns": null,
            "margin": null,
            "display": null,
            "left": null
          }
        },
        "bac38957ae3e48dc95df9918985f54cf": {
          "model_module": "@jupyter-widgets/controls",
          "model_name": "HBoxModel",
          "state": {
            "_view_name": "HBoxView",
            "_dom_classes": [],
            "_model_name": "HBoxModel",
            "_view_module": "@jupyter-widgets/controls",
            "_model_module_version": "1.5.0",
            "_view_count": null,
            "_view_module_version": "1.5.0",
            "box_style": "",
            "layout": "IPY_MODEL_685c8b8c74954206804ee309d4f9f96d",
            "_model_module": "@jupyter-widgets/controls",
            "children": [
              "IPY_MODEL_660814f56c3c425f8169ed89ed25f64c",
              "IPY_MODEL_765eb25f2063498cbe0904b4a6495282"
            ]
          }
        },
        "685c8b8c74954206804ee309d4f9f96d": {
          "model_module": "@jupyter-widgets/base",
          "model_name": "LayoutModel",
          "state": {
            "_view_name": "LayoutView",
            "grid_template_rows": null,
            "right": null,
            "justify_content": null,
            "_view_module": "@jupyter-widgets/base",
            "overflow": null,
            "_model_module_version": "1.2.0",
            "_view_count": null,
            "flex_flow": null,
            "width": null,
            "min_width": null,
            "border": null,
            "align_items": null,
            "bottom": null,
            "_model_module": "@jupyter-widgets/base",
            "top": null,
            "grid_column": null,
            "overflow_y": null,
            "overflow_x": null,
            "grid_auto_flow": null,
            "grid_area": null,
            "grid_template_columns": null,
            "flex": null,
            "_model_name": "LayoutModel",
            "justify_items": null,
            "grid_row": null,
            "max_height": null,
            "align_content": null,
            "visibility": null,
            "align_self": null,
            "height": null,
            "min_height": null,
            "padding": null,
            "grid_auto_rows": null,
            "grid_gap": null,
            "max_width": null,
            "order": null,
            "_view_module_version": "1.2.0",
            "grid_template_areas": null,
            "object_position": null,
            "object_fit": null,
            "grid_auto_columns": null,
            "margin": null,
            "display": null,
            "left": null
          }
        },
        "660814f56c3c425f8169ed89ed25f64c": {
          "model_module": "@jupyter-widgets/controls",
          "model_name": "FloatProgressModel",
          "state": {
            "_view_name": "ProgressView",
            "style": "IPY_MODEL_760163a2d6084c5bb2a1b6d4f3e2a2bf",
            "_dom_classes": [],
            "description": "100%",
            "_model_name": "FloatProgressModel",
            "bar_style": "success",
            "max": 12,
            "_view_module": "@jupyter-widgets/controls",
            "_model_module_version": "1.5.0",
            "value": 12,
            "_view_count": null,
            "_view_module_version": "1.5.0",
            "orientation": "horizontal",
            "min": 0,
            "description_tooltip": null,
            "_model_module": "@jupyter-widgets/controls",
            "layout": "IPY_MODEL_b46a5cf3e1ea4d4599343a2d9e2071b7"
          }
        },
        "765eb25f2063498cbe0904b4a6495282": {
          "model_module": "@jupyter-widgets/controls",
          "model_name": "HTMLModel",
          "state": {
            "_view_name": "HTMLView",
            "style": "IPY_MODEL_f2cbfa38c7964cbdbc9583fd92ea1680",
            "_dom_classes": [],
            "description": "",
            "_model_name": "HTMLModel",
            "placeholder": "​",
            "_view_module": "@jupyter-widgets/controls",
            "_model_module_version": "1.5.0",
            "value": " 12/12 [15:01&lt;00:00, 75.09s/it]",
            "_view_count": null,
            "_view_module_version": "1.5.0",
            "description_tooltip": null,
            "_model_module": "@jupyter-widgets/controls",
            "layout": "IPY_MODEL_f4638c4bf5a34ab0b8c06d3f30ea5f0c"
          }
        },
        "760163a2d6084c5bb2a1b6d4f3e2a2bf": {
          "model_module": "@jupyter-widgets/controls",
          "model_name": "ProgressStyleModel",
          "state": {
            "_view_name": "StyleView",
            "_model_name": "ProgressStyleModel",
            "description_width": "initial",
            "_view_module": "@jupyter-widgets/base",
            "_model_module_version": "1.5.0",
            "_view_count": null,
            "_view_module_version": "1.2.0",
            "bar_color": null,
            "_model_module": "@jupyter-widgets/controls"
          }
        },
        "b46a5cf3e1ea4d4599343a2d9e2071b7": {
          "model_module": "@jupyter-widgets/base",
          "model_name": "LayoutModel",
          "state": {
            "_view_name": "LayoutView",
            "grid_template_rows": null,
            "right": null,
            "justify_content": null,
            "_view_module": "@jupyter-widgets/base",
            "overflow": null,
            "_model_module_version": "1.2.0",
            "_view_count": null,
            "flex_flow": null,
            "width": null,
            "min_width": null,
            "border": null,
            "align_items": null,
            "bottom": null,
            "_model_module": "@jupyter-widgets/base",
            "top": null,
            "grid_column": null,
            "overflow_y": null,
            "overflow_x": null,
            "grid_auto_flow": null,
            "grid_area": null,
            "grid_template_columns": null,
            "flex": null,
            "_model_name": "LayoutModel",
            "justify_items": null,
            "grid_row": null,
            "max_height": null,
            "align_content": null,
            "visibility": null,
            "align_self": null,
            "height": null,
            "min_height": null,
            "padding": null,
            "grid_auto_rows": null,
            "grid_gap": null,
            "max_width": null,
            "order": null,
            "_view_module_version": "1.2.0",
            "grid_template_areas": null,
            "object_position": null,
            "object_fit": null,
            "grid_auto_columns": null,
            "margin": null,
            "display": null,
            "left": null
          }
        },
        "f2cbfa38c7964cbdbc9583fd92ea1680": {
          "model_module": "@jupyter-widgets/controls",
          "model_name": "DescriptionStyleModel",
          "state": {
            "_view_name": "StyleView",
            "_model_name": "DescriptionStyleModel",
            "description_width": "",
            "_view_module": "@jupyter-widgets/base",
            "_model_module_version": "1.5.0",
            "_view_count": null,
            "_view_module_version": "1.2.0",
            "_model_module": "@jupyter-widgets/controls"
          }
        },
        "f4638c4bf5a34ab0b8c06d3f30ea5f0c": {
          "model_module": "@jupyter-widgets/base",
          "model_name": "LayoutModel",
          "state": {
            "_view_name": "LayoutView",
            "grid_template_rows": null,
            "right": null,
            "justify_content": null,
            "_view_module": "@jupyter-widgets/base",
            "overflow": null,
            "_model_module_version": "1.2.0",
            "_view_count": null,
            "flex_flow": null,
            "width": null,
            "min_width": null,
            "border": null,
            "align_items": null,
            "bottom": null,
            "_model_module": "@jupyter-widgets/base",
            "top": null,
            "grid_column": null,
            "overflow_y": null,
            "overflow_x": null,
            "grid_auto_flow": null,
            "grid_area": null,
            "grid_template_columns": null,
            "flex": null,
            "_model_name": "LayoutModel",
            "justify_items": null,
            "grid_row": null,
            "max_height": null,
            "align_content": null,
            "visibility": null,
            "align_self": null,
            "height": null,
            "min_height": null,
            "padding": null,
            "grid_auto_rows": null,
            "grid_gap": null,
            "max_width": null,
            "order": null,
            "_view_module_version": "1.2.0",
            "grid_template_areas": null,
            "object_position": null,
            "object_fit": null,
            "grid_auto_columns": null,
            "margin": null,
            "display": null,
            "left": null
          }
        }
      }
    }
  },
  "cells": [
    {
      "cell_type": "code",
      "metadata": {
        "id": "3nqDZkUeQv3_"
      },
      "source": [
        "import pandas as pd\n",
        "import numpy as np\n",
        "\n",
        "from sklearn.ensemble import RandomForestRegressor\n",
        "from sklearn.metrics import mean_squared_log_error\n",
        "\n",
        "from tqdm import tqdm_notebook as tqdm"
      ],
      "execution_count": null,
      "outputs": []
    },
    {
      "cell_type": "markdown",
      "metadata": {
        "id": "BwyAYIPXRlCq"
      },
      "source": [
        "Data Set Information:\n",
        "\n",
        "52 columns for 52 weeks; normalised values of provided too."
      ]
    },
    {
      "cell_type": "code",
      "metadata": {
        "id": "bXKmumPzRDDA",
        "colab": {
          "base_uri": "https://localhost:8080/"
        },
        "outputId": "abd7df6c-0cd9-4db6-97f9-3330ca50ad13"
      },
      "source": [
        "!wget https://archive.ics.uci.edu/ml/machine-learning-databases/00396/Sales_Transactions_Dataset_Weekly.csv"
      ],
      "execution_count": null,
      "outputs": [
        {
          "output_type": "stream",
          "text": [
            "--2020-11-16 14:11:51--  https://archive.ics.uci.edu/ml/machine-learning-databases/00396/Sales_Transactions_Dataset_Weekly.csv\n",
            "Resolving archive.ics.uci.edu (archive.ics.uci.edu)... 128.195.10.252\n",
            "Connecting to archive.ics.uci.edu (archive.ics.uci.edu)|128.195.10.252|:443... connected.\n",
            "HTTP request sent, awaiting response... 200 OK\n",
            "Length: 317399 (310K) [application/x-httpd-php]\n",
            "Saving to: ‘Sales_Transactions_Dataset_Weekly.csv.1’\n",
            "\n",
            "Sales_Transactions_ 100%[===================>] 309.96K   598KB/s    in 0.5s    \n",
            "\n",
            "2020-11-16 14:11:52 (598 KB/s) - ‘Sales_Transactions_Dataset_Weekly.csv.1’ saved [317399/317399]\n",
            "\n"
          ],
          "name": "stdout"
        }
      ]
    },
    {
      "cell_type": "code",
      "metadata": {
        "id": "1Z27fZxxRGH0",
        "colab": {
          "base_uri": "https://localhost:8080/",
          "height": 224
        },
        "outputId": "ef21443b-a4bb-402e-e633-f1610c768775"
      },
      "source": [
        "df = pd.read_csv('Sales_Transactions_Dataset_Weekly.csv')\n",
        "df = df.filter(regex=r'Product|W')\n",
        "df.head()"
      ],
      "execution_count": null,
      "outputs": [
        {
          "output_type": "execute_result",
          "data": {
            "text/html": [
              "<div>\n",
              "<style scoped>\n",
              "    .dataframe tbody tr th:only-of-type {\n",
              "        vertical-align: middle;\n",
              "    }\n",
              "\n",
              "    .dataframe tbody tr th {\n",
              "        vertical-align: top;\n",
              "    }\n",
              "\n",
              "    .dataframe thead th {\n",
              "        text-align: right;\n",
              "    }\n",
              "</style>\n",
              "<table border=\"1\" class=\"dataframe\">\n",
              "  <thead>\n",
              "    <tr style=\"text-align: right;\">\n",
              "      <th></th>\n",
              "      <th>Product_Code</th>\n",
              "      <th>W0</th>\n",
              "      <th>W1</th>\n",
              "      <th>W2</th>\n",
              "      <th>W3</th>\n",
              "      <th>W4</th>\n",
              "      <th>W5</th>\n",
              "      <th>W6</th>\n",
              "      <th>W7</th>\n",
              "      <th>W8</th>\n",
              "      <th>W9</th>\n",
              "      <th>W10</th>\n",
              "      <th>W11</th>\n",
              "      <th>W12</th>\n",
              "      <th>W13</th>\n",
              "      <th>W14</th>\n",
              "      <th>W15</th>\n",
              "      <th>W16</th>\n",
              "      <th>W17</th>\n",
              "      <th>W18</th>\n",
              "      <th>W19</th>\n",
              "      <th>W20</th>\n",
              "      <th>W21</th>\n",
              "      <th>W22</th>\n",
              "      <th>W23</th>\n",
              "      <th>W24</th>\n",
              "      <th>W25</th>\n",
              "      <th>W26</th>\n",
              "      <th>W27</th>\n",
              "      <th>W28</th>\n",
              "      <th>W29</th>\n",
              "      <th>W30</th>\n",
              "      <th>W31</th>\n",
              "      <th>W32</th>\n",
              "      <th>W33</th>\n",
              "      <th>W34</th>\n",
              "      <th>W35</th>\n",
              "      <th>W36</th>\n",
              "      <th>W37</th>\n",
              "      <th>W38</th>\n",
              "      <th>W39</th>\n",
              "      <th>W40</th>\n",
              "      <th>W41</th>\n",
              "      <th>W42</th>\n",
              "      <th>W43</th>\n",
              "      <th>W44</th>\n",
              "      <th>W45</th>\n",
              "      <th>W46</th>\n",
              "      <th>W47</th>\n",
              "      <th>W48</th>\n",
              "      <th>W49</th>\n",
              "      <th>W50</th>\n",
              "      <th>W51</th>\n",
              "    </tr>\n",
              "  </thead>\n",
              "  <tbody>\n",
              "    <tr>\n",
              "      <th>0</th>\n",
              "      <td>P1</td>\n",
              "      <td>11</td>\n",
              "      <td>12</td>\n",
              "      <td>10</td>\n",
              "      <td>8</td>\n",
              "      <td>13</td>\n",
              "      <td>12</td>\n",
              "      <td>14</td>\n",
              "      <td>21</td>\n",
              "      <td>6</td>\n",
              "      <td>14</td>\n",
              "      <td>11</td>\n",
              "      <td>14</td>\n",
              "      <td>16</td>\n",
              "      <td>9</td>\n",
              "      <td>9</td>\n",
              "      <td>9</td>\n",
              "      <td>14</td>\n",
              "      <td>9</td>\n",
              "      <td>3</td>\n",
              "      <td>12</td>\n",
              "      <td>5</td>\n",
              "      <td>11</td>\n",
              "      <td>7</td>\n",
              "      <td>12</td>\n",
              "      <td>5</td>\n",
              "      <td>9</td>\n",
              "      <td>7</td>\n",
              "      <td>10</td>\n",
              "      <td>5</td>\n",
              "      <td>11</td>\n",
              "      <td>7</td>\n",
              "      <td>10</td>\n",
              "      <td>12</td>\n",
              "      <td>6</td>\n",
              "      <td>5</td>\n",
              "      <td>14</td>\n",
              "      <td>10</td>\n",
              "      <td>9</td>\n",
              "      <td>12</td>\n",
              "      <td>17</td>\n",
              "      <td>7</td>\n",
              "      <td>11</td>\n",
              "      <td>4</td>\n",
              "      <td>7</td>\n",
              "      <td>8</td>\n",
              "      <td>10</td>\n",
              "      <td>12</td>\n",
              "      <td>3</td>\n",
              "      <td>7</td>\n",
              "      <td>6</td>\n",
              "      <td>5</td>\n",
              "      <td>10</td>\n",
              "    </tr>\n",
              "    <tr>\n",
              "      <th>1</th>\n",
              "      <td>P2</td>\n",
              "      <td>7</td>\n",
              "      <td>6</td>\n",
              "      <td>3</td>\n",
              "      <td>2</td>\n",
              "      <td>7</td>\n",
              "      <td>1</td>\n",
              "      <td>6</td>\n",
              "      <td>3</td>\n",
              "      <td>3</td>\n",
              "      <td>3</td>\n",
              "      <td>2</td>\n",
              "      <td>2</td>\n",
              "      <td>6</td>\n",
              "      <td>2</td>\n",
              "      <td>0</td>\n",
              "      <td>6</td>\n",
              "      <td>2</td>\n",
              "      <td>7</td>\n",
              "      <td>7</td>\n",
              "      <td>9</td>\n",
              "      <td>4</td>\n",
              "      <td>7</td>\n",
              "      <td>2</td>\n",
              "      <td>4</td>\n",
              "      <td>5</td>\n",
              "      <td>3</td>\n",
              "      <td>5</td>\n",
              "      <td>8</td>\n",
              "      <td>5</td>\n",
              "      <td>5</td>\n",
              "      <td>3</td>\n",
              "      <td>1</td>\n",
              "      <td>3</td>\n",
              "      <td>2</td>\n",
              "      <td>3</td>\n",
              "      <td>10</td>\n",
              "      <td>5</td>\n",
              "      <td>2</td>\n",
              "      <td>7</td>\n",
              "      <td>3</td>\n",
              "      <td>2</td>\n",
              "      <td>5</td>\n",
              "      <td>2</td>\n",
              "      <td>4</td>\n",
              "      <td>5</td>\n",
              "      <td>1</td>\n",
              "      <td>1</td>\n",
              "      <td>4</td>\n",
              "      <td>5</td>\n",
              "      <td>1</td>\n",
              "      <td>6</td>\n",
              "      <td>0</td>\n",
              "    </tr>\n",
              "    <tr>\n",
              "      <th>2</th>\n",
              "      <td>P3</td>\n",
              "      <td>7</td>\n",
              "      <td>11</td>\n",
              "      <td>8</td>\n",
              "      <td>9</td>\n",
              "      <td>10</td>\n",
              "      <td>8</td>\n",
              "      <td>7</td>\n",
              "      <td>13</td>\n",
              "      <td>12</td>\n",
              "      <td>6</td>\n",
              "      <td>14</td>\n",
              "      <td>9</td>\n",
              "      <td>4</td>\n",
              "      <td>7</td>\n",
              "      <td>12</td>\n",
              "      <td>8</td>\n",
              "      <td>7</td>\n",
              "      <td>11</td>\n",
              "      <td>10</td>\n",
              "      <td>7</td>\n",
              "      <td>7</td>\n",
              "      <td>13</td>\n",
              "      <td>11</td>\n",
              "      <td>8</td>\n",
              "      <td>10</td>\n",
              "      <td>8</td>\n",
              "      <td>14</td>\n",
              "      <td>5</td>\n",
              "      <td>3</td>\n",
              "      <td>13</td>\n",
              "      <td>11</td>\n",
              "      <td>9</td>\n",
              "      <td>7</td>\n",
              "      <td>8</td>\n",
              "      <td>7</td>\n",
              "      <td>9</td>\n",
              "      <td>6</td>\n",
              "      <td>12</td>\n",
              "      <td>12</td>\n",
              "      <td>9</td>\n",
              "      <td>3</td>\n",
              "      <td>5</td>\n",
              "      <td>6</td>\n",
              "      <td>14</td>\n",
              "      <td>5</td>\n",
              "      <td>5</td>\n",
              "      <td>7</td>\n",
              "      <td>8</td>\n",
              "      <td>14</td>\n",
              "      <td>8</td>\n",
              "      <td>8</td>\n",
              "      <td>7</td>\n",
              "    </tr>\n",
              "    <tr>\n",
              "      <th>3</th>\n",
              "      <td>P4</td>\n",
              "      <td>12</td>\n",
              "      <td>8</td>\n",
              "      <td>13</td>\n",
              "      <td>5</td>\n",
              "      <td>9</td>\n",
              "      <td>6</td>\n",
              "      <td>9</td>\n",
              "      <td>13</td>\n",
              "      <td>13</td>\n",
              "      <td>11</td>\n",
              "      <td>8</td>\n",
              "      <td>4</td>\n",
              "      <td>5</td>\n",
              "      <td>4</td>\n",
              "      <td>15</td>\n",
              "      <td>7</td>\n",
              "      <td>11</td>\n",
              "      <td>9</td>\n",
              "      <td>15</td>\n",
              "      <td>4</td>\n",
              "      <td>6</td>\n",
              "      <td>7</td>\n",
              "      <td>11</td>\n",
              "      <td>7</td>\n",
              "      <td>9</td>\n",
              "      <td>6</td>\n",
              "      <td>10</td>\n",
              "      <td>10</td>\n",
              "      <td>2</td>\n",
              "      <td>6</td>\n",
              "      <td>7</td>\n",
              "      <td>2</td>\n",
              "      <td>5</td>\n",
              "      <td>12</td>\n",
              "      <td>5</td>\n",
              "      <td>19</td>\n",
              "      <td>8</td>\n",
              "      <td>6</td>\n",
              "      <td>8</td>\n",
              "      <td>8</td>\n",
              "      <td>12</td>\n",
              "      <td>6</td>\n",
              "      <td>9</td>\n",
              "      <td>10</td>\n",
              "      <td>3</td>\n",
              "      <td>4</td>\n",
              "      <td>6</td>\n",
              "      <td>8</td>\n",
              "      <td>14</td>\n",
              "      <td>8</td>\n",
              "      <td>7</td>\n",
              "      <td>8</td>\n",
              "    </tr>\n",
              "    <tr>\n",
              "      <th>4</th>\n",
              "      <td>P5</td>\n",
              "      <td>8</td>\n",
              "      <td>5</td>\n",
              "      <td>13</td>\n",
              "      <td>11</td>\n",
              "      <td>6</td>\n",
              "      <td>7</td>\n",
              "      <td>9</td>\n",
              "      <td>14</td>\n",
              "      <td>9</td>\n",
              "      <td>9</td>\n",
              "      <td>11</td>\n",
              "      <td>18</td>\n",
              "      <td>8</td>\n",
              "      <td>4</td>\n",
              "      <td>13</td>\n",
              "      <td>8</td>\n",
              "      <td>10</td>\n",
              "      <td>15</td>\n",
              "      <td>6</td>\n",
              "      <td>13</td>\n",
              "      <td>11</td>\n",
              "      <td>6</td>\n",
              "      <td>10</td>\n",
              "      <td>9</td>\n",
              "      <td>8</td>\n",
              "      <td>12</td>\n",
              "      <td>8</td>\n",
              "      <td>9</td>\n",
              "      <td>13</td>\n",
              "      <td>3</td>\n",
              "      <td>5</td>\n",
              "      <td>3</td>\n",
              "      <td>5</td>\n",
              "      <td>5</td>\n",
              "      <td>9</td>\n",
              "      <td>7</td>\n",
              "      <td>4</td>\n",
              "      <td>8</td>\n",
              "      <td>8</td>\n",
              "      <td>5</td>\n",
              "      <td>5</td>\n",
              "      <td>8</td>\n",
              "      <td>7</td>\n",
              "      <td>11</td>\n",
              "      <td>7</td>\n",
              "      <td>12</td>\n",
              "      <td>6</td>\n",
              "      <td>6</td>\n",
              "      <td>5</td>\n",
              "      <td>11</td>\n",
              "      <td>8</td>\n",
              "      <td>9</td>\n",
              "    </tr>\n",
              "  </tbody>\n",
              "</table>\n",
              "</div>"
            ],
            "text/plain": [
              "  Product_Code  W0  W1  W2  W3  W4  W5  ...  W45  W46  W47  W48  W49  W50  W51\n",
              "0           P1  11  12  10   8  13  12  ...   10   12    3    7    6    5   10\n",
              "1           P2   7   6   3   2   7   1  ...    1    1    4    5    1    6    0\n",
              "2           P3   7  11   8   9  10   8  ...    5    7    8   14    8    8    7\n",
              "3           P4  12   8  13   5   9   6  ...    4    6    8   14    8    7    8\n",
              "4           P5   8   5  13  11   6   7  ...   12    6    6    5   11    8    9\n",
              "\n",
              "[5 rows x 53 columns]"
            ]
          },
          "metadata": {
            "tags": []
          },
          "execution_count": 3
        }
      ]
    },
    {
      "cell_type": "code",
      "metadata": {
        "id": "aIKsXLHjStEZ"
      },
      "source": [
        "# W0, W1, Wn é a semana em que o produto foi negociado e quantidade de cada produto vendido\n",
        "# Product_code é o código do produto vendido em cada semana"
      ],
      "execution_count": null,
      "outputs": []
    },
    {
      "cell_type": "code",
      "metadata": {
        "id": "BmmlfFPrSmWj",
        "colab": {
          "base_uri": "https://localhost:8080/"
        },
        "outputId": "d91d71d8-5f14-444f-aa63-3d92d639a819"
      },
      "source": [
        "df.shape"
      ],
      "execution_count": null,
      "outputs": [
        {
          "output_type": "execute_result",
          "data": {
            "text/plain": [
              "(811, 53)"
            ]
          },
          "metadata": {
            "tags": []
          },
          "execution_count": 5
        }
      ]
    },
    {
      "cell_type": "markdown",
      "metadata": {
        "id": "7_O9P42vShw4"
      },
      "source": [
        "### Duas abordagens comuns para modelar a previsão de demanda\n",
        "\n",
        "  1- Criar um modelo para cada produto semana a semana (poucos dados para cada produto)\n",
        "\n",
        "  2- Criar um modelão para todos os produtos ao mesmo tempo. Mário prefere esta abordagem\n",
        "  porque aumenta a quantidade de dados, melhor para um algoritmo de ML"
      ]
    },
    {
      "cell_type": "code",
      "metadata": {
        "id": "YOXEvKv2RUKD",
        "colab": {
          "base_uri": "https://localhost:8080/",
          "height": 221
        },
        "outputId": "5681e7b8-4aa1-4ad3-ba3d-5b2645c7ee78"
      },
      "source": [
        "# transformar as colunas em linhas\n",
        "melt = df.melt(id_vars='Product_Code', var_name='Week', value_name='Sales')\n",
        "\n",
        "melt['Product_Code'] = melt['Product_Code'].str.extract('(\\d+)', expand=False).astype(int)\n",
        "melt['Week'] = melt['Week'].str.extract('(\\d+)', expand=False).astype(int)\n",
        "\n",
        "melt = melt.sort_values(['Week', 'Product_Code'])\n",
        "print(melt.shape)\n",
        "melt.head()"
      ],
      "execution_count": null,
      "outputs": [
        {
          "output_type": "stream",
          "text": [
            "(42172, 3)\n"
          ],
          "name": "stdout"
        },
        {
          "output_type": "execute_result",
          "data": {
            "text/html": [
              "<div>\n",
              "<style scoped>\n",
              "    .dataframe tbody tr th:only-of-type {\n",
              "        vertical-align: middle;\n",
              "    }\n",
              "\n",
              "    .dataframe tbody tr th {\n",
              "        vertical-align: top;\n",
              "    }\n",
              "\n",
              "    .dataframe thead th {\n",
              "        text-align: right;\n",
              "    }\n",
              "</style>\n",
              "<table border=\"1\" class=\"dataframe\">\n",
              "  <thead>\n",
              "    <tr style=\"text-align: right;\">\n",
              "      <th></th>\n",
              "      <th>Product_Code</th>\n",
              "      <th>Week</th>\n",
              "      <th>Sales</th>\n",
              "    </tr>\n",
              "  </thead>\n",
              "  <tbody>\n",
              "    <tr>\n",
              "      <th>0</th>\n",
              "      <td>1</td>\n",
              "      <td>0</td>\n",
              "      <td>11</td>\n",
              "    </tr>\n",
              "    <tr>\n",
              "      <th>1</th>\n",
              "      <td>2</td>\n",
              "      <td>0</td>\n",
              "      <td>7</td>\n",
              "    </tr>\n",
              "    <tr>\n",
              "      <th>2</th>\n",
              "      <td>3</td>\n",
              "      <td>0</td>\n",
              "      <td>7</td>\n",
              "    </tr>\n",
              "    <tr>\n",
              "      <th>3</th>\n",
              "      <td>4</td>\n",
              "      <td>0</td>\n",
              "      <td>12</td>\n",
              "    </tr>\n",
              "    <tr>\n",
              "      <th>4</th>\n",
              "      <td>5</td>\n",
              "      <td>0</td>\n",
              "      <td>8</td>\n",
              "    </tr>\n",
              "  </tbody>\n",
              "</table>\n",
              "</div>"
            ],
            "text/plain": [
              "   Product_Code  Week  Sales\n",
              "0             1     0     11\n",
              "1             2     0      7\n",
              "2             3     0      7\n",
              "3             4     0     12\n",
              "4             5     0      8"
            ]
          },
          "metadata": {
            "tags": []
          },
          "execution_count": 6
        }
      ]
    },
    {
      "cell_type": "markdown",
      "metadata": {
        "id": "bLyQtBJRUpz5"
      },
      "source": [
        "### Feature Engineering\n",
        "\n",
        "Em geral a demanda de um um dia é relacionada com a demanda dos dias anteriores ou o mesmo dia no ano anterior qual a diferença entre as vendas da semana atual para a semana anterior."
      ]
    },
    {
      "cell_type": "code",
      "metadata": {
        "id": "YRfomdf-SZFd",
        "colab": {
          "base_uri": "https://localhost:8080/",
          "height": 204
        },
        "outputId": "ec2c32a3-2d7f-4a8b-f7d9-6b40ea191b6a"
      },
      "source": [
        "melt2 = melt.copy()\n",
        "melt2['Sales_Ultima_Semana'] = melt2.groupby(['Product_Code'])['Sales'].shift()\n",
        "melt2['Diff_Sales_Ultima_Semana'] = melt2.groupby(['Product_Code'])['Sales_Ultima_Semana'].shift()\n",
        "melt2.dropna(inplace=True)\n",
        "melt2.head()"
      ],
      "execution_count": null,
      "outputs": [
        {
          "output_type": "execute_result",
          "data": {
            "text/html": [
              "<div>\n",
              "<style scoped>\n",
              "    .dataframe tbody tr th:only-of-type {\n",
              "        vertical-align: middle;\n",
              "    }\n",
              "\n",
              "    .dataframe tbody tr th {\n",
              "        vertical-align: top;\n",
              "    }\n",
              "\n",
              "    .dataframe thead th {\n",
              "        text-align: right;\n",
              "    }\n",
              "</style>\n",
              "<table border=\"1\" class=\"dataframe\">\n",
              "  <thead>\n",
              "    <tr style=\"text-align: right;\">\n",
              "      <th></th>\n",
              "      <th>Product_Code</th>\n",
              "      <th>Week</th>\n",
              "      <th>Sales</th>\n",
              "      <th>Sales_Ultima_Semana</th>\n",
              "      <th>Diff_Sales_Ultima_Semana</th>\n",
              "    </tr>\n",
              "  </thead>\n",
              "  <tbody>\n",
              "    <tr>\n",
              "      <th>1622</th>\n",
              "      <td>1</td>\n",
              "      <td>2</td>\n",
              "      <td>10</td>\n",
              "      <td>12.0</td>\n",
              "      <td>11.0</td>\n",
              "    </tr>\n",
              "    <tr>\n",
              "      <th>1623</th>\n",
              "      <td>2</td>\n",
              "      <td>2</td>\n",
              "      <td>3</td>\n",
              "      <td>6.0</td>\n",
              "      <td>7.0</td>\n",
              "    </tr>\n",
              "    <tr>\n",
              "      <th>1624</th>\n",
              "      <td>3</td>\n",
              "      <td>2</td>\n",
              "      <td>8</td>\n",
              "      <td>11.0</td>\n",
              "      <td>7.0</td>\n",
              "    </tr>\n",
              "    <tr>\n",
              "      <th>1625</th>\n",
              "      <td>4</td>\n",
              "      <td>2</td>\n",
              "      <td>13</td>\n",
              "      <td>8.0</td>\n",
              "      <td>12.0</td>\n",
              "    </tr>\n",
              "    <tr>\n",
              "      <th>1626</th>\n",
              "      <td>5</td>\n",
              "      <td>2</td>\n",
              "      <td>13</td>\n",
              "      <td>5.0</td>\n",
              "      <td>8.0</td>\n",
              "    </tr>\n",
              "  </tbody>\n",
              "</table>\n",
              "</div>"
            ],
            "text/plain": [
              "      Product_Code  Week  Sales  Sales_Ultima_Semana  Diff_Sales_Ultima_Semana\n",
              "1622             1     2     10                 12.0                      11.0\n",
              "1623             2     2      3                  6.0                       7.0\n",
              "1624             3     2      8                 11.0                       7.0\n",
              "1625             4     2     13                  8.0                      12.0\n",
              "1626             5     2     13                  5.0                       8.0"
            ]
          },
          "metadata": {
            "tags": []
          },
          "execution_count": 7
        }
      ]
    },
    {
      "cell_type": "markdown",
      "metadata": {
        "id": "5FHMCN3TW25U"
      },
      "source": [
        "### Baseline e Validação"
      ]
    },
    {
      "cell_type": "code",
      "metadata": {
        "id": "DdAjp74BUM0c"
      },
      "source": [
        "def rmsle(y_true, y_pred):\n",
        "  return np.sqrt(mean_squared_log_error(y_true, y_pred))"
      ],
      "execution_count": null,
      "outputs": []
    },
    {
      "cell_type": "code",
      "metadata": {
        "id": "HllgnijfVLQR",
        "colab": {
          "base_uri": "https://localhost:8080/"
        },
        "outputId": "e8c3dc6b-c2b2-4016-f4ef-70abadc2200c"
      },
      "source": [
        "mean_error = []\n",
        "for week in range(40,52):\n",
        "  # semanas anteriores ao que queremos prever para treinar o nosso modelo\n",
        "  train = melt2[melt2['Week'] < week]\n",
        "  # semana que queremos prever\n",
        "  val   = melt2[melt2['Week'] == week]\n",
        "  \n",
        "\n",
        "  p = val['Sales_Ultima_Semana'].values\n",
        "\n",
        "  error = rmsle(val['Sales'].values, p)\n",
        "  print('Semana %d - Erro %.5f' % (week, error))\n",
        "  mean_error.append(error)\n",
        "print('Média Erro = %.5f' % np.mean(mean_error))"
      ],
      "execution_count": null,
      "outputs": [
        {
          "output_type": "stream",
          "text": [
            "Semana 40 - Erro 0.51952\n",
            "Semana 41 - Erro 0.51691\n",
            "Semana 42 - Erro 0.51026\n",
            "Semana 43 - Erro 0.50792\n",
            "Semana 44 - Erro 0.53409\n",
            "Semana 45 - Erro 0.52347\n",
            "Semana 46 - Erro 0.50018\n",
            "Semana 47 - Erro 0.49138\n",
            "Semana 48 - Erro 0.50585\n",
            "Semana 49 - Erro 0.50547\n",
            "Semana 50 - Erro 0.52220\n",
            "Semana 51 - Erro 0.55242\n",
            "Média Erro = 0.51581\n"
          ],
          "name": "stdout"
        }
      ]
    },
    {
      "cell_type": "code",
      "metadata": {
        "id": "_pT_LvUoVt81"
      },
      "source": [
        "# erro grande - por volta de 50%\n",
        "# qualquer produto aqui tem baixa quantidade\n",
        "#"
      ],
      "execution_count": null,
      "outputs": []
    },
    {
      "cell_type": "code",
      "metadata": {
        "id": "Rg9eEAWxXc8T",
        "colab": {
          "base_uri": "https://localhost:8080/",
          "height": 320
        },
        "outputId": "25eb7f99-6afc-4c31-9314-cc77b2832db1"
      },
      "source": [
        "# distribuição da venda dos produtos\n",
        "melt2['Sales'].hist(bins=20, figsize=(10,5));"
      ],
      "execution_count": null,
      "outputs": [
        {
          "output_type": "display_data",
          "data": {
            "image/png": "[encoded data removed]",
            "text/plain": [
              "<Figure size 720x360 with 1 Axes>"
            ]
          },
          "metadata": {
            "tags": [],
            "needs_background": "light"
          }
        }
      ]
    },
    {
      "cell_type": "code",
      "metadata": {
        "id": "0aV1jR0qXkwH"
      },
      "source": [
        "# maioria dos produtos vende menos de 10 unidades por semana"
      ],
      "execution_count": null,
      "outputs": []
    },
    {
      "cell_type": "markdown",
      "metadata": {
        "id": "2K1xYTaHX5G2"
      },
      "source": [
        "### Criação do modelo"
      ]
    },
    {
      "cell_type": "code",
      "metadata": {
        "id": "BN5LpmXMX656",
        "colab": {
          "base_uri": "https://localhost:8080/",
          "height": 338,
          "referenced_widgets": [
            "626ef1f5c344408ca296105dc7dd4244",
            "5b584d9613bd4a33bf936601ebe071f2",
            "dff1cf163ff041d5a16689a7492412ab",
            "6611ae3955e04f2f8e62ab76d43abf66",
            "21f48fe01db745df863a17a61d4e6ae5",
            "cabad114de854da2b548c39f739d41f7",
            "6643a003b7fc4312900a2c635fbec6a7",
            "11de903ae29a4124b44f0f424fd131fa"
          ]
        },
        "outputId": "19dc0733-e55b-4259-ce7a-aac81ecbfdf2"
      },
      "source": [
        "mean_error = []\n",
        "for week in tqdm(range(40,52)):\n",
        "  train = melt2[melt2['Week'] < week]\n",
        "  val   = melt2[melt2['Week'] == week]\n",
        "\n",
        "  X_train, X_test = train.drop(['Sales'], axis=1), val.drop(['Sales'], axis=1)\n",
        "  y_train, y_test = train['Sales'].values, val['Sales'].values\n",
        "\n",
        "  model = RandomForestRegressor(n_estimators=1000, n_jobs=-1, random_state=0)\n",
        "  model.fit(X_train, y_train)\n",
        "\n",
        "  p = model.predict(X_test)\n",
        "\n",
        "  error = rmsle(y_test, p)\n",
        "  print('Semana %d - Erro %.5f' % (week, error))\n",
        "  mean_error.append(error)\n",
        "print('Média Erro = %.5f' % np.mean(mean_error))"
      ],
      "execution_count": null,
      "outputs": [
        {
          "output_type": "stream",
          "text": [
            "/usr/local/lib/python3.6/dist-packages/ipykernel_launcher.py:2: TqdmDeprecationWarning: This function will be removed in tqdm==5.0.0\n",
            "Please use `tqdm.notebook.tqdm` instead of `tqdm.tqdm_notebook`\n",
            "  \n"
          ],
          "name": "stderr"
        },
        {
          "output_type": "display_data",
          "data": {
            "application/vnd.jupyter.widget-view+json": {
              "model_id": "626ef1f5c344408ca296105dc7dd4244",
              "version_minor": 0,
              "version_major": 2
            },
            "text/plain": [
              "HBox(children=(FloatProgress(value=0.0, max=12.0), HTML(value='')))"
            ]
          },
          "metadata": {
            "tags": []
          }
        },
        {
          "output_type": "stream",
          "text": [
            "Semana 40 - Erro 0.46050\n",
            "Semana 41 - Erro 0.45704\n",
            "Semana 42 - Erro 0.45655\n",
            "Semana 43 - Erro 0.46604\n",
            "Semana 44 - Erro 0.46579\n",
            "Semana 45 - Erro 0.42733\n",
            "Semana 46 - Erro 0.46422\n",
            "Semana 47 - Erro 0.44914\n",
            "Semana 48 - Erro 0.45315\n",
            "Semana 49 - Erro 0.44638\n",
            "Semana 50 - Erro 0.46694\n",
            "Semana 51 - Erro 0.49053\n",
            "\n",
            "Média Erro = 0.45863\n"
          ],
          "name": "stdout"
        }
      ]
    },
    {
      "cell_type": "code",
      "metadata": {
        "id": "2UfbjJdGZAK6",
        "colab": {
          "base_uri": "https://localhost:8080/",
          "height": 204
        },
        "outputId": "a28c82ba-e08f-4791-af15-8dafd0666766"
      },
      "source": [
        "# modelo com mais variáveis - melhorar o modelo com dados da penultima semana também\n",
        "melt3 = melt.copy()\n",
        "melt3['Sales_Ultima_Semana'] = melt3.groupby(['Product_Code'])['Sales'].shift()\n",
        "melt3['Diff_Sales_Ultima_Semana'] = melt3.groupby(['Product_Code'])['Sales_Ultima_Semana'].diff()\n",
        "melt3['Sales_Ultima_Semana-1'] = melt3.groupby(['Product_Code'])['Sales'].shift(2)\n",
        "melt3['Diff_Sales_Ultima_Semana-1'] = melt3.groupby(['Product_Code'])['Sales_Ultima_Semana-1'].diff()\n",
        "melt3 = melt3.dropna()\n",
        "melt3.head()\n"
      ],
      "execution_count": null,
      "outputs": [
        {
          "output_type": "execute_result",
          "data": {
            "text/html": [
              "<div>\n",
              "<style scoped>\n",
              "    .dataframe tbody tr th:only-of-type {\n",
              "        vertical-align: middle;\n",
              "    }\n",
              "\n",
              "    .dataframe tbody tr th {\n",
              "        vertical-align: top;\n",
              "    }\n",
              "\n",
              "    .dataframe thead th {\n",
              "        text-align: right;\n",
              "    }\n",
              "</style>\n",
              "<table border=\"1\" class=\"dataframe\">\n",
              "  <thead>\n",
              "    <tr style=\"text-align: right;\">\n",
              "      <th></th>\n",
              "      <th>Product_Code</th>\n",
              "      <th>Week</th>\n",
              "      <th>Sales</th>\n",
              "      <th>Sales_Ultima_Semana</th>\n",
              "      <th>Diff_Sales_Ultima_Semana</th>\n",
              "      <th>Sales_Ultima_Semana-1</th>\n",
              "      <th>Diff_Sales_Ultima_Semana-1</th>\n",
              "    </tr>\n",
              "  </thead>\n",
              "  <tbody>\n",
              "    <tr>\n",
              "      <th>2433</th>\n",
              "      <td>1</td>\n",
              "      <td>3</td>\n",
              "      <td>8</td>\n",
              "      <td>10.0</td>\n",
              "      <td>-2.0</td>\n",
              "      <td>12.0</td>\n",
              "      <td>1.0</td>\n",
              "    </tr>\n",
              "    <tr>\n",
              "      <th>2434</th>\n",
              "      <td>2</td>\n",
              "      <td>3</td>\n",
              "      <td>2</td>\n",
              "      <td>3.0</td>\n",
              "      <td>-3.0</td>\n",
              "      <td>6.0</td>\n",
              "      <td>-1.0</td>\n",
              "    </tr>\n",
              "    <tr>\n",
              "      <th>2435</th>\n",
              "      <td>3</td>\n",
              "      <td>3</td>\n",
              "      <td>9</td>\n",
              "      <td>8.0</td>\n",
              "      <td>-3.0</td>\n",
              "      <td>11.0</td>\n",
              "      <td>4.0</td>\n",
              "    </tr>\n",
              "    <tr>\n",
              "      <th>2436</th>\n",
              "      <td>4</td>\n",
              "      <td>3</td>\n",
              "      <td>5</td>\n",
              "      <td>13.0</td>\n",
              "      <td>5.0</td>\n",
              "      <td>8.0</td>\n",
              "      <td>-4.0</td>\n",
              "    </tr>\n",
              "    <tr>\n",
              "      <th>2437</th>\n",
              "      <td>5</td>\n",
              "      <td>3</td>\n",
              "      <td>11</td>\n",
              "      <td>13.0</td>\n",
              "      <td>8.0</td>\n",
              "      <td>5.0</td>\n",
              "      <td>-3.0</td>\n",
              "    </tr>\n",
              "  </tbody>\n",
              "</table>\n",
              "</div>"
            ],
            "text/plain": [
              "      Product_Code  Week  ...  Sales_Ultima_Semana-1  Diff_Sales_Ultima_Semana-1\n",
              "2433             1     3  ...                   12.0                         1.0\n",
              "2434             2     3  ...                    6.0                        -1.0\n",
              "2435             3     3  ...                   11.0                         4.0\n",
              "2436             4     3  ...                    8.0                        -4.0\n",
              "2437             5     3  ...                    5.0                        -3.0\n",
              "\n",
              "[5 rows x 7 columns]"
            ]
          },
          "metadata": {
            "tags": []
          },
          "execution_count": 16
        }
      ]
    },
    {
      "cell_type": "code",
      "metadata": {
        "id": "-ag24UHkc6t2",
        "colab": {
          "base_uri": "https://localhost:8080/",
          "height": 338,
          "referenced_widgets": [
            "bac38957ae3e48dc95df9918985f54cf",
            "685c8b8c74954206804ee309d4f9f96d",
            "660814f56c3c425f8169ed89ed25f64c",
            "765eb25f2063498cbe0904b4a6495282",
            "760163a2d6084c5bb2a1b6d4f3e2a2bf",
            "b46a5cf3e1ea4d4599343a2d9e2071b7",
            "f2cbfa38c7964cbdbc9583fd92ea1680",
            "f4638c4bf5a34ab0b8c06d3f30ea5f0c"
          ]
        },
        "outputId": "83bd4609-d6f9-42d1-d888-6ce794cf9873"
      },
      "source": [
        "mean_error = []\n",
        "for week in tqdm(range(40,52)):\n",
        "  train = melt3[melt3['Week'] < week]\n",
        "  val   = melt3[melt3['Week'] == week]\n",
        "\n",
        "  X_train, X_test = train.drop(['Sales'], axis=1), val.drop(['Sales'], axis=1)\n",
        "  y_train, y_test = train['Sales'].values, val['Sales'].values\n",
        "\n",
        "  model = RandomForestRegressor(n_estimators=1000, n_jobs=-1, random_state=0)\n",
        "  model.fit(X_train, y_train)\n",
        "\n",
        "  p = model.predict(X_test)\n",
        "\n",
        "  error = rmsle(y_test, p)\n",
        "  print('Semana %d - Erro %.5f' % (week, error))\n",
        "  mean_error.append(error)\n",
        "print('Média Erro = %.5f' % np.mean(mean_error))"
      ],
      "execution_count": null,
      "outputs": [
        {
          "output_type": "stream",
          "text": [
            "/usr/local/lib/python3.6/dist-packages/ipykernel_launcher.py:2: TqdmDeprecationWarning: This function will be removed in tqdm==5.0.0\n",
            "Please use `tqdm.notebook.tqdm` instead of `tqdm.tqdm_notebook`\n",
            "  \n"
          ],
          "name": "stderr"
        },
        {
          "output_type": "display_data",
          "data": {
            "application/vnd.jupyter.widget-view+json": {
              "model_id": "bac38957ae3e48dc95df9918985f54cf",
              "version_minor": 0,
              "version_major": 2
            },
            "text/plain": [
              "HBox(children=(FloatProgress(value=0.0, max=12.0), HTML(value='')))"
            ]
          },
          "metadata": {
            "tags": []
          }
        },
        {
          "output_type": "stream",
          "text": [
            "Semana 40 - Erro 0.44389\n",
            "Semana 41 - Erro 0.45812\n",
            "Semana 42 - Erro 0.43652\n",
            "Semana 43 - Erro 0.44033\n",
            "Semana 44 - Erro 0.46318\n",
            "Semana 45 - Erro 0.42361\n",
            "Semana 46 - Erro 0.45752\n",
            "Semana 47 - Erro 0.44533\n",
            "Semana 48 - Erro 0.44598\n",
            "Semana 49 - Erro 0.43538\n",
            "Semana 50 - Erro 0.47349\n",
            "Semana 51 - Erro 0.46487\n",
            "\n",
            "Média Erro = 0.44902\n"
          ],
          "name": "stdout"
        }
      ]
    },
    {
      "cell_type": "code",
      "metadata": {
        "id": "ua2-TQMDd34_"
      },
      "source": [
        "# adicionar as variáveis está melhorando o modelo\n",
        "# continuar criando variáveis voltando semanas até o ponto em que vericarmos que \n",
        "# a pontuação não melhora mais"
      ],
      "execution_count": null,
      "outputs": []
    },
    {
      "cell_type": "code",
      "metadata": {
        "id": "RiUeZR8jesPR"
      },
      "source": [
        "# erro logarimico - reduzir a razão entre as previsões (erro percentual)"
      ],
      "execution_count": null,
      "outputs": []
    },
    {
      "cell_type": "code",
      "metadata": {
        "id": "SU8551ZajFLw"
      },
      "source": [
        ""
      ],
      "execution_count": null,
      "outputs": []
    },
    {
      "cell_type": "code",
      "metadata": {
        "id": "DlXhW25_jFU1"
      },
      "source": [
        ""
      ],
      "execution_count": null,
      "outputs": []
    },
    {
      "cell_type": "code",
      "metadata": {
        "id": "MvPy9SPmjFv-"
      },
      "source": [
        ""
      ],
      "execution_count": null,
      "outputs": []
    },
    {
      "cell_type": "code",
      "metadata": {
        "id": "__6WYsMUjFyq",
        "colab": {
          "base_uri": "https://localhost:8080/",
          "height": 740
        },
        "outputId": "d891f7bc-e43a-44d6-e0b3-1267b4912a5e"
      },
      "source": [
        "val.loc[:, 'Prediction'] = np.round(p)\n",
        "val.plot.scatter(x='Prediction', y='Sales', figsize=(15,10), title='Prediction vs Sales',\n",
        "                 ylim=(0,40), xlim=(0,40))"
      ],
      "execution_count": null,
      "outputs": [
        {
          "output_type": "stream",
          "text": [
            "/usr/local/lib/python3.6/dist-packages/pandas/core/indexing.py:1743: SettingWithCopyWarning: \n",
            "A value is trying to be set on a copy of a slice from a DataFrame.\n",
            "Try using .loc[row_indexer,col_indexer] = value instead\n",
            "\n",
            "See the caveats in the documentation: https://pandas.pydata.org/pandas-docs/stable/user_guide/indexing.html#returning-a-view-versus-a-copy\n",
            "  isetter(ilocs[0], value)\n"
          ],
          "name": "stderr"
        },
        {
          "output_type": "execute_result",
          "data": {
            "text/plain": [
              "<matplotlib.axes._subplots.AxesSubplot at 0x7f342e49c160>"
            ]
          },
          "metadata": {
            "tags": []
          },
          "execution_count": 19
        },
        {
          "output_type": "display_data",
          "data": {
            "image/png": "[encoded data removed]",
            "text/plain": [
              "<Figure size 1080x720 with 1 Axes>"
            ]
          },
          "metadata": {
            "tags": [],
            "needs_background": "light"
          }
        }
      ]
    },
    {
      "cell_type": "code",
      "metadata": {
        "id": "VAK9SK2PjahV"
      },
      "source": [
        "# o que fazer para melhorar o modelo?\n",
        "# investigar o que esta acontecendo com os produtos que vendem mais de 25 unidades\n",
        "# testar mais variáveis (lags e diferenças), não apenas no nível de produto, mas também globais\n",
        "# testar modo nativo de categóricas no LightGBM\n",
        "# Tunar hiperparametros\n",
        "# Testar e criar rede neural e misturar com modelo atual"
      ],
      "execution_count": null,
      "outputs": []
    }
  ]
}