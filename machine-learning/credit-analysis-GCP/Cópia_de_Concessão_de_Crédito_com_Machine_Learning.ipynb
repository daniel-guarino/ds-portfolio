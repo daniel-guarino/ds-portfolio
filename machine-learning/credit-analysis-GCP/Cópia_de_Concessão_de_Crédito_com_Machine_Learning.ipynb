{
  "nbformat": 4,
  "nbformat_minor": 0,
  "metadata": {
    "colab": {
      "name": "Cópia de Concessão de Crédito com Machine Learning.ipynb",
      "provenance": [],
      "toc_visible": true
    },
    "kernelspec": {
      "name": "python3",
      "display_name": "Python 3"
    }
  },
  "cells": [
    {
      "cell_type": "markdown",
      "metadata": {
        "id": "pG-o99QvFlS4"
      },
      "source": [
        "# Configurações"
      ]
    },
    {
      "cell_type": "markdown",
      "metadata": {
        "id": "aiXgHWzaKgcO"
      },
      "source": [
        "![alt text](https://github.com/elthonf/plataformas-cognitivas-docker/blob/master/images/capa.png?raw=1)"
      ]
    },
    {
      "cell_type": "code",
      "metadata": {
        "id": "AII-AcywAFml",
        "cellView": "form"
      },
      "source": [
        "#@title Parâmetros da solução\n",
        "#@markdown Informe a quantidade de clientes que devem ser analisados.\n",
        "qtde_clientes = 6  #@param {type: \"slider\", min: 1, max: 10}\n",
        "\n",
        "#@markdown Informe o IP do servidor de predição da sua solução:\n",
        "my_server_ip = \"34.73.51.91\" #@param {type:\"string\"}\n",
        "\n",
        "#@markdown Informe a porta do servidor de predição da sua solução, se nada foi alterado, deve ser 443:\n",
        "my_server_port = \"443\" #@param {type:\"string\"}\n",
        "\n",
        "\n",
        "#@markdown Ah, e não se esqueça de executar esta célula!\n"
      ],
      "execution_count": null,
      "outputs": []
    },
    {
      "cell_type": "code",
      "metadata": {
        "id": "bL7_Uitf-_Uv"
      },
      "source": [
        "import requests\n",
        "import pandas as pd\n",
        "import json"
      ],
      "execution_count": null,
      "outputs": []
    },
    {
      "cell_type": "markdown",
      "metadata": {
        "id": "EnnjKg0_-6Q4"
      },
      "source": [
        "# Obtenção dos empréstimos pendentes de análise\n",
        "\n",
        "Vamos agora obter os clientes que estã precisand de empréstimo e exibí-los na tela"
      ]
    },
    {
      "cell_type": "code",
      "metadata": {
        "id": "HO5QEWjz_eYk"
      },
      "source": [
        "url = \"https://us-central1-emf-teacher.cloudfunctions.net/function-aulas-getclient?qtde={0}\".format(qtde_clientes)\n",
        "headers = {'Content-Type': 'application/json'}\n",
        "response = requests.request(\"GET\", url, headers=headers)\n",
        "response_content = response.text.encode('utf8').decode()\n",
        "clientes = pd.read_json(response_content)"
      ],
      "execution_count": null,
      "outputs": []
    },
    {
      "cell_type": "code",
      "metadata": {
        "id": "Yg6oYQyw_sXc",
        "colab": {
          "base_uri": "https://localhost:8080/",
          "height": 235
        },
        "outputId": "f254e457-2664-4400-fac3-cb41e5fda454"
      },
      "source": [
        "clientes"
      ],
      "execution_count": null,
      "outputs": [
        {
          "output_type": "execute_result",
          "data": {
            "text/html": [
              "<div>\n",
              "<style scoped>\n",
              "    .dataframe tbody tr th:only-of-type {\n",
              "        vertical-align: middle;\n",
              "    }\n",
              "\n",
              "    .dataframe tbody tr th {\n",
              "        vertical-align: top;\n",
              "    }\n",
              "\n",
              "    .dataframe thead th {\n",
              "        text-align: right;\n",
              "    }\n",
              "</style>\n",
              "<table border=\"1\" class=\"dataframe\">\n",
              "  <thead>\n",
              "    <tr style=\"text-align: right;\">\n",
              "      <th></th>\n",
              "      <th>nome</th>\n",
              "      <th>renda</th>\n",
              "      <th>idade</th>\n",
              "      <th>etnia</th>\n",
              "      <th>sexo</th>\n",
              "      <th>casapropria</th>\n",
              "      <th>outrasrendas</th>\n",
              "      <th>estadocivil</th>\n",
              "      <th>escolaridade</th>\n",
              "    </tr>\n",
              "  </thead>\n",
              "  <tbody>\n",
              "    <tr>\n",
              "      <th>30834</th>\n",
              "      <td>Saabira, el-Syed</td>\n",
              "      <td>4520.123105</td>\n",
              "      <td>56.394563</td>\n",
              "      <td>1</td>\n",
              "      <td>1</td>\n",
              "      <td>1</td>\n",
              "      <td>1</td>\n",
              "      <td>0</td>\n",
              "      <td>2</td>\n",
              "    </tr>\n",
              "    <tr>\n",
              "      <th>38320</th>\n",
              "      <td>Rashida, Nguyen</td>\n",
              "      <td>4764.292325</td>\n",
              "      <td>47.615893</td>\n",
              "      <td>0</td>\n",
              "      <td>1</td>\n",
              "      <td>1</td>\n",
              "      <td>0</td>\n",
              "      <td>1</td>\n",
              "      <td>2</td>\n",
              "    </tr>\n",
              "    <tr>\n",
              "      <th>49541</th>\n",
              "      <td>Dae Von, Cooley</td>\n",
              "      <td>4037.474433</td>\n",
              "      <td>41.216345</td>\n",
              "      <td>0</td>\n",
              "      <td>0</td>\n",
              "      <td>1</td>\n",
              "      <td>0</td>\n",
              "      <td>1</td>\n",
              "      <td>2</td>\n",
              "    </tr>\n",
              "    <tr>\n",
              "      <th>19032</th>\n",
              "      <td>Kendell, Wolfe</td>\n",
              "      <td>5127.496647</td>\n",
              "      <td>39.389761</td>\n",
              "      <td>0</td>\n",
              "      <td>0</td>\n",
              "      <td>1</td>\n",
              "      <td>0</td>\n",
              "      <td>0</td>\n",
              "      <td>0</td>\n",
              "    </tr>\n",
              "    <tr>\n",
              "      <th>234</th>\n",
              "      <td>Brittany, Arou</td>\n",
              "      <td>2681.429172</td>\n",
              "      <td>43.519453</td>\n",
              "      <td>0</td>\n",
              "      <td>1</td>\n",
              "      <td>0</td>\n",
              "      <td>0</td>\n",
              "      <td>0</td>\n",
              "      <td>1</td>\n",
              "    </tr>\n",
              "    <tr>\n",
              "      <th>23578</th>\n",
              "      <td>Trieu, Moore</td>\n",
              "      <td>3434.354938</td>\n",
              "      <td>57.823141</td>\n",
              "      <td>1</td>\n",
              "      <td>0</td>\n",
              "      <td>0</td>\n",
              "      <td>0</td>\n",
              "      <td>1</td>\n",
              "      <td>2</td>\n",
              "    </tr>\n",
              "  </tbody>\n",
              "</table>\n",
              "</div>"
            ],
            "text/plain": [
              "                   nome        renda  ...  estadocivil  escolaridade\n",
              "30834  Saabira, el-Syed  4520.123105  ...            0             2\n",
              "38320   Rashida, Nguyen  4764.292325  ...            1             2\n",
              "49541   Dae Von, Cooley  4037.474433  ...            1             2\n",
              "19032    Kendell, Wolfe  5127.496647  ...            0             0\n",
              "234      Brittany, Arou  2681.429172  ...            0             1\n",
              "23578      Trieu, Moore  3434.354938  ...            1             2\n",
              "\n",
              "[6 rows x 9 columns]"
            ]
          },
          "metadata": {
            "tags": []
          },
          "execution_count": 4
        }
      ]
    },
    {
      "cell_type": "markdown",
      "metadata": {
        "id": "I8VIiDB8GaLw"
      },
      "source": [
        "# Predição\n",
        "\n",
        "O cliente agora será submetido a dois modelos de Machine Learning preparados para a análise."
      ]
    },
    {
      "cell_type": "code",
      "metadata": {
        "id": "qE27sOO0GPFC"
      },
      "source": [
        "url = \"http://{}:{}/predict\".format(my_server_ip, my_server_port)\n",
        "headers = {'Content-Type': 'application/json'}\n",
        "conteudo = clientes.to_json()"
      ],
      "execution_count": null,
      "outputs": []
    },
    {
      "cell_type": "code",
      "metadata": {
        "id": "ufspC1N0ExsM",
        "colab": {
          "base_uri": "https://localhost:8080/",
          "height": 136
        },
        "outputId": "cef094c8-b847-453a-b815-2be701a16aab"
      },
      "source": [
        "response01 = requests.request(\"POST\", url + \"?model=modelo01\", headers=headers, data=conteudo)\n",
        "respostas01 = json.loads(response01.text.encode('utf8').decode())\n",
        "respostas01"
      ],
      "execution_count": null,
      "outputs": [
        {
          "output_type": "execute_result",
          "data": {
            "text/plain": [
              "{'prediction': [0, 0, 0, 0, 1, 1],\n",
              " 'proba': [[0.9960620393366382, 0.00393796066336179],\n",
              "  [0.9991321277113556, 0.0008678722886443633],\n",
              "  [0.977846399853593, 0.022153600146406993],\n",
              "  [0.9988999599313592, 0.0011000400686407912],\n",
              "  [0.0036340050349890074, 0.996365994965011],\n",
              "  [0.4803659803046114, 0.5196340196953886]]}"
            ]
          },
          "metadata": {
            "tags": []
          },
          "execution_count": 6
        }
      ]
    },
    {
      "cell_type": "code",
      "metadata": {
        "id": "S_O_UBleE05F"
      },
      "source": [
        "df_01 = pd.Series(respostas01['prediction'], index = clientes.index, name=\"PredicaoML01\")\n",
        "df_01B = pd.Series(respostas01['proba'], index = clientes.index, name=\"PredicaoML01B\")"
      ],
      "execution_count": null,
      "outputs": []
    },
    {
      "cell_type": "code",
      "metadata": {
        "id": "3X_p_bAPFXhr",
        "colab": {
          "base_uri": "https://localhost:8080/",
          "height": 119
        },
        "outputId": "d90d6879-0e32-4505-d4b4-9d44658fdd78"
      },
      "source": [
        "response02 = requests.request(\"POST\", url + \"?model=modelo02\", headers=headers, data=conteudo)\n",
        "respostas02 = json.loads(response02.text.encode('utf8').decode())\n",
        "respostas02"
      ],
      "execution_count": null,
      "outputs": [
        {
          "output_type": "execute_result",
          "data": {
            "text/plain": [
              "{'prediction': [0.015833372701813543,\n",
              "  0.015338556935420201,\n",
              "  0.036763734206683406,\n",
              "  1.052660699597227,\n",
              "  0.5455241547438923,\n",
              "  1.0141180177491107]}"
            ]
          },
          "metadata": {
            "tags": []
          },
          "execution_count": 17
        }
      ]
    },
    {
      "cell_type": "code",
      "metadata": {
        "id": "A10MTY8tG_8d"
      },
      "source": [
        "df_02 = pd.Series(respostas02['prediction'], index = clientes.index, name=\"PredicaoML02\")"
      ],
      "execution_count": null,
      "outputs": []
    },
    {
      "cell_type": "code",
      "metadata": {
        "id": "KrVb0COfE2p6",
        "colab": {
          "base_uri": "https://localhost:8080/",
          "height": 235
        },
        "outputId": "f1ca3eb8-c220-474d-f64d-647aa653cf17"
      },
      "source": [
        "pd.DataFrame(clientes.loc[:,\"nome\"])\\\n",
        "    .merge(right= df_01, left_index=True, right_index=True)\\\n",
        "    .merge(df_01B, left_index=True, right_index=True)\\\n",
        "    .merge(df_02, left_index=True, right_index=True)"
      ],
      "execution_count": null,
      "outputs": [
        {
          "output_type": "execute_result",
          "data": {
            "text/html": [
              "<div>\n",
              "<style scoped>\n",
              "    .dataframe tbody tr th:only-of-type {\n",
              "        vertical-align: middle;\n",
              "    }\n",
              "\n",
              "    .dataframe tbody tr th {\n",
              "        vertical-align: top;\n",
              "    }\n",
              "\n",
              "    .dataframe thead th {\n",
              "        text-align: right;\n",
              "    }\n",
              "</style>\n",
              "<table border=\"1\" class=\"dataframe\">\n",
              "  <thead>\n",
              "    <tr style=\"text-align: right;\">\n",
              "      <th></th>\n",
              "      <th>nome</th>\n",
              "      <th>PredicaoML01</th>\n",
              "      <th>PredicaoML01B</th>\n",
              "      <th>PredicaoML02</th>\n",
              "    </tr>\n",
              "  </thead>\n",
              "  <tbody>\n",
              "    <tr>\n",
              "      <th>6974</th>\n",
              "      <td>Sirajuddeen, al-Azad</td>\n",
              "      <td>0</td>\n",
              "      <td>[0.9791184653830104, 0.020881534616989557]</td>\n",
              "      <td>0.015833</td>\n",
              "    </tr>\n",
              "    <tr>\n",
              "      <th>40326</th>\n",
              "      <td>Grant, Reddy</td>\n",
              "      <td>0</td>\n",
              "      <td>[0.9349983259581628, 0.06500167404183724]</td>\n",
              "      <td>0.015339</td>\n",
              "    </tr>\n",
              "    <tr>\n",
              "      <th>9441</th>\n",
              "      <td>Efrain, Huerta</td>\n",
              "      <td>0</td>\n",
              "      <td>[0.9092766938346273, 0.09072330616537275]</td>\n",
              "      <td>0.036764</td>\n",
              "    </tr>\n",
              "    <tr>\n",
              "      <th>6676</th>\n",
              "      <td>Sayra, Espinoza III</td>\n",
              "      <td>1</td>\n",
              "      <td>[0.01312665515746747, 0.9868733448425325]</td>\n",
              "      <td>1.052661</td>\n",
              "    </tr>\n",
              "    <tr>\n",
              "      <th>41733</th>\n",
              "      <td>Marco, Amon</td>\n",
              "      <td>1</td>\n",
              "      <td>[0.17772761648070168, 0.8222723835192983]</td>\n",
              "      <td>0.545524</td>\n",
              "    </tr>\n",
              "    <tr>\n",
              "      <th>8123</th>\n",
              "      <td>Noemi, Trevizo</td>\n",
              "      <td>1</td>\n",
              "      <td>[0.000673604386141835, 0.9993263956138582]</td>\n",
              "      <td>1.014118</td>\n",
              "    </tr>\n",
              "  </tbody>\n",
              "</table>\n",
              "</div>"
            ],
            "text/plain": [
              "                       nome  ...  PredicaoML02\n",
              "6974   Sirajuddeen, al-Azad  ...      0.015833\n",
              "40326          Grant, Reddy  ...      0.015339\n",
              "9441         Efrain, Huerta  ...      0.036764\n",
              "6676    Sayra, Espinoza III  ...      1.052661\n",
              "41733           Marco, Amon  ...      0.545524\n",
              "8123         Noemi, Trevizo  ...      1.014118\n",
              "\n",
              "[6 rows x 4 columns]"
            ]
          },
          "metadata": {
            "tags": []
          },
          "execution_count": 19
        }
      ]
    },
    {
      "cell_type": "markdown",
      "metadata": {
        "id": "dGyMwNdp6srh"
      },
      "source": [
        "### Conclusão:\n",
        "\n",
        "Devemos **conceder empréstimo** solicitado pelos 3 clientes que possuem menor probabilidade de default (não honrar a dívida), são eles:\n",
        "- Sirajuddeen, al-Azad\t(probab. de default 1.58%)\n",
        "- Grant, Reddy (probab. de default 1.53%)\n",
        "- Efrain, Huerta (probab. de default 3.76)\n",
        "\n",
        "Podemos dar um empréstimo com uma alta taxa de juros para o cliente **Marco, Amon**, já que sua probabilidade de default é de 54.55% <br>\n",
        "\n",
        "Os clientes **Sayra, Espinoza III** e **Noemi, Trevizo** tem possibilidade de default altíssima (pelo modelo é superior a 100%, ou seja é certo que não honrarão a dívida mesmo cobrando uma taxa de juros mais alta), para estes dois clientes devemos **negar o empréstimo**."
      ]
    },
    {
      "cell_type": "code",
      "metadata": {
        "id": "xoppo_YQE-mt"
      },
      "source": [
        ""
      ],
      "execution_count": null,
      "outputs": []
    }
  ]
}