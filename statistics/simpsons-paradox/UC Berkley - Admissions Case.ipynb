{
 "cells": [
  {
   "cell_type": "code",
   "execution_count": 1,
   "metadata": {},
   "outputs": [],
   "source": [
    "import pandas as pd\n",
    "import numpy as np"
   ]
  },
  {
   "cell_type": "code",
   "execution_count": 6,
   "metadata": {},
   "outputs": [],
   "source": [
    "# data \n",
    "male = {\n",
    "    'applied': [900,100],\n",
    "    'admitted': [450,10]\n",
    "       }\n",
    "\n",
    "female = {\n",
    "    'applied': [100,900],\n",
    "    'admitted': [80,180]\n",
    "}"
   ]
  },
  {
   "cell_type": "code",
   "execution_count": 4,
   "metadata": {},
   "outputs": [
    {
     "data": {
      "text/html": [
       "<div>\n",
       "<style scoped>\n",
       "    .dataframe tbody tr th:only-of-type {\n",
       "        vertical-align: middle;\n",
       "    }\n",
       "\n",
       "    .dataframe tbody tr th {\n",
       "        vertical-align: top;\n",
       "    }\n",
       "\n",
       "    .dataframe thead th {\n",
       "        text-align: right;\n",
       "    }\n",
       "</style>\n",
       "<table border=\"1\" class=\"dataframe\">\n",
       "  <thead>\n",
       "    <tr style=\"text-align: right;\">\n",
       "      <th></th>\n",
       "      <th>applied</th>\n",
       "      <th>admitted</th>\n",
       "    </tr>\n",
       "  </thead>\n",
       "  <tbody>\n",
       "    <tr>\n",
       "      <th>major_a</th>\n",
       "      <td>900</td>\n",
       "      <td>450</td>\n",
       "    </tr>\n",
       "    <tr>\n",
       "      <th>major_b</th>\n",
       "      <td>100</td>\n",
       "      <td>10</td>\n",
       "    </tr>\n",
       "  </tbody>\n",
       "</table>\n",
       "</div>"
      ],
      "text/plain": [
       "         applied  admitted\n",
       "major_a      900       450\n",
       "major_b      100        10"
      ]
     },
     "execution_count": 4,
     "metadata": {},
     "output_type": "execute_result"
    }
   ],
   "source": [
    "male_df = pd.DataFrame(data=male, index=['major_a', 'major_b'])\n",
    "male_df"
   ]
  },
  {
   "cell_type": "code",
   "execution_count": 5,
   "metadata": {},
   "outputs": [
    {
     "data": {
      "text/html": [
       "<div>\n",
       "<style scoped>\n",
       "    .dataframe tbody tr th:only-of-type {\n",
       "        vertical-align: middle;\n",
       "    }\n",
       "\n",
       "    .dataframe tbody tr th {\n",
       "        vertical-align: top;\n",
       "    }\n",
       "\n",
       "    .dataframe thead th {\n",
       "        text-align: right;\n",
       "    }\n",
       "</style>\n",
       "<table border=\"1\" class=\"dataframe\">\n",
       "  <thead>\n",
       "    <tr style=\"text-align: right;\">\n",
       "      <th></th>\n",
       "      <th>applied</th>\n",
       "      <th>admitted</th>\n",
       "      <th>rate</th>\n",
       "    </tr>\n",
       "  </thead>\n",
       "  <tbody>\n",
       "    <tr>\n",
       "      <th>major_a</th>\n",
       "      <td>900</td>\n",
       "      <td>450</td>\n",
       "      <td>0.5</td>\n",
       "    </tr>\n",
       "    <tr>\n",
       "      <th>major_b</th>\n",
       "      <td>100</td>\n",
       "      <td>10</td>\n",
       "      <td>0.1</td>\n",
       "    </tr>\n",
       "  </tbody>\n",
       "</table>\n",
       "</div>"
      ],
      "text/plain": [
       "         applied  admitted  rate\n",
       "major_a      900       450   0.5\n",
       "major_b      100        10   0.1"
      ]
     },
     "execution_count": 5,
     "metadata": {},
     "output_type": "execute_result"
    }
   ],
   "source": [
    "# what is the acceptance rate for men?\n",
    "male_df['rate'] = male_df.admitted / male_df.applied\n",
    "male_df"
   ]
  },
  {
   "cell_type": "code",
   "execution_count": 7,
   "metadata": {},
   "outputs": [
    {
     "data": {
      "text/html": [
       "<div>\n",
       "<style scoped>\n",
       "    .dataframe tbody tr th:only-of-type {\n",
       "        vertical-align: middle;\n",
       "    }\n",
       "\n",
       "    .dataframe tbody tr th {\n",
       "        vertical-align: top;\n",
       "    }\n",
       "\n",
       "    .dataframe thead th {\n",
       "        text-align: right;\n",
       "    }\n",
       "</style>\n",
       "<table border=\"1\" class=\"dataframe\">\n",
       "  <thead>\n",
       "    <tr style=\"text-align: right;\">\n",
       "      <th></th>\n",
       "      <th>applied</th>\n",
       "      <th>admitted</th>\n",
       "    </tr>\n",
       "  </thead>\n",
       "  <tbody>\n",
       "    <tr>\n",
       "      <th>major_a</th>\n",
       "      <td>100</td>\n",
       "      <td>80</td>\n",
       "    </tr>\n",
       "    <tr>\n",
       "      <th>major_b</th>\n",
       "      <td>900</td>\n",
       "      <td>180</td>\n",
       "    </tr>\n",
       "  </tbody>\n",
       "</table>\n",
       "</div>"
      ],
      "text/plain": [
       "         applied  admitted\n",
       "major_a      100        80\n",
       "major_b      900       180"
      ]
     },
     "execution_count": 7,
     "metadata": {},
     "output_type": "execute_result"
    }
   ],
   "source": [
    "female_df = pd.DataFrame(data=female, index=['major_a', 'major_b'])\n",
    "female_df"
   ]
  },
  {
   "cell_type": "code",
   "execution_count": 8,
   "metadata": {},
   "outputs": [
    {
     "data": {
      "text/html": [
       "<div>\n",
       "<style scoped>\n",
       "    .dataframe tbody tr th:only-of-type {\n",
       "        vertical-align: middle;\n",
       "    }\n",
       "\n",
       "    .dataframe tbody tr th {\n",
       "        vertical-align: top;\n",
       "    }\n",
       "\n",
       "    .dataframe thead th {\n",
       "        text-align: right;\n",
       "    }\n",
       "</style>\n",
       "<table border=\"1\" class=\"dataframe\">\n",
       "  <thead>\n",
       "    <tr style=\"text-align: right;\">\n",
       "      <th></th>\n",
       "      <th>applied</th>\n",
       "      <th>admitted</th>\n",
       "      <th>rate</th>\n",
       "    </tr>\n",
       "  </thead>\n",
       "  <tbody>\n",
       "    <tr>\n",
       "      <th>major_a</th>\n",
       "      <td>100</td>\n",
       "      <td>80</td>\n",
       "      <td>0.8</td>\n",
       "    </tr>\n",
       "    <tr>\n",
       "      <th>major_b</th>\n",
       "      <td>900</td>\n",
       "      <td>180</td>\n",
       "      <td>0.2</td>\n",
       "    </tr>\n",
       "  </tbody>\n",
       "</table>\n",
       "</div>"
      ],
      "text/plain": [
       "         applied  admitted  rate\n",
       "major_a      100        80   0.8\n",
       "major_b      900       180   0.2"
      ]
     },
     "execution_count": 8,
     "metadata": {},
     "output_type": "execute_result"
    }
   ],
   "source": [
    "# what is the acceptance rate for woman?\n",
    "female_df['rate'] = female_df.admitted / female_df.applied\n",
    "female_df"
   ]
  },
  {
   "cell_type": "code",
   "execution_count": null,
   "metadata": {},
   "outputs": [],
   "source": [
    "# just looking at these numbers would you believe in terms of acceptance rate:\n",
    "# is there a gender bias? \n",
    "\n",
    "# YES - the acceptance rate is so different\n",
    "# but who is being favored?\n",
    "\n",
    "# female has a higher rate, but..."
   ]
  },
  {
   "cell_type": "code",
   "execution_count": 11,
   "metadata": {},
   "outputs": [
    {
     "name": "stdout",
     "output_type": "stream",
     "text": [
      "Total number of male applied: 1000\n",
      "Total number of female applied: 1000\n"
     ]
    }
   ],
   "source": [
    "# how many students applied for the major for each gender?\n",
    "male_applied_sum = male_df.applied.sum()\n",
    "print('Total number of male applied: {}'.format(male_applied_sum))\n",
    "\n",
    "female_applied_sum = female_df.applied.sum()\n",
    "print('Total number of female applied: {}'.format(female_applied_sum))"
   ]
  },
  {
   "cell_type": "code",
   "execution_count": 12,
   "metadata": {},
   "outputs": [
    {
     "name": "stdout",
     "output_type": "stream",
     "text": [
      "Total number of male admitted: 460\n",
      "Total number of female admitted: 260\n"
     ]
    }
   ],
   "source": [
    "# how many students were admitted for the major for each gender\n",
    "male_admitted_sum = male_df.admitted.sum()\n",
    "print('Total number of male admitted: {}'.format(male_admitted_sum))\n",
    "female_admitted_sum = female_df.admitted.sum()\n",
    "print('Total number of female admitted: {}'.format(female_admitted_sum))"
   ]
  },
  {
   "cell_type": "code",
   "execution_count": 14,
   "metadata": {},
   "outputs": [
    {
     "name": "stdout",
     "output_type": "stream",
     "text": [
      "Total acceptance rate for male: 46.00 %\n",
      "Total acceptance rate for female: 26.00 %\n"
     ]
    }
   ],
   "source": [
    "# what's the rate in % for the total number of students admitted/applied?\n",
    "male_total_rate = male_admitted_sum / male_applied_sum\n",
    "print('Total acceptance rate for male: {:.2f} %'.format(male_total_rate*100))\n",
    "\n",
    "female_total_rate = female_admitted_sum / female_applied_sum\n",
    "print('Total acceptance rate for female: {:.2f} %'.format(female_total_rate*100))"
   ]
  },
  {
   "cell_type": "code",
   "execution_count": null,
   "metadata": {},
   "outputs": [],
   "source": [
    "# again, who's being favored?\n",
    "# Male!"
   ]
  },
  {
   "cell_type": "code",
   "execution_count": null,
   "metadata": {},
   "outputs": [],
   "source": [
    "# Simpson's Paradox:\n",
    "# depending the way you choose to look to your data can lead to a completely different results\n",
    "# and often you may impact what people believe to be true with how you communicate your findings!\n",
    "# you can guess how people intentionally or unententionally come to false conclusions with it's choices\n",
    "\n",
    "# be skeptical of your own results or results from others"
   ]
  },
  {
   "cell_type": "code",
   "execution_count": null,
   "metadata": {},
   "outputs": [],
   "source": []
  }
 ],
 "metadata": {
  "kernelspec": {
   "display_name": "Python 3",
   "language": "python",
   "name": "python3"
  },
  "language_info": {
   "codemirror_mode": {
    "name": "ipython",
    "version": 3
   },
   "file_extension": ".py",
   "mimetype": "text/x-python",
   "name": "python",
   "nbconvert_exporter": "python",
   "pygments_lexer": "ipython3",
   "version": "3.6.12"
  }
 },
 "nbformat": 4,
 "nbformat_minor": 4
}
