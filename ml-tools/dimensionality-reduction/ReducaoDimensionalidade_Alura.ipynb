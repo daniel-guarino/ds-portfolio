{
  "nbformat": 4,
  "nbformat_minor": 0,
  "metadata": {
    "colab": {
      "name": "ReducaoDimensionalidade-Alura",
      "provenance": []
    },
    "kernelspec": {
      "name": "python3",
      "display_name": "Python 3"
    },
    "widgets": {
      "application/vnd.jupyter.widget-state+json": {
        "3d9964f3a78e4734bc428e92b54968f5": {
          "model_module": "@jupyter-widgets/controls",
          "model_name": "HBoxModel",
          "state": {
            "_view_name": "HBoxView",
            "_dom_classes": [],
            "_model_name": "HBoxModel",
            "_view_module": "@jupyter-widgets/controls",
            "_model_module_version": "1.5.0",
            "_view_count": null,
            "_view_module_version": "1.5.0",
            "box_style": "",
            "layout": "IPY_MODEL_8d0e171137f84081af3ced276e205c43",
            "_model_module": "@jupyter-widgets/controls",
            "children": [
              "IPY_MODEL_16e4e87fdade4123a41058ef715d8064",
              "IPY_MODEL_7665d91f0a554884b91ef70bf2ee737a"
            ]
          }
        },
        "8d0e171137f84081af3ced276e205c43": {
          "model_module": "@jupyter-widgets/base",
          "model_name": "LayoutModel",
          "state": {
            "_view_name": "LayoutView",
            "grid_template_rows": null,
            "right": null,
            "justify_content": null,
            "_view_module": "@jupyter-widgets/base",
            "overflow": null,
            "_model_module_version": "1.2.0",
            "_view_count": null,
            "flex_flow": null,
            "width": null,
            "min_width": null,
            "border": null,
            "align_items": null,
            "bottom": null,
            "_model_module": "@jupyter-widgets/base",
            "top": null,
            "grid_column": null,
            "overflow_y": null,
            "overflow_x": null,
            "grid_auto_flow": null,
            "grid_area": null,
            "grid_template_columns": null,
            "flex": null,
            "_model_name": "LayoutModel",
            "justify_items": null,
            "grid_row": null,
            "max_height": null,
            "align_content": null,
            "visibility": null,
            "align_self": null,
            "height": null,
            "min_height": null,
            "padding": null,
            "grid_auto_rows": null,
            "grid_gap": null,
            "max_width": null,
            "order": null,
            "_view_module_version": "1.2.0",
            "grid_template_areas": null,
            "object_position": null,
            "object_fit": null,
            "grid_auto_columns": null,
            "margin": null,
            "display": null,
            "left": null
          }
        },
        "16e4e87fdade4123a41058ef715d8064": {
          "model_module": "@jupyter-widgets/controls",
          "model_name": "FloatProgressModel",
          "state": {
            "_view_name": "ProgressView",
            "style": "IPY_MODEL_e1dea8a951844fb8aab0ee06ee3bdd8c",
            "_dom_classes": [],
            "description": "100%",
            "_model_name": "FloatProgressModel",
            "bar_style": "success",
            "max": 26,
            "_view_module": "@jupyter-widgets/controls",
            "_model_module_version": "1.5.0",
            "value": 26,
            "_view_count": null,
            "_view_module_version": "1.5.0",
            "orientation": "horizontal",
            "min": 0,
            "description_tooltip": null,
            "_model_module": "@jupyter-widgets/controls",
            "layout": "IPY_MODEL_241d24f48f1a4d3eada1a576e7323066"
          }
        },
        "7665d91f0a554884b91ef70bf2ee737a": {
          "model_module": "@jupyter-widgets/controls",
          "model_name": "HTMLModel",
          "state": {
            "_view_name": "HTMLView",
            "style": "IPY_MODEL_24097174ae2f466db39065d393c88da9",
            "_dom_classes": [],
            "description": "",
            "_model_name": "HTMLModel",
            "placeholder": "​",
            "_view_module": "@jupyter-widgets/controls",
            "_model_module_version": "1.5.0",
            "value": " 26/26 [00:05&lt;00:00,  5.11it/s]",
            "_view_count": null,
            "_view_module_version": "1.5.0",
            "description_tooltip": null,
            "_model_module": "@jupyter-widgets/controls",
            "layout": "IPY_MODEL_f950d43c8ebc4655bb7683ee84b20bce"
          }
        },
        "e1dea8a951844fb8aab0ee06ee3bdd8c": {
          "model_module": "@jupyter-widgets/controls",
          "model_name": "ProgressStyleModel",
          "state": {
            "_view_name": "StyleView",
            "_model_name": "ProgressStyleModel",
            "description_width": "initial",
            "_view_module": "@jupyter-widgets/base",
            "_model_module_version": "1.5.0",
            "_view_count": null,
            "_view_module_version": "1.2.0",
            "bar_color": null,
            "_model_module": "@jupyter-widgets/controls"
          }
        },
        "241d24f48f1a4d3eada1a576e7323066": {
          "model_module": "@jupyter-widgets/base",
          "model_name": "LayoutModel",
          "state": {
            "_view_name": "LayoutView",
            "grid_template_rows": null,
            "right": null,
            "justify_content": null,
            "_view_module": "@jupyter-widgets/base",
            "overflow": null,
            "_model_module_version": "1.2.0",
            "_view_count": null,
            "flex_flow": null,
            "width": null,
            "min_width": null,
            "border": null,
            "align_items": null,
            "bottom": null,
            "_model_module": "@jupyter-widgets/base",
            "top": null,
            "grid_column": null,
            "overflow_y": null,
            "overflow_x": null,
            "grid_auto_flow": null,
            "grid_area": null,
            "grid_template_columns": null,
            "flex": null,
            "_model_name": "LayoutModel",
            "justify_items": null,
            "grid_row": null,
            "max_height": null,
            "align_content": null,
            "visibility": null,
            "align_self": null,
            "height": null,
            "min_height": null,
            "padding": null,
            "grid_auto_rows": null,
            "grid_gap": null,
            "max_width": null,
            "order": null,
            "_view_module_version": "1.2.0",
            "grid_template_areas": null,
            "object_position": null,
            "object_fit": null,
            "grid_auto_columns": null,
            "margin": null,
            "display": null,
            "left": null
          }
        },
        "24097174ae2f466db39065d393c88da9": {
          "model_module": "@jupyter-widgets/controls",
          "model_name": "DescriptionStyleModel",
          "state": {
            "_view_name": "StyleView",
            "_model_name": "DescriptionStyleModel",
            "description_width": "",
            "_view_module": "@jupyter-widgets/base",
            "_model_module_version": "1.5.0",
            "_view_count": null,
            "_view_module_version": "1.2.0",
            "_model_module": "@jupyter-widgets/controls"
          }
        },
        "f950d43c8ebc4655bb7683ee84b20bce": {
          "model_module": "@jupyter-widgets/base",
          "model_name": "LayoutModel",
          "state": {
            "_view_name": "LayoutView",
            "grid_template_rows": null,
            "right": null,
            "justify_content": null,
            "_view_module": "@jupyter-widgets/base",
            "overflow": null,
            "_model_module_version": "1.2.0",
            "_view_count": null,
            "flex_flow": null,
            "width": null,
            "min_width": null,
            "border": null,
            "align_items": null,
            "bottom": null,
            "_model_module": "@jupyter-widgets/base",
            "top": null,
            "grid_column": null,
            "overflow_y": null,
            "overflow_x": null,
            "grid_auto_flow": null,
            "grid_area": null,
            "grid_template_columns": null,
            "flex": null,
            "_model_name": "LayoutModel",
            "justify_items": null,
            "grid_row": null,
            "max_height": null,
            "align_content": null,
            "visibility": null,
            "align_self": null,
            "height": null,
            "min_height": null,
            "padding": null,
            "grid_auto_rows": null,
            "grid_gap": null,
            "max_width": null,
            "order": null,
            "_view_module_version": "1.2.0",
            "grid_template_areas": null,
            "object_position": null,
            "object_fit": null,
            "grid_auto_columns": null,
            "margin": null,
            "display": null,
            "left": null
          }
        }
      }
    }
  },
  "cells": [
    {
      "cell_type": "code",
      "metadata": {
        "id": "69kgpUvMGcNE",
        "colab": {
          "base_uri": "https://localhost:8080/",
          "height": 34
        },
        "outputId": "9e4125fd-943c-47c4-9d45-dae1577bc1a8"
      },
      "source": [
        "from google.colab import drive\n",
        "drive.mount('/content/drive')"
      ],
      "execution_count": null,
      "outputs": [
        {
          "output_type": "stream",
          "text": [
            "Drive already mounted at /content/drive; to attempt to forcibly remount, call drive.mount(\"/content/drive\", force_remount=True).\n"
          ],
          "name": "stdout"
        }
      ]
    },
    {
      "cell_type": "code",
      "metadata": {
        "id": "oGW0qSPNIcWG"
      },
      "source": [
        "import pandas as pd\n",
        "import numpy as np\n",
        "from sklearn.model_selection import train_test_split\n",
        "from sklearn.ensemble import RandomForestClassifier\n",
        "from sklearn.dummy import DummyClassifier\n",
        "from sklearn.preprocessing import StandardScaler\n",
        "from sklearn.feature_selection import SelectKBest\n",
        "from sklearn.feature_selection import chi2\n",
        "from sklearn.feature_selection import RFE\n",
        "from sklearn.model_selection import KFold\n",
        "\n",
        "import matplotlib.pyplot as plt\n",
        "import seaborn as sns\n",
        "from tqdm import tqdm_notebook as tqdm"
      ],
      "execution_count": null,
      "outputs": []
    },
    {
      "cell_type": "code",
      "metadata": {
        "id": "vTWwZ3KvGrzW",
        "colab": {
          "base_uri": "https://localhost:8080/",
          "height": 224
        },
        "outputId": "33e14b8f-07c9-46cf-c499-be1686fcdb54"
      },
      "source": [
        "df = pd.read_csv('./drive/My Drive/Datasets/Exames/exames.csv')\n",
        "df.head()"
      ],
      "execution_count": null,
      "outputs": [
        {
          "output_type": "execute_result",
          "data": {
            "text/html": [
              "<div>\n",
              "<style scoped>\n",
              "    .dataframe tbody tr th:only-of-type {\n",
              "        vertical-align: middle;\n",
              "    }\n",
              "\n",
              "    .dataframe tbody tr th {\n",
              "        vertical-align: top;\n",
              "    }\n",
              "\n",
              "    .dataframe thead th {\n",
              "        text-align: right;\n",
              "    }\n",
              "</style>\n",
              "<table border=\"1\" class=\"dataframe\">\n",
              "  <thead>\n",
              "    <tr style=\"text-align: right;\">\n",
              "      <th></th>\n",
              "      <th>id</th>\n",
              "      <th>diagnostico</th>\n",
              "      <th>exame_1</th>\n",
              "      <th>exame_2</th>\n",
              "      <th>exame_3</th>\n",
              "      <th>exame_4</th>\n",
              "      <th>exame_5</th>\n",
              "      <th>exame_6</th>\n",
              "      <th>exame_7</th>\n",
              "      <th>exame_8</th>\n",
              "      <th>exame_9</th>\n",
              "      <th>exame_10</th>\n",
              "      <th>exame_11</th>\n",
              "      <th>exame_12</th>\n",
              "      <th>exame_13</th>\n",
              "      <th>exame_14</th>\n",
              "      <th>exame_15</th>\n",
              "      <th>exame_16</th>\n",
              "      <th>exame_17</th>\n",
              "      <th>exame_18</th>\n",
              "      <th>exame_19</th>\n",
              "      <th>exame_20</th>\n",
              "      <th>exame_21</th>\n",
              "      <th>exame_22</th>\n",
              "      <th>exame_23</th>\n",
              "      <th>exame_24</th>\n",
              "      <th>exame_25</th>\n",
              "      <th>exame_26</th>\n",
              "      <th>exame_27</th>\n",
              "      <th>exame_28</th>\n",
              "      <th>exame_29</th>\n",
              "      <th>exame_30</th>\n",
              "      <th>exame_31</th>\n",
              "      <th>exame_32</th>\n",
              "      <th>exame_33</th>\n",
              "    </tr>\n",
              "  </thead>\n",
              "  <tbody>\n",
              "    <tr>\n",
              "      <th>0</th>\n",
              "      <td>842302</td>\n",
              "      <td>M</td>\n",
              "      <td>17.99</td>\n",
              "      <td>10.38</td>\n",
              "      <td>122.80</td>\n",
              "      <td>103.78</td>\n",
              "      <td>1001.0</td>\n",
              "      <td>0.11840</td>\n",
              "      <td>0.27760</td>\n",
              "      <td>0.3001</td>\n",
              "      <td>0.14710</td>\n",
              "      <td>0.2419</td>\n",
              "      <td>0.07871</td>\n",
              "      <td>1.0950</td>\n",
              "      <td>0.9053</td>\n",
              "      <td>8.589</td>\n",
              "      <td>153.40</td>\n",
              "      <td>0.006399</td>\n",
              "      <td>0.04904</td>\n",
              "      <td>0.05373</td>\n",
              "      <td>0.01587</td>\n",
              "      <td>0.03003</td>\n",
              "      <td>0.006193</td>\n",
              "      <td>25.38</td>\n",
              "      <td>17.33</td>\n",
              "      <td>184.60</td>\n",
              "      <td>2019.0</td>\n",
              "      <td>0.1622</td>\n",
              "      <td>0.6656</td>\n",
              "      <td>0.7119</td>\n",
              "      <td>0.786</td>\n",
              "      <td>0.2654</td>\n",
              "      <td>0.4601</td>\n",
              "      <td>0.11890</td>\n",
              "      <td>NaN</td>\n",
              "    </tr>\n",
              "    <tr>\n",
              "      <th>1</th>\n",
              "      <td>842517</td>\n",
              "      <td>M</td>\n",
              "      <td>20.57</td>\n",
              "      <td>17.77</td>\n",
              "      <td>132.90</td>\n",
              "      <td>103.78</td>\n",
              "      <td>1326.0</td>\n",
              "      <td>0.08474</td>\n",
              "      <td>0.07864</td>\n",
              "      <td>0.0869</td>\n",
              "      <td>0.07017</td>\n",
              "      <td>0.1812</td>\n",
              "      <td>0.05667</td>\n",
              "      <td>0.5435</td>\n",
              "      <td>0.7339</td>\n",
              "      <td>3.398</td>\n",
              "      <td>74.08</td>\n",
              "      <td>0.005225</td>\n",
              "      <td>0.01308</td>\n",
              "      <td>0.01860</td>\n",
              "      <td>0.01340</td>\n",
              "      <td>0.01389</td>\n",
              "      <td>0.003532</td>\n",
              "      <td>24.99</td>\n",
              "      <td>23.41</td>\n",
              "      <td>158.80</td>\n",
              "      <td>1956.0</td>\n",
              "      <td>0.1238</td>\n",
              "      <td>0.1866</td>\n",
              "      <td>0.2416</td>\n",
              "      <td>0.786</td>\n",
              "      <td>0.1860</td>\n",
              "      <td>0.2750</td>\n",
              "      <td>0.08902</td>\n",
              "      <td>NaN</td>\n",
              "    </tr>\n",
              "    <tr>\n",
              "      <th>2</th>\n",
              "      <td>84300903</td>\n",
              "      <td>M</td>\n",
              "      <td>19.69</td>\n",
              "      <td>21.25</td>\n",
              "      <td>130.00</td>\n",
              "      <td>103.78</td>\n",
              "      <td>1203.0</td>\n",
              "      <td>0.10960</td>\n",
              "      <td>0.15990</td>\n",
              "      <td>0.1974</td>\n",
              "      <td>0.12790</td>\n",
              "      <td>0.2069</td>\n",
              "      <td>0.05999</td>\n",
              "      <td>0.7456</td>\n",
              "      <td>0.7869</td>\n",
              "      <td>4.585</td>\n",
              "      <td>94.03</td>\n",
              "      <td>0.006150</td>\n",
              "      <td>0.04006</td>\n",
              "      <td>0.03832</td>\n",
              "      <td>0.02058</td>\n",
              "      <td>0.02250</td>\n",
              "      <td>0.004571</td>\n",
              "      <td>23.57</td>\n",
              "      <td>25.53</td>\n",
              "      <td>152.50</td>\n",
              "      <td>1709.0</td>\n",
              "      <td>0.1444</td>\n",
              "      <td>0.4245</td>\n",
              "      <td>0.4504</td>\n",
              "      <td>0.786</td>\n",
              "      <td>0.2430</td>\n",
              "      <td>0.3613</td>\n",
              "      <td>0.08758</td>\n",
              "      <td>NaN</td>\n",
              "    </tr>\n",
              "    <tr>\n",
              "      <th>3</th>\n",
              "      <td>84348301</td>\n",
              "      <td>M</td>\n",
              "      <td>11.42</td>\n",
              "      <td>20.38</td>\n",
              "      <td>77.58</td>\n",
              "      <td>103.78</td>\n",
              "      <td>386.1</td>\n",
              "      <td>0.14250</td>\n",
              "      <td>0.28390</td>\n",
              "      <td>0.2414</td>\n",
              "      <td>0.10520</td>\n",
              "      <td>0.2597</td>\n",
              "      <td>0.09744</td>\n",
              "      <td>0.4956</td>\n",
              "      <td>1.1560</td>\n",
              "      <td>3.445</td>\n",
              "      <td>27.23</td>\n",
              "      <td>0.009110</td>\n",
              "      <td>0.07458</td>\n",
              "      <td>0.05661</td>\n",
              "      <td>0.01867</td>\n",
              "      <td>0.05963</td>\n",
              "      <td>0.009208</td>\n",
              "      <td>14.91</td>\n",
              "      <td>26.50</td>\n",
              "      <td>98.87</td>\n",
              "      <td>567.7</td>\n",
              "      <td>0.2098</td>\n",
              "      <td>0.8663</td>\n",
              "      <td>0.6869</td>\n",
              "      <td>0.786</td>\n",
              "      <td>0.2575</td>\n",
              "      <td>0.6638</td>\n",
              "      <td>0.17300</td>\n",
              "      <td>NaN</td>\n",
              "    </tr>\n",
              "    <tr>\n",
              "      <th>4</th>\n",
              "      <td>84358402</td>\n",
              "      <td>M</td>\n",
              "      <td>20.29</td>\n",
              "      <td>14.34</td>\n",
              "      <td>135.10</td>\n",
              "      <td>103.78</td>\n",
              "      <td>1297.0</td>\n",
              "      <td>0.10030</td>\n",
              "      <td>0.13280</td>\n",
              "      <td>0.1980</td>\n",
              "      <td>0.10430</td>\n",
              "      <td>0.1809</td>\n",
              "      <td>0.05883</td>\n",
              "      <td>0.7572</td>\n",
              "      <td>0.7813</td>\n",
              "      <td>5.438</td>\n",
              "      <td>94.44</td>\n",
              "      <td>0.011490</td>\n",
              "      <td>0.02461</td>\n",
              "      <td>0.05688</td>\n",
              "      <td>0.01885</td>\n",
              "      <td>0.01756</td>\n",
              "      <td>0.005115</td>\n",
              "      <td>22.54</td>\n",
              "      <td>16.67</td>\n",
              "      <td>152.20</td>\n",
              "      <td>1575.0</td>\n",
              "      <td>0.1374</td>\n",
              "      <td>0.2050</td>\n",
              "      <td>0.4000</td>\n",
              "      <td>0.786</td>\n",
              "      <td>0.1625</td>\n",
              "      <td>0.2364</td>\n",
              "      <td>0.07678</td>\n",
              "      <td>0.854454</td>\n",
              "    </tr>\n",
              "  </tbody>\n",
              "</table>\n",
              "</div>"
            ],
            "text/plain": [
              "         id diagnostico  exame_1  ...  exame_31  exame_32  exame_33\n",
              "0    842302           M    17.99  ...    0.4601   0.11890       NaN\n",
              "1    842517           M    20.57  ...    0.2750   0.08902       NaN\n",
              "2  84300903           M    19.69  ...    0.3613   0.08758       NaN\n",
              "3  84348301           M    11.42  ...    0.6638   0.17300       NaN\n",
              "4  84358402           M    20.29  ...    0.2364   0.07678  0.854454\n",
              "\n",
              "[5 rows x 35 columns]"
            ]
          },
          "metadata": {
            "tags": []
          },
          "execution_count": 3
        }
      ]
    },
    {
      "cell_type": "code",
      "metadata": {
        "id": "sHcq6wX4G6Bm",
        "colab": {
          "base_uri": "https://localhost:8080/",
          "height": 34
        },
        "outputId": "33b89cc6-de7a-48d8-d99d-b0b505dfb86c"
      },
      "source": [
        "df.shape"
      ],
      "execution_count": null,
      "outputs": [
        {
          "output_type": "execute_result",
          "data": {
            "text/plain": [
              "(569, 35)"
            ]
          },
          "metadata": {
            "tags": []
          },
          "execution_count": 4
        }
      ]
    },
    {
      "cell_type": "code",
      "metadata": {
        "id": "jK5dkv6DJp64",
        "colab": {
          "base_uri": "https://localhost:8080/",
          "height": 731
        },
        "outputId": "cb12437d-fe77-4401-ae50-3c0dce2b2b2a"
      },
      "source": [
        "df.info()"
      ],
      "execution_count": null,
      "outputs": [
        {
          "output_type": "stream",
          "text": [
            "<class 'pandas.core.frame.DataFrame'>\n",
            "RangeIndex: 569 entries, 0 to 568\n",
            "Data columns (total 35 columns):\n",
            " #   Column       Non-Null Count  Dtype  \n",
            "---  ------       --------------  -----  \n",
            " 0   id           569 non-null    int64  \n",
            " 1   diagnostico  569 non-null    object \n",
            " 2   exame_1      569 non-null    float64\n",
            " 3   exame_2      569 non-null    float64\n",
            " 4   exame_3      569 non-null    float64\n",
            " 5   exame_4      569 non-null    float64\n",
            " 6   exame_5      569 non-null    float64\n",
            " 7   exame_6      569 non-null    float64\n",
            " 8   exame_7      569 non-null    float64\n",
            " 9   exame_8      569 non-null    float64\n",
            " 10  exame_9      569 non-null    float64\n",
            " 11  exame_10     569 non-null    float64\n",
            " 12  exame_11     569 non-null    float64\n",
            " 13  exame_12     569 non-null    float64\n",
            " 14  exame_13     569 non-null    float64\n",
            " 15  exame_14     569 non-null    float64\n",
            " 16  exame_15     569 non-null    float64\n",
            " 17  exame_16     569 non-null    float64\n",
            " 18  exame_17     569 non-null    float64\n",
            " 19  exame_18     569 non-null    float64\n",
            " 20  exame_19     569 non-null    float64\n",
            " 21  exame_20     569 non-null    float64\n",
            " 22  exame_21     569 non-null    float64\n",
            " 23  exame_22     569 non-null    float64\n",
            " 24  exame_23     569 non-null    float64\n",
            " 25  exame_24     569 non-null    float64\n",
            " 26  exame_25     569 non-null    float64\n",
            " 27  exame_26     569 non-null    float64\n",
            " 28  exame_27     569 non-null    float64\n",
            " 29  exame_28     569 non-null    float64\n",
            " 30  exame_29     569 non-null    float64\n",
            " 31  exame_30     569 non-null    float64\n",
            " 32  exame_31     569 non-null    float64\n",
            " 33  exame_32     569 non-null    float64\n",
            " 34  exame_33     150 non-null    float64\n",
            "dtypes: float64(33), int64(1), object(1)\n",
            "memory usage: 155.7+ KB\n"
          ],
          "name": "stdout"
        }
      ]
    },
    {
      "cell_type": "code",
      "metadata": {
        "id": "JA_nGvsALjfb",
        "colab": {
          "base_uri": "https://localhost:8080/",
          "height": 136
        },
        "outputId": "7269adfb-54d2-4b3d-cc2a-02d39d732f5f"
      },
      "source": [
        "# drop id column\n",
        "df.drop('id', axis=1, inplace=True)\n",
        "df.columns"
      ],
      "execution_count": null,
      "outputs": [
        {
          "output_type": "execute_result",
          "data": {
            "text/plain": [
              "Index(['diagnostico', 'exame_1', 'exame_2', 'exame_3', 'exame_4', 'exame_5',\n",
              "       'exame_6', 'exame_7', 'exame_8', 'exame_9', 'exame_10', 'exame_11',\n",
              "       'exame_12', 'exame_13', 'exame_14', 'exame_15', 'exame_16', 'exame_17',\n",
              "       'exame_18', 'exame_19', 'exame_20', 'exame_21', 'exame_22', 'exame_23',\n",
              "       'exame_24', 'exame_25', 'exame_26', 'exame_27', 'exame_28', 'exame_29',\n",
              "       'exame_30', 'exame_31', 'exame_32', 'exame_33'],\n",
              "      dtype='object')"
            ]
          },
          "metadata": {
            "tags": []
          },
          "execution_count": 6
        }
      ]
    },
    {
      "cell_type": "code",
      "metadata": {
        "id": "dXyXNNcqO2xI"
      },
      "source": [
        "y = df['diagnostico']\n",
        "X = df.drop('diagnostico', axis=1)"
      ],
      "execution_count": null,
      "outputs": []
    },
    {
      "cell_type": "code",
      "metadata": {
        "id": "ZtTW2MZYO54I",
        "colab": {
          "base_uri": "https://localhost:8080/",
          "height": 595
        },
        "outputId": "8018a8f7-1451-4fc7-b034-d3e06c1a71f8"
      },
      "source": [
        "X.isnull().sum()"
      ],
      "execution_count": null,
      "outputs": [
        {
          "output_type": "execute_result",
          "data": {
            "text/plain": [
              "exame_1       0\n",
              "exame_2       0\n",
              "exame_3       0\n",
              "exame_4       0\n",
              "exame_5       0\n",
              "exame_6       0\n",
              "exame_7       0\n",
              "exame_8       0\n",
              "exame_9       0\n",
              "exame_10      0\n",
              "exame_11      0\n",
              "exame_12      0\n",
              "exame_13      0\n",
              "exame_14      0\n",
              "exame_15      0\n",
              "exame_16      0\n",
              "exame_17      0\n",
              "exame_18      0\n",
              "exame_19      0\n",
              "exame_20      0\n",
              "exame_21      0\n",
              "exame_22      0\n",
              "exame_23      0\n",
              "exame_24      0\n",
              "exame_25      0\n",
              "exame_26      0\n",
              "exame_27      0\n",
              "exame_28      0\n",
              "exame_29      0\n",
              "exame_30      0\n",
              "exame_31      0\n",
              "exame_32      0\n",
              "exame_33    419\n",
              "dtype: int64"
            ]
          },
          "metadata": {
            "tags": []
          },
          "execution_count": 8
        }
      ]
    },
    {
      "cell_type": "code",
      "metadata": {
        "id": "AvjEgVjHO-CO"
      },
      "source": [
        "X.drop('exame_33', axis=1, inplace=True)"
      ],
      "execution_count": null,
      "outputs": []
    },
    {
      "cell_type": "code",
      "metadata": {
        "id": "YZgMpXrULw78"
      },
      "source": [
        "# set seed number\n",
        "SEED = 123143\n",
        "np.random.seed(SEED)\n",
        "\n",
        "# split train test\n",
        "X_train, X_test, y_train, y_test = train_test_split(X, y, test_size=0.3)"
      ],
      "execution_count": null,
      "outputs": []
    },
    {
      "cell_type": "code",
      "metadata": {
        "id": "9uoMv8VdNy_l",
        "colab": {
          "base_uri": "https://localhost:8080/",
          "height": 224
        },
        "outputId": "ce59c71f-2562-4df9-c986-a8a28ff133ee"
      },
      "source": [
        "X_train.head()"
      ],
      "execution_count": null,
      "outputs": [
        {
          "output_type": "execute_result",
          "data": {
            "text/html": [
              "<div>\n",
              "<style scoped>\n",
              "    .dataframe tbody tr th:only-of-type {\n",
              "        vertical-align: middle;\n",
              "    }\n",
              "\n",
              "    .dataframe tbody tr th {\n",
              "        vertical-align: top;\n",
              "    }\n",
              "\n",
              "    .dataframe thead th {\n",
              "        text-align: right;\n",
              "    }\n",
              "</style>\n",
              "<table border=\"1\" class=\"dataframe\">\n",
              "  <thead>\n",
              "    <tr style=\"text-align: right;\">\n",
              "      <th></th>\n",
              "      <th>exame_1</th>\n",
              "      <th>exame_2</th>\n",
              "      <th>exame_3</th>\n",
              "      <th>exame_4</th>\n",
              "      <th>exame_5</th>\n",
              "      <th>exame_6</th>\n",
              "      <th>exame_7</th>\n",
              "      <th>exame_8</th>\n",
              "      <th>exame_9</th>\n",
              "      <th>exame_10</th>\n",
              "      <th>exame_11</th>\n",
              "      <th>exame_12</th>\n",
              "      <th>exame_13</th>\n",
              "      <th>exame_14</th>\n",
              "      <th>exame_15</th>\n",
              "      <th>exame_16</th>\n",
              "      <th>exame_17</th>\n",
              "      <th>exame_18</th>\n",
              "      <th>exame_19</th>\n",
              "      <th>exame_20</th>\n",
              "      <th>exame_21</th>\n",
              "      <th>exame_22</th>\n",
              "      <th>exame_23</th>\n",
              "      <th>exame_24</th>\n",
              "      <th>exame_25</th>\n",
              "      <th>exame_26</th>\n",
              "      <th>exame_27</th>\n",
              "      <th>exame_28</th>\n",
              "      <th>exame_29</th>\n",
              "      <th>exame_30</th>\n",
              "      <th>exame_31</th>\n",
              "      <th>exame_32</th>\n",
              "    </tr>\n",
              "  </thead>\n",
              "  <tbody>\n",
              "    <tr>\n",
              "      <th>268</th>\n",
              "      <td>12.87</td>\n",
              "      <td>16.21</td>\n",
              "      <td>82.38</td>\n",
              "      <td>103.78</td>\n",
              "      <td>512.2</td>\n",
              "      <td>0.09425</td>\n",
              "      <td>0.06219</td>\n",
              "      <td>0.03900</td>\n",
              "      <td>0.01615</td>\n",
              "      <td>0.2010</td>\n",
              "      <td>0.05769</td>\n",
              "      <td>0.2345</td>\n",
              "      <td>1.2190</td>\n",
              "      <td>1.546</td>\n",
              "      <td>18.24</td>\n",
              "      <td>0.005518</td>\n",
              "      <td>0.02178</td>\n",
              "      <td>0.02589</td>\n",
              "      <td>0.00633</td>\n",
              "      <td>0.02593</td>\n",
              "      <td>0.002157</td>\n",
              "      <td>13.90</td>\n",
              "      <td>23.64</td>\n",
              "      <td>89.27</td>\n",
              "      <td>597.5</td>\n",
              "      <td>0.1256</td>\n",
              "      <td>0.1808</td>\n",
              "      <td>0.1992</td>\n",
              "      <td>0.786</td>\n",
              "      <td>0.0578</td>\n",
              "      <td>0.3604</td>\n",
              "      <td>0.07062</td>\n",
              "    </tr>\n",
              "    <tr>\n",
              "      <th>422</th>\n",
              "      <td>11.61</td>\n",
              "      <td>16.02</td>\n",
              "      <td>75.46</td>\n",
              "      <td>103.78</td>\n",
              "      <td>408.2</td>\n",
              "      <td>0.10880</td>\n",
              "      <td>0.11680</td>\n",
              "      <td>0.07097</td>\n",
              "      <td>0.04497</td>\n",
              "      <td>0.1886</td>\n",
              "      <td>0.06320</td>\n",
              "      <td>0.2456</td>\n",
              "      <td>0.7339</td>\n",
              "      <td>1.667</td>\n",
              "      <td>15.89</td>\n",
              "      <td>0.005884</td>\n",
              "      <td>0.02005</td>\n",
              "      <td>0.02631</td>\n",
              "      <td>0.01304</td>\n",
              "      <td>0.01848</td>\n",
              "      <td>0.001982</td>\n",
              "      <td>12.64</td>\n",
              "      <td>19.67</td>\n",
              "      <td>81.93</td>\n",
              "      <td>475.7</td>\n",
              "      <td>0.1415</td>\n",
              "      <td>0.2170</td>\n",
              "      <td>0.2302</td>\n",
              "      <td>0.786</td>\n",
              "      <td>0.1105</td>\n",
              "      <td>0.2787</td>\n",
              "      <td>0.07427</td>\n",
              "    </tr>\n",
              "    <tr>\n",
              "      <th>168</th>\n",
              "      <td>17.47</td>\n",
              "      <td>24.68</td>\n",
              "      <td>116.10</td>\n",
              "      <td>103.78</td>\n",
              "      <td>984.6</td>\n",
              "      <td>0.10490</td>\n",
              "      <td>0.16030</td>\n",
              "      <td>0.21590</td>\n",
              "      <td>0.10430</td>\n",
              "      <td>0.1538</td>\n",
              "      <td>0.06365</td>\n",
              "      <td>1.0880</td>\n",
              "      <td>1.4100</td>\n",
              "      <td>7.337</td>\n",
              "      <td>122.30</td>\n",
              "      <td>0.006174</td>\n",
              "      <td>0.03634</td>\n",
              "      <td>0.04644</td>\n",
              "      <td>0.01569</td>\n",
              "      <td>0.01145</td>\n",
              "      <td>0.005120</td>\n",
              "      <td>23.14</td>\n",
              "      <td>32.33</td>\n",
              "      <td>155.30</td>\n",
              "      <td>1660.0</td>\n",
              "      <td>0.1376</td>\n",
              "      <td>0.3830</td>\n",
              "      <td>0.4890</td>\n",
              "      <td>0.786</td>\n",
              "      <td>0.1721</td>\n",
              "      <td>0.2160</td>\n",
              "      <td>0.09300</td>\n",
              "    </tr>\n",
              "    <tr>\n",
              "      <th>501</th>\n",
              "      <td>13.82</td>\n",
              "      <td>24.49</td>\n",
              "      <td>92.33</td>\n",
              "      <td>103.78</td>\n",
              "      <td>595.9</td>\n",
              "      <td>0.11620</td>\n",
              "      <td>0.16810</td>\n",
              "      <td>0.13570</td>\n",
              "      <td>0.06759</td>\n",
              "      <td>0.2275</td>\n",
              "      <td>0.07237</td>\n",
              "      <td>0.4751</td>\n",
              "      <td>1.5280</td>\n",
              "      <td>2.974</td>\n",
              "      <td>39.05</td>\n",
              "      <td>0.009680</td>\n",
              "      <td>0.03856</td>\n",
              "      <td>0.03476</td>\n",
              "      <td>0.01616</td>\n",
              "      <td>0.02434</td>\n",
              "      <td>0.006995</td>\n",
              "      <td>16.01</td>\n",
              "      <td>32.94</td>\n",
              "      <td>106.00</td>\n",
              "      <td>788.0</td>\n",
              "      <td>0.1794</td>\n",
              "      <td>0.3966</td>\n",
              "      <td>0.3381</td>\n",
              "      <td>0.786</td>\n",
              "      <td>0.1521</td>\n",
              "      <td>0.3651</td>\n",
              "      <td>0.11830</td>\n",
              "    </tr>\n",
              "    <tr>\n",
              "      <th>563</th>\n",
              "      <td>20.92</td>\n",
              "      <td>25.09</td>\n",
              "      <td>143.00</td>\n",
              "      <td>103.78</td>\n",
              "      <td>1347.0</td>\n",
              "      <td>0.10990</td>\n",
              "      <td>0.22360</td>\n",
              "      <td>0.31740</td>\n",
              "      <td>0.14740</td>\n",
              "      <td>0.2149</td>\n",
              "      <td>0.06879</td>\n",
              "      <td>0.9622</td>\n",
              "      <td>1.0260</td>\n",
              "      <td>8.758</td>\n",
              "      <td>118.80</td>\n",
              "      <td>0.006399</td>\n",
              "      <td>0.04310</td>\n",
              "      <td>0.07845</td>\n",
              "      <td>0.02624</td>\n",
              "      <td>0.02057</td>\n",
              "      <td>0.006213</td>\n",
              "      <td>24.29</td>\n",
              "      <td>29.41</td>\n",
              "      <td>179.10</td>\n",
              "      <td>1819.0</td>\n",
              "      <td>0.1407</td>\n",
              "      <td>0.4186</td>\n",
              "      <td>0.6599</td>\n",
              "      <td>0.786</td>\n",
              "      <td>0.2542</td>\n",
              "      <td>0.2929</td>\n",
              "      <td>0.09873</td>\n",
              "    </tr>\n",
              "  </tbody>\n",
              "</table>\n",
              "</div>"
            ],
            "text/plain": [
              "     exame_1  exame_2  exame_3  exame_4  ...  exame_29  exame_30  exame_31  exame_32\n",
              "268    12.87    16.21    82.38   103.78  ...     0.786    0.0578    0.3604   0.07062\n",
              "422    11.61    16.02    75.46   103.78  ...     0.786    0.1105    0.2787   0.07427\n",
              "168    17.47    24.68   116.10   103.78  ...     0.786    0.1721    0.2160   0.09300\n",
              "501    13.82    24.49    92.33   103.78  ...     0.786    0.1521    0.3651   0.11830\n",
              "563    20.92    25.09   143.00   103.78  ...     0.786    0.2542    0.2929   0.09873\n",
              "\n",
              "[5 rows x 32 columns]"
            ]
          },
          "metadata": {
            "tags": []
          },
          "execution_count": 11
        }
      ]
    },
    {
      "cell_type": "code",
      "metadata": {
        "id": "CRmis92PNz-L",
        "colab": {
          "base_uri": "https://localhost:8080/",
          "height": 34
        },
        "outputId": "9c8db539-b707-4947-dfdc-a992e004afe4"
      },
      "source": [
        "clf = RandomForestClassifier(n_estimators=100)\n",
        "clf.fit(X_train, y_train)\n",
        "print('Score', clf.score(X_test, y_test)*100)\n",
        "\n",
        "# is it a good baseline?"
      ],
      "execution_count": null,
      "outputs": [
        {
          "output_type": "stream",
          "text": [
            "Score 92.39766081871345\n"
          ],
          "name": "stdout"
        }
      ]
    },
    {
      "cell_type": "code",
      "metadata": {
        "id": "SQmpiOG1ORkz",
        "colab": {
          "base_uri": "https://localhost:8080/",
          "height": 34
        },
        "outputId": "c4cd205f-c4af-487b-fab4-d799ff33d595"
      },
      "source": [
        "# Dummy classifier model\n",
        "clf_dummy = DummyClassifier(strategy='most_frequent')\n",
        "clf_dummy.fit(X_train, y_train)\n",
        "print('Score Dummy', clf_dummy.score(X_test, y_test)*100)"
      ],
      "execution_count": null,
      "outputs": [
        {
          "output_type": "stream",
          "text": [
            "Score Dummy 66.66666666666666\n"
          ],
          "name": "stdout"
        }
      ]
    },
    {
      "cell_type": "code",
      "metadata": {
        "id": "JE4R58MCJJ5c"
      },
      "source": [
        "# standard scaler\n",
        "scaled_data = StandardScaler()\n",
        "exams_values = scaled_data.fit_transform(X)\n",
        "\n",
        "exams_values = pd.DataFrame(data = exams_values,\n",
        "                            columns = X.keys())"
      ],
      "execution_count": null,
      "outputs": []
    },
    {
      "cell_type": "code",
      "metadata": {
        "id": "ynNgMfjfYODw"
      },
      "source": [
        "# plot function\n",
        "def violin_plot(values, start, end):\n",
        "  plot_data = pd.concat([y_train, values.iloc[:,start:end]], axis=1)\n",
        "  plot_data = pd.melt(plot_data, id_vars='diagnostico',\n",
        "                      var_name='exames',\n",
        "                      value_name='valores')\n",
        "  plt.figure(figsize=(10,10))\n",
        "  sns.violinplot(x = 'exames', \n",
        "                 y = 'valores', hue = 'diagnostico', \n",
        "                 data = plot_data, split = True)\n",
        "  plt.xticks(rotation=90)"
      ],
      "execution_count": null,
      "outputs": []
    },
    {
      "cell_type": "code",
      "metadata": {
        "id": "yDeu3-PNY_zu",
        "colab": {
          "base_uri": "https://localhost:8080/",
          "height": 641
        },
        "outputId": "de2e0c01-04a7-40ae-b103-bd19ea9449e4"
      },
      "source": [
        "violin_plot(exams_values, 0, 5)"
      ],
      "execution_count": null,
      "outputs": [
        {
          "output_type": "display_data",
          "data": {
            "image/png": "[encoded data removed]",
            "text/plain": [
              "<Figure size 720x720 with 1 Axes>"
            ]
          },
          "metadata": {
            "tags": [],
            "needs_background": "light"
          }
        }
      ]
    },
    {
      "cell_type": "code",
      "metadata": {
        "id": "TCPQ_NPneYlR",
        "colab": {
          "base_uri": "https://localhost:8080/",
          "height": 647
        },
        "outputId": "e100ba8e-35ba-4caa-c99e-a8b2a724bace"
      },
      "source": [
        "violin_plot(exams_values, 5, 10)"
      ],
      "execution_count": null,
      "outputs": [
        {
          "output_type": "display_data",
          "data": {
            "image/png": "[encoded data removed]",
            "text/plain": [
              "<Figure size 720x720 with 1 Axes>"
            ]
          },
          "metadata": {
            "tags": [],
            "needs_background": "light"
          }
        }
      ]
    },
    {
      "cell_type": "code",
      "metadata": {
        "id": "_vI3BZKtJ8YX",
        "colab": {
          "base_uri": "https://localhost:8080/",
          "height": 647
        },
        "outputId": "fbcd593b-f9f2-4797-8163-094ccc35a7d9"
      },
      "source": [
        "violin_plot(exams_values, 10, 15)"
      ],
      "execution_count": null,
      "outputs": [
        {
          "output_type": "display_data",
          "data": {
            "image/png": "[encoded data removed]",
            "text/plain": [
              "<Figure size 720x720 with 1 Axes>"
            ]
          },
          "metadata": {
            "tags": [],
            "needs_background": "light"
          }
        }
      ]
    },
    {
      "cell_type": "code",
      "metadata": {
        "id": "qd6u02s5KQt7",
        "colab": {
          "base_uri": "https://localhost:8080/",
          "height": 647
        },
        "outputId": "102e1e4e-af89-49e1-d0a7-00b455da3afb"
      },
      "source": [
        "violin_plot(exams_values, 15, 21)"
      ],
      "execution_count": null,
      "outputs": [
        {
          "output_type": "display_data",
          "data": {
            "image/png": "[encoded data removed]",
            "text/plain": [
              "<Figure size 720x720 with 1 Axes>"
            ]
          },
          "metadata": {
            "tags": [],
            "needs_background": "light"
          }
        }
      ]
    },
    {
      "cell_type": "code",
      "metadata": {
        "id": "Z3CCnYCPKTOh",
        "colab": {
          "base_uri": "https://localhost:8080/",
          "height": 647
        },
        "outputId": "064a11dd-388d-45a1-d09b-ab4637ed9452"
      },
      "source": [
        "violin_plot(exams_values, 21, 26)"
      ],
      "execution_count": null,
      "outputs": [
        {
          "output_type": "display_data",
          "data": {
            "image/png": "[encoded data removed]",
            "text/plain": [
              "<Figure size 720x720 with 1 Axes>"
            ]
          },
          "metadata": {
            "tags": [],
            "needs_background": "light"
          }
        }
      ]
    },
    {
      "cell_type": "code",
      "metadata": {
        "id": "98Foj9YDKmq5",
        "colab": {
          "base_uri": "https://localhost:8080/",
          "height": 647
        },
        "outputId": "c11e54ae-bded-45a0-ee35-ca8ba3eec4f1"
      },
      "source": [
        "violin_plot(exams_values, 26, 31)"
      ],
      "execution_count": null,
      "outputs": [
        {
          "output_type": "display_data",
          "data": {
            "image/png": "[encoded data removed]",
            "text/plain": [
              "<Figure size 720x720 with 1 Axes>"
            ]
          },
          "metadata": {
            "tags": [],
            "needs_background": "light"
          }
        }
      ]
    },
    {
      "cell_type": "code",
      "metadata": {
        "id": "CYGC0mSUNVN9",
        "colab": {
          "base_uri": "https://localhost:8080/",
          "height": 34
        },
        "outputId": "ff6e91d1-c26f-48c4-a390-07da293b77ff"
      },
      "source": [
        "exams_values.shape"
      ],
      "execution_count": null,
      "outputs": [
        {
          "output_type": "execute_result",
          "data": {
            "text/plain": [
              "(569, 32)"
            ]
          },
          "metadata": {
            "tags": []
          },
          "execution_count": 22
        }
      ]
    },
    {
      "cell_type": "code",
      "metadata": {
        "id": "YT1pFYrYKpGp",
        "colab": {
          "base_uri": "https://localhost:8080/",
          "height": 34
        },
        "outputId": "41363c32-ebd0-4c73-be85-41360157b1a8"
      },
      "source": [
        "# drop 'exame_4' e 'exame_29'\n",
        "exams_values = exams_values.drop(['exame_4', 'exame_29'], axis=1)\n",
        "exams_values.shape"
      ],
      "execution_count": null,
      "outputs": [
        {
          "output_type": "execute_result",
          "data": {
            "text/plain": [
              "(569, 30)"
            ]
          },
          "metadata": {
            "tags": []
          },
          "execution_count": 23
        }
      ]
    },
    {
      "cell_type": "code",
      "metadata": {
        "id": "Q4pwhT_DNXcd",
        "colab": {
          "base_uri": "https://localhost:8080/",
          "height": 544
        },
        "outputId": "c0b15285-88a1-4558-b282-99259f017ec2"
      },
      "source": [
        "# correlation\n",
        "correlation_matrix = exams_values.corr()\n",
        "correlation_matrix_v1 = correlation_matrix[correlation_matrix>0.99].sum()\n",
        "correlation_matrix_v1"
      ],
      "execution_count": null,
      "outputs": [
        {
          "output_type": "execute_result",
          "data": {
            "text/plain": [
              "exame_1     1.997855\n",
              "exame_2     1.000000\n",
              "exame_3     1.997855\n",
              "exame_5     1.000000\n",
              "exame_6     1.000000\n",
              "exame_7     1.000000\n",
              "exame_8     1.000000\n",
              "exame_9     1.000000\n",
              "exame_10    1.000000\n",
              "exame_11    1.000000\n",
              "exame_12    1.000000\n",
              "exame_13    1.000000\n",
              "exame_14    1.000000\n",
              "exame_15    1.000000\n",
              "exame_16    1.000000\n",
              "exame_17    1.000000\n",
              "exame_18    1.000000\n",
              "exame_19    1.000000\n",
              "exame_20    1.000000\n",
              "exame_21    1.000000\n",
              "exame_22    1.993708\n",
              "exame_23    1.000000\n",
              "exame_24    1.993708\n",
              "exame_25    1.000000\n",
              "exame_26    1.000000\n",
              "exame_27    1.000000\n",
              "exame_28    1.000000\n",
              "exame_30    1.000000\n",
              "exame_31    1.000000\n",
              "exame_32    1.000000\n",
              "dtype: float64"
            ]
          },
          "metadata": {
            "tags": []
          },
          "execution_count": 24
        }
      ]
    },
    {
      "cell_type": "code",
      "metadata": {
        "id": "K0uxvCMLNchy",
        "colab": {
          "base_uri": "https://localhost:8080/",
          "height": 102
        },
        "outputId": "fb01c6ca-9cc1-4c91-fe34-29a7136ff4a8"
      },
      "source": [
        "correlation_matrix_v2 = correlation_matrix_v1[correlation_matrix_v1>1]\n",
        "correlation_matrix_v2"
      ],
      "execution_count": null,
      "outputs": [
        {
          "output_type": "execute_result",
          "data": {
            "text/plain": [
              "exame_1     1.997855\n",
              "exame_3     1.997855\n",
              "exame_22    1.993708\n",
              "exame_24    1.993708\n",
              "dtype: float64"
            ]
          },
          "metadata": {
            "tags": []
          },
          "execution_count": 25
        }
      ]
    },
    {
      "cell_type": "code",
      "metadata": {
        "id": "MeGmav5CSOub",
        "colab": {
          "base_uri": "https://localhost:8080/",
          "height": 439
        },
        "outputId": "32f325fb-5a0b-4962-a6e3-190093a0b50d"
      },
      "source": [
        "correlation_matrix_v3 = exams_values.drop(columns=['exame_3', 'exame_24'])\n",
        "correlation_matrix_v3\n"
      ],
      "execution_count": null,
      "outputs": [
        {
          "output_type": "execute_result",
          "data": {
            "text/html": [
              "<div>\n",
              "<style scoped>\n",
              "    .dataframe tbody tr th:only-of-type {\n",
              "        vertical-align: middle;\n",
              "    }\n",
              "\n",
              "    .dataframe tbody tr th {\n",
              "        vertical-align: top;\n",
              "    }\n",
              "\n",
              "    .dataframe thead th {\n",
              "        text-align: right;\n",
              "    }\n",
              "</style>\n",
              "<table border=\"1\" class=\"dataframe\">\n",
              "  <thead>\n",
              "    <tr style=\"text-align: right;\">\n",
              "      <th></th>\n",
              "      <th>exame_1</th>\n",
              "      <th>exame_2</th>\n",
              "      <th>exame_5</th>\n",
              "      <th>exame_6</th>\n",
              "      <th>exame_7</th>\n",
              "      <th>exame_8</th>\n",
              "      <th>exame_9</th>\n",
              "      <th>exame_10</th>\n",
              "      <th>exame_11</th>\n",
              "      <th>exame_12</th>\n",
              "      <th>exame_13</th>\n",
              "      <th>exame_14</th>\n",
              "      <th>exame_15</th>\n",
              "      <th>exame_16</th>\n",
              "      <th>exame_17</th>\n",
              "      <th>exame_18</th>\n",
              "      <th>exame_19</th>\n",
              "      <th>exame_20</th>\n",
              "      <th>exame_21</th>\n",
              "      <th>exame_22</th>\n",
              "      <th>exame_23</th>\n",
              "      <th>exame_25</th>\n",
              "      <th>exame_26</th>\n",
              "      <th>exame_27</th>\n",
              "      <th>exame_28</th>\n",
              "      <th>exame_30</th>\n",
              "      <th>exame_31</th>\n",
              "      <th>exame_32</th>\n",
              "    </tr>\n",
              "  </thead>\n",
              "  <tbody>\n",
              "    <tr>\n",
              "      <th>0</th>\n",
              "      <td>1.097064</td>\n",
              "      <td>-2.073335</td>\n",
              "      <td>0.984375</td>\n",
              "      <td>1.568466</td>\n",
              "      <td>3.283515</td>\n",
              "      <td>2.652874</td>\n",
              "      <td>2.532475</td>\n",
              "      <td>2.217515</td>\n",
              "      <td>2.255747</td>\n",
              "      <td>2.489734</td>\n",
              "      <td>-0.565265</td>\n",
              "      <td>2.833031</td>\n",
              "      <td>2.487578</td>\n",
              "      <td>-0.214002</td>\n",
              "      <td>1.316862</td>\n",
              "      <td>0.724026</td>\n",
              "      <td>0.660820</td>\n",
              "      <td>1.148757</td>\n",
              "      <td>0.907083</td>\n",
              "      <td>1.886690</td>\n",
              "      <td>-1.359293</td>\n",
              "      <td>2.001237</td>\n",
              "      <td>1.307686</td>\n",
              "      <td>2.616665</td>\n",
              "      <td>2.109526</td>\n",
              "      <td>2.296076</td>\n",
              "      <td>2.750622</td>\n",
              "      <td>1.937015</td>\n",
              "    </tr>\n",
              "    <tr>\n",
              "      <th>1</th>\n",
              "      <td>1.829821</td>\n",
              "      <td>-0.353632</td>\n",
              "      <td>1.908708</td>\n",
              "      <td>-0.826962</td>\n",
              "      <td>-0.487072</td>\n",
              "      <td>-0.023846</td>\n",
              "      <td>0.548144</td>\n",
              "      <td>0.001392</td>\n",
              "      <td>-0.868652</td>\n",
              "      <td>0.499255</td>\n",
              "      <td>-0.876244</td>\n",
              "      <td>0.263327</td>\n",
              "      <td>0.742402</td>\n",
              "      <td>-0.605351</td>\n",
              "      <td>-0.692926</td>\n",
              "      <td>-0.440780</td>\n",
              "      <td>0.260162</td>\n",
              "      <td>-0.805450</td>\n",
              "      <td>-0.099444</td>\n",
              "      <td>1.805927</td>\n",
              "      <td>-0.369203</td>\n",
              "      <td>1.890489</td>\n",
              "      <td>-0.375612</td>\n",
              "      <td>-0.430444</td>\n",
              "      <td>-0.146749</td>\n",
              "      <td>1.087084</td>\n",
              "      <td>-0.243890</td>\n",
              "      <td>0.281190</td>\n",
              "    </tr>\n",
              "    <tr>\n",
              "      <th>2</th>\n",
              "      <td>1.579888</td>\n",
              "      <td>0.456187</td>\n",
              "      <td>1.558884</td>\n",
              "      <td>0.942210</td>\n",
              "      <td>1.052926</td>\n",
              "      <td>1.363478</td>\n",
              "      <td>2.037231</td>\n",
              "      <td>0.939685</td>\n",
              "      <td>-0.398008</td>\n",
              "      <td>1.228676</td>\n",
              "      <td>-0.780083</td>\n",
              "      <td>0.850928</td>\n",
              "      <td>1.181336</td>\n",
              "      <td>-0.297005</td>\n",
              "      <td>0.814974</td>\n",
              "      <td>0.213076</td>\n",
              "      <td>1.424827</td>\n",
              "      <td>0.237036</td>\n",
              "      <td>0.293559</td>\n",
              "      <td>1.511870</td>\n",
              "      <td>-0.023974</td>\n",
              "      <td>1.456285</td>\n",
              "      <td>0.527407</td>\n",
              "      <td>1.082932</td>\n",
              "      <td>0.854974</td>\n",
              "      <td>1.955000</td>\n",
              "      <td>1.152255</td>\n",
              "      <td>0.201391</td>\n",
              "    </tr>\n",
              "    <tr>\n",
              "      <th>3</th>\n",
              "      <td>-0.768909</td>\n",
              "      <td>0.253732</td>\n",
              "      <td>-0.764464</td>\n",
              "      <td>3.283553</td>\n",
              "      <td>3.402909</td>\n",
              "      <td>1.915897</td>\n",
              "      <td>1.451707</td>\n",
              "      <td>2.867383</td>\n",
              "      <td>4.910919</td>\n",
              "      <td>0.326373</td>\n",
              "      <td>-0.110409</td>\n",
              "      <td>0.286593</td>\n",
              "      <td>-0.288378</td>\n",
              "      <td>0.689702</td>\n",
              "      <td>2.744280</td>\n",
              "      <td>0.819518</td>\n",
              "      <td>1.115007</td>\n",
              "      <td>4.732680</td>\n",
              "      <td>2.047511</td>\n",
              "      <td>-0.281464</td>\n",
              "      <td>0.133984</td>\n",
              "      <td>-0.550021</td>\n",
              "      <td>3.394275</td>\n",
              "      <td>3.893397</td>\n",
              "      <td>1.989588</td>\n",
              "      <td>2.175786</td>\n",
              "      <td>6.046041</td>\n",
              "      <td>4.935010</td>\n",
              "    </tr>\n",
              "    <tr>\n",
              "      <th>4</th>\n",
              "      <td>1.750297</td>\n",
              "      <td>-1.151816</td>\n",
              "      <td>1.826229</td>\n",
              "      <td>0.280372</td>\n",
              "      <td>0.539340</td>\n",
              "      <td>1.371011</td>\n",
              "      <td>1.428493</td>\n",
              "      <td>-0.009560</td>\n",
              "      <td>-0.562450</td>\n",
              "      <td>1.270543</td>\n",
              "      <td>-0.790244</td>\n",
              "      <td>1.273189</td>\n",
              "      <td>1.190357</td>\n",
              "      <td>1.483067</td>\n",
              "      <td>-0.048520</td>\n",
              "      <td>0.828471</td>\n",
              "      <td>1.144205</td>\n",
              "      <td>-0.361092</td>\n",
              "      <td>0.499328</td>\n",
              "      <td>1.298575</td>\n",
              "      <td>-1.466770</td>\n",
              "      <td>1.220724</td>\n",
              "      <td>0.220556</td>\n",
              "      <td>-0.313395</td>\n",
              "      <td>0.613179</td>\n",
              "      <td>0.729259</td>\n",
              "      <td>-0.868353</td>\n",
              "      <td>-0.397100</td>\n",
              "    </tr>\n",
              "    <tr>\n",
              "      <th>...</th>\n",
              "      <td>...</td>\n",
              "      <td>...</td>\n",
              "      <td>...</td>\n",
              "      <td>...</td>\n",
              "      <td>...</td>\n",
              "      <td>...</td>\n",
              "      <td>...</td>\n",
              "      <td>...</td>\n",
              "      <td>...</td>\n",
              "      <td>...</td>\n",
              "      <td>...</td>\n",
              "      <td>...</td>\n",
              "      <td>...</td>\n",
              "      <td>...</td>\n",
              "      <td>...</td>\n",
              "      <td>...</td>\n",
              "      <td>...</td>\n",
              "      <td>...</td>\n",
              "      <td>...</td>\n",
              "      <td>...</td>\n",
              "      <td>...</td>\n",
              "      <td>...</td>\n",
              "      <td>...</td>\n",
              "      <td>...</td>\n",
              "      <td>...</td>\n",
              "      <td>...</td>\n",
              "      <td>...</td>\n",
              "      <td>...</td>\n",
              "    </tr>\n",
              "    <tr>\n",
              "      <th>564</th>\n",
              "      <td>2.110995</td>\n",
              "      <td>0.721473</td>\n",
              "      <td>2.343856</td>\n",
              "      <td>1.041842</td>\n",
              "      <td>0.219060</td>\n",
              "      <td>1.947285</td>\n",
              "      <td>2.320965</td>\n",
              "      <td>-0.312589</td>\n",
              "      <td>-0.931027</td>\n",
              "      <td>2.782080</td>\n",
              "      <td>0.071025</td>\n",
              "      <td>2.379583</td>\n",
              "      <td>2.604187</td>\n",
              "      <td>1.086384</td>\n",
              "      <td>0.191805</td>\n",
              "      <td>0.666001</td>\n",
              "      <td>2.067178</td>\n",
              "      <td>-1.138416</td>\n",
              "      <td>0.167980</td>\n",
              "      <td>1.901185</td>\n",
              "      <td>0.117700</td>\n",
              "      <td>2.015301</td>\n",
              "      <td>0.378365</td>\n",
              "      <td>-0.273318</td>\n",
              "      <td>0.664512</td>\n",
              "      <td>1.629151</td>\n",
              "      <td>-1.360158</td>\n",
              "      <td>-0.709091</td>\n",
              "    </tr>\n",
              "    <tr>\n",
              "      <th>565</th>\n",
              "      <td>1.704854</td>\n",
              "      <td>2.085134</td>\n",
              "      <td>1.723842</td>\n",
              "      <td>0.102458</td>\n",
              "      <td>-0.017833</td>\n",
              "      <td>0.693043</td>\n",
              "      <td>1.263669</td>\n",
              "      <td>-0.217664</td>\n",
              "      <td>-1.058611</td>\n",
              "      <td>1.300499</td>\n",
              "      <td>2.260938</td>\n",
              "      <td>1.156857</td>\n",
              "      <td>1.291565</td>\n",
              "      <td>-0.424010</td>\n",
              "      <td>-0.069758</td>\n",
              "      <td>0.252202</td>\n",
              "      <td>0.808431</td>\n",
              "      <td>-0.189161</td>\n",
              "      <td>-0.490556</td>\n",
              "      <td>1.536720</td>\n",
              "      <td>2.047399</td>\n",
              "      <td>1.494959</td>\n",
              "      <td>-0.691230</td>\n",
              "      <td>-0.394820</td>\n",
              "      <td>0.236573</td>\n",
              "      <td>0.733827</td>\n",
              "      <td>-0.531855</td>\n",
              "      <td>-0.973978</td>\n",
              "    </tr>\n",
              "    <tr>\n",
              "      <th>566</th>\n",
              "      <td>0.702284</td>\n",
              "      <td>2.045574</td>\n",
              "      <td>0.577953</td>\n",
              "      <td>-0.840484</td>\n",
              "      <td>-0.038680</td>\n",
              "      <td>0.046588</td>\n",
              "      <td>0.105777</td>\n",
              "      <td>-0.809117</td>\n",
              "      <td>-0.895587</td>\n",
              "      <td>0.184892</td>\n",
              "      <td>-0.257371</td>\n",
              "      <td>0.276693</td>\n",
              "      <td>0.180698</td>\n",
              "      <td>-0.379342</td>\n",
              "      <td>0.661277</td>\n",
              "      <td>0.510827</td>\n",
              "      <td>0.612157</td>\n",
              "      <td>-0.891416</td>\n",
              "      <td>0.036727</td>\n",
              "      <td>0.561361</td>\n",
              "      <td>1.374854</td>\n",
              "      <td>0.427906</td>\n",
              "      <td>-0.809587</td>\n",
              "      <td>0.350735</td>\n",
              "      <td>0.326767</td>\n",
              "      <td>0.414069</td>\n",
              "      <td>-1.104549</td>\n",
              "      <td>-0.318409</td>\n",
              "    </tr>\n",
              "    <tr>\n",
              "      <th>567</th>\n",
              "      <td>1.838341</td>\n",
              "      <td>2.336457</td>\n",
              "      <td>1.735218</td>\n",
              "      <td>1.525767</td>\n",
              "      <td>3.272144</td>\n",
              "      <td>3.296944</td>\n",
              "      <td>2.658866</td>\n",
              "      <td>2.137194</td>\n",
              "      <td>1.043695</td>\n",
              "      <td>1.157935</td>\n",
              "      <td>0.686088</td>\n",
              "      <td>1.438530</td>\n",
              "      <td>1.009503</td>\n",
              "      <td>-0.173000</td>\n",
              "      <td>2.017716</td>\n",
              "      <td>1.302285</td>\n",
              "      <td>0.785721</td>\n",
              "      <td>0.326634</td>\n",
              "      <td>0.904057</td>\n",
              "      <td>1.961239</td>\n",
              "      <td>2.237926</td>\n",
              "      <td>1.653171</td>\n",
              "      <td>1.430427</td>\n",
              "      <td>3.904848</td>\n",
              "      <td>3.197605</td>\n",
              "      <td>2.289985</td>\n",
              "      <td>1.919083</td>\n",
              "      <td>2.219635</td>\n",
              "    </tr>\n",
              "    <tr>\n",
              "      <th>568</th>\n",
              "      <td>-1.808401</td>\n",
              "      <td>1.221792</td>\n",
              "      <td>-1.347789</td>\n",
              "      <td>-3.112085</td>\n",
              "      <td>-1.150752</td>\n",
              "      <td>-1.114873</td>\n",
              "      <td>-1.261820</td>\n",
              "      <td>-0.820070</td>\n",
              "      <td>-0.561032</td>\n",
              "      <td>-0.070279</td>\n",
              "      <td>0.383092</td>\n",
              "      <td>-0.157449</td>\n",
              "      <td>-0.466152</td>\n",
              "      <td>0.049342</td>\n",
              "      <td>-1.163516</td>\n",
              "      <td>-1.057501</td>\n",
              "      <td>-1.913447</td>\n",
              "      <td>0.752830</td>\n",
              "      <td>-0.382754</td>\n",
              "      <td>-1.410893</td>\n",
              "      <td>0.764190</td>\n",
              "      <td>-1.075813</td>\n",
              "      <td>-1.859019</td>\n",
              "      <td>-1.207552</td>\n",
              "      <td>-1.305831</td>\n",
              "      <td>-1.745063</td>\n",
              "      <td>-0.048138</td>\n",
              "      <td>-0.751207</td>\n",
              "    </tr>\n",
              "  </tbody>\n",
              "</table>\n",
              "<p>569 rows × 28 columns</p>\n",
              "</div>"
            ],
            "text/plain": [
              "      exame_1   exame_2   exame_5  ...  exame_30  exame_31  exame_32\n",
              "0    1.097064 -2.073335  0.984375  ...  2.296076  2.750622  1.937015\n",
              "1    1.829821 -0.353632  1.908708  ...  1.087084 -0.243890  0.281190\n",
              "2    1.579888  0.456187  1.558884  ...  1.955000  1.152255  0.201391\n",
              "3   -0.768909  0.253732 -0.764464  ...  2.175786  6.046041  4.935010\n",
              "4    1.750297 -1.151816  1.826229  ...  0.729259 -0.868353 -0.397100\n",
              "..        ...       ...       ...  ...       ...       ...       ...\n",
              "564  2.110995  0.721473  2.343856  ...  1.629151 -1.360158 -0.709091\n",
              "565  1.704854  2.085134  1.723842  ...  0.733827 -0.531855 -0.973978\n",
              "566  0.702284  2.045574  0.577953  ...  0.414069 -1.104549 -0.318409\n",
              "567  1.838341  2.336457  1.735218  ...  2.289985  1.919083  2.219635\n",
              "568 -1.808401  1.221792 -1.347789  ... -1.745063 -0.048138 -0.751207\n",
              "\n",
              "[569 rows x 28 columns]"
            ]
          },
          "metadata": {
            "tags": []
          },
          "execution_count": 26
        }
      ]
    },
    {
      "cell_type": "code",
      "metadata": {
        "id": "5vCZKe4ZSnmq",
        "colab": {
          "base_uri": "https://localhost:8080/",
          "height": 34
        },
        "outputId": "1ade4ec7-1731-4a0c-e0b6-855b8f746ce3"
      },
      "source": [
        "SEED = 123143\n",
        "np.random.seed(SEED)\n",
        "\n",
        "# split train test\n",
        "X_train, X_test, y_train, y_test = train_test_split(correlation_matrix_v3, y, test_size=0.3)\n",
        "\n",
        "clf = RandomForestClassifier(n_estimators=100)\n",
        "clf.fit(X_train, y_train)\n",
        "print(\"score sem variaiveis correlacionadas\", clf.score(X_test, y_test)*100)"
      ],
      "execution_count": null,
      "outputs": [
        {
          "output_type": "stream",
          "text": [
            "score sem variaiveis correlacionadas 92.98245614035088\n"
          ],
          "name": "stdout"
        }
      ]
    },
    {
      "cell_type": "code",
      "metadata": {
        "id": "wOQLGPu8TmQ8"
      },
      "source": [
        "# ele faz todos os pré processamentos e depois divide de novo entre treino e teste - não são todos as transformações de veriáveis que permitem isso"
      ],
      "execution_count": null,
      "outputs": []
    },
    {
      "cell_type": "code",
      "metadata": {
        "id": "xBOw9mecYCui"
      },
      "source": [
        "# use again not scaled dataset\n",
        "X_1 = X.drop(['exame_4', 'exame_29', 'exame_3', 'exame_24'], axis=1)"
      ],
      "execution_count": null,
      "outputs": []
    },
    {
      "cell_type": "code",
      "metadata": {
        "id": "3uk5zTrzYsWd"
      },
      "source": [
        ""
      ],
      "execution_count": null,
      "outputs": []
    },
    {
      "cell_type": "code",
      "metadata": {
        "id": "uvlle7y3UwDp"
      },
      "source": [
        "\n",
        "SEED = 123143\n",
        "np.random.seed(SEED)\n",
        "\n",
        "# split train test\n",
        "X_train, X_test, y_train, y_test = train_test_split(X_1, y, test_size=0.3)"
      ],
      "execution_count": null,
      "outputs": []
    },
    {
      "cell_type": "code",
      "metadata": {
        "id": "o4GI2ntYcn1t",
        "colab": {
          "base_uri": "https://localhost:8080/",
          "height": 34
        },
        "outputId": "419263ec-438a-48c9-bfa3-d399a70195b9"
      },
      "source": [
        "X_train.shape, y_train.shape"
      ],
      "execution_count": null,
      "outputs": [
        {
          "output_type": "execute_result",
          "data": {
            "text/plain": [
              "((398, 28), (398,))"
            ]
          },
          "metadata": {
            "tags": []
          },
          "execution_count": 45
        }
      ]
    },
    {
      "cell_type": "code",
      "metadata": {
        "id": "SUUY5NMrYeC5",
        "colab": {
          "base_uri": "https://localhost:8080/",
          "height": 559,
          "referenced_widgets": [
            "3d9964f3a78e4734bc428e92b54968f5",
            "8d0e171137f84081af3ced276e205c43",
            "16e4e87fdade4123a41058ef715d8064",
            "7665d91f0a554884b91ef70bf2ee737a",
            "e1dea8a951844fb8aab0ee06ee3bdd8c",
            "241d24f48f1a4d3eada1a576e7323066",
            "24097174ae2f466db39065d393c88da9",
            "f950d43c8ebc4655bb7683ee84b20bce"
          ]
        },
        "outputId": "4d5f39d3-fe48-40cb-e5d1-e2bf173efb5e"
      },
      "source": [
        "scores = []\n",
        "for k in tqdm(range(3,29)):\n",
        "  select_features = SelectKBest(chi2, k = k)\n",
        "  select_features.fit(X_train, y_train)\n",
        "  train_kbest = select_features.transform(X_train)\n",
        "  test_kbest = select_features.transform(X_test)\n",
        "\n",
        "  clf = RandomForestClassifier(n_estimators=100, random_state=1234)\n",
        "  clf.fit(train_kbest, y_train)\n",
        "  score = clf.score(test_kbest, y_test)\n",
        "  scores.append(score)\n",
        "  print('K = ', k, 'Score: ', round(score*100, 2))\n",
        "  #select_rfe = RFE(esimator = clf, n_features_to_select=k, step=1)\n",
        "  #select_rfe.fit(X_train, y_train)\n",
        "  #train_rfe = select_rfe.transform(X_train)\n",
        "  #test_rfe  = select_rfe.transform(X_test)\n",
        "\n",
        "\n",
        "# which features were selected???"
      ],
      "execution_count": null,
      "outputs": [
        {
          "output_type": "stream",
          "text": [
            "/usr/local/lib/python3.6/dist-packages/ipykernel_launcher.py:2: TqdmDeprecationWarning: This function will be removed in tqdm==5.0.0\n",
            "Please use `tqdm.notebook.tqdm` instead of `tqdm.tqdm_notebook`\n",
            "  \n"
          ],
          "name": "stderr"
        },
        {
          "output_type": "display_data",
          "data": {
            "application/vnd.jupyter.widget-view+json": {
              "model_id": "3d9964f3a78e4734bc428e92b54968f5",
              "version_minor": 0,
              "version_major": 2
            },
            "text/plain": [
              "HBox(children=(FloatProgress(value=0.0, max=26.0), HTML(value='')))"
            ]
          },
          "metadata": {
            "tags": []
          }
        },
        {
          "output_type": "stream",
          "text": [
            "K =  3 Score:  94.15\n",
            "K =  4 Score:  95.91\n",
            "K =  5 Score:  95.32\n",
            "K =  6 Score:  94.15\n",
            "K =  7 Score:  95.91\n",
            "K =  8 Score:  96.49\n",
            "K =  9 Score:  96.49\n",
            "K =  10 Score:  96.49\n",
            "K =  11 Score:  95.32\n",
            "K =  12 Score:  94.74\n",
            "K =  13 Score:  94.74\n",
            "K =  14 Score:  95.32\n",
            "K =  15 Score:  94.74\n",
            "K =  16 Score:  92.98\n",
            "K =  17 Score:  93.57\n",
            "K =  18 Score:  92.98\n",
            "K =  19 Score:  92.98\n",
            "K =  20 Score:  94.15\n",
            "K =  21 Score:  94.15\n",
            "K =  22 Score:  92.98\n",
            "K =  23 Score:  93.57\n",
            "K =  24 Score:  92.98\n",
            "K =  25 Score:  92.4\n",
            "K =  26 Score:  94.15\n",
            "K =  27 Score:  94.15\n",
            "K =  28 Score:  94.15\n",
            "\n"
          ],
          "name": "stdout"
        }
      ]
    },
    {
      "cell_type": "code",
      "metadata": {
        "id": "0RTojnycc8mX",
        "colab": {
          "base_uri": "https://localhost:8080/",
          "height": 514
        },
        "outputId": "860846ed-99c4-4d16-968d-e7b06e2556a3"
      },
      "source": [
        "# plot \n",
        "plt.figure(figsize=(14,8))\n",
        "plt.xlabel(\"K\")\n",
        "plt.ylabel(\"Score\")\n",
        "plt.grid()\n",
        "plt.plot(range(3,29), scores)"
      ],
      "execution_count": null,
      "outputs": [
        {
          "output_type": "execute_result",
          "data": {
            "text/plain": [
              "[<matplotlib.lines.Line2D at 0x7fe052413c88>]"
            ]
          },
          "metadata": {
            "tags": []
          },
          "execution_count": 58
        },
        {
          "output_type": "display_data",
          "data": {
            "image/png": "[encoded data removed]",
            "text/plain": [
              "<Figure size 1008x576 with 1 Axes>"
            ]
          },
          "metadata": {
            "tags": [],
            "needs_background": "light"
          }
        }
      ]
    },
    {
      "cell_type": "code",
      "metadata": {
        "id": "7YY1eapjmaSP",
        "colab": {
          "base_uri": "https://localhost:8080/",
          "height": 68
        },
        "outputId": "b2974b56-b9e0-422f-e10c-753672d15471"
      },
      "source": [
        "# assistir Mario Filho de Novo\n",
        "\n",
        "# which features were selected???\n",
        "selector = SelectKBest(chi2, k=8)\n",
        "selector.fit(X_train, y_train)\n",
        "\n",
        "mask = selector.get_support()\n",
        "X_test.columns[mask]"
      ],
      "execution_count": null,
      "outputs": [
        {
          "output_type": "execute_result",
          "data": {
            "text/plain": [
              "Index(['exame_1', 'exame_2', 'exame_5', 'exame_14', 'exame_15', 'exame_22',\n",
              "       'exame_23', 'exame_25'],\n",
              "      dtype='object')"
            ]
          },
          "metadata": {
            "tags": []
          },
          "execution_count": 70
        }
      ]
    },
    {
      "cell_type": "code",
      "metadata": {
        "id": "ib9VjMe7uSRI",
        "colab": {
          "base_uri": "https://localhost:8080/",
          "height": 282
        },
        "outputId": "8f72aebe-e030-4ee6-ecdc-e358abd23c11"
      },
      "source": [
        "pd.Series(selector.scores_, index=X_train.columns).sort_values().tail(8).plot.barh()"
      ],
      "execution_count": null,
      "outputs": [
        {
          "output_type": "execute_result",
          "data": {
            "text/plain": [
              "<matplotlib.axes._subplots.AxesSubplot at 0x7fe043d13e10>"
            ]
          },
          "metadata": {
            "tags": []
          },
          "execution_count": 72
        },
        {
          "output_type": "display_data",
          "data": {
            "image/png": "[encoded data removed]",
            "text/plain": [
              "<Figure size 432x288 with 1 Axes>"
            ]
          },
          "metadata": {
            "tags": [],
            "needs_background": "light"
          }
        }
      ]
    },
    {
      "cell_type": "code",
      "metadata": {
        "id": "Piioq62guSWJ"
      },
      "source": [
        ""
      ],
      "execution_count": null,
      "outputs": []
    },
    {
      "cell_type": "code",
      "metadata": {
        "id": "yuyR6ejcuST-"
      },
      "source": [
        ""
      ],
      "execution_count": null,
      "outputs": []
    },
    {
      "cell_type": "code",
      "metadata": {
        "id": "p4f8F9DzoEAy",
        "colab": {
          "base_uri": "https://localhost:8080/",
          "height": 500
        },
        "outputId": "c33953bf-daa0-4ea2-b266-57f3a3d4f002"
      },
      "source": [
        "#PCA\n",
        "from sklearn.decomposition import PCA\n",
        "\n",
        "pca = PCA(n_components=2)\n",
        "train = pca.fit_transform(X_train)\n",
        "\n",
        "plt.figure(figsize=(14,8))\n",
        "sns.scatterplot(x = train[:, 0], y = train[:,1], hue =y_train)"
      ],
      "execution_count": null,
      "outputs": [
        {
          "output_type": "execute_result",
          "data": {
            "text/plain": [
              "<matplotlib.axes._subplots.AxesSubplot at 0x7fe0523349e8>"
            ]
          },
          "metadata": {
            "tags": []
          },
          "execution_count": 66
        },
        {
          "output_type": "display_data",
          "data": {
            "image/png": "[encoded data removed]",
            "text/plain": [
              "<Figure size 1008x576 with 1 Axes>"
            ]
          },
          "metadata": {
            "tags": [],
            "needs_background": "light"
          }
        }
      ]
    },
    {
      "cell_type": "code",
      "metadata": {
        "id": "t2_Z_XlMoWyS",
        "colab": {
          "base_uri": "https://localhost:8080/",
          "height": 1000
        },
        "outputId": "afc1042b-8d35-48e9-f8c9-03a1b4afd3a9"
      },
      "source": [
        "train"
      ],
      "execution_count": null,
      "outputs": [
        {
          "output_type": "execute_result",
          "data": {
            "text/plain": [
              "array([[-3.35735991e+02,  2.60372851e+01],\n",
              "       [-4.93797811e+02,  9.48645487e-01],\n",
              "       [ 8.21313380e+02, -1.22414620e+02],\n",
              "       [-1.28648715e+02, -1.45462386e+00],\n",
              "       [ 1.14513897e+03,  1.03336196e+02],\n",
              "       [-4.28626911e+02,  3.07538989e+01],\n",
              "       [-4.63670748e+02, -3.12568577e+01],\n",
              "       [-3.91682680e+02,  3.00302604e+01],\n",
              "       [-5.23197082e+02, -1.35968998e+01],\n",
              "       [-3.14733310e+02,  2.27261540e+01],\n",
              "       [ 9.81461745e+02, -1.06359301e+01],\n",
              "       [-1.44338475e+02,  7.85270289e+01],\n",
              "       [-4.60157225e+02, -1.44817827e+01],\n",
              "       [-2.34760216e+02,  5.23460543e+01],\n",
              "       [ 6.90245892e+02,  2.55798494e+00],\n",
              "       [-4.23225809e+02, -1.90534916e+01],\n",
              "       [-3.45543388e+02, -1.62025886e+01],\n",
              "       [-9.30931610e+01, -1.57279440e+01],\n",
              "       [ 1.58299343e+03,  3.27665969e+02],\n",
              "       [-3.41020791e+02,  2.92582771e+01],\n",
              "       [ 6.13650821e+02, -8.00551249e+01],\n",
              "       [-4.54562829e+02, -2.10919533e+01],\n",
              "       [-2.84951746e+02,  4.30560727e+01],\n",
              "       [-2.10535885e+02, -4.13782714e+01],\n",
              "       [ 9.52873231e+02, -2.70061286e+01],\n",
              "       [-6.87936740e+02, -3.97022038e+01],\n",
              "       [ 1.46139576e+03,  3.02889728e+02],\n",
              "       [ 5.56001059e+02,  4.34905843e+01],\n",
              "       [-6.38206732e+02, -4.53387935e+01],\n",
              "       [ 2.28222872e+03, -1.21601477e+02],\n",
              "       [ 3.09842640e+01, -1.34567692e+02],\n",
              "       [ 3.12757400e+02, -2.09913258e+01],\n",
              "       [-7.78109885e+01,  7.18742450e+01],\n",
              "       [-2.20038992e+02,  4.05096396e+01],\n",
              "       [ 7.82789319e+02, -1.62194982e+02],\n",
              "       [-5.85501151e+01, -4.15066954e+01],\n",
              "       [ 4.33530370e+02,  7.64614705e+01],\n",
              "       [ 5.34843406e+02,  6.45051707e+01],\n",
              "       [ 1.59315125e+03, -2.73272564e+02],\n",
              "       [-5.73403141e+02, -5.57910774e+01],\n",
              "       [-3.04473472e+02,  2.54697509e+01],\n",
              "       [-4.54300583e+02,  4.83435910e+00],\n",
              "       [ 1.39319900e+03,  1.08697529e+02],\n",
              "       [-1.01502863e+02, -1.30796669e+00],\n",
              "       [-9.29451272e+01,  6.41848406e+01],\n",
              "       [-6.89654549e+02, -4.18617703e+01],\n",
              "       [-3.03742118e+02,  1.53712387e+01],\n",
              "       [-6.28349235e+02, -3.03072394e+00],\n",
              "       [-3.17711542e+02,  8.22732085e+00],\n",
              "       [-6.09848040e+02, -2.58857758e+01],\n",
              "       [ 4.26949981e+02, -1.03064937e+02],\n",
              "       [ 1.85394813e+02,  8.94947463e+01],\n",
              "       [-6.53392372e+02, -1.42800238e+01],\n",
              "       [-5.65824521e+01,  3.52632292e+01],\n",
              "       [ 8.17495562e+02, -1.70380618e+01],\n",
              "       [ 6.25510537e+02, -1.14252602e+01],\n",
              "       [ 5.05758505e+02,  7.13425809e+01],\n",
              "       [ 2.80621576e+03,  1.43952536e+02],\n",
              "       [ 8.05777431e+02, -1.07363113e+01],\n",
              "       [-8.32576548e+02, -7.04296703e+01],\n",
              "       [ 9.75137671e+02,  3.72079106e+01],\n",
              "       [ 7.86827627e+02,  2.36218661e+00],\n",
              "       [-2.96352133e+02,  1.83534397e+00],\n",
              "       [-2.44139704e+02,  6.78369738e+01],\n",
              "       [-7.18845481e+02, -6.39949838e+01],\n",
              "       [-3.78683771e+02, -2.89413483e+01],\n",
              "       [-2.49816481e+02,  5.30744846e+01],\n",
              "       [-3.30187086e+01,  1.36555881e+01],\n",
              "       [ 2.34542663e+03,  7.44625965e+02],\n",
              "       [-6.38328208e+02, -5.29705111e+01],\n",
              "       [ 2.56201779e+03, -6.74614972e+02],\n",
              "       [-3.31045525e+02,  2.79293525e+01],\n",
              "       [-4.50078844e+01,  5.06865598e+01],\n",
              "       [-5.35676824e+02,  8.77947651e-01],\n",
              "       [-3.78971608e+02, -1.34076749e+00],\n",
              "       [-4.62674030e+02,  2.77259413e+01],\n",
              "       [-2.47516192e+02, -3.81084391e+01],\n",
              "       [-7.26168157e+02, -4.31813444e+01],\n",
              "       [ 5.16325246e+02,  1.96018934e+02],\n",
              "       [ 1.24491534e+03,  2.54175288e+01],\n",
              "       [-4.13698452e+02, -1.90664470e+01],\n",
              "       [-7.88308498e+02, -8.46022716e+01],\n",
              "       [-4.33678502e+02, -7.46164314e+00],\n",
              "       [-1.24652459e+02,  4.67635648e+01],\n",
              "       [ 1.85207502e+03, -2.64537389e+02],\n",
              "       [-6.47463153e+02, -4.26496396e+01],\n",
              "       [ 6.51034183e+01,  7.12943174e+01],\n",
              "       [-4.80614198e+02,  2.71973190e+01],\n",
              "       [-5.19981636e+02, -6.81777625e+00],\n",
              "       [-6.36139180e+02,  5.65045370e+00],\n",
              "       [ 3.52657670e+02, -1.36087814e+02],\n",
              "       [-5.40984378e+02,  3.19318276e+00],\n",
              "       [ 5.31072109e+02, -2.43566558e+01],\n",
              "       [ 8.36943622e+02,  1.35684965e+01],\n",
              "       [-4.12444212e+02,  2.34275959e+01],\n",
              "       [-4.08129065e+02,  3.57505345e+00],\n",
              "       [-7.02502843e+02, -1.14858601e+01],\n",
              "       [ 2.27416296e+03, -2.07391908e+02],\n",
              "       [-6.31211479e+02, -3.34270839e+01],\n",
              "       [-4.02235543e+02, -1.02594907e+01],\n",
              "       [ 6.10299528e+01,  3.30029778e+01],\n",
              "       [ 4.89322265e+02,  3.57003901e+01],\n",
              "       [ 2.69801330e+03, -6.89792322e+01],\n",
              "       [-2.29096638e+02,  2.98610861e+01],\n",
              "       [ 5.56194167e+02,  9.50541717e+01],\n",
              "       [ 3.28408763e+01,  1.23634536e+02],\n",
              "       [-7.62626594e+02, -5.25776529e+01],\n",
              "       [-2.10399367e+02,  1.30364831e+01],\n",
              "       [ 8.33881781e+02, -2.74788827e+01],\n",
              "       [-2.64850352e+02,  2.22450885e+01],\n",
              "       [-2.39057209e+02,  2.49078324e+01],\n",
              "       [-1.00228657e+02,  2.36415530e+01],\n",
              "       [-3.98277307e+02,  8.66429033e+00],\n",
              "       [-4.26214389e+02, -6.55912004e+01],\n",
              "       [ 4.49279833e+01,  5.02964640e+01],\n",
              "       [-3.70841525e+02,  2.74067550e+01],\n",
              "       [-4.84046322e+02, -1.05338313e+01],\n",
              "       [ 3.93032668e+02,  4.22292038e+01],\n",
              "       [ 1.13226981e+03,  3.75283325e+01],\n",
              "       [-4.84180021e+02, -6.82913806e+00],\n",
              "       [ 1.12845473e+02,  8.85768919e+01],\n",
              "       [-3.11781005e+02,  8.41450001e+00],\n",
              "       [ 1.35463464e+03, -6.96503395e+01],\n",
              "       [-5.88407987e+02,  6.50228025e+00],\n",
              "       [-3.51686487e+02,  3.25942617e+01],\n",
              "       [ 1.07847154e+03,  1.09559339e+02],\n",
              "       [-1.15608191e+02, -1.69141764e+01],\n",
              "       [-7.28093506e+02, -5.03438152e+01],\n",
              "       [-7.60957856e+02, -5.10061325e+01],\n",
              "       [-4.45327281e+02, -2.03558602e+01],\n",
              "       [ 4.71046281e+02,  1.35121375e+02],\n",
              "       [-5.68722803e+02, -2.47945540e+01],\n",
              "       [ 1.30848907e+02, -3.12793060e+01],\n",
              "       [-4.54658942e+02, -3.03927437e+01],\n",
              "       [-2.11342675e+02, -4.74792180e+00],\n",
              "       [-4.91582448e+02, -5.39163725e+01],\n",
              "       [-3.53199909e+02,  3.89960008e+01],\n",
              "       [-1.78870667e+02,  6.85274184e+01],\n",
              "       [-6.62229433e+02, -3.37396747e+01],\n",
              "       [ 1.13747510e+03, -2.94523010e+02],\n",
              "       [-5.06876340e+02, -4.74197992e+01],\n",
              "       [-2.38856244e+02,  4.47835831e+01],\n",
              "       [ 4.17242153e+01,  3.46634990e+01],\n",
              "       [-6.21084489e+02, -4.42349307e+01],\n",
              "       [-4.04275757e+02,  1.12731197e+01],\n",
              "       [ 1.04151099e+03,  6.74979375e+01],\n",
              "       [ 1.04113254e+03, -5.30049583e+01],\n",
              "       [-3.40270430e+02,  2.36857204e+01],\n",
              "       [-4.83401531e+01,  2.95720477e+01],\n",
              "       [-3.21308822e+02, -1.35396694e+00],\n",
              "       [-4.35069557e+02,  4.81856223e+00],\n",
              "       [-2.54464874e+02,  4.58024767e+01],\n",
              "       [ 6.99478741e+02,  1.47468969e+02],\n",
              "       [-2.78985304e+02, -2.99733094e+01],\n",
              "       [-1.36785026e+02,  5.93269755e+01],\n",
              "       [-9.79906800e+01,  6.99488604e+01],\n",
              "       [ 1.31780622e+03,  1.88266566e+01],\n",
              "       [-4.51627078e+02,  4.58279524e+00],\n",
              "       [ 1.69329982e+03, -3.91620932e+01],\n",
              "       [ 1.08133214e+03,  7.60687216e+01],\n",
              "       [-2.03510598e+02, -1.86170399e+01],\n",
              "       [-2.94700933e+02,  3.14178531e+01],\n",
              "       [-5.70746545e+02, -1.01056847e+00],\n",
              "       [-5.72987810e+02, -1.00251698e+01],\n",
              "       [ 3.70285387e+02, -1.06979562e+02],\n",
              "       [-3.83809823e+02,  3.16754514e+01],\n",
              "       [ 3.59648696e+02, -3.79666303e+01],\n",
              "       [-4.82248859e+02,  5.78419557e+00],\n",
              "       [-6.22204313e+02,  5.53534612e-01],\n",
              "       [ 1.81817322e+03,  8.66575044e+01],\n",
              "       [-1.29678184e+02, -7.79235076e+01],\n",
              "       [-4.71323992e+02,  1.12523402e+01],\n",
              "       [-6.75495706e+02, -2.01356002e+01],\n",
              "       [ 8.01293550e+02,  1.95851599e+02],\n",
              "       [-6.29333651e+02, -4.01929253e+01],\n",
              "       [-3.58761418e+02, -1.75028848e+01],\n",
              "       [-1.89431794e+02, -8.52504992e+00],\n",
              "       [ 1.27774983e+03, -1.29044885e+02],\n",
              "       [ 3.60510428e+01, -2.91463311e+01],\n",
              "       [-6.33119123e+01,  6.46435063e+01],\n",
              "       [-1.99267725e+02,  8.29472940e+01],\n",
              "       [ 7.90418972e+02, -7.74640990e+01],\n",
              "       [-4.23602680e+02, -2.68564583e+01],\n",
              "       [-3.15344433e+02, -9.36054479e+00],\n",
              "       [-4.34510135e+02, -8.45892090e-01],\n",
              "       [-2.03822352e+02,  3.23638321e+01],\n",
              "       [-2.89246835e+02,  2.68024927e+01],\n",
              "       [-2.78206262e+02,  2.23187393e+01],\n",
              "       [-1.90501104e+02,  9.34970447e+00],\n",
              "       [-3.21445940e+02,  8.35267791e+00],\n",
              "       [ 1.16292026e+03, -7.23493872e+01],\n",
              "       [-8.93694736e+01, -1.79660305e+01],\n",
              "       [-1.64052387e+02,  1.57703814e+01],\n",
              "       [-6.39639819e+02, -1.16276119e+01],\n",
              "       [-7.30743668e+02, -4.50873389e+01],\n",
              "       [-5.05906763e+02, -1.36941014e+01],\n",
              "       [-3.48464019e+02, -1.96754740e+01],\n",
              "       [ 9.26544834e+02, -1.88393807e-01],\n",
              "       [-4.11172248e+02, -6.10654862e+00],\n",
              "       [-4.44708412e+01, -7.32038364e+01],\n",
              "       [ 8.25016217e+02,  1.16713021e+02],\n",
              "       [-2.08731068e+02,  5.87794294e+01],\n",
              "       [-2.61549626e+02,  3.22275969e+00],\n",
              "       [-4.48154587e+02, -2.55371401e+01],\n",
              "       [-5.81418960e+02, -1.35874887e+01],\n",
              "       [-6.46126325e+02, -3.86777019e+01],\n",
              "       [-2.07959935e+02,  2.17290557e+01],\n",
              "       [-6.58030145e+02, -3.69679686e+01],\n",
              "       [ 4.46011241e+01, -4.77184771e+01],\n",
              "       [ 3.82099065e+02, -9.42617773e+01],\n",
              "       [-4.88263103e+02,  8.12881773e+00],\n",
              "       [ 2.12755256e+02, -1.73000286e+01],\n",
              "       [-7.04448451e+02, -5.46048945e+01],\n",
              "       [-6.80045361e+02, -3.57857952e+01],\n",
              "       [-1.42446100e+02,  5.86033807e+01],\n",
              "       [ 6.32531367e+02,  5.29129115e+01],\n",
              "       [-2.90850132e+02, -8.34106099e+00],\n",
              "       [ 1.84264256e+02, -1.89975800e+02],\n",
              "       [-2.44296819e+02, -4.30008859e-01],\n",
              "       [ 8.07712301e+02, -1.82306661e+02],\n",
              "       [-6.52421499e+02, -4.52405812e+01],\n",
              "       [-6.28632334e+02, -2.79176550e+01],\n",
              "       [-4.52061195e+02, -1.93464361e+01],\n",
              "       [ 1.12881699e+02, -9.58538687e+01],\n",
              "       [-6.22561501e+02, -3.42461812e+01],\n",
              "       [-3.16844916e+02,  4.85252609e+01],\n",
              "       [-2.01601039e+02,  3.64295167e+01],\n",
              "       [-2.97727583e+02,  4.25802990e+01],\n",
              "       [-1.15510614e+02, -6.13142653e+01],\n",
              "       [-1.43572514e+02,  2.35322155e+01],\n",
              "       [ 4.37995356e+01,  1.11516581e+02],\n",
              "       [-6.69490853e+02, -3.18021236e+01],\n",
              "       [-5.14865704e+02,  3.54525866e-01],\n",
              "       [-2.92122833e+02,  3.55282450e+00],\n",
              "       [ 1.32076329e+03, -2.33560111e+02],\n",
              "       [-6.18035512e+02, -9.94432522e+00],\n",
              "       [-8.79468011e+02, -7.32152966e+01],\n",
              "       [ 9.59417155e+02,  8.36986521e+01],\n",
              "       [-4.19400174e+02,  1.86581062e+01],\n",
              "       [ 4.36993677e+02, -1.71658812e+02],\n",
              "       [ 2.56846983e+01, -1.14572201e+01],\n",
              "       [ 1.25180136e+03, -4.80970768e+02],\n",
              "       [-2.55309199e+02,  3.44384483e+01],\n",
              "       [-5.87195211e+01,  4.00504719e+01],\n",
              "       [-3.22077750e+02, -3.13700675e+00],\n",
              "       [-7.23390329e+01,  1.78143787e+01],\n",
              "       [-4.34264454e+02,  2.68016410e+01],\n",
              "       [ 1.14689013e+02,  1.06674996e+02],\n",
              "       [ 7.21385890e+02,  1.75899493e+02],\n",
              "       [-1.09191894e+01,  4.02490780e+01],\n",
              "       [ 9.76146702e+02,  1.39614094e+02],\n",
              "       [ 1.16759614e+03, -7.72003138e+01],\n",
              "       [-5.08667937e+02, -6.34418776e+00],\n",
              "       [-2.38054892e+01,  8.86441792e+01],\n",
              "       [ 2.05477893e+03,  1.68003620e+02],\n",
              "       [ 9.24881268e+02,  1.18611252e+02],\n",
              "       [ 1.70369720e+03, -6.75043056e+01],\n",
              "       [ 1.86701048e+02,  4.96987073e+01],\n",
              "       [-2.91290980e+02,  1.86899371e+01],\n",
              "       [-5.38207487e+02,  3.86167076e+00],\n",
              "       [ 3.20243219e+02,  1.03737555e+01],\n",
              "       [-4.07712863e+02,  2.97582644e+01],\n",
              "       [-4.59359841e+02, -3.02914182e+01],\n",
              "       [-2.34111914e+02,  2.15528619e+01],\n",
              "       [-3.97395209e+02,  2.76292080e+01],\n",
              "       [-7.40486173e+02, -3.79668851e+01],\n",
              "       [-7.22040431e+02, -2.80413631e+01],\n",
              "       [ 6.28132497e+02, -1.00820301e+01],\n",
              "       [-2.19525421e+02,  8.10535923e+00],\n",
              "       [-8.58565321e+01,  8.12842798e+01],\n",
              "       [ 1.05186230e+02, -4.05856483e+00],\n",
              "       [-4.75061464e+02, -5.50500026e+00],\n",
              "       [ 2.54121565e+02,  1.77727864e+02],\n",
              "       [-9.36679451e+01, -1.36484730e+02],\n",
              "       [-5.08946130e+02, -1.50879407e+01],\n",
              "       [-3.67064643e+02,  1.90972807e+01],\n",
              "       [ 1.58632989e+02, -4.18381810e+00],\n",
              "       [-6.34206272e+02, -2.45234689e+01],\n",
              "       [-5.91183670e+02, -9.02068304e+01],\n",
              "       [-2.06782141e+02, -9.27145245e+01],\n",
              "       [-4.25777868e+02, -3.14641588e+01],\n",
              "       [-3.59063469e+02,  2.19682176e+01],\n",
              "       [-4.02086068e+02,  1.03818063e+01],\n",
              "       [ 2.38288861e+03, -4.14410628e+02],\n",
              "       [ 1.56376122e+03,  5.86193861e+00],\n",
              "       [-1.18600171e+02,  7.25345455e+01],\n",
              "       [ 7.11051181e+02,  2.03227578e+01],\n",
              "       [-4.40019905e+02, -1.84003861e+00],\n",
              "       [-5.11556581e+02,  5.95386093e+00],\n",
              "       [ 1.37964773e+02, -2.84571174e+01],\n",
              "       [-1.09285951e+02,  8.48693783e+01],\n",
              "       [-7.11194025e+02, -3.78661441e+01],\n",
              "       [-2.30662637e+02, -7.87753201e+01],\n",
              "       [ 1.24860136e+03,  1.24200488e+01],\n",
              "       [-4.06085624e+02,  6.14440311e+00],\n",
              "       [ 2.10476002e+03,  9.55003703e+01],\n",
              "       [-3.95851763e+02,  1.56572780e+01],\n",
              "       [-4.45251824e+02, -2.93698246e-01],\n",
              "       [-5.03914086e+02,  3.69700028e-01],\n",
              "       [-5.42576825e+02, -4.09397490e+01],\n",
              "       [-6.39772071e+02, -1.08201230e+01],\n",
              "       [-3.20312409e+01, -6.78763807e+00],\n",
              "       [-4.97399063e+02, -2.45337856e+00],\n",
              "       [ 9.24865547e+01, -9.29064369e+00],\n",
              "       [ 3.42394288e+02, -7.51836357e+01],\n",
              "       [-1.65587973e+02,  2.10312490e+01],\n",
              "       [ 7.94872284e+02,  7.06230553e+01],\n",
              "       [-6.48767052e+02, -3.31808913e+01],\n",
              "       [-3.44405746e+02, -6.66861933e+00],\n",
              "       [ 5.03707071e+02,  4.57294235e+01],\n",
              "       [-1.35002771e+02,  3.45175964e+01],\n",
              "       [-5.37269821e+02, -3.21882275e+00],\n",
              "       [-3.18897626e+02,  3.20284873e+01],\n",
              "       [ 8.74828718e+02, -1.65854801e+01],\n",
              "       [-8.60860988e+01,  3.84477278e+01],\n",
              "       [-3.26994826e+02, -3.86862475e+01],\n",
              "       [-5.00032108e+02, -1.50155810e+01],\n",
              "       [-4.80329164e+02, -5.08162871e+01],\n",
              "       [-3.73909928e+02,  6.27190688e+01],\n",
              "       [-2.15702356e+02,  2.19179296e+01],\n",
              "       [-7.91805868e+02, -3.54084993e+01],\n",
              "       [-3.50265551e+02,  2.25403284e+01],\n",
              "       [-1.52914198e+02, -1.18286868e+01],\n",
              "       [-4.86322382e+02,  1.70342575e+01],\n",
              "       [-1.22614890e+01,  1.19848940e+01],\n",
              "       [ 6.13340670e+02,  1.66558687e+02],\n",
              "       [-4.48073648e+02, -3.19355265e+00],\n",
              "       [ 8.82697860e+02, -4.01522358e+01],\n",
              "       [-5.15772185e+02, -2.67998298e+01],\n",
              "       [-5.00439538e+02,  5.69808993e+00],\n",
              "       [ 1.39768605e+03,  1.63779475e+01],\n",
              "       [-4.48347793e+02, -1.25987913e+01],\n",
              "       [ 9.25332528e+02,  7.82562225e+01],\n",
              "       [-5.38506805e+02,  4.27467076e+00],\n",
              "       [-5.56093135e+02, -1.90487295e+01],\n",
              "       [-1.01253883e+02, -6.44453232e+01],\n",
              "       [-5.74384446e+02, -4.63161085e-02],\n",
              "       [-4.90465110e+02, -5.59032322e+01],\n",
              "       [-2.57141452e+02, -6.43620596e+01],\n",
              "       [ 1.58896744e+02,  9.94659511e+01],\n",
              "       [-3.67972579e+02,  5.06475944e+00],\n",
              "       [-3.82037404e+02, -3.90855918e+01],\n",
              "       [ 8.04794155e+02, -3.21040660e+02],\n",
              "       [ 8.77534110e+01, -9.55923085e-01],\n",
              "       [ 1.78198951e+02, -8.77470213e+01],\n",
              "       [-2.15844638e+02,  2.99927365e+01],\n",
              "       [ 1.18044579e+03, -1.29846446e+02],\n",
              "       [-8.32935715e+01,  1.31450445e+01],\n",
              "       [ 2.12600567e+02, -4.47899347e+01],\n",
              "       [ 6.57558578e+02,  1.04009678e+02],\n",
              "       [-3.08060521e+02,  2.44357674e+01],\n",
              "       [-6.63666408e+02, -5.49165015e+01],\n",
              "       [-6.14832132e+01,  6.70964132e+01],\n",
              "       [-4.11900043e+02,  3.55816934e+01],\n",
              "       [-6.32513051e+02, -5.31444476e+01],\n",
              "       [-2.15575785e+01,  4.22728465e+01],\n",
              "       [-1.87115408e+02,  3.68533094e+01],\n",
              "       [-2.58830938e+02,  2.56888751e+01],\n",
              "       [-2.23852858e+02,  1.47123693e+01],\n",
              "       [-3.76218535e+02, -1.26651246e+01],\n",
              "       [ 1.06310340e+03,  1.03201137e+02],\n",
              "       [-1.86498037e+02,  2.41967718e+01],\n",
              "       [ 1.17319493e+03,  4.99768717e+01],\n",
              "       [-8.00568988e+02, -5.32876614e+01],\n",
              "       [ 4.76165503e+02,  8.12811182e+01],\n",
              "       [ 5.96979358e+02, -5.61554626e+01],\n",
              "       [-6.64503316e+02, -4.43250668e+01],\n",
              "       [-7.72767595e+02, -4.04251090e+01],\n",
              "       [ 2.94674830e+02,  4.69240836e+01],\n",
              "       [ 5.86433007e+02,  1.90193474e+02],\n",
              "       [-3.52646006e+02,  3.05459144e+01],\n",
              "       [-3.42656438e+02,  2.65730084e+01],\n",
              "       [-7.62070751e+02, -5.41743711e+01],\n",
              "       [-5.32604090e+02,  9.44817344e+00],\n",
              "       [-4.52353453e+02, -9.65901964e+00],\n",
              "       [-2.82299799e+02, -4.13399892e+01],\n",
              "       [-2.26168270e+02,  9.62533396e+00],\n",
              "       [ 4.68365900e+02,  2.39931838e+01],\n",
              "       [-4.07396136e+02, -2.36348757e+01],\n",
              "       [-2.53586258e+02,  7.33662750e+00],\n",
              "       [-1.13305730e+01, -1.72609267e+01],\n",
              "       [ 7.70084468e+02,  1.10706612e+02],\n",
              "       [-5.23762924e+02,  8.18474575e-01],\n",
              "       [-1.63004353e+02,  5.78581061e+01],\n",
              "       [-4.66135927e+02,  6.42171081e+00],\n",
              "       [-3.96910758e+02, -1.73174478e+01],\n",
              "       [-4.29651729e+02, -2.26549358e+01],\n",
              "       [-2.03777195e+02, -3.24784482e+01],\n",
              "       [ 2.85043959e+02, -1.83096858e+01],\n",
              "       [-1.51287704e+02,  3.56455766e+01],\n",
              "       [ 2.58922221e+02,  6.65704463e+01],\n",
              "       [-4.00927899e+02,  2.35648050e+01],\n",
              "       [-8.02141270e+01,  3.86430769e+01],\n",
              "       [-8.08177497e+01,  4.71354135e+01],\n",
              "       [-5.50626288e+02, -2.60713419e+01],\n",
              "       [ 7.18498821e+01,  6.92610703e+01],\n",
              "       [ 8.73764107e+02,  2.85824404e+01],\n",
              "       [ 2.27597502e+02,  1.13796158e+02]])"
            ]
          },
          "metadata": {
            "tags": []
          },
          "execution_count": 60
        }
      ]
    },
    {
      "cell_type": "code",
      "metadata": {
        "id": "K7EXcQVZoYL_"
      },
      "source": [
        ""
      ],
      "execution_count": null,
      "outputs": []
    }
  ]
}