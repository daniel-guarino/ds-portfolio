{
  "nbformat": 4,
  "nbformat_minor": 0,
  "metadata": {
    "colab": {
      "name": "ML Validação de Modelos-Alura.ipynb",
      "provenance": []
    },
    "kernelspec": {
      "name": "python3",
      "display_name": "Python 3"
    }
  },
  "cells": [
    {
      "cell_type": "markdown",
      "metadata": {
        "id": "0v8YU1OXpzis"
      },
      "source": [
        "# Cross Validation"
      ]
    },
    {
      "cell_type": "code",
      "metadata": {
        "id": "9_pwNA1Cprhp"
      },
      "source": [
        "import pandas as pd\n",
        "import numpy as np\n",
        "from sklearn.model_selection import train_test_split\n",
        "from sklearn.model_selection import cross_validate\n",
        "from sklearn.model_selection import KFold\n",
        "from sklearn.model_selection import StratifiedKFold\n",
        "from sklearn.model_selection import GroupKFold\n",
        "from sklearn.preprocessing import StandardScaler\n",
        "from sklearn.pipeline import Pipeline\n",
        "from sklearn.svm import LinearSVC\n",
        "from sklearn.svm import SVC\n",
        "from sklearn.metrics import accuracy_score\n",
        "from sklearn.dummy import DummyClassifier\n",
        "from sklearn.tree import DecisionTreeClassifier\n"
      ],
      "execution_count": null,
      "outputs": []
    },
    {
      "cell_type": "code",
      "metadata": {
        "id": "MwGVg_cvqInN",
        "colab": {
          "base_uri": "https://localhost:8080/",
          "height": 200
        },
        "outputId": "3006f2f0-922a-42e5-aae9-0d9b864a771c"
      },
      "source": [
        "uri = \"https://gist.githubusercontent.com/guilhermesilveira/e99a526b2e7ccc6c3b70f53db43a87d2/raw/1605fc74aa778066bf2e6695e24d53cf65f2f447/machine-learning-carros-simulacao.csv\"\n",
        "\n",
        "df = pd.read_csv(uri).drop(columns=[\"Unnamed: 0\"], axis=1)\n",
        "df.head()"
      ],
      "execution_count": null,
      "outputs": [
        {
          "output_type": "execute_result",
          "data": {
            "text/html": [
              "<div>\n",
              "<style scoped>\n",
              "    .dataframe tbody tr th:only-of-type {\n",
              "        vertical-align: middle;\n",
              "    }\n",
              "\n",
              "    .dataframe tbody tr th {\n",
              "        vertical-align: top;\n",
              "    }\n",
              "\n",
              "    .dataframe thead th {\n",
              "        text-align: right;\n",
              "    }\n",
              "</style>\n",
              "<table border=\"1\" class=\"dataframe\">\n",
              "  <thead>\n",
              "    <tr style=\"text-align: right;\">\n",
              "      <th></th>\n",
              "      <th>preco</th>\n",
              "      <th>vendido</th>\n",
              "      <th>idade_do_modelo</th>\n",
              "      <th>km_por_ano</th>\n",
              "    </tr>\n",
              "  </thead>\n",
              "  <tbody>\n",
              "    <tr>\n",
              "      <th>0</th>\n",
              "      <td>30941.02</td>\n",
              "      <td>1</td>\n",
              "      <td>18</td>\n",
              "      <td>35085.22134</td>\n",
              "    </tr>\n",
              "    <tr>\n",
              "      <th>1</th>\n",
              "      <td>40557.96</td>\n",
              "      <td>1</td>\n",
              "      <td>20</td>\n",
              "      <td>12622.05362</td>\n",
              "    </tr>\n",
              "    <tr>\n",
              "      <th>2</th>\n",
              "      <td>89627.50</td>\n",
              "      <td>0</td>\n",
              "      <td>12</td>\n",
              "      <td>11440.79806</td>\n",
              "    </tr>\n",
              "    <tr>\n",
              "      <th>3</th>\n",
              "      <td>95276.14</td>\n",
              "      <td>0</td>\n",
              "      <td>3</td>\n",
              "      <td>43167.32682</td>\n",
              "    </tr>\n",
              "    <tr>\n",
              "      <th>4</th>\n",
              "      <td>117384.68</td>\n",
              "      <td>1</td>\n",
              "      <td>4</td>\n",
              "      <td>12770.11290</td>\n",
              "    </tr>\n",
              "  </tbody>\n",
              "</table>\n",
              "</div>"
            ],
            "text/plain": [
              "       preco  vendido  idade_do_modelo   km_por_ano\n",
              "0   30941.02        1               18  35085.22134\n",
              "1   40557.96        1               20  12622.05362\n",
              "2   89627.50        0               12  11440.79806\n",
              "3   95276.14        0                3  43167.32682\n",
              "4  117384.68        1                4  12770.11290"
            ]
          },
          "metadata": {
            "tags": []
          },
          "execution_count": 2
        }
      ]
    },
    {
      "cell_type": "code",
      "metadata": {
        "id": "AWNkKhmMqKaL"
      },
      "source": [
        "X = df[['preco', 'idade_do_modelo', 'km_por_ano']]\n",
        "y = df['vendido']"
      ],
      "execution_count": null,
      "outputs": []
    },
    {
      "cell_type": "code",
      "metadata": {
        "id": "3PPYzwnqqtGU",
        "colab": {
          "base_uri": "https://localhost:8080/",
          "height": 35
        },
        "outputId": "bad1f656-7a6d-4e98-83d0-c307f1188906"
      },
      "source": [
        "SEED = 158020\n",
        "np.random.seed(SEED)\n",
        "\n",
        "X_train, X_test, y_train, y_test = train_test_split(X,y, test_size = 0.25, stratify=y)\n",
        "\n",
        "X_train.shape, X_test.shape"
      ],
      "execution_count": null,
      "outputs": [
        {
          "output_type": "execute_result",
          "data": {
            "text/plain": [
              "((7500, 3), (2500, 3))"
            ]
          },
          "metadata": {
            "tags": []
          },
          "execution_count": 4
        }
      ]
    },
    {
      "cell_type": "code",
      "metadata": {
        "id": "Vzqco-KCrG4T",
        "colab": {
          "base_uri": "https://localhost:8080/",
          "height": 70
        },
        "outputId": "ce9c5732-77b1-4e8e-de1d-e891fac4ed38"
      },
      "source": [
        "# baseline\n",
        "dummy_stratified = DummyClassifier()\n",
        "dummy_stratified.fit(X_train, y_train)\n",
        "accuracy_dummy = dummy_stratified.score(X_test, y_test)\n",
        "accuracy_dummy"
      ],
      "execution_count": null,
      "outputs": [
        {
          "output_type": "stream",
          "text": [
            "/usr/local/lib/python3.6/dist-packages/sklearn/dummy.py:132: FutureWarning: The default value of strategy will change from stratified to prior in 0.24.\n",
            "  \"stratified to prior in 0.24.\", FutureWarning)\n"
          ],
          "name": "stderr"
        },
        {
          "output_type": "execute_result",
          "data": {
            "text/plain": [
              "0.5096"
            ]
          },
          "metadata": {
            "tags": []
          },
          "execution_count": 5
        }
      ]
    },
    {
      "cell_type": "code",
      "metadata": {
        "id": "kjHTD8w1ru4a",
        "colab": {
          "base_uri": "https://localhost:8080/",
          "height": 35
        },
        "outputId": "c13da55d-418f-48cc-bef3-5bddf9894777"
      },
      "source": [
        "clf = DecisionTreeClassifier(max_depth=2)\n",
        "clf.fit(X_train, y_train)\n",
        "predictions = clf.predict(X_test)\n",
        "accuracy_score(y_test, predictions) "
      ],
      "execution_count": null,
      "outputs": [
        {
          "output_type": "execute_result",
          "data": {
            "text/plain": [
              "0.7192"
            ]
          },
          "metadata": {
            "tags": []
          },
          "execution_count": 6
        }
      ]
    },
    {
      "cell_type": "markdown",
      "metadata": {
        "id": "dp88ZQ69sif1"
      },
      "source": [
        "Cliente quer acurácia mínima de 73%"
      ]
    },
    {
      "cell_type": "markdown",
      "metadata": {
        "id": "PDvSHJMRspqj"
      },
      "source": [
        "E se usar outro seed?"
      ]
    },
    {
      "cell_type": "code",
      "metadata": {
        "id": "EidbttCpss09",
        "colab": {
          "base_uri": "https://localhost:8080/",
          "height": 35
        },
        "outputId": "97f97bbe-f65c-483c-a104-61648f1b9826"
      },
      "source": [
        "SEED = 301\n",
        "np.random.seed(SEED)\n",
        "\n",
        "X_train, X_test, y_train, y_test = train_test_split(X,y, test_size = 0.25, stratify=y)\n",
        "\n",
        "clf = DecisionTreeClassifier(max_depth=2)\n",
        "clf.fit(X_train, y_train)\n",
        "predictions = clf.predict(X_test)\n",
        "accuracy_score(y_test, predictions) \n",
        "\n",
        "# mudou o seed, a acurácia aumentou muito - efeitos da aleatoriedade"
      ],
      "execution_count": null,
      "outputs": [
        {
          "output_type": "execute_result",
          "data": {
            "text/plain": [
              "0.7728"
            ]
          },
          "metadata": {
            "tags": []
          },
          "execution_count": 7
        }
      ]
    },
    {
      "cell_type": "markdown",
      "metadata": {
        "id": "y1Urn_d6vVaK"
      },
      "source": [
        "# Cross Validation"
      ]
    },
    {
      "cell_type": "code",
      "metadata": {
        "id": "ExLzhUovscxr",
        "colab": {
          "base_uri": "https://localhost:8080/",
          "height": 35
        },
        "outputId": "0c8878d5-2971-4a74-d059-415d70a6a964"
      },
      "source": [
        "SEED = 301\n",
        "np.random.seed(SEED)\n",
        "\n",
        "model = DecisionTreeClassifier(max_depth=2)\n",
        "results = cross_validate(model, X,y, cv=3, return_train_score=False)\n",
        "media = results['test_score'].mean()\n",
        "desvio = results['test_score'].std()\n",
        "\n",
        "print(\"Accuracy com cross validation, 3 = [%.2f, %.2f]\" % ((media -2 *desvio)*100, (media + 2*desvio )*100))\n",
        "\n",
        "# ja estamos menossucetíveis a escplha da semente aleatória, mudando o SEED os resultados se mantém\n",
        "# cross validate nao receve o SEED como parametro (que coisa não)\n",
        "# mas quem garante o valor 3 para cv???"
      ],
      "execution_count": null,
      "outputs": [
        {
          "output_type": "stream",
          "text": [
            "Accuracy com cross validation, 3 = [74.99, 76.57]\n"
          ],
          "name": "stdout"
        }
      ]
    },
    {
      "cell_type": "code",
      "metadata": {
        "id": "6MCcZA2rvxQi",
        "colab": {
          "base_uri": "https://localhost:8080/",
          "height": 35
        },
        "outputId": "05add7e4-7e5b-4c81-ff02-97aa1746e17a"
      },
      "source": [
        "SEED = 301\n",
        "np.random.seed(SEED)\n",
        "\n",
        "model = DecisionTreeClassifier(max_depth=2)\n",
        "results = cross_validate(model, X,y, cv=10, return_train_score=False)\n",
        "media = results['test_score'].mean()\n",
        "desvio = results['test_score'].std()\n",
        "\n",
        "print(\"Accuracy com cross validation, 10 = [%.2f, %.2f]\" % ((media -2 *desvio)*100, (media + 2*desvio )*100))"
      ],
      "execution_count": null,
      "outputs": [
        {
          "output_type": "stream",
          "text": [
            "Accuracy com cross validation, 10 = [74.24, 77.32]\n"
          ],
          "name": "stdout"
        }
      ]
    },
    {
      "cell_type": "code",
      "metadata": {
        "id": "f0dI6H_3ghnW",
        "colab": {
          "base_uri": "https://localhost:8080/",
          "height": 35
        },
        "outputId": "ae0affda-f5f0-4b92-f75d-a691cf9bb9be"
      },
      "source": [
        "SEED = 301\n",
        "np.random.seed(SEED)\n",
        "\n",
        "model = DecisionTreeClassifier(max_depth=2)\n",
        "results = cross_validate(model, X,y, cv=3, return_train_score=False)\n",
        "media = results['test_score'].mean()\n",
        "desvio = results['test_score'].std()\n",
        "\n",
        "print(\"Accuracy com cross validation, 5 = [%.2f, %.2f]\" % ((media -2 *desvio)*100, (media + 2*desvio )*100))\n",
        "\n",
        "# que numero usar para cross validation?\n",
        "# pelos papers entre 5 e 10 - portano, vamos manter 05"
      ],
      "execution_count": null,
      "outputs": [
        {
          "output_type": "stream",
          "text": [
            "Accuracy com cross validation, 5 = [74.99, 76.57]\n"
          ],
          "name": "stdout"
        }
      ]
    },
    {
      "cell_type": "markdown",
      "metadata": {
        "id": "RHz3pUHOhafK"
      },
      "source": [
        "# Cross validation dividindo o dataset de maneira aleatória de verdade!"
      ]
    },
    {
      "cell_type": "code",
      "metadata": {
        "id": "y2EQTHm8jyPz"
      },
      "source": [
        "def print_results(results):\n",
        "  media = results['test_score'].mean()\n",
        "  desvio = results['test_score'].std()\n",
        "  print(\"Accuracy médio = %.2f\" % (media*100))\n",
        "  print(\"Accuracy intervalo = [%.2f, %.2f]\" % ((media - 2*desvio)*100, (media +2*desvio)*100))  "
      ],
      "execution_count": null,
      "outputs": []
    },
    {
      "cell_type": "code",
      "metadata": {
        "id": "SAoYZ8vZgmRu",
        "colab": {
          "base_uri": "https://localhost:8080/",
          "height": 52
        },
        "outputId": "64948053-6110-4783-d925-c57982dbad26"
      },
      "source": [
        "SEED = 301\n",
        "np.random.seed(SEED)\n",
        "\n",
        "cv = KFold(n_splits=10)\n",
        "model = DecisionTreeClassifier(max_depth=2)\n",
        "results = cross_validate(model, X, y, cv = cv, return_train_score=False)\n",
        "print_results(results)"
      ],
      "execution_count": null,
      "outputs": [
        {
          "output_type": "stream",
          "text": [
            "Accuracy médio = 75.78\n",
            "Accuracy intervalo = [74.37, 77.19]\n"
          ],
          "name": "stdout"
        }
      ]
    },
    {
      "cell_type": "code",
      "metadata": {
        "id": "B1yo-meOjt3S",
        "colab": {
          "base_uri": "https://localhost:8080/",
          "height": 52
        },
        "outputId": "64588054-179f-4ecd-a30a-50d1ff1c191b"
      },
      "source": [
        "# com shuffle no KFold\n",
        "SEED = 301\n",
        "np.random.seed(SEED)\n",
        "\n",
        "cv = KFold(n_splits=10, shuffle=True)\n",
        "model = DecisionTreeClassifier(max_depth=2)\n",
        "results = cross_validate(model, X, y, cv = cv, return_train_score=False)\n",
        "print_results(results)"
      ],
      "execution_count": null,
      "outputs": [
        {
          "output_type": "stream",
          "text": [
            "Accuracy médio = 75.76\n",
            "Accuracy intervalo = [73.26, 78.26]\n"
          ],
          "name": "stdout"
        }
      ]
    },
    {
      "cell_type": "markdown",
      "metadata": {
        "id": "0MM5G1RKlEPj"
      },
      "source": [
        "# simular situação de azar \n",
        "\n",
        "classes desbalanceadas"
      ]
    },
    {
      "cell_type": "code",
      "metadata": {
        "id": "HyTGHcbSkabk"
      },
      "source": [
        "df_azar = df.sort_values('vendido', ascending=True)\n",
        "X_azar = df_azar[['preco', 'idade_do_modelo', 'km_por_ano']]\n",
        "y_azar = df_azar['vendido']"
      ],
      "execution_count": null,
      "outputs": []
    },
    {
      "cell_type": "code",
      "metadata": {
        "id": "g7dCanH_loM2",
        "colab": {
          "base_uri": "https://localhost:8080/",
          "height": 52
        },
        "outputId": "f964ec1b-fcff-4b7a-fbc2-aa2d5aae519a"
      },
      "source": [
        "SEED = 301\n",
        "np.random.seed(SEED)\n",
        "\n",
        "cv = KFold(n_splits=10)\n",
        "model = DecisionTreeClassifier(max_depth=2)\n",
        "results = cross_validate(model, X_azar, y_azar, cv = cv, return_train_score=False)\n",
        "print_results(results)\n",
        "\n",
        "# diferença no resultado"
      ],
      "execution_count": null,
      "outputs": [
        {
          "output_type": "stream",
          "text": [
            "Accuracy médio = 57.84\n",
            "Accuracy intervalo = [34.29, 81.39]\n"
          ],
          "name": "stdout"
        }
      ]
    },
    {
      "cell_type": "code",
      "metadata": {
        "id": "SGIONZQwlrqc",
        "colab": {
          "base_uri": "https://localhost:8080/",
          "height": 52
        },
        "outputId": "0dc40d01-bde8-498e-efe3-2f6b7a1b5d4c"
      },
      "source": [
        "# com shuffle - ja ajuda bastante a balancear de novo\n",
        "\n",
        "SEED = 301\n",
        "np.random.seed(SEED)\n",
        "\n",
        "cv = KFold(n_splits=10, shuffle=True)\n",
        "model = DecisionTreeClassifier(max_depth=2)\n",
        "results = cross_validate(model, X_azar, y_azar, cv = cv, return_train_score=False)\n",
        "print_results(results)"
      ],
      "execution_count": null,
      "outputs": [
        {
          "output_type": "stream",
          "text": [
            "Accuracy médio = 75.78\n",
            "Accuracy intervalo = [72.30, 79.26]\n"
          ],
          "name": "stdout"
        }
      ]
    },
    {
      "cell_type": "code",
      "metadata": {
        "id": "VJc8y_d1l02E",
        "colab": {
          "base_uri": "https://localhost:8080/",
          "height": 52
        },
        "outputId": "81f2746d-b81a-4948-e8dd-f5c691cdca40"
      },
      "source": [
        "# StratifiedKFold (quando as classes estão muito desbalanceadas)\n",
        "SEED = 301\n",
        "np.random.seed(SEED)\n",
        "\n",
        "cv = StratifiedKFold(n_splits=10, shuffle=True)\n",
        "model = DecisionTreeClassifier(max_depth=2)\n",
        "results = cross_validate(model, X_azar, y_azar, cv = cv, return_train_score=False)\n",
        "print_results(results)"
      ],
      "execution_count": null,
      "outputs": [
        {
          "output_type": "stream",
          "text": [
            "Accuracy médio = 75.78\n",
            "Accuracy intervalo = [73.55, 78.01]\n"
          ],
          "name": "stdout"
        }
      ]
    },
    {
      "cell_type": "markdown",
      "metadata": {
        "id": "XEV6wf6fnmyF"
      },
      "source": [
        "# "
      ]
    },
    {
      "cell_type": "code",
      "metadata": {
        "id": "bHCS_TZ7mK6c",
        "colab": {
          "base_uri": "https://localhost:8080/",
          "height": 200
        },
        "outputId": "b7247c2d-d451-4fa6-a885-71cbd7c9e2cd"
      },
      "source": [
        "np.random.seed(SEED)\n",
        "df['modelo'] = df.idade_do_modelo + np.random.randint(-2,3, size=df.shape[0])\n",
        "df.modelo = df.modelo + abs(df.modelo.min()) + 1\n",
        "df.head()"
      ],
      "execution_count": null,
      "outputs": [
        {
          "output_type": "execute_result",
          "data": {
            "text/html": [
              "<div>\n",
              "<style scoped>\n",
              "    .dataframe tbody tr th:only-of-type {\n",
              "        vertical-align: middle;\n",
              "    }\n",
              "\n",
              "    .dataframe tbody tr th {\n",
              "        vertical-align: top;\n",
              "    }\n",
              "\n",
              "    .dataframe thead th {\n",
              "        text-align: right;\n",
              "    }\n",
              "</style>\n",
              "<table border=\"1\" class=\"dataframe\">\n",
              "  <thead>\n",
              "    <tr style=\"text-align: right;\">\n",
              "      <th></th>\n",
              "      <th>preco</th>\n",
              "      <th>vendido</th>\n",
              "      <th>idade_do_modelo</th>\n",
              "      <th>km_por_ano</th>\n",
              "      <th>modelo</th>\n",
              "    </tr>\n",
              "  </thead>\n",
              "  <tbody>\n",
              "    <tr>\n",
              "      <th>0</th>\n",
              "      <td>30941.02</td>\n",
              "      <td>1</td>\n",
              "      <td>18</td>\n",
              "      <td>35085.22134</td>\n",
              "      <td>18</td>\n",
              "    </tr>\n",
              "    <tr>\n",
              "      <th>1</th>\n",
              "      <td>40557.96</td>\n",
              "      <td>1</td>\n",
              "      <td>20</td>\n",
              "      <td>12622.05362</td>\n",
              "      <td>24</td>\n",
              "    </tr>\n",
              "    <tr>\n",
              "      <th>2</th>\n",
              "      <td>89627.50</td>\n",
              "      <td>0</td>\n",
              "      <td>12</td>\n",
              "      <td>11440.79806</td>\n",
              "      <td>14</td>\n",
              "    </tr>\n",
              "    <tr>\n",
              "      <th>3</th>\n",
              "      <td>95276.14</td>\n",
              "      <td>0</td>\n",
              "      <td>3</td>\n",
              "      <td>43167.32682</td>\n",
              "      <td>6</td>\n",
              "    </tr>\n",
              "    <tr>\n",
              "      <th>4</th>\n",
              "      <td>117384.68</td>\n",
              "      <td>1</td>\n",
              "      <td>4</td>\n",
              "      <td>12770.11290</td>\n",
              "      <td>5</td>\n",
              "    </tr>\n",
              "  </tbody>\n",
              "</table>\n",
              "</div>"
            ],
            "text/plain": [
              "       preco  vendido  idade_do_modelo   km_por_ano  modelo\n",
              "0   30941.02        1               18  35085.22134      18\n",
              "1   40557.96        1               20  12622.05362      24\n",
              "2   89627.50        0               12  11440.79806      14\n",
              "3   95276.14        0                3  43167.32682       6\n",
              "4  117384.68        1                4  12770.11290       5"
            ]
          },
          "metadata": {
            "tags": []
          },
          "execution_count": 18
        }
      ]
    },
    {
      "cell_type": "code",
      "metadata": {
        "id": "03q77FKCoCa7",
        "colab": {
          "base_uri": "https://localhost:8080/",
          "height": 52
        },
        "outputId": "48196f58-918f-4aac-b4b9-4ab093d994f8"
      },
      "source": [
        "df.modelo.unique()"
      ],
      "execution_count": null,
      "outputs": [
        {
          "output_type": "execute_result",
          "data": {
            "text/plain": [
              "array([18, 24, 14,  6,  5, 13, 20, 19, 15,  2, 17, 12, 11, 16,  3,  7, 21,\n",
              "       23, 10,  9, 22,  8,  4,  1])"
            ]
          },
          "metadata": {
            "tags": []
          },
          "execution_count": 19
        }
      ]
    },
    {
      "cell_type": "code",
      "metadata": {
        "id": "ISqyJAL7pN7z",
        "colab": {
          "base_uri": "https://localhost:8080/",
          "height": 461
        },
        "outputId": "af35a42f-81f9-4e40-b3e6-538d5df62181"
      },
      "source": [
        "df.modelo.value_counts()"
      ],
      "execution_count": null,
      "outputs": [
        {
          "output_type": "execute_result",
          "data": {
            "text/plain": [
              "20    901\n",
              "19    798\n",
              "18    771\n",
              "21    723\n",
              "17    709\n",
              "16    668\n",
              "14    621\n",
              "22    575\n",
              "15    573\n",
              "13    557\n",
              "12    511\n",
              "11    401\n",
              "10    371\n",
              "23    370\n",
              "9     336\n",
              "8     278\n",
              "7     206\n",
              "24    199\n",
              "6     181\n",
              "5     108\n",
              "4      76\n",
              "3      44\n",
              "2      17\n",
              "1       6\n",
              "Name: modelo, dtype: int64"
            ]
          },
          "metadata": {
            "tags": []
          },
          "execution_count": 20
        }
      ]
    },
    {
      "cell_type": "markdown",
      "metadata": {
        "id": "k9-nebles4GC"
      },
      "source": [
        "# Testar cross validation com GroupKFold"
      ]
    },
    {
      "cell_type": "code",
      "metadata": {
        "id": "OArs2GTCp4aU",
        "colab": {
          "base_uri": "https://localhost:8080/",
          "height": 52
        },
        "outputId": "149f6542-eb1f-4f4e-93b5-b7232c601a2c"
      },
      "source": [
        "# testar estimador com grupos (especificar os grupos)\n",
        "SEED = 301\n",
        "np.random.seed(SEED)\n",
        "\n",
        "cv = GroupKFold(n_splits=10)\n",
        "model = DecisionTreeClassifier(max_depth=2)\n",
        "results = cross_validate(model, X_azar, y_azar, cv = cv, groups=df.modelo,return_train_score=False)\n",
        "print_results(results)"
      ],
      "execution_count": null,
      "outputs": [
        {
          "output_type": "stream",
          "text": [
            "Accuracy médio = 75.78\n",
            "Accuracy intervalo = [73.67, 77.90]\n"
          ],
          "name": "stdout"
        }
      ]
    },
    {
      "cell_type": "markdown",
      "metadata": {
        "id": "uES9ZGPTs9Eu"
      },
      "source": [
        ""
      ]
    },
    {
      "cell_type": "code",
      "metadata": {
        "id": "lhc1ALAurIVS"
      },
      "source": [
        "scaler = StandardScaler()\n",
        "scaler.fit(X_train)\n",
        "train_x_scaled = scaler.transform(X_train)\n",
        "test_x_scaled = scaler.transform(X_test)"
      ],
      "execution_count": null,
      "outputs": []
    },
    {
      "cell_type": "code",
      "metadata": {
        "id": "A5JkG6l9tpZ0",
        "colab": {
          "base_uri": "https://localhost:8080/",
          "height": 35
        },
        "outputId": "ab52d6f8-e0e6-444d-e304-e48f690002f4"
      },
      "source": [
        "SEED = 301\n",
        "np.random.seed(SEED)\n",
        "\n",
        "model = SVC()\n",
        "model.fit(train_x_scaled, y_train)\n",
        "predictions = model.predict(test_x_scaled)\n",
        "\n",
        "acuracia = accuracy_score(y_test, predictions)*100\n",
        "print(\"Accuracy %.2f%%\" % acuracia)"
      ],
      "execution_count": null,
      "outputs": [
        {
          "output_type": "stream",
          "text": [
            "Accuracy 77.12%\n"
          ],
          "name": "stdout"
        }
      ]
    },
    {
      "cell_type": "code",
      "metadata": {
        "id": "yyzdU-giuT-y",
        "colab": {
          "base_uri": "https://localhost:8080/",
          "height": 52
        },
        "outputId": "f0ba2d06-3891-49f7-f937-7d26cbb7bcfa"
      },
      "source": [
        "# testar com cross validation\n",
        "SEED = 301\n",
        "np.random.seed(SEED)\n",
        "\n",
        "# dados nao escalados\n",
        "cv = GroupKFold(n_splits=10)\n",
        "model = SVC()\n",
        "results = cross_validate(model, X_azar, y_azar, cv = cv, groups=df.modelo,return_train_score=False)\n",
        "print_results(results)"
      ],
      "execution_count": null,
      "outputs": [
        {
          "output_type": "stream",
          "text": [
            "Accuracy médio = 77.27\n",
            "Accuracy intervalo = [74.35, 80.20]\n"
          ],
          "name": "stdout"
        }
      ]
    },
    {
      "cell_type": "code",
      "metadata": {
        "id": "lHX3ZyrnvAHj",
        "colab": {
          "base_uri": "https://localhost:8080/",
          "height": 52
        },
        "outputId": "38e116b0-9c1a-4f90-83a3-a4e483cba899"
      },
      "source": [
        "SEED = 301\n",
        "np.random.seed(SEED)\n",
        "\n",
        "scaler = StandardScaler()\n",
        "modelo = SVC()\n",
        "\n",
        "pipeline = Pipeline([('transformacao',scaler), ('estimador',modelo)])\n",
        "\n",
        "cv = GroupKFold(n_splits = 10)\n",
        "results = cross_validate(pipeline, X_azar, y_azar, cv = cv, groups = df.modelo, return_train_score=False)\n",
        "print_results(results)"
      ],
      "execution_count": null,
      "outputs": [
        {
          "output_type": "stream",
          "text": [
            "Accuracy médio = 76.68\n",
            "Accuracy intervalo = [74.28, 79.08]\n"
          ],
          "name": "stdout"
        }
      ]
    },
    {
      "cell_type": "code",
      "metadata": {
        "id": "oYy9gMqIwohJ"
      },
      "source": [
        ""
      ],
      "execution_count": null,
      "outputs": []
    }
  ]
}