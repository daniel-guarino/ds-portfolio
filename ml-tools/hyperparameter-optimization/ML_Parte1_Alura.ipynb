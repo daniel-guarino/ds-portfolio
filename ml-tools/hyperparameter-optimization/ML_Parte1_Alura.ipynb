{
  "nbformat": 4,
  "nbformat_minor": 0,
  "metadata": {
    "colab": {
      "name": "ML Parte1-Alura.ipynb",
      "provenance": []
    },
    "kernelspec": {
      "name": "python3",
      "display_name": "Python 3"
    }
  },
  "cells": [
    {
      "cell_type": "code",
      "metadata": {
        "id": "6daWBnHymIaA",
        "colab": {
          "base_uri": "https://localhost:8080/",
          "height": 159
        },
        "outputId": "1e5252ac-2205-4190-e935-56410f9943cb"
      },
      "source": [
        "!pip install graphviz==0.9\n",
        "!pip install pydot\n",
        "\n",
        "!apt-get install graphviz"
      ],
      "execution_count": null,
      "outputs": [
        {
          "output_type": "stream",
          "text": [
            "Requirement already satisfied: graphviz==0.9 in /usr/local/lib/python3.6/dist-packages (0.9)\n",
            "Requirement already satisfied: pydot in /usr/local/lib/python3.6/dist-packages (1.3.0)\n",
            "Requirement already satisfied: pyparsing>=2.1.4 in /usr/local/lib/python3.6/dist-packages (from pydot) (2.4.7)\n",
            "Reading package lists... Done\n",
            "Building dependency tree       \n",
            "Reading state information... Done\n",
            "graphviz is already the newest version (2.40.1-2).\n",
            "0 upgraded, 0 newly installed, 0 to remove and 11 not upgraded.\n"
          ],
          "name": "stdout"
        }
      ]
    },
    {
      "cell_type": "markdown",
      "metadata": {
        "id": "ytMRknLAn_qN"
      },
      "source": [
        "# Otimização de Modelos através de Hiperparametros"
      ]
    },
    {
      "cell_type": "code",
      "metadata": {
        "id": "jsvtuSEVn6mZ"
      },
      "source": [
        "import pandas as pd\n",
        "import numpy as np"
      ],
      "execution_count": null,
      "outputs": []
    },
    {
      "cell_type": "code",
      "metadata": {
        "id": "w1aoNSH8pNVt",
        "colab": {
          "base_uri": "https://localhost:8080/",
          "height": 200
        },
        "outputId": "c3549062-6c22-40e1-e87d-16786978679d"
      },
      "source": [
        "uri = \"https://gist.githubusercontent.com/guilhermesilveira/e99a526b2e7ccc6c3b70f53db43a87d2/raw/1605fc74aa778066bf2e6695e24d53cf65f2f447/machine-learning-carros-simulacao.csv\"\n",
        "\n",
        "df = pd.read_csv(uri).drop(columns=[\"Unnamed: 0\"], axis=1)\n",
        "df.head()"
      ],
      "execution_count": null,
      "outputs": [
        {
          "output_type": "execute_result",
          "data": {
            "text/html": [
              "<div>\n",
              "<style scoped>\n",
              "    .dataframe tbody tr th:only-of-type {\n",
              "        vertical-align: middle;\n",
              "    }\n",
              "\n",
              "    .dataframe tbody tr th {\n",
              "        vertical-align: top;\n",
              "    }\n",
              "\n",
              "    .dataframe thead th {\n",
              "        text-align: right;\n",
              "    }\n",
              "</style>\n",
              "<table border=\"1\" class=\"dataframe\">\n",
              "  <thead>\n",
              "    <tr style=\"text-align: right;\">\n",
              "      <th></th>\n",
              "      <th>preco</th>\n",
              "      <th>vendido</th>\n",
              "      <th>idade_do_modelo</th>\n",
              "      <th>km_por_ano</th>\n",
              "    </tr>\n",
              "  </thead>\n",
              "  <tbody>\n",
              "    <tr>\n",
              "      <th>0</th>\n",
              "      <td>30941.02</td>\n",
              "      <td>1</td>\n",
              "      <td>18</td>\n",
              "      <td>35085.22134</td>\n",
              "    </tr>\n",
              "    <tr>\n",
              "      <th>1</th>\n",
              "      <td>40557.96</td>\n",
              "      <td>1</td>\n",
              "      <td>20</td>\n",
              "      <td>12622.05362</td>\n",
              "    </tr>\n",
              "    <tr>\n",
              "      <th>2</th>\n",
              "      <td>89627.50</td>\n",
              "      <td>0</td>\n",
              "      <td>12</td>\n",
              "      <td>11440.79806</td>\n",
              "    </tr>\n",
              "    <tr>\n",
              "      <th>3</th>\n",
              "      <td>95276.14</td>\n",
              "      <td>0</td>\n",
              "      <td>3</td>\n",
              "      <td>43167.32682</td>\n",
              "    </tr>\n",
              "    <tr>\n",
              "      <th>4</th>\n",
              "      <td>117384.68</td>\n",
              "      <td>1</td>\n",
              "      <td>4</td>\n",
              "      <td>12770.11290</td>\n",
              "    </tr>\n",
              "  </tbody>\n",
              "</table>\n",
              "</div>"
            ],
            "text/plain": [
              "       preco  vendido  idade_do_modelo   km_por_ano\n",
              "0   30941.02        1               18  35085.22134\n",
              "1   40557.96        1               20  12622.05362\n",
              "2   89627.50        0               12  11440.79806\n",
              "3   95276.14        0                3  43167.32682\n",
              "4  117384.68        1                4  12770.11290"
            ]
          },
          "metadata": {
            "tags": []
          },
          "execution_count": 25
        }
      ]
    },
    {
      "cell_type": "code",
      "metadata": {
        "id": "d7Tc7uRbodXf"
      },
      "source": [
        "X = df[['preco', 'idade_do_modelo', 'km_por_ano']]\n",
        "y = df['vendido']"
      ],
      "execution_count": null,
      "outputs": []
    },
    {
      "cell_type": "code",
      "metadata": {
        "id": "_Mw29LH4ywng",
        "colab": {
          "base_uri": "https://localhost:8080/",
          "height": 70
        },
        "outputId": "94f237d0-698e-4126-86d2-c13522997bb7"
      },
      "source": [
        "from sklearn.model_selection import cross_validate\n",
        "from sklearn.dummy import DummyClassifier\n",
        "\n",
        "df_azar = df.sort_values('vendido', ascending=True)\n",
        "x_azar = df_azar[['preco', 'idade_do_modelo', 'km_por_ano']]\n",
        "y_azar = df_azar['vendido']\n",
        "\n",
        "SEED = 301\n",
        "np.random.seed(SEED)\n",
        "\n",
        "modelo = DummyClassifier()\n",
        "results = cross_validate(modelo, x_azar, y_azar, cv = 10, return_train_score=False)\n",
        "media = results['test_score'].mean()\n",
        "desvio_padrao = results['test_score'].std()\n",
        "print(\"Accuracy com dummy stratified, 10 = [%.2f, %.2f]\" % ((media - 2 * desvio_padrao)*100, (media + 2 * desvio_padrao) * 100))"
      ],
      "execution_count": null,
      "outputs": [
        {
          "output_type": "stream",
          "text": [
            "Accuracy com dummy stratified, 10 = [49.79, 53.45]\n"
          ],
          "name": "stdout"
        },
        {
          "output_type": "stream",
          "text": [
            "/usr/local/lib/python3.6/dist-packages/sklearn/dummy.py:132: FutureWarning: The default value of strategy will change from stratified to prior in 0.24.\n",
            "  \"stratified to prior in 0.24.\", FutureWarning)\n"
          ],
          "name": "stderr"
        }
      ]
    },
    {
      "cell_type": "code",
      "metadata": {
        "id": "rchG8308luv9",
        "colab": {
          "base_uri": "https://localhost:8080/",
          "height": 35
        },
        "outputId": "254bc6b2-1e24-49f1-bdbc-484b641dd514"
      },
      "source": [
        "from sklearn.model_selection import cross_validate\n",
        "from sklearn.tree import DecisionTreeClassifier\n",
        "\n",
        "SEED = 301\n",
        "np.random.seed(SEED)\n",
        "\n",
        "modelo = DecisionTreeClassifier(max_depth=2)\n",
        "results = cross_validate(modelo, x_azar, y_azar, cv = 10, return_train_score=False)\n",
        "media = results['test_score'].mean()\n",
        "desvio_padrao = results['test_score'].std()\n",
        "print(\"Accuracy com cross validation, 10 = [%.2f, %.2f]\" % ((media - 2 * desvio_padrao)*100, (media + 2 * desvio_padrao) * 100))"
      ],
      "execution_count": null,
      "outputs": [
        {
          "output_type": "stream",
          "text": [
            "Accuracy com cross validation, 10 = [73.83, 77.73]\n"
          ],
          "name": "stdout"
        }
      ]
    },
    {
      "cell_type": "code",
      "metadata": {
        "id": "HqA37QrCluyY",
        "colab": {
          "base_uri": "https://localhost:8080/",
          "height": 200
        },
        "outputId": "b41f25a4-04b9-4a31-f2ea-48899a7b95d2"
      },
      "source": [
        "# gerando dados aleatorios de modelo de carro para simulacao de agrupamento ao usar nosso estimador\n",
        "\n",
        "np.random.seed(SEED)\n",
        "df['modelo'] = df.idade_do_modelo + np.random.randint(-2, 3, size=10000)\n",
        "df.modelo = df.modelo + abs(df.modelo.min()) + 1\n",
        "df.head()"
      ],
      "execution_count": null,
      "outputs": [
        {
          "output_type": "execute_result",
          "data": {
            "text/html": [
              "<div>\n",
              "<style scoped>\n",
              "    .dataframe tbody tr th:only-of-type {\n",
              "        vertical-align: middle;\n",
              "    }\n",
              "\n",
              "    .dataframe tbody tr th {\n",
              "        vertical-align: top;\n",
              "    }\n",
              "\n",
              "    .dataframe thead th {\n",
              "        text-align: right;\n",
              "    }\n",
              "</style>\n",
              "<table border=\"1\" class=\"dataframe\">\n",
              "  <thead>\n",
              "    <tr style=\"text-align: right;\">\n",
              "      <th></th>\n",
              "      <th>preco</th>\n",
              "      <th>vendido</th>\n",
              "      <th>idade_do_modelo</th>\n",
              "      <th>km_por_ano</th>\n",
              "      <th>modelo</th>\n",
              "    </tr>\n",
              "  </thead>\n",
              "  <tbody>\n",
              "    <tr>\n",
              "      <th>0</th>\n",
              "      <td>30941.02</td>\n",
              "      <td>1</td>\n",
              "      <td>18</td>\n",
              "      <td>35085.22134</td>\n",
              "      <td>18</td>\n",
              "    </tr>\n",
              "    <tr>\n",
              "      <th>1</th>\n",
              "      <td>40557.96</td>\n",
              "      <td>1</td>\n",
              "      <td>20</td>\n",
              "      <td>12622.05362</td>\n",
              "      <td>24</td>\n",
              "    </tr>\n",
              "    <tr>\n",
              "      <th>2</th>\n",
              "      <td>89627.50</td>\n",
              "      <td>0</td>\n",
              "      <td>12</td>\n",
              "      <td>11440.79806</td>\n",
              "      <td>14</td>\n",
              "    </tr>\n",
              "    <tr>\n",
              "      <th>3</th>\n",
              "      <td>95276.14</td>\n",
              "      <td>0</td>\n",
              "      <td>3</td>\n",
              "      <td>43167.32682</td>\n",
              "      <td>6</td>\n",
              "    </tr>\n",
              "    <tr>\n",
              "      <th>4</th>\n",
              "      <td>117384.68</td>\n",
              "      <td>1</td>\n",
              "      <td>4</td>\n",
              "      <td>12770.11290</td>\n",
              "      <td>5</td>\n",
              "    </tr>\n",
              "  </tbody>\n",
              "</table>\n",
              "</div>"
            ],
            "text/plain": [
              "       preco  vendido  idade_do_modelo   km_por_ano  modelo\n",
              "0   30941.02        1               18  35085.22134      18\n",
              "1   40557.96        1               20  12622.05362      24\n",
              "2   89627.50        0               12  11440.79806      14\n",
              "3   95276.14        0                3  43167.32682       6\n",
              "4  117384.68        1                4  12770.11290       5"
            ]
          },
          "metadata": {
            "tags": []
          },
          "execution_count": 29
        }
      ]
    },
    {
      "cell_type": "code",
      "metadata": {
        "id": "SJx8qi0xlu1e"
      },
      "source": [
        "def imprime_resultados(results):\n",
        "  media = results['test_score'].mean() * 100\n",
        "  desvio = results['test_score'].std() * 100\n",
        "  print(\"Accuracy médio %.2f\" % media)\n",
        "  print(\"Intervalo [%.2f, %.2f]\" % (media - 2 * desvio, media + 2 * desvio))"
      ],
      "execution_count": null,
      "outputs": []
    },
    {
      "cell_type": "code",
      "metadata": {
        "id": "aEyvPu4Llu4w",
        "colab": {
          "base_uri": "https://localhost:8080/",
          "height": 52
        },
        "outputId": "149eb93b-83d0-4ca6-a001-ad566948adf3"
      },
      "source": [
        "# GroupKFold em um pipeline com StandardScaler e SVC\n",
        "from sklearn.preprocessing import StandardScaler\n",
        "from sklearn.svm import SVC\n",
        "from sklearn.pipeline import Pipeline\n",
        "from sklearn.model_selection import GroupKFold\n",
        "\n",
        "SEED = 301\n",
        "np.random.seed(SEED)\n",
        "\n",
        "scaler = StandardScaler()\n",
        "modelo = SVC()\n",
        "\n",
        "pipeline = Pipeline([('transformacao',scaler), ('estimador',modelo)])\n",
        "\n",
        "cv = GroupKFold(n_splits = 10)\n",
        "results = cross_validate(pipeline, x_azar, y_azar, cv = cv, groups = df.modelo, return_train_score=False)\n",
        "imprime_resultados(results)"
      ],
      "execution_count": null,
      "outputs": [
        {
          "output_type": "stream",
          "text": [
            "Accuracy médio 76.68\n",
            "Intervalo [74.28, 79.08]\n"
          ],
          "name": "stdout"
        }
      ]
    },
    {
      "cell_type": "code",
      "metadata": {
        "id": "76voParolu9n",
        "colab": {
          "base_uri": "https://localhost:8080/",
          "height": 52
        },
        "outputId": "0edda9b6-6c51-481c-b5fa-c79beb9363b0"
      },
      "source": [
        "# GroupKFold para analisar como o modelo se comporta com novos grupos\n",
        "SEED = 301\n",
        "np.random.seed(SEED)\n",
        "\n",
        "cv = GroupKFold(n_splits = 10)\n",
        "modelo = DecisionTreeClassifier(max_depth=2)\n",
        "results = cross_validate(modelo, x_azar, y_azar, cv = cv, groups = df.modelo, return_train_score=False)\n",
        "imprime_resultados(results)"
      ],
      "execution_count": null,
      "outputs": [
        {
          "output_type": "stream",
          "text": [
            "Accuracy médio 75.78\n",
            "Intervalo [73.67, 77.90]\n"
          ],
          "name": "stdout"
        }
      ]
    },
    {
      "cell_type": "code",
      "metadata": {
        "id": "O-4Ak3T4qulN",
        "colab": {
          "base_uri": "https://localhost:8080/",
          "height": 52
        },
        "outputId": "c77539d0-9c97-437d-c788-b63dc2076ccb"
      },
      "source": [
        "# GroupKFold para analisar como o modelo se comporta com novos grupos\n",
        "SEED = 301\n",
        "np.random.seed(SEED)\n",
        "\n",
        "cv = GroupKFold(n_splits = 10)\n",
        "modelo = DecisionTreeClassifier(max_depth=3)\n",
        "results = cross_validate(modelo, x_azar, y_azar, cv = cv, groups = df.modelo, return_train_score=False)\n",
        "imprime_resultados(results)"
      ],
      "execution_count": null,
      "outputs": [
        {
          "output_type": "stream",
          "text": [
            "Accuracy médio 78.67\n",
            "Intervalo [76.40, 80.94]\n"
          ],
          "name": "stdout"
        }
      ]
    },
    {
      "cell_type": "code",
      "metadata": {
        "id": "5Lwwcf6Nlu7r",
        "colab": {
          "base_uri": "https://localhost:8080/",
          "height": 598
        },
        "outputId": "940bace4-6c23-46d2-f1f4-e2dbb4ce27d7"
      },
      "source": [
        "from sklearn.tree import export_graphviz\n",
        "import graphviz\n",
        "\n",
        "modelo.fit(x_azar, y_azar)\n",
        "features = x_azar.columns\n",
        "dot_data = export_graphviz(modelo, out_file=None, filled=True, rounded=True,\n",
        "                class_names=[\"não\", \"sim\"],\n",
        "                feature_names = features)\n",
        "graph = graphviz.Source(dot_data)\n",
        "graph"
      ],
      "execution_count": null,
      "outputs": [
        {
          "output_type": "execute_result",
          "data": {
            "text/plain": [
              "<graphviz.files.Source at 0x7f02fc3e6940>"
            ],
            "image/svg+xml": "<?xml version=\"1.0\" encoding=\"UTF-8\" standalone=\"no\"?>\n<!DOCTYPE svg PUBLIC \"-//W3C//DTD SVG 1.1//EN\"\n \"http://www.w3.org/Graphics/SVG/1.1/DTD/svg11.dtd\">\n<!-- Generated by graphviz version 2.40.1 (20161225.0304)\n -->\n<!-- Title: Tree Pages: 1 -->\n<svg width=\"912pt\" height=\"433pt\"\n viewBox=\"0.00 0.00 912.00 433.00\" xmlns=\"http://www.w3.org/2000/svg\" xmlns:xlink=\"http://www.w3.org/1999/xlink\">\n<g id=\"graph0\" class=\"graph\" transform=\"scale(1 1) rotate(0) translate(4 429)\">\n<title>Tree</title>\n<polygon fill=\"#ffffff\" stroke=\"transparent\" points=\"-4,4 -4,-429 908,-429 908,4 -4,4\"/>\n<!-- 0 -->\n<g id=\"node1\" class=\"node\">\n<title>0</title>\n<path fill=\"#c8e4f8\" stroke=\"#000000\" d=\"M372.5,-425C372.5,-425 247.5,-425 247.5,-425 241.5,-425 235.5,-419 235.5,-413 235.5,-413 235.5,-354 235.5,-354 235.5,-348 241.5,-342 247.5,-342 247.5,-342 372.5,-342 372.5,-342 378.5,-342 384.5,-348 384.5,-354 384.5,-354 384.5,-413 384.5,-413 384.5,-419 378.5,-425 372.5,-425\"/>\n<text text-anchor=\"middle\" x=\"310\" y=\"-409.8\" font-family=\"Helvetica,sans-Serif\" font-size=\"14.00\" fill=\"#000000\">preco &lt;= 59982.246</text>\n<text text-anchor=\"middle\" x=\"310\" y=\"-394.8\" font-family=\"Helvetica,sans-Serif\" font-size=\"14.00\" fill=\"#000000\">gini = 0.487</text>\n<text text-anchor=\"middle\" x=\"310\" y=\"-379.8\" font-family=\"Helvetica,sans-Serif\" font-size=\"14.00\" fill=\"#000000\">samples = 10000</text>\n<text text-anchor=\"middle\" x=\"310\" y=\"-364.8\" font-family=\"Helvetica,sans-Serif\" font-size=\"14.00\" fill=\"#000000\">value = [4200, 5800]</text>\n<text text-anchor=\"middle\" x=\"310\" y=\"-349.8\" font-family=\"Helvetica,sans-Serif\" font-size=\"14.00\" fill=\"#000000\">class = sim</text>\n</g>\n<!-- 1 -->\n<g id=\"node2\" class=\"node\">\n<title>1</title>\n<path fill=\"#52a9e8\" stroke=\"#000000\" d=\"M277.5,-306C277.5,-306 154.5,-306 154.5,-306 148.5,-306 142.5,-300 142.5,-294 142.5,-294 142.5,-235 142.5,-235 142.5,-229 148.5,-223 154.5,-223 154.5,-223 277.5,-223 277.5,-223 283.5,-223 289.5,-229 289.5,-235 289.5,-235 289.5,-294 289.5,-294 289.5,-300 283.5,-306 277.5,-306\"/>\n<text text-anchor=\"middle\" x=\"216\" y=\"-290.8\" font-family=\"Helvetica,sans-Serif\" font-size=\"14.00\" fill=\"#000000\">preco &lt;= 40083.385</text>\n<text text-anchor=\"middle\" x=\"216\" y=\"-275.8\" font-family=\"Helvetica,sans-Serif\" font-size=\"14.00\" fill=\"#000000\">gini = 0.198</text>\n<text text-anchor=\"middle\" x=\"216\" y=\"-260.8\" font-family=\"Helvetica,sans-Serif\" font-size=\"14.00\" fill=\"#000000\">samples = 4347</text>\n<text text-anchor=\"middle\" x=\"216\" y=\"-245.8\" font-family=\"Helvetica,sans-Serif\" font-size=\"14.00\" fill=\"#000000\">value = [484, 3863]</text>\n<text text-anchor=\"middle\" x=\"216\" y=\"-230.8\" font-family=\"Helvetica,sans-Serif\" font-size=\"14.00\" fill=\"#000000\">class = sim</text>\n</g>\n<!-- 0&#45;&gt;1 -->\n<g id=\"edge1\" class=\"edge\">\n<title>0&#45;&gt;1</title>\n<path fill=\"none\" stroke=\"#000000\" d=\"M277.1234,-341.8796C270.0803,-332.9633 262.5707,-323.4565 255.3126,-314.268\"/>\n<polygon fill=\"#000000\" stroke=\"#000000\" points=\"257.9621,-311.9757 249.017,-306.2981 252.4691,-316.3147 257.9621,-311.9757\"/>\n<text text-anchor=\"middle\" x=\"246.1027\" y=\"-327.4276\" font-family=\"Helvetica,sans-Serif\" font-size=\"14.00\" fill=\"#000000\">True</text>\n</g>\n<!-- 6 -->\n<g id=\"node7\" class=\"node\">\n<title>6</title>\n<path fill=\"#f3c3a0\" stroke=\"#000000\" d=\"M545,-306C545,-306 377,-306 377,-306 371,-306 365,-300 365,-294 365,-294 365,-235 365,-235 365,-229 371,-223 377,-223 377,-223 545,-223 545,-223 551,-223 557,-229 557,-235 557,-235 557,-294 557,-294 557,-300 551,-306 545,-306\"/>\n<text text-anchor=\"middle\" x=\"461\" y=\"-290.8\" font-family=\"Helvetica,sans-Serif\" font-size=\"14.00\" fill=\"#000000\">km_por_ano &lt;= 24124.006</text>\n<text text-anchor=\"middle\" x=\"461\" y=\"-275.8\" font-family=\"Helvetica,sans-Serif\" font-size=\"14.00\" fill=\"#000000\">gini = 0.45</text>\n<text text-anchor=\"middle\" x=\"461\" y=\"-260.8\" font-family=\"Helvetica,sans-Serif\" font-size=\"14.00\" fill=\"#000000\">samples = 5653</text>\n<text text-anchor=\"middle\" x=\"461\" y=\"-245.8\" font-family=\"Helvetica,sans-Serif\" font-size=\"14.00\" fill=\"#000000\">value = [3716, 1937]</text>\n<text text-anchor=\"middle\" x=\"461\" y=\"-230.8\" font-family=\"Helvetica,sans-Serif\" font-size=\"14.00\" fill=\"#000000\">class = não</text>\n</g>\n<!-- 0&#45;&gt;6 -->\n<g id=\"edge6\" class=\"edge\">\n<title>0&#45;&gt;6</title>\n<path fill=\"none\" stroke=\"#000000\" d=\"M362.8125,-341.8796C374.8818,-332.368 387.8039,-322.1843 400.1788,-312.432\"/>\n<polygon fill=\"#000000\" stroke=\"#000000\" points=\"402.5296,-315.0356 408.2173,-306.0969 398.1968,-309.5377 402.5296,-315.0356\"/>\n<text text-anchor=\"middle\" x=\"405.275\" y=\"-327.2232\" font-family=\"Helvetica,sans-Serif\" font-size=\"14.00\" fill=\"#000000\">False</text>\n</g>\n<!-- 2 -->\n<g id=\"node3\" class=\"node\">\n<title>2</title>\n<path fill=\"#399de5\" stroke=\"#000000\" d=\"M112,-179.5C112,-179.5 12,-179.5 12,-179.5 6,-179.5 0,-173.5 0,-167.5 0,-167.5 0,-123.5 0,-123.5 0,-117.5 6,-111.5 12,-111.5 12,-111.5 112,-111.5 112,-111.5 118,-111.5 124,-117.5 124,-123.5 124,-123.5 124,-167.5 124,-167.5 124,-173.5 118,-179.5 112,-179.5\"/>\n<text text-anchor=\"middle\" x=\"62\" y=\"-164.3\" font-family=\"Helvetica,sans-Serif\" font-size=\"14.00\" fill=\"#000000\">gini = 0.0</text>\n<text text-anchor=\"middle\" x=\"62\" y=\"-149.3\" font-family=\"Helvetica,sans-Serif\" font-size=\"14.00\" fill=\"#000000\">samples = 1935</text>\n<text text-anchor=\"middle\" x=\"62\" y=\"-134.3\" font-family=\"Helvetica,sans-Serif\" font-size=\"14.00\" fill=\"#000000\">value = [0, 1935]</text>\n<text text-anchor=\"middle\" x=\"62\" y=\"-119.3\" font-family=\"Helvetica,sans-Serif\" font-size=\"14.00\" fill=\"#000000\">class = sim</text>\n</g>\n<!-- 1&#45;&gt;2 -->\n<g id=\"edge2\" class=\"edge\">\n<title>1&#45;&gt;2</title>\n<path fill=\"none\" stroke=\"#000000\" d=\"M162.1383,-222.8796C146.7696,-211.0038 130.0453,-198.0804 114.7441,-186.2568\"/>\n<polygon fill=\"#000000\" stroke=\"#000000\" points=\"116.4605,-183.1599 106.4076,-179.8149 112.1804,-188.699 116.4605,-183.1599\"/>\n</g>\n<!-- 3 -->\n<g id=\"node4\" class=\"node\">\n<title>3</title>\n<path fill=\"#6bb6ec\" stroke=\"#000000\" d=\"M277.5,-187C277.5,-187 154.5,-187 154.5,-187 148.5,-187 142.5,-181 142.5,-175 142.5,-175 142.5,-116 142.5,-116 142.5,-110 148.5,-104 154.5,-104 154.5,-104 277.5,-104 277.5,-104 283.5,-104 289.5,-110 289.5,-116 289.5,-116 289.5,-175 289.5,-175 289.5,-181 283.5,-187 277.5,-187\"/>\n<text text-anchor=\"middle\" x=\"216\" y=\"-171.8\" font-family=\"Helvetica,sans-Serif\" font-size=\"14.00\" fill=\"#000000\">preco &lt;= 41083.029</text>\n<text text-anchor=\"middle\" x=\"216\" y=\"-156.8\" font-family=\"Helvetica,sans-Serif\" font-size=\"14.00\" fill=\"#000000\">gini = 0.321</text>\n<text text-anchor=\"middle\" x=\"216\" y=\"-141.8\" font-family=\"Helvetica,sans-Serif\" font-size=\"14.00\" fill=\"#000000\">samples = 2412</text>\n<text text-anchor=\"middle\" x=\"216\" y=\"-126.8\" font-family=\"Helvetica,sans-Serif\" font-size=\"14.00\" fill=\"#000000\">value = [484, 1928]</text>\n<text text-anchor=\"middle\" x=\"216\" y=\"-111.8\" font-family=\"Helvetica,sans-Serif\" font-size=\"14.00\" fill=\"#000000\">class = sim</text>\n</g>\n<!-- 1&#45;&gt;3 -->\n<g id=\"edge3\" class=\"edge\">\n<title>1&#45;&gt;3</title>\n<path fill=\"none\" stroke=\"#000000\" d=\"M216,-222.8796C216,-214.6838 216,-205.9891 216,-197.5013\"/>\n<polygon fill=\"#000000\" stroke=\"#000000\" points=\"219.5001,-197.298 216,-187.2981 212.5001,-197.2981 219.5001,-197.298\"/>\n</g>\n<!-- 4 -->\n<g id=\"node5\" class=\"node\">\n<title>4</title>\n<path fill=\"#95cbf1\" stroke=\"#000000\" d=\"M116,-68C116,-68 24,-68 24,-68 18,-68 12,-62 12,-56 12,-56 12,-12 12,-12 12,-6 18,0 24,0 24,0 116,0 116,0 122,0 128,-6 128,-12 128,-12 128,-56 128,-56 128,-62 122,-68 116,-68\"/>\n<text text-anchor=\"middle\" x=\"70\" y=\"-52.8\" font-family=\"Helvetica,sans-Serif\" font-size=\"14.00\" fill=\"#000000\">gini = 0.434</text>\n<text text-anchor=\"middle\" x=\"70\" y=\"-37.8\" font-family=\"Helvetica,sans-Serif\" font-size=\"14.00\" fill=\"#000000\">samples = 110</text>\n<text text-anchor=\"middle\" x=\"70\" y=\"-22.8\" font-family=\"Helvetica,sans-Serif\" font-size=\"14.00\" fill=\"#000000\">value = [35, 75]</text>\n<text text-anchor=\"middle\" x=\"70\" y=\"-7.8\" font-family=\"Helvetica,sans-Serif\" font-size=\"14.00\" fill=\"#000000\">class = sim</text>\n</g>\n<!-- 3&#45;&gt;4 -->\n<g id=\"edge4\" class=\"edge\">\n<title>3&#45;&gt;4</title>\n<path fill=\"none\" stroke=\"#000000\" d=\"M161.635,-103.9815C148.9989,-94.3313 135.5644,-84.0714 122.9885,-74.4673\"/>\n<polygon fill=\"#000000\" stroke=\"#000000\" points=\"124.9372,-71.5515 114.8654,-68.2637 120.6886,-77.1148 124.9372,-71.5515\"/>\n</g>\n<!-- 5 -->\n<g id=\"node6\" class=\"node\">\n<title>5</title>\n<path fill=\"#69b5eb\" stroke=\"#000000\" d=\"M274,-68C274,-68 158,-68 158,-68 152,-68 146,-62 146,-56 146,-56 146,-12 146,-12 146,-6 152,0 158,0 158,0 274,0 274,0 280,0 286,-6 286,-12 286,-12 286,-56 286,-56 286,-62 280,-68 274,-68\"/>\n<text text-anchor=\"middle\" x=\"216\" y=\"-52.8\" font-family=\"Helvetica,sans-Serif\" font-size=\"14.00\" fill=\"#000000\">gini = 0.314</text>\n<text text-anchor=\"middle\" x=\"216\" y=\"-37.8\" font-family=\"Helvetica,sans-Serif\" font-size=\"14.00\" fill=\"#000000\">samples = 2302</text>\n<text text-anchor=\"middle\" x=\"216\" y=\"-22.8\" font-family=\"Helvetica,sans-Serif\" font-size=\"14.00\" fill=\"#000000\">value = [449, 1853]</text>\n<text text-anchor=\"middle\" x=\"216\" y=\"-7.8\" font-family=\"Helvetica,sans-Serif\" font-size=\"14.00\" fill=\"#000000\">class = sim</text>\n</g>\n<!-- 3&#45;&gt;5 -->\n<g id=\"edge5\" class=\"edge\">\n<title>3&#45;&gt;5</title>\n<path fill=\"none\" stroke=\"#000000\" d=\"M216,-103.9815C216,-95.618 216,-86.7965 216,-78.3409\"/>\n<polygon fill=\"#000000\" stroke=\"#000000\" points=\"219.5001,-78.2636 216,-68.2637 212.5001,-78.2637 219.5001,-78.2636\"/>\n</g>\n<!-- 7 -->\n<g id=\"node8\" class=\"node\">\n<title>7</title>\n<path fill=\"#fcefe5\" stroke=\"#000000\" d=\"M523.5,-187C523.5,-187 398.5,-187 398.5,-187 392.5,-187 386.5,-181 386.5,-175 386.5,-175 386.5,-116 386.5,-116 386.5,-110 392.5,-104 398.5,-104 398.5,-104 523.5,-104 523.5,-104 529.5,-104 535.5,-110 535.5,-116 535.5,-116 535.5,-175 535.5,-175 535.5,-181 529.5,-187 523.5,-187\"/>\n<text text-anchor=\"middle\" x=\"461\" y=\"-171.8\" font-family=\"Helvetica,sans-Serif\" font-size=\"14.00\" fill=\"#000000\">preco &lt;= 99974.41</text>\n<text text-anchor=\"middle\" x=\"461\" y=\"-156.8\" font-family=\"Helvetica,sans-Serif\" font-size=\"14.00\" fill=\"#000000\">gini = 0.498</text>\n<text text-anchor=\"middle\" x=\"461\" y=\"-141.8\" font-family=\"Helvetica,sans-Serif\" font-size=\"14.00\" fill=\"#000000\">samples = 3513</text>\n<text text-anchor=\"middle\" x=\"461\" y=\"-126.8\" font-family=\"Helvetica,sans-Serif\" font-size=\"14.00\" fill=\"#000000\">value = [1879, 1634]</text>\n<text text-anchor=\"middle\" x=\"461\" y=\"-111.8\" font-family=\"Helvetica,sans-Serif\" font-size=\"14.00\" fill=\"#000000\">class = não</text>\n</g>\n<!-- 6&#45;&gt;7 -->\n<g id=\"edge7\" class=\"edge\">\n<title>6&#45;&gt;7</title>\n<path fill=\"none\" stroke=\"#000000\" d=\"M461,-222.8796C461,-214.6838 461,-205.9891 461,-197.5013\"/>\n<polygon fill=\"#000000\" stroke=\"#000000\" points=\"464.5001,-197.298 461,-187.2981 457.5001,-197.2981 464.5001,-197.298\"/>\n</g>\n<!-- 10 -->\n<g id=\"node11\" class=\"node\">\n<title>10</title>\n<path fill=\"#e9965a\" stroke=\"#000000\" d=\"M753.5,-187C753.5,-187 622.5,-187 622.5,-187 616.5,-187 610.5,-181 610.5,-175 610.5,-175 610.5,-116 610.5,-116 610.5,-110 616.5,-104 622.5,-104 622.5,-104 753.5,-104 753.5,-104 759.5,-104 765.5,-110 765.5,-116 765.5,-116 765.5,-175 765.5,-175 765.5,-181 759.5,-187 753.5,-187\"/>\n<text text-anchor=\"middle\" x=\"688\" y=\"-171.8\" font-family=\"Helvetica,sans-Serif\" font-size=\"14.00\" fill=\"#000000\">preco &lt;= 100076.957</text>\n<text text-anchor=\"middle\" x=\"688\" y=\"-156.8\" font-family=\"Helvetica,sans-Serif\" font-size=\"14.00\" fill=\"#000000\">gini = 0.243</text>\n<text text-anchor=\"middle\" x=\"688\" y=\"-141.8\" font-family=\"Helvetica,sans-Serif\" font-size=\"14.00\" fill=\"#000000\">samples = 2140</text>\n<text text-anchor=\"middle\" x=\"688\" y=\"-126.8\" font-family=\"Helvetica,sans-Serif\" font-size=\"14.00\" fill=\"#000000\">value = [1837, 303]</text>\n<text text-anchor=\"middle\" x=\"688\" y=\"-111.8\" font-family=\"Helvetica,sans-Serif\" font-size=\"14.00\" fill=\"#000000\">class = não</text>\n</g>\n<!-- 6&#45;&gt;10 -->\n<g id=\"edge10\" class=\"edge\">\n<title>6&#45;&gt;10</title>\n<path fill=\"none\" stroke=\"#000000\" d=\"M540.3936,-222.8796C560.0179,-212.592 581.1418,-201.5182 601.1025,-191.0542\"/>\n<polygon fill=\"#000000\" stroke=\"#000000\" points=\"602.9504,-194.0373 610.1822,-186.2944 599.7003,-187.8375 602.9504,-194.0373\"/>\n</g>\n<!-- 8 -->\n<g id=\"node9\" class=\"node\">\n<title>8</title>\n<path fill=\"#f9e0ce\" stroke=\"#000000\" d=\"M441.5,-68C441.5,-68 316.5,-68 316.5,-68 310.5,-68 304.5,-62 304.5,-56 304.5,-56 304.5,-12 304.5,-12 304.5,-6 310.5,0 316.5,0 316.5,0 441.5,0 441.5,0 447.5,0 453.5,-6 453.5,-12 453.5,-12 453.5,-56 453.5,-56 453.5,-62 447.5,-68 441.5,-68\"/>\n<text text-anchor=\"middle\" x=\"379\" y=\"-52.8\" font-family=\"Helvetica,sans-Serif\" font-size=\"14.00\" fill=\"#000000\">gini = 0.49</text>\n<text text-anchor=\"middle\" x=\"379\" y=\"-37.8\" font-family=\"Helvetica,sans-Serif\" font-size=\"14.00\" fill=\"#000000\">samples = 2944</text>\n<text text-anchor=\"middle\" x=\"379\" y=\"-22.8\" font-family=\"Helvetica,sans-Serif\" font-size=\"14.00\" fill=\"#000000\">value = [1682, 1262]</text>\n<text text-anchor=\"middle\" x=\"379\" y=\"-7.8\" font-family=\"Helvetica,sans-Serif\" font-size=\"14.00\" fill=\"#000000\">class = não</text>\n</g>\n<!-- 7&#45;&gt;8 -->\n<g id=\"edge8\" class=\"edge\">\n<title>7&#45;&gt;8</title>\n<path fill=\"none\" stroke=\"#000000\" d=\"M430.4662,-103.9815C423.8424,-94.9747 416.8279,-85.4367 410.1795,-76.3965\"/>\n<polygon fill=\"#000000\" stroke=\"#000000\" points=\"412.9426,-74.2461 404.1984,-68.2637 407.3034,-78.3933 412.9426,-74.2461\"/>\n</g>\n<!-- 9 -->\n<g id=\"node10\" class=\"node\">\n<title>9</title>\n<path fill=\"#a2d1f3\" stroke=\"#000000\" d=\"M592,-68C592,-68 484,-68 484,-68 478,-68 472,-62 472,-56 472,-56 472,-12 472,-12 472,-6 478,0 484,0 484,0 592,0 592,0 598,0 604,-6 604,-12 604,-12 604,-56 604,-56 604,-62 598,-68 592,-68\"/>\n<text text-anchor=\"middle\" x=\"538\" y=\"-52.8\" font-family=\"Helvetica,sans-Serif\" font-size=\"14.00\" fill=\"#000000\">gini = 0.453</text>\n<text text-anchor=\"middle\" x=\"538\" y=\"-37.8\" font-family=\"Helvetica,sans-Serif\" font-size=\"14.00\" fill=\"#000000\">samples = 569</text>\n<text text-anchor=\"middle\" x=\"538\" y=\"-22.8\" font-family=\"Helvetica,sans-Serif\" font-size=\"14.00\" fill=\"#000000\">value = [197, 372]</text>\n<text text-anchor=\"middle\" x=\"538\" y=\"-7.8\" font-family=\"Helvetica,sans-Serif\" font-size=\"14.00\" fill=\"#000000\">class = sim</text>\n</g>\n<!-- 7&#45;&gt;9 -->\n<g id=\"edge9\" class=\"edge\">\n<title>7&#45;&gt;9</title>\n<path fill=\"none\" stroke=\"#000000\" d=\"M489.672,-103.9815C495.8285,-95.0666 502.3443,-85.6313 508.5305,-76.6734\"/>\n<polygon fill=\"#000000\" stroke=\"#000000\" points=\"511.5355,-78.4811 514.3381,-68.2637 505.7755,-74.5034 511.5355,-78.4811\"/>\n</g>\n<!-- 11 -->\n<g id=\"node12\" class=\"node\">\n<title>11</title>\n<path fill=\"#e68742\" stroke=\"#000000\" d=\"M742,-68C742,-68 634,-68 634,-68 628,-68 622,-62 622,-56 622,-56 622,-12 622,-12 622,-6 628,0 634,0 634,0 742,0 742,0 748,0 754,-6 754,-12 754,-12 754,-56 754,-56 754,-62 748,-68 742,-68\"/>\n<text text-anchor=\"middle\" x=\"688\" y=\"-52.8\" font-family=\"Helvetica,sans-Serif\" font-size=\"14.00\" fill=\"#000000\">gini = 0.082</text>\n<text text-anchor=\"middle\" x=\"688\" y=\"-37.8\" font-family=\"Helvetica,sans-Serif\" font-size=\"14.00\" fill=\"#000000\">samples = 1809</text>\n<text text-anchor=\"middle\" x=\"688\" y=\"-22.8\" font-family=\"Helvetica,sans-Serif\" font-size=\"14.00\" fill=\"#000000\">value = [1732, 77]</text>\n<text text-anchor=\"middle\" x=\"688\" y=\"-7.8\" font-family=\"Helvetica,sans-Serif\" font-size=\"14.00\" fill=\"#000000\">class = não</text>\n</g>\n<!-- 10&#45;&gt;11 -->\n<g id=\"edge11\" class=\"edge\">\n<title>10&#45;&gt;11</title>\n<path fill=\"none\" stroke=\"#000000\" d=\"M688,-103.9815C688,-95.618 688,-86.7965 688,-78.3409\"/>\n<polygon fill=\"#000000\" stroke=\"#000000\" points=\"691.5001,-78.2636 688,-68.2637 684.5001,-78.2637 691.5001,-78.2636\"/>\n</g>\n<!-- 12 -->\n<g id=\"node13\" class=\"node\">\n<title>12</title>\n<path fill=\"#95cbf1\" stroke=\"#000000\" d=\"M892,-68C892,-68 784,-68 784,-68 778,-68 772,-62 772,-56 772,-56 772,-12 772,-12 772,-6 778,0 784,0 784,0 892,0 892,0 898,0 904,-6 904,-12 904,-12 904,-56 904,-56 904,-62 898,-68 892,-68\"/>\n<text text-anchor=\"middle\" x=\"838\" y=\"-52.8\" font-family=\"Helvetica,sans-Serif\" font-size=\"14.00\" fill=\"#000000\">gini = 0.433</text>\n<text text-anchor=\"middle\" x=\"838\" y=\"-37.8\" font-family=\"Helvetica,sans-Serif\" font-size=\"14.00\" fill=\"#000000\">samples = 331</text>\n<text text-anchor=\"middle\" x=\"838\" y=\"-22.8\" font-family=\"Helvetica,sans-Serif\" font-size=\"14.00\" fill=\"#000000\">value = [105, 226]</text>\n<text text-anchor=\"middle\" x=\"838\" y=\"-7.8\" font-family=\"Helvetica,sans-Serif\" font-size=\"14.00\" fill=\"#000000\">class = sim</text>\n</g>\n<!-- 10&#45;&gt;12 -->\n<g id=\"edge12\" class=\"edge\">\n<title>10&#45;&gt;12</title>\n<path fill=\"none\" stroke=\"#000000\" d=\"M743.8545,-103.9815C756.8368,-94.3313 770.6394,-84.0714 783.5597,-74.4673\"/>\n<polygon fill=\"#000000\" stroke=\"#000000\" points=\"785.9678,-77.0384 791.9054,-68.2637 781.7917,-71.4204 785.9678,-77.0384\"/>\n</g>\n</g>\n</svg>\n"
          },
          "metadata": {
            "tags": []
          },
          "execution_count": 34
        }
      ]
    },
    {
      "cell_type": "code",
      "metadata": {
        "id": "xjXJ14ubppv_",
        "colab": {
          "base_uri": "https://localhost:8080/",
          "height": 598
        },
        "outputId": "f7322e03-9c8b-4965-f4c1-b1ed5af260d9"
      },
      "source": [
        "modelo = DecisionTreeClassifier(max_depth=3)\n",
        "modelo.fit(x_azar, y_azar)\n",
        "features = x_azar.columns\n",
        "dot_data = export_graphviz(modelo, out_file=None, filled=True, rounded=True,\n",
        "                class_names=[\"não\", \"sim\"],\n",
        "                feature_names = features)\n",
        "graph = graphviz.Source(dot_data)\n",
        "graph\n"
      ],
      "execution_count": null,
      "outputs": [
        {
          "output_type": "execute_result",
          "data": {
            "text/plain": [
              "<graphviz.files.Source at 0x7f02fc39a978>"
            ],
            "image/svg+xml": "<?xml version=\"1.0\" encoding=\"UTF-8\" standalone=\"no\"?>\n<!DOCTYPE svg PUBLIC \"-//W3C//DTD SVG 1.1//EN\"\n \"http://www.w3.org/Graphics/SVG/1.1/DTD/svg11.dtd\">\n<!-- Generated by graphviz version 2.40.1 (20161225.0304)\n -->\n<!-- Title: Tree Pages: 1 -->\n<svg width=\"912pt\" height=\"433pt\"\n viewBox=\"0.00 0.00 912.00 433.00\" xmlns=\"http://www.w3.org/2000/svg\" xmlns:xlink=\"http://www.w3.org/1999/xlink\">\n<g id=\"graph0\" class=\"graph\" transform=\"scale(1 1) rotate(0) translate(4 429)\">\n<title>Tree</title>\n<polygon fill=\"#ffffff\" stroke=\"transparent\" points=\"-4,4 -4,-429 908,-429 908,4 -4,4\"/>\n<!-- 0 -->\n<g id=\"node1\" class=\"node\">\n<title>0</title>\n<path fill=\"#c8e4f8\" stroke=\"#000000\" d=\"M372.5,-425C372.5,-425 247.5,-425 247.5,-425 241.5,-425 235.5,-419 235.5,-413 235.5,-413 235.5,-354 235.5,-354 235.5,-348 241.5,-342 247.5,-342 247.5,-342 372.5,-342 372.5,-342 378.5,-342 384.5,-348 384.5,-354 384.5,-354 384.5,-413 384.5,-413 384.5,-419 378.5,-425 372.5,-425\"/>\n<text text-anchor=\"middle\" x=\"310\" y=\"-409.8\" font-family=\"Helvetica,sans-Serif\" font-size=\"14.00\" fill=\"#000000\">preco &lt;= 59982.246</text>\n<text text-anchor=\"middle\" x=\"310\" y=\"-394.8\" font-family=\"Helvetica,sans-Serif\" font-size=\"14.00\" fill=\"#000000\">gini = 0.487</text>\n<text text-anchor=\"middle\" x=\"310\" y=\"-379.8\" font-family=\"Helvetica,sans-Serif\" font-size=\"14.00\" fill=\"#000000\">samples = 10000</text>\n<text text-anchor=\"middle\" x=\"310\" y=\"-364.8\" font-family=\"Helvetica,sans-Serif\" font-size=\"14.00\" fill=\"#000000\">value = [4200, 5800]</text>\n<text text-anchor=\"middle\" x=\"310\" y=\"-349.8\" font-family=\"Helvetica,sans-Serif\" font-size=\"14.00\" fill=\"#000000\">class = sim</text>\n</g>\n<!-- 1 -->\n<g id=\"node2\" class=\"node\">\n<title>1</title>\n<path fill=\"#52a9e8\" stroke=\"#000000\" d=\"M277.5,-306C277.5,-306 154.5,-306 154.5,-306 148.5,-306 142.5,-300 142.5,-294 142.5,-294 142.5,-235 142.5,-235 142.5,-229 148.5,-223 154.5,-223 154.5,-223 277.5,-223 277.5,-223 283.5,-223 289.5,-229 289.5,-235 289.5,-235 289.5,-294 289.5,-294 289.5,-300 283.5,-306 277.5,-306\"/>\n<text text-anchor=\"middle\" x=\"216\" y=\"-290.8\" font-family=\"Helvetica,sans-Serif\" font-size=\"14.00\" fill=\"#000000\">preco &lt;= 40083.385</text>\n<text text-anchor=\"middle\" x=\"216\" y=\"-275.8\" font-family=\"Helvetica,sans-Serif\" font-size=\"14.00\" fill=\"#000000\">gini = 0.198</text>\n<text text-anchor=\"middle\" x=\"216\" y=\"-260.8\" font-family=\"Helvetica,sans-Serif\" font-size=\"14.00\" fill=\"#000000\">samples = 4347</text>\n<text text-anchor=\"middle\" x=\"216\" y=\"-245.8\" font-family=\"Helvetica,sans-Serif\" font-size=\"14.00\" fill=\"#000000\">value = [484, 3863]</text>\n<text text-anchor=\"middle\" x=\"216\" y=\"-230.8\" font-family=\"Helvetica,sans-Serif\" font-size=\"14.00\" fill=\"#000000\">class = sim</text>\n</g>\n<!-- 0&#45;&gt;1 -->\n<g id=\"edge1\" class=\"edge\">\n<title>0&#45;&gt;1</title>\n<path fill=\"none\" stroke=\"#000000\" d=\"M277.1234,-341.8796C270.0803,-332.9633 262.5707,-323.4565 255.3126,-314.268\"/>\n<polygon fill=\"#000000\" stroke=\"#000000\" points=\"257.9621,-311.9757 249.017,-306.2981 252.4691,-316.3147 257.9621,-311.9757\"/>\n<text text-anchor=\"middle\" x=\"246.1027\" y=\"-327.4276\" font-family=\"Helvetica,sans-Serif\" font-size=\"14.00\" fill=\"#000000\">True</text>\n</g>\n<!-- 6 -->\n<g id=\"node7\" class=\"node\">\n<title>6</title>\n<path fill=\"#f3c3a0\" stroke=\"#000000\" d=\"M545,-306C545,-306 377,-306 377,-306 371,-306 365,-300 365,-294 365,-294 365,-235 365,-235 365,-229 371,-223 377,-223 377,-223 545,-223 545,-223 551,-223 557,-229 557,-235 557,-235 557,-294 557,-294 557,-300 551,-306 545,-306\"/>\n<text text-anchor=\"middle\" x=\"461\" y=\"-290.8\" font-family=\"Helvetica,sans-Serif\" font-size=\"14.00\" fill=\"#000000\">km_por_ano &lt;= 24124.006</text>\n<text text-anchor=\"middle\" x=\"461\" y=\"-275.8\" font-family=\"Helvetica,sans-Serif\" font-size=\"14.00\" fill=\"#000000\">gini = 0.45</text>\n<text text-anchor=\"middle\" x=\"461\" y=\"-260.8\" font-family=\"Helvetica,sans-Serif\" font-size=\"14.00\" fill=\"#000000\">samples = 5653</text>\n<text text-anchor=\"middle\" x=\"461\" y=\"-245.8\" font-family=\"Helvetica,sans-Serif\" font-size=\"14.00\" fill=\"#000000\">value = [3716, 1937]</text>\n<text text-anchor=\"middle\" x=\"461\" y=\"-230.8\" font-family=\"Helvetica,sans-Serif\" font-size=\"14.00\" fill=\"#000000\">class = não</text>\n</g>\n<!-- 0&#45;&gt;6 -->\n<g id=\"edge6\" class=\"edge\">\n<title>0&#45;&gt;6</title>\n<path fill=\"none\" stroke=\"#000000\" d=\"M362.8125,-341.8796C374.8818,-332.368 387.8039,-322.1843 400.1788,-312.432\"/>\n<polygon fill=\"#000000\" stroke=\"#000000\" points=\"402.5296,-315.0356 408.2173,-306.0969 398.1968,-309.5377 402.5296,-315.0356\"/>\n<text text-anchor=\"middle\" x=\"405.275\" y=\"-327.2232\" font-family=\"Helvetica,sans-Serif\" font-size=\"14.00\" fill=\"#000000\">False</text>\n</g>\n<!-- 2 -->\n<g id=\"node3\" class=\"node\">\n<title>2</title>\n<path fill=\"#399de5\" stroke=\"#000000\" d=\"M112,-179.5C112,-179.5 12,-179.5 12,-179.5 6,-179.5 0,-173.5 0,-167.5 0,-167.5 0,-123.5 0,-123.5 0,-117.5 6,-111.5 12,-111.5 12,-111.5 112,-111.5 112,-111.5 118,-111.5 124,-117.5 124,-123.5 124,-123.5 124,-167.5 124,-167.5 124,-173.5 118,-179.5 112,-179.5\"/>\n<text text-anchor=\"middle\" x=\"62\" y=\"-164.3\" font-family=\"Helvetica,sans-Serif\" font-size=\"14.00\" fill=\"#000000\">gini = 0.0</text>\n<text text-anchor=\"middle\" x=\"62\" y=\"-149.3\" font-family=\"Helvetica,sans-Serif\" font-size=\"14.00\" fill=\"#000000\">samples = 1935</text>\n<text text-anchor=\"middle\" x=\"62\" y=\"-134.3\" font-family=\"Helvetica,sans-Serif\" font-size=\"14.00\" fill=\"#000000\">value = [0, 1935]</text>\n<text text-anchor=\"middle\" x=\"62\" y=\"-119.3\" font-family=\"Helvetica,sans-Serif\" font-size=\"14.00\" fill=\"#000000\">class = sim</text>\n</g>\n<!-- 1&#45;&gt;2 -->\n<g id=\"edge2\" class=\"edge\">\n<title>1&#45;&gt;2</title>\n<path fill=\"none\" stroke=\"#000000\" d=\"M162.1383,-222.8796C146.7696,-211.0038 130.0453,-198.0804 114.7441,-186.2568\"/>\n<polygon fill=\"#000000\" stroke=\"#000000\" points=\"116.4605,-183.1599 106.4076,-179.8149 112.1804,-188.699 116.4605,-183.1599\"/>\n</g>\n<!-- 3 -->\n<g id=\"node4\" class=\"node\">\n<title>3</title>\n<path fill=\"#6bb6ec\" stroke=\"#000000\" d=\"M277.5,-187C277.5,-187 154.5,-187 154.5,-187 148.5,-187 142.5,-181 142.5,-175 142.5,-175 142.5,-116 142.5,-116 142.5,-110 148.5,-104 154.5,-104 154.5,-104 277.5,-104 277.5,-104 283.5,-104 289.5,-110 289.5,-116 289.5,-116 289.5,-175 289.5,-175 289.5,-181 283.5,-187 277.5,-187\"/>\n<text text-anchor=\"middle\" x=\"216\" y=\"-171.8\" font-family=\"Helvetica,sans-Serif\" font-size=\"14.00\" fill=\"#000000\">preco &lt;= 41083.029</text>\n<text text-anchor=\"middle\" x=\"216\" y=\"-156.8\" font-family=\"Helvetica,sans-Serif\" font-size=\"14.00\" fill=\"#000000\">gini = 0.321</text>\n<text text-anchor=\"middle\" x=\"216\" y=\"-141.8\" font-family=\"Helvetica,sans-Serif\" font-size=\"14.00\" fill=\"#000000\">samples = 2412</text>\n<text text-anchor=\"middle\" x=\"216\" y=\"-126.8\" font-family=\"Helvetica,sans-Serif\" font-size=\"14.00\" fill=\"#000000\">value = [484, 1928]</text>\n<text text-anchor=\"middle\" x=\"216\" y=\"-111.8\" font-family=\"Helvetica,sans-Serif\" font-size=\"14.00\" fill=\"#000000\">class = sim</text>\n</g>\n<!-- 1&#45;&gt;3 -->\n<g id=\"edge3\" class=\"edge\">\n<title>1&#45;&gt;3</title>\n<path fill=\"none\" stroke=\"#000000\" d=\"M216,-222.8796C216,-214.6838 216,-205.9891 216,-197.5013\"/>\n<polygon fill=\"#000000\" stroke=\"#000000\" points=\"219.5001,-197.298 216,-187.2981 212.5001,-197.2981 219.5001,-197.298\"/>\n</g>\n<!-- 4 -->\n<g id=\"node5\" class=\"node\">\n<title>4</title>\n<path fill=\"#95cbf1\" stroke=\"#000000\" d=\"M116,-68C116,-68 24,-68 24,-68 18,-68 12,-62 12,-56 12,-56 12,-12 12,-12 12,-6 18,0 24,0 24,0 116,0 116,0 122,0 128,-6 128,-12 128,-12 128,-56 128,-56 128,-62 122,-68 116,-68\"/>\n<text text-anchor=\"middle\" x=\"70\" y=\"-52.8\" font-family=\"Helvetica,sans-Serif\" font-size=\"14.00\" fill=\"#000000\">gini = 0.434</text>\n<text text-anchor=\"middle\" x=\"70\" y=\"-37.8\" font-family=\"Helvetica,sans-Serif\" font-size=\"14.00\" fill=\"#000000\">samples = 110</text>\n<text text-anchor=\"middle\" x=\"70\" y=\"-22.8\" font-family=\"Helvetica,sans-Serif\" font-size=\"14.00\" fill=\"#000000\">value = [35, 75]</text>\n<text text-anchor=\"middle\" x=\"70\" y=\"-7.8\" font-family=\"Helvetica,sans-Serif\" font-size=\"14.00\" fill=\"#000000\">class = sim</text>\n</g>\n<!-- 3&#45;&gt;4 -->\n<g id=\"edge4\" class=\"edge\">\n<title>3&#45;&gt;4</title>\n<path fill=\"none\" stroke=\"#000000\" d=\"M161.635,-103.9815C148.9989,-94.3313 135.5644,-84.0714 122.9885,-74.4673\"/>\n<polygon fill=\"#000000\" stroke=\"#000000\" points=\"124.9372,-71.5515 114.8654,-68.2637 120.6886,-77.1148 124.9372,-71.5515\"/>\n</g>\n<!-- 5 -->\n<g id=\"node6\" class=\"node\">\n<title>5</title>\n<path fill=\"#69b5eb\" stroke=\"#000000\" d=\"M274,-68C274,-68 158,-68 158,-68 152,-68 146,-62 146,-56 146,-56 146,-12 146,-12 146,-6 152,0 158,0 158,0 274,0 274,0 280,0 286,-6 286,-12 286,-12 286,-56 286,-56 286,-62 280,-68 274,-68\"/>\n<text text-anchor=\"middle\" x=\"216\" y=\"-52.8\" font-family=\"Helvetica,sans-Serif\" font-size=\"14.00\" fill=\"#000000\">gini = 0.314</text>\n<text text-anchor=\"middle\" x=\"216\" y=\"-37.8\" font-family=\"Helvetica,sans-Serif\" font-size=\"14.00\" fill=\"#000000\">samples = 2302</text>\n<text text-anchor=\"middle\" x=\"216\" y=\"-22.8\" font-family=\"Helvetica,sans-Serif\" font-size=\"14.00\" fill=\"#000000\">value = [449, 1853]</text>\n<text text-anchor=\"middle\" x=\"216\" y=\"-7.8\" font-family=\"Helvetica,sans-Serif\" font-size=\"14.00\" fill=\"#000000\">class = sim</text>\n</g>\n<!-- 3&#45;&gt;5 -->\n<g id=\"edge5\" class=\"edge\">\n<title>3&#45;&gt;5</title>\n<path fill=\"none\" stroke=\"#000000\" d=\"M216,-103.9815C216,-95.618 216,-86.7965 216,-78.3409\"/>\n<polygon fill=\"#000000\" stroke=\"#000000\" points=\"219.5001,-78.2636 216,-68.2637 212.5001,-78.2637 219.5001,-78.2636\"/>\n</g>\n<!-- 7 -->\n<g id=\"node8\" class=\"node\">\n<title>7</title>\n<path fill=\"#fcefe5\" stroke=\"#000000\" d=\"M523.5,-187C523.5,-187 398.5,-187 398.5,-187 392.5,-187 386.5,-181 386.5,-175 386.5,-175 386.5,-116 386.5,-116 386.5,-110 392.5,-104 398.5,-104 398.5,-104 523.5,-104 523.5,-104 529.5,-104 535.5,-110 535.5,-116 535.5,-116 535.5,-175 535.5,-175 535.5,-181 529.5,-187 523.5,-187\"/>\n<text text-anchor=\"middle\" x=\"461\" y=\"-171.8\" font-family=\"Helvetica,sans-Serif\" font-size=\"14.00\" fill=\"#000000\">preco &lt;= 99974.41</text>\n<text text-anchor=\"middle\" x=\"461\" y=\"-156.8\" font-family=\"Helvetica,sans-Serif\" font-size=\"14.00\" fill=\"#000000\">gini = 0.498</text>\n<text text-anchor=\"middle\" x=\"461\" y=\"-141.8\" font-family=\"Helvetica,sans-Serif\" font-size=\"14.00\" fill=\"#000000\">samples = 3513</text>\n<text text-anchor=\"middle\" x=\"461\" y=\"-126.8\" font-family=\"Helvetica,sans-Serif\" font-size=\"14.00\" fill=\"#000000\">value = [1879, 1634]</text>\n<text text-anchor=\"middle\" x=\"461\" y=\"-111.8\" font-family=\"Helvetica,sans-Serif\" font-size=\"14.00\" fill=\"#000000\">class = não</text>\n</g>\n<!-- 6&#45;&gt;7 -->\n<g id=\"edge7\" class=\"edge\">\n<title>6&#45;&gt;7</title>\n<path fill=\"none\" stroke=\"#000000\" d=\"M461,-222.8796C461,-214.6838 461,-205.9891 461,-197.5013\"/>\n<polygon fill=\"#000000\" stroke=\"#000000\" points=\"464.5001,-197.298 461,-187.2981 457.5001,-197.2981 464.5001,-197.298\"/>\n</g>\n<!-- 10 -->\n<g id=\"node11\" class=\"node\">\n<title>10</title>\n<path fill=\"#e9965a\" stroke=\"#000000\" d=\"M753.5,-187C753.5,-187 622.5,-187 622.5,-187 616.5,-187 610.5,-181 610.5,-175 610.5,-175 610.5,-116 610.5,-116 610.5,-110 616.5,-104 622.5,-104 622.5,-104 753.5,-104 753.5,-104 759.5,-104 765.5,-110 765.5,-116 765.5,-116 765.5,-175 765.5,-175 765.5,-181 759.5,-187 753.5,-187\"/>\n<text text-anchor=\"middle\" x=\"688\" y=\"-171.8\" font-family=\"Helvetica,sans-Serif\" font-size=\"14.00\" fill=\"#000000\">preco &lt;= 100076.957</text>\n<text text-anchor=\"middle\" x=\"688\" y=\"-156.8\" font-family=\"Helvetica,sans-Serif\" font-size=\"14.00\" fill=\"#000000\">gini = 0.243</text>\n<text text-anchor=\"middle\" x=\"688\" y=\"-141.8\" font-family=\"Helvetica,sans-Serif\" font-size=\"14.00\" fill=\"#000000\">samples = 2140</text>\n<text text-anchor=\"middle\" x=\"688\" y=\"-126.8\" font-family=\"Helvetica,sans-Serif\" font-size=\"14.00\" fill=\"#000000\">value = [1837, 303]</text>\n<text text-anchor=\"middle\" x=\"688\" y=\"-111.8\" font-family=\"Helvetica,sans-Serif\" font-size=\"14.00\" fill=\"#000000\">class = não</text>\n</g>\n<!-- 6&#45;&gt;10 -->\n<g id=\"edge10\" class=\"edge\">\n<title>6&#45;&gt;10</title>\n<path fill=\"none\" stroke=\"#000000\" d=\"M540.3936,-222.8796C560.0179,-212.592 581.1418,-201.5182 601.1025,-191.0542\"/>\n<polygon fill=\"#000000\" stroke=\"#000000\" points=\"602.9504,-194.0373 610.1822,-186.2944 599.7003,-187.8375 602.9504,-194.0373\"/>\n</g>\n<!-- 8 -->\n<g id=\"node9\" class=\"node\">\n<title>8</title>\n<path fill=\"#f9e0ce\" stroke=\"#000000\" d=\"M441.5,-68C441.5,-68 316.5,-68 316.5,-68 310.5,-68 304.5,-62 304.5,-56 304.5,-56 304.5,-12 304.5,-12 304.5,-6 310.5,0 316.5,0 316.5,0 441.5,0 441.5,0 447.5,0 453.5,-6 453.5,-12 453.5,-12 453.5,-56 453.5,-56 453.5,-62 447.5,-68 441.5,-68\"/>\n<text text-anchor=\"middle\" x=\"379\" y=\"-52.8\" font-family=\"Helvetica,sans-Serif\" font-size=\"14.00\" fill=\"#000000\">gini = 0.49</text>\n<text text-anchor=\"middle\" x=\"379\" y=\"-37.8\" font-family=\"Helvetica,sans-Serif\" font-size=\"14.00\" fill=\"#000000\">samples = 2944</text>\n<text text-anchor=\"middle\" x=\"379\" y=\"-22.8\" font-family=\"Helvetica,sans-Serif\" font-size=\"14.00\" fill=\"#000000\">value = [1682, 1262]</text>\n<text text-anchor=\"middle\" x=\"379\" y=\"-7.8\" font-family=\"Helvetica,sans-Serif\" font-size=\"14.00\" fill=\"#000000\">class = não</text>\n</g>\n<!-- 7&#45;&gt;8 -->\n<g id=\"edge8\" class=\"edge\">\n<title>7&#45;&gt;8</title>\n<path fill=\"none\" stroke=\"#000000\" d=\"M430.4662,-103.9815C423.8424,-94.9747 416.8279,-85.4367 410.1795,-76.3965\"/>\n<polygon fill=\"#000000\" stroke=\"#000000\" points=\"412.9426,-74.2461 404.1984,-68.2637 407.3034,-78.3933 412.9426,-74.2461\"/>\n</g>\n<!-- 9 -->\n<g id=\"node10\" class=\"node\">\n<title>9</title>\n<path fill=\"#a2d1f3\" stroke=\"#000000\" d=\"M592,-68C592,-68 484,-68 484,-68 478,-68 472,-62 472,-56 472,-56 472,-12 472,-12 472,-6 478,0 484,0 484,0 592,0 592,0 598,0 604,-6 604,-12 604,-12 604,-56 604,-56 604,-62 598,-68 592,-68\"/>\n<text text-anchor=\"middle\" x=\"538\" y=\"-52.8\" font-family=\"Helvetica,sans-Serif\" font-size=\"14.00\" fill=\"#000000\">gini = 0.453</text>\n<text text-anchor=\"middle\" x=\"538\" y=\"-37.8\" font-family=\"Helvetica,sans-Serif\" font-size=\"14.00\" fill=\"#000000\">samples = 569</text>\n<text text-anchor=\"middle\" x=\"538\" y=\"-22.8\" font-family=\"Helvetica,sans-Serif\" font-size=\"14.00\" fill=\"#000000\">value = [197, 372]</text>\n<text text-anchor=\"middle\" x=\"538\" y=\"-7.8\" font-family=\"Helvetica,sans-Serif\" font-size=\"14.00\" fill=\"#000000\">class = sim</text>\n</g>\n<!-- 7&#45;&gt;9 -->\n<g id=\"edge9\" class=\"edge\">\n<title>7&#45;&gt;9</title>\n<path fill=\"none\" stroke=\"#000000\" d=\"M489.672,-103.9815C495.8285,-95.0666 502.3443,-85.6313 508.5305,-76.6734\"/>\n<polygon fill=\"#000000\" stroke=\"#000000\" points=\"511.5355,-78.4811 514.3381,-68.2637 505.7755,-74.5034 511.5355,-78.4811\"/>\n</g>\n<!-- 11 -->\n<g id=\"node12\" class=\"node\">\n<title>11</title>\n<path fill=\"#e68742\" stroke=\"#000000\" d=\"M742,-68C742,-68 634,-68 634,-68 628,-68 622,-62 622,-56 622,-56 622,-12 622,-12 622,-6 628,0 634,0 634,0 742,0 742,0 748,0 754,-6 754,-12 754,-12 754,-56 754,-56 754,-62 748,-68 742,-68\"/>\n<text text-anchor=\"middle\" x=\"688\" y=\"-52.8\" font-family=\"Helvetica,sans-Serif\" font-size=\"14.00\" fill=\"#000000\">gini = 0.082</text>\n<text text-anchor=\"middle\" x=\"688\" y=\"-37.8\" font-family=\"Helvetica,sans-Serif\" font-size=\"14.00\" fill=\"#000000\">samples = 1809</text>\n<text text-anchor=\"middle\" x=\"688\" y=\"-22.8\" font-family=\"Helvetica,sans-Serif\" font-size=\"14.00\" fill=\"#000000\">value = [1732, 77]</text>\n<text text-anchor=\"middle\" x=\"688\" y=\"-7.8\" font-family=\"Helvetica,sans-Serif\" font-size=\"14.00\" fill=\"#000000\">class = não</text>\n</g>\n<!-- 10&#45;&gt;11 -->\n<g id=\"edge11\" class=\"edge\">\n<title>10&#45;&gt;11</title>\n<path fill=\"none\" stroke=\"#000000\" d=\"M688,-103.9815C688,-95.618 688,-86.7965 688,-78.3409\"/>\n<polygon fill=\"#000000\" stroke=\"#000000\" points=\"691.5001,-78.2636 688,-68.2637 684.5001,-78.2637 691.5001,-78.2636\"/>\n</g>\n<!-- 12 -->\n<g id=\"node13\" class=\"node\">\n<title>12</title>\n<path fill=\"#95cbf1\" stroke=\"#000000\" d=\"M892,-68C892,-68 784,-68 784,-68 778,-68 772,-62 772,-56 772,-56 772,-12 772,-12 772,-6 778,0 784,0 784,0 892,0 892,0 898,0 904,-6 904,-12 904,-12 904,-56 904,-56 904,-62 898,-68 892,-68\"/>\n<text text-anchor=\"middle\" x=\"838\" y=\"-52.8\" font-family=\"Helvetica,sans-Serif\" font-size=\"14.00\" fill=\"#000000\">gini = 0.433</text>\n<text text-anchor=\"middle\" x=\"838\" y=\"-37.8\" font-family=\"Helvetica,sans-Serif\" font-size=\"14.00\" fill=\"#000000\">samples = 331</text>\n<text text-anchor=\"middle\" x=\"838\" y=\"-22.8\" font-family=\"Helvetica,sans-Serif\" font-size=\"14.00\" fill=\"#000000\">value = [105, 226]</text>\n<text text-anchor=\"middle\" x=\"838\" y=\"-7.8\" font-family=\"Helvetica,sans-Serif\" font-size=\"14.00\" fill=\"#000000\">class = sim</text>\n</g>\n<!-- 10&#45;&gt;12 -->\n<g id=\"edge12\" class=\"edge\">\n<title>10&#45;&gt;12</title>\n<path fill=\"none\" stroke=\"#000000\" d=\"M743.8545,-103.9815C756.8368,-94.3313 770.6394,-84.0714 783.5597,-74.4673\"/>\n<polygon fill=\"#000000\" stroke=\"#000000\" points=\"785.9678,-77.0384 791.9054,-68.2637 781.7917,-71.4204 785.9678,-77.0384\"/>\n</g>\n</g>\n</svg>\n"
          },
          "metadata": {
            "tags": []
          },
          "execution_count": 35
        }
      ]
    },
    {
      "cell_type": "code",
      "metadata": {
        "id": "kaVqz8VCqOrL",
        "colab": {
          "base_uri": "https://localhost:8080/",
          "height": 52
        },
        "outputId": "2a699ced-500a-48cc-9d7d-84cb049ba630"
      },
      "source": [
        "# GroupKFold para analisar como o modelo se comporta com novos grupos\n",
        "SEED = 301\n",
        "np.random.seed(SEED)\n",
        "\n",
        "cv = GroupKFold(n_splits = 10)\n",
        "modelo = DecisionTreeClassifier(max_depth=10)\n",
        "results = cross_validate(modelo, x_azar, y_azar, cv = cv, groups = df.modelo, return_train_score=False)\n",
        "imprime_resultados(results)"
      ],
      "execution_count": null,
      "outputs": [
        {
          "output_type": "stream",
          "text": [
            "Accuracy médio 77.19\n",
            "Intervalo [75.26, 79.13]\n"
          ],
          "name": "stdout"
        }
      ]
    },
    {
      "cell_type": "markdown",
      "metadata": {
        "id": "wOhlNp6jrtPH"
      },
      "source": [
        "# Testar valores de profundidade da árvore para saber qual é o melhor valor para este hiperparametro"
      ]
    },
    {
      "cell_type": "code",
      "metadata": {
        "id": "EmzNjof8qOv5",
        "colab": {
          "base_uri": "https://localhost:8080/",
          "height": 1000
        },
        "outputId": "d3f0d84a-43fe-468b-d57b-987f392c5054"
      },
      "source": [
        "def run_decision_tree(depth):\n",
        "  SEED=301\n",
        "  np.random.seed(SEED)\n",
        "\n",
        "  cv = GroupKFold(n_splits=10)\n",
        "  modelo = DecisionTreeClassifier(max_depth=depth)\n",
        "  results = cross_validate(modelo, x_azar, y_azar, cv=cv, groups=df.modelo, return_train_score=False)\n",
        "  imprime_resultados(results)\n",
        "\n",
        "for fit in range(1, 32):\n",
        "  print(fit)\n",
        "  run_decision_tree(fit)  "
      ],
      "execution_count": null,
      "outputs": [
        {
          "output_type": "stream",
          "text": [
            "1\n",
            "Accuracy médio 75.78\n",
            "Intervalo [73.67, 77.90]\n",
            "2\n",
            "Accuracy médio 75.78\n",
            "Intervalo [73.67, 77.90]\n",
            "3\n",
            "Accuracy médio 78.67\n",
            "Intervalo [76.40, 80.94]\n",
            "4\n",
            "Accuracy médio 78.63\n",
            "Intervalo [76.41, 80.86]\n",
            "5\n",
            "Accuracy médio 78.56\n",
            "Intervalo [76.42, 80.69]\n",
            "6\n",
            "Accuracy médio 78.12\n",
            "Intervalo [75.53, 80.72]\n",
            "7\n",
            "Accuracy médio 77.96\n",
            "Intervalo [75.74, 80.19]\n",
            "8\n",
            "Accuracy médio 77.86\n",
            "Intervalo [75.81, 79.91]\n",
            "9\n",
            "Accuracy médio 77.38\n",
            "Intervalo [75.28, 79.48]\n",
            "10\n",
            "Accuracy médio 77.19\n",
            "Intervalo [75.26, 79.13]\n",
            "11\n",
            "Accuracy médio 76.97\n",
            "Intervalo [74.71, 79.23]\n",
            "12\n",
            "Accuracy médio 76.49\n",
            "Intervalo [74.66, 78.33]\n",
            "13\n",
            "Accuracy médio 75.81\n",
            "Intervalo [73.79, 77.82]\n",
            "14\n",
            "Accuracy médio 75.66\n",
            "Intervalo [73.64, 77.68]\n",
            "15\n",
            "Accuracy médio 75.16\n",
            "Intervalo [72.93, 77.38]\n",
            "16\n",
            "Accuracy médio 75.11\n",
            "Intervalo [73.31, 76.90]\n",
            "17\n",
            "Accuracy médio 74.74\n",
            "Intervalo [72.48, 76.99]\n",
            "18\n",
            "Accuracy médio 74.33\n",
            "Intervalo [71.92, 76.74]\n",
            "19\n",
            "Accuracy médio 74.34\n",
            "Intervalo [72.03, 76.64]\n",
            "20\n",
            "Accuracy médio 74.22\n",
            "Intervalo [71.83, 76.62]\n",
            "21\n",
            "Accuracy médio 73.80\n",
            "Intervalo [71.56, 76.05]\n",
            "22\n",
            "Accuracy médio 73.81\n",
            "Intervalo [71.25, 76.38]\n",
            "23\n",
            "Accuracy médio 73.38\n",
            "Intervalo [71.24, 75.52]\n",
            "24\n",
            "Accuracy médio 73.43\n",
            "Intervalo [70.37, 76.49]\n",
            "25\n",
            "Accuracy médio 73.14\n",
            "Intervalo [70.59, 75.69]\n",
            "26\n",
            "Accuracy médio 73.04\n",
            "Intervalo [70.54, 75.55]\n",
            "27\n",
            "Accuracy médio 72.91\n",
            "Intervalo [70.41, 75.41]\n",
            "28\n",
            "Accuracy médio 72.66\n",
            "Intervalo [70.11, 75.21]\n",
            "29\n",
            "Accuracy médio 72.73\n",
            "Intervalo [70.04, 75.43]\n",
            "30\n",
            "Accuracy médio 72.81\n",
            "Intervalo [69.87, 75.76]\n",
            "31\n",
            "Accuracy médio 72.86\n",
            "Intervalo [70.43, 75.29]\n"
          ],
          "name": "stdout"
        }
      ]
    },
    {
      "cell_type": "code",
      "metadata": {
        "id": "3YbMA6U5qOuO"
      },
      "source": [
        "# quanto maior a profundidade, maior o overfitting"
      ],
      "execution_count": null,
      "outputs": []
    },
    {
      "cell_type": "markdown",
      "metadata": {
        "id": "LM976b-nGOt4"
      },
      "source": [
        "# Encontrar os hiperparametros por GridSearch"
      ]
    },
    {
      "cell_type": "code",
      "metadata": {
        "id": "VB9Lf5UonwIQ"
      },
      "source": [
        "from sklearn.model_selection import GridSearchCV\n",
        "from sklearn.model_selection import KFold"
      ],
      "execution_count": null,
      "outputs": []
    },
    {
      "cell_type": "code",
      "metadata": {
        "id": "V1gfLuoqnwNR",
        "colab": {
          "base_uri": "https://localhost:8080/",
          "height": 561
        },
        "outputId": "b4806e05-2b74-4768-bb92-2548c9033f5a"
      },
      "source": [
        "SEED = 301\n",
        "np.random.seed(SEED)\n",
        "\n",
        "parameters_space = {\n",
        "    \"max_depth\": [3,5],\n",
        "    \"min_samples_split\": [32, 64, 128],\n",
        "    \"min_samples_leaf\" : [32, 64, 128],\n",
        "    \"criterion\": [\"gini\", \"entropy\"]\n",
        "}\n",
        "\n",
        "search = GridSearchCV(DecisionTreeClassifier(), \n",
        "                      parameters_space,\n",
        "                      cv= KFold(n_splits=10))\n",
        "\n",
        "search.fit(x_azar, y_azar, groups = df.modelo)\n",
        "resultados = pd.DataFrame(search.cv_results_)\n",
        "resultados.head()"
      ],
      "execution_count": null,
      "outputs": [
        {
          "output_type": "execute_result",
          "data": {
            "text/html": [
              "<div>\n",
              "<style scoped>\n",
              "    .dataframe tbody tr th:only-of-type {\n",
              "        vertical-align: middle;\n",
              "    }\n",
              "\n",
              "    .dataframe tbody tr th {\n",
              "        vertical-align: top;\n",
              "    }\n",
              "\n",
              "    .dataframe thead th {\n",
              "        text-align: right;\n",
              "    }\n",
              "</style>\n",
              "<table border=\"1\" class=\"dataframe\">\n",
              "  <thead>\n",
              "    <tr style=\"text-align: right;\">\n",
              "      <th></th>\n",
              "      <th>mean_fit_time</th>\n",
              "      <th>std_fit_time</th>\n",
              "      <th>mean_score_time</th>\n",
              "      <th>std_score_time</th>\n",
              "      <th>param_criterion</th>\n",
              "      <th>param_max_depth</th>\n",
              "      <th>param_min_samples_leaf</th>\n",
              "      <th>param_min_samples_split</th>\n",
              "      <th>params</th>\n",
              "      <th>split0_test_score</th>\n",
              "      <th>split1_test_score</th>\n",
              "      <th>split2_test_score</th>\n",
              "      <th>split3_test_score</th>\n",
              "      <th>split4_test_score</th>\n",
              "      <th>split5_test_score</th>\n",
              "      <th>split6_test_score</th>\n",
              "      <th>split7_test_score</th>\n",
              "      <th>split8_test_score</th>\n",
              "      <th>split9_test_score</th>\n",
              "      <th>mean_test_score</th>\n",
              "      <th>std_test_score</th>\n",
              "      <th>rank_test_score</th>\n",
              "    </tr>\n",
              "  </thead>\n",
              "  <tbody>\n",
              "    <tr>\n",
              "      <th>0</th>\n",
              "      <td>0.011251</td>\n",
              "      <td>0.001046</td>\n",
              "      <td>0.001484</td>\n",
              "      <td>0.000233</td>\n",
              "      <td>gini</td>\n",
              "      <td>3</td>\n",
              "      <td>32</td>\n",
              "      <td>32</td>\n",
              "      <td>{'criterion': 'gini', 'max_depth': 3, 'min_sam...</td>\n",
              "      <td>0.831</td>\n",
              "      <td>0.81</td>\n",
              "      <td>0.803</td>\n",
              "      <td>0.805</td>\n",
              "      <td>0.774</td>\n",
              "      <td>0.768</td>\n",
              "      <td>0.755</td>\n",
              "      <td>0.776</td>\n",
              "      <td>0.774</td>\n",
              "      <td>0.771</td>\n",
              "      <td>0.7867</td>\n",
              "      <td>0.022681</td>\n",
              "      <td>1</td>\n",
              "    </tr>\n",
              "    <tr>\n",
              "      <th>1</th>\n",
              "      <td>0.011302</td>\n",
              "      <td>0.000914</td>\n",
              "      <td>0.001485</td>\n",
              "      <td>0.000245</td>\n",
              "      <td>gini</td>\n",
              "      <td>3</td>\n",
              "      <td>32</td>\n",
              "      <td>64</td>\n",
              "      <td>{'criterion': 'gini', 'max_depth': 3, 'min_sam...</td>\n",
              "      <td>0.831</td>\n",
              "      <td>0.81</td>\n",
              "      <td>0.803</td>\n",
              "      <td>0.805</td>\n",
              "      <td>0.774</td>\n",
              "      <td>0.768</td>\n",
              "      <td>0.755</td>\n",
              "      <td>0.776</td>\n",
              "      <td>0.774</td>\n",
              "      <td>0.771</td>\n",
              "      <td>0.7867</td>\n",
              "      <td>0.022681</td>\n",
              "      <td>1</td>\n",
              "    </tr>\n",
              "    <tr>\n",
              "      <th>2</th>\n",
              "      <td>0.010739</td>\n",
              "      <td>0.000334</td>\n",
              "      <td>0.001345</td>\n",
              "      <td>0.000030</td>\n",
              "      <td>gini</td>\n",
              "      <td>3</td>\n",
              "      <td>32</td>\n",
              "      <td>128</td>\n",
              "      <td>{'criterion': 'gini', 'max_depth': 3, 'min_sam...</td>\n",
              "      <td>0.831</td>\n",
              "      <td>0.81</td>\n",
              "      <td>0.803</td>\n",
              "      <td>0.805</td>\n",
              "      <td>0.774</td>\n",
              "      <td>0.768</td>\n",
              "      <td>0.755</td>\n",
              "      <td>0.776</td>\n",
              "      <td>0.774</td>\n",
              "      <td>0.771</td>\n",
              "      <td>0.7867</td>\n",
              "      <td>0.022681</td>\n",
              "      <td>1</td>\n",
              "    </tr>\n",
              "    <tr>\n",
              "      <th>3</th>\n",
              "      <td>0.010863</td>\n",
              "      <td>0.000497</td>\n",
              "      <td>0.001353</td>\n",
              "      <td>0.000044</td>\n",
              "      <td>gini</td>\n",
              "      <td>3</td>\n",
              "      <td>64</td>\n",
              "      <td>32</td>\n",
              "      <td>{'criterion': 'gini', 'max_depth': 3, 'min_sam...</td>\n",
              "      <td>0.831</td>\n",
              "      <td>0.81</td>\n",
              "      <td>0.803</td>\n",
              "      <td>0.805</td>\n",
              "      <td>0.774</td>\n",
              "      <td>0.768</td>\n",
              "      <td>0.755</td>\n",
              "      <td>0.776</td>\n",
              "      <td>0.774</td>\n",
              "      <td>0.771</td>\n",
              "      <td>0.7867</td>\n",
              "      <td>0.022681</td>\n",
              "      <td>1</td>\n",
              "    </tr>\n",
              "    <tr>\n",
              "      <th>4</th>\n",
              "      <td>0.010647</td>\n",
              "      <td>0.000139</td>\n",
              "      <td>0.001413</td>\n",
              "      <td>0.000121</td>\n",
              "      <td>gini</td>\n",
              "      <td>3</td>\n",
              "      <td>64</td>\n",
              "      <td>64</td>\n",
              "      <td>{'criterion': 'gini', 'max_depth': 3, 'min_sam...</td>\n",
              "      <td>0.831</td>\n",
              "      <td>0.81</td>\n",
              "      <td>0.803</td>\n",
              "      <td>0.805</td>\n",
              "      <td>0.774</td>\n",
              "      <td>0.768</td>\n",
              "      <td>0.755</td>\n",
              "      <td>0.776</td>\n",
              "      <td>0.774</td>\n",
              "      <td>0.771</td>\n",
              "      <td>0.7867</td>\n",
              "      <td>0.022681</td>\n",
              "      <td>1</td>\n",
              "    </tr>\n",
              "  </tbody>\n",
              "</table>\n",
              "</div>"
            ],
            "text/plain": [
              "   mean_fit_time  std_fit_time  ...  std_test_score  rank_test_score\n",
              "0       0.011251      0.001046  ...        0.022681                1\n",
              "1       0.011302      0.000914  ...        0.022681                1\n",
              "2       0.010739      0.000334  ...        0.022681                1\n",
              "3       0.010863      0.000497  ...        0.022681                1\n",
              "4       0.010647      0.000139  ...        0.022681                1\n",
              "\n",
              "[5 rows x 22 columns]"
            ]
          },
          "metadata": {
            "tags": []
          },
          "execution_count": 55
        }
      ]
    },
    {
      "cell_type": "code",
      "metadata": {
        "id": "iLFg76Z2nwQy",
        "colab": {
          "base_uri": "https://localhost:8080/",
          "height": 52
        },
        "outputId": "1676d211-c684-4ca9-fbf3-b69062102d04"
      },
      "source": [
        "print(search.best_params_)\n",
        "print(search.best_score_*100)"
      ],
      "execution_count": null,
      "outputs": [
        {
          "output_type": "stream",
          "text": [
            "{'criterion': 'gini', 'max_depth': 3, 'min_samples_leaf': 32, 'min_samples_split': 32}\n",
            "78.67263337284332\n"
          ],
          "name": "stdout"
        }
      ]
    },
    {
      "cell_type": "code",
      "metadata": {
        "id": "GEUhygWOnwLP",
        "colab": {
          "base_uri": "https://localhost:8080/",
          "height": 124
        },
        "outputId": "e0a9d866-0a9c-4268-c301-704e7687b83f"
      },
      "source": [
        "model = search.best_estimator_\n",
        "model"
      ],
      "execution_count": null,
      "outputs": [
        {
          "output_type": "execute_result",
          "data": {
            "text/plain": [
              "DecisionTreeClassifier(ccp_alpha=0.0, class_weight=None, criterion='gini',\n",
              "                       max_depth=3, max_features=None, max_leaf_nodes=None,\n",
              "                       min_impurity_decrease=0.0, min_impurity_split=None,\n",
              "                       min_samples_leaf=32, min_samples_split=32,\n",
              "                       min_weight_fraction_leaf=0.0, presort='deprecated',\n",
              "                       random_state=None, splitter='best')"
            ]
          },
          "metadata": {
            "tags": []
          },
          "execution_count": 46
        }
      ]
    },
    {
      "cell_type": "code",
      "metadata": {
        "id": "Axx6um8SH3cM",
        "colab": {
          "base_uri": "https://localhost:8080/",
          "height": 35
        },
        "outputId": "bbbbf205-6ac2-4412-c5ae-a893caad9096"
      },
      "source": [
        "from sklearn.metrics import accuracy_score\n",
        "\n",
        "predictions = model.predict(x_azar)\n",
        "accuracy_score(predictions, y_azar)*100\n",
        "\n",
        "# quao bem isso será executado no mundo real?\n",
        "# utilizar o predict é muito otimista, evitar essa abordagem"
      ],
      "execution_count": null,
      "outputs": [
        {
          "output_type": "execute_result",
          "data": {
            "text/plain": [
              "78.75"
            ]
          },
          "metadata": {
            "tags": []
          },
          "execution_count": 51
        }
      ]
    },
    {
      "cell_type": "markdown",
      "metadata": {
        "id": "AVW87otIJJkV"
      },
      "source": [
        "No caso de cross validation com busca de hiper parâmetros, fazemos uma nova validação cruzada. Chama-se nested cross validation, que nao funciona por um bug do sklearn, por isso devemos usar o KFold"
      ]
    },
    {
      "cell_type": "code",
      "metadata": {
        "id": "lO18selZIbSz",
        "colab": {
          "base_uri": "https://localhost:8080/",
          "height": 35
        },
        "outputId": "97c5a483-7163-4cfe-b45e-ceede20334a6"
      },
      "source": [
        "from sklearn.model_selection import cross_val_score\n",
        "\n",
        "scores = cross_val_score(search, x_azar, y_azar, cv=KFold(n_splits=5, shuffle=True))\n",
        "scores.mean(), scores.std()\n"
      ],
      "execution_count": null,
      "outputs": [
        {
          "output_type": "execute_result",
          "data": {
            "text/plain": [
              "(0.7859999999999999, 0.008596510920135005)"
            ]
          },
          "metadata": {
            "tags": []
          },
          "execution_count": 58
        }
      ]
    },
    {
      "cell_type": "code",
      "metadata": {
        "id": "xHFPY55BJ2wv",
        "colab": {
          "base_uri": "https://localhost:8080/",
          "height": 598
        },
        "outputId": "ea8a6246-9e44-4c4a-d37d-54c4e424a3d8"
      },
      "source": [
        "model.fit(x_azar, y_azar)\n",
        "features = x_azar.columns\n",
        "dot_data = export_graphviz(model, out_file=None, filled=True, rounded=True,\n",
        "                           class_names=[\"não\", \"sim\"],\n",
        "                           feature_names = features)\n",
        "graph = graphviz.Source(dot_data)\n",
        "graph"
      ],
      "execution_count": null,
      "outputs": [
        {
          "output_type": "execute_result",
          "data": {
            "text/plain": [
              "<graphviz.files.Source at 0x7f02f2af3748>"
            ],
            "image/svg+xml": "<?xml version=\"1.0\" encoding=\"UTF-8\" standalone=\"no\"?>\n<!DOCTYPE svg PUBLIC \"-//W3C//DTD SVG 1.1//EN\"\n \"http://www.w3.org/Graphics/SVG/1.1/DTD/svg11.dtd\">\n<!-- Generated by graphviz version 2.40.1 (20161225.0304)\n -->\n<!-- Title: Tree Pages: 1 -->\n<svg width=\"912pt\" height=\"433pt\"\n viewBox=\"0.00 0.00 912.00 433.00\" xmlns=\"http://www.w3.org/2000/svg\" xmlns:xlink=\"http://www.w3.org/1999/xlink\">\n<g id=\"graph0\" class=\"graph\" transform=\"scale(1 1) rotate(0) translate(4 429)\">\n<title>Tree</title>\n<polygon fill=\"#ffffff\" stroke=\"transparent\" points=\"-4,4 -4,-429 908,-429 908,4 -4,4\"/>\n<!-- 0 -->\n<g id=\"node1\" class=\"node\">\n<title>0</title>\n<path fill=\"#c8e4f8\" stroke=\"#000000\" d=\"M372.5,-425C372.5,-425 247.5,-425 247.5,-425 241.5,-425 235.5,-419 235.5,-413 235.5,-413 235.5,-354 235.5,-354 235.5,-348 241.5,-342 247.5,-342 247.5,-342 372.5,-342 372.5,-342 378.5,-342 384.5,-348 384.5,-354 384.5,-354 384.5,-413 384.5,-413 384.5,-419 378.5,-425 372.5,-425\"/>\n<text text-anchor=\"middle\" x=\"310\" y=\"-409.8\" font-family=\"Helvetica,sans-Serif\" font-size=\"14.00\" fill=\"#000000\">preco &lt;= 59982.246</text>\n<text text-anchor=\"middle\" x=\"310\" y=\"-394.8\" font-family=\"Helvetica,sans-Serif\" font-size=\"14.00\" fill=\"#000000\">gini = 0.487</text>\n<text text-anchor=\"middle\" x=\"310\" y=\"-379.8\" font-family=\"Helvetica,sans-Serif\" font-size=\"14.00\" fill=\"#000000\">samples = 10000</text>\n<text text-anchor=\"middle\" x=\"310\" y=\"-364.8\" font-family=\"Helvetica,sans-Serif\" font-size=\"14.00\" fill=\"#000000\">value = [4200, 5800]</text>\n<text text-anchor=\"middle\" x=\"310\" y=\"-349.8\" font-family=\"Helvetica,sans-Serif\" font-size=\"14.00\" fill=\"#000000\">class = sim</text>\n</g>\n<!-- 1 -->\n<g id=\"node2\" class=\"node\">\n<title>1</title>\n<path fill=\"#52a9e8\" stroke=\"#000000\" d=\"M277.5,-306C277.5,-306 154.5,-306 154.5,-306 148.5,-306 142.5,-300 142.5,-294 142.5,-294 142.5,-235 142.5,-235 142.5,-229 148.5,-223 154.5,-223 154.5,-223 277.5,-223 277.5,-223 283.5,-223 289.5,-229 289.5,-235 289.5,-235 289.5,-294 289.5,-294 289.5,-300 283.5,-306 277.5,-306\"/>\n<text text-anchor=\"middle\" x=\"216\" y=\"-290.8\" font-family=\"Helvetica,sans-Serif\" font-size=\"14.00\" fill=\"#000000\">preco &lt;= 40083.385</text>\n<text text-anchor=\"middle\" x=\"216\" y=\"-275.8\" font-family=\"Helvetica,sans-Serif\" font-size=\"14.00\" fill=\"#000000\">gini = 0.198</text>\n<text text-anchor=\"middle\" x=\"216\" y=\"-260.8\" font-family=\"Helvetica,sans-Serif\" font-size=\"14.00\" fill=\"#000000\">samples = 4347</text>\n<text text-anchor=\"middle\" x=\"216\" y=\"-245.8\" font-family=\"Helvetica,sans-Serif\" font-size=\"14.00\" fill=\"#000000\">value = [484, 3863]</text>\n<text text-anchor=\"middle\" x=\"216\" y=\"-230.8\" font-family=\"Helvetica,sans-Serif\" font-size=\"14.00\" fill=\"#000000\">class = sim</text>\n</g>\n<!-- 0&#45;&gt;1 -->\n<g id=\"edge1\" class=\"edge\">\n<title>0&#45;&gt;1</title>\n<path fill=\"none\" stroke=\"#000000\" d=\"M277.1234,-341.8796C270.0803,-332.9633 262.5707,-323.4565 255.3126,-314.268\"/>\n<polygon fill=\"#000000\" stroke=\"#000000\" points=\"257.9621,-311.9757 249.017,-306.2981 252.4691,-316.3147 257.9621,-311.9757\"/>\n<text text-anchor=\"middle\" x=\"246.1027\" y=\"-327.4276\" font-family=\"Helvetica,sans-Serif\" font-size=\"14.00\" fill=\"#000000\">True</text>\n</g>\n<!-- 6 -->\n<g id=\"node7\" class=\"node\">\n<title>6</title>\n<path fill=\"#f3c3a0\" stroke=\"#000000\" d=\"M545,-306C545,-306 377,-306 377,-306 371,-306 365,-300 365,-294 365,-294 365,-235 365,-235 365,-229 371,-223 377,-223 377,-223 545,-223 545,-223 551,-223 557,-229 557,-235 557,-235 557,-294 557,-294 557,-300 551,-306 545,-306\"/>\n<text text-anchor=\"middle\" x=\"461\" y=\"-290.8\" font-family=\"Helvetica,sans-Serif\" font-size=\"14.00\" fill=\"#000000\">km_por_ano &lt;= 24124.006</text>\n<text text-anchor=\"middle\" x=\"461\" y=\"-275.8\" font-family=\"Helvetica,sans-Serif\" font-size=\"14.00\" fill=\"#000000\">gini = 0.45</text>\n<text text-anchor=\"middle\" x=\"461\" y=\"-260.8\" font-family=\"Helvetica,sans-Serif\" font-size=\"14.00\" fill=\"#000000\">samples = 5653</text>\n<text text-anchor=\"middle\" x=\"461\" y=\"-245.8\" font-family=\"Helvetica,sans-Serif\" font-size=\"14.00\" fill=\"#000000\">value = [3716, 1937]</text>\n<text text-anchor=\"middle\" x=\"461\" y=\"-230.8\" font-family=\"Helvetica,sans-Serif\" font-size=\"14.00\" fill=\"#000000\">class = não</text>\n</g>\n<!-- 0&#45;&gt;6 -->\n<g id=\"edge6\" class=\"edge\">\n<title>0&#45;&gt;6</title>\n<path fill=\"none\" stroke=\"#000000\" d=\"M362.8125,-341.8796C374.8818,-332.368 387.8039,-322.1843 400.1788,-312.432\"/>\n<polygon fill=\"#000000\" stroke=\"#000000\" points=\"402.5296,-315.0356 408.2173,-306.0969 398.1968,-309.5377 402.5296,-315.0356\"/>\n<text text-anchor=\"middle\" x=\"405.275\" y=\"-327.2232\" font-family=\"Helvetica,sans-Serif\" font-size=\"14.00\" fill=\"#000000\">False</text>\n</g>\n<!-- 2 -->\n<g id=\"node3\" class=\"node\">\n<title>2</title>\n<path fill=\"#399de5\" stroke=\"#000000\" d=\"M112,-179.5C112,-179.5 12,-179.5 12,-179.5 6,-179.5 0,-173.5 0,-167.5 0,-167.5 0,-123.5 0,-123.5 0,-117.5 6,-111.5 12,-111.5 12,-111.5 112,-111.5 112,-111.5 118,-111.5 124,-117.5 124,-123.5 124,-123.5 124,-167.5 124,-167.5 124,-173.5 118,-179.5 112,-179.5\"/>\n<text text-anchor=\"middle\" x=\"62\" y=\"-164.3\" font-family=\"Helvetica,sans-Serif\" font-size=\"14.00\" fill=\"#000000\">gini = 0.0</text>\n<text text-anchor=\"middle\" x=\"62\" y=\"-149.3\" font-family=\"Helvetica,sans-Serif\" font-size=\"14.00\" fill=\"#000000\">samples = 1935</text>\n<text text-anchor=\"middle\" x=\"62\" y=\"-134.3\" font-family=\"Helvetica,sans-Serif\" font-size=\"14.00\" fill=\"#000000\">value = [0, 1935]</text>\n<text text-anchor=\"middle\" x=\"62\" y=\"-119.3\" font-family=\"Helvetica,sans-Serif\" font-size=\"14.00\" fill=\"#000000\">class = sim</text>\n</g>\n<!-- 1&#45;&gt;2 -->\n<g id=\"edge2\" class=\"edge\">\n<title>1&#45;&gt;2</title>\n<path fill=\"none\" stroke=\"#000000\" d=\"M162.1383,-222.8796C146.7696,-211.0038 130.0453,-198.0804 114.7441,-186.2568\"/>\n<polygon fill=\"#000000\" stroke=\"#000000\" points=\"116.4605,-183.1599 106.4076,-179.8149 112.1804,-188.699 116.4605,-183.1599\"/>\n</g>\n<!-- 3 -->\n<g id=\"node4\" class=\"node\">\n<title>3</title>\n<path fill=\"#6bb6ec\" stroke=\"#000000\" d=\"M277.5,-187C277.5,-187 154.5,-187 154.5,-187 148.5,-187 142.5,-181 142.5,-175 142.5,-175 142.5,-116 142.5,-116 142.5,-110 148.5,-104 154.5,-104 154.5,-104 277.5,-104 277.5,-104 283.5,-104 289.5,-110 289.5,-116 289.5,-116 289.5,-175 289.5,-175 289.5,-181 283.5,-187 277.5,-187\"/>\n<text text-anchor=\"middle\" x=\"216\" y=\"-171.8\" font-family=\"Helvetica,sans-Serif\" font-size=\"14.00\" fill=\"#000000\">preco &lt;= 41083.029</text>\n<text text-anchor=\"middle\" x=\"216\" y=\"-156.8\" font-family=\"Helvetica,sans-Serif\" font-size=\"14.00\" fill=\"#000000\">gini = 0.321</text>\n<text text-anchor=\"middle\" x=\"216\" y=\"-141.8\" font-family=\"Helvetica,sans-Serif\" font-size=\"14.00\" fill=\"#000000\">samples = 2412</text>\n<text text-anchor=\"middle\" x=\"216\" y=\"-126.8\" font-family=\"Helvetica,sans-Serif\" font-size=\"14.00\" fill=\"#000000\">value = [484, 1928]</text>\n<text text-anchor=\"middle\" x=\"216\" y=\"-111.8\" font-family=\"Helvetica,sans-Serif\" font-size=\"14.00\" fill=\"#000000\">class = sim</text>\n</g>\n<!-- 1&#45;&gt;3 -->\n<g id=\"edge3\" class=\"edge\">\n<title>1&#45;&gt;3</title>\n<path fill=\"none\" stroke=\"#000000\" d=\"M216,-222.8796C216,-214.6838 216,-205.9891 216,-197.5013\"/>\n<polygon fill=\"#000000\" stroke=\"#000000\" points=\"219.5001,-197.298 216,-187.2981 212.5001,-197.2981 219.5001,-197.298\"/>\n</g>\n<!-- 4 -->\n<g id=\"node5\" class=\"node\">\n<title>4</title>\n<path fill=\"#95cbf1\" stroke=\"#000000\" d=\"M116,-68C116,-68 24,-68 24,-68 18,-68 12,-62 12,-56 12,-56 12,-12 12,-12 12,-6 18,0 24,0 24,0 116,0 116,0 122,0 128,-6 128,-12 128,-12 128,-56 128,-56 128,-62 122,-68 116,-68\"/>\n<text text-anchor=\"middle\" x=\"70\" y=\"-52.8\" font-family=\"Helvetica,sans-Serif\" font-size=\"14.00\" fill=\"#000000\">gini = 0.434</text>\n<text text-anchor=\"middle\" x=\"70\" y=\"-37.8\" font-family=\"Helvetica,sans-Serif\" font-size=\"14.00\" fill=\"#000000\">samples = 110</text>\n<text text-anchor=\"middle\" x=\"70\" y=\"-22.8\" font-family=\"Helvetica,sans-Serif\" font-size=\"14.00\" fill=\"#000000\">value = [35, 75]</text>\n<text text-anchor=\"middle\" x=\"70\" y=\"-7.8\" font-family=\"Helvetica,sans-Serif\" font-size=\"14.00\" fill=\"#000000\">class = sim</text>\n</g>\n<!-- 3&#45;&gt;4 -->\n<g id=\"edge4\" class=\"edge\">\n<title>3&#45;&gt;4</title>\n<path fill=\"none\" stroke=\"#000000\" d=\"M161.635,-103.9815C148.9989,-94.3313 135.5644,-84.0714 122.9885,-74.4673\"/>\n<polygon fill=\"#000000\" stroke=\"#000000\" points=\"124.9372,-71.5515 114.8654,-68.2637 120.6886,-77.1148 124.9372,-71.5515\"/>\n</g>\n<!-- 5 -->\n<g id=\"node6\" class=\"node\">\n<title>5</title>\n<path fill=\"#69b5eb\" stroke=\"#000000\" d=\"M274,-68C274,-68 158,-68 158,-68 152,-68 146,-62 146,-56 146,-56 146,-12 146,-12 146,-6 152,0 158,0 158,0 274,0 274,0 280,0 286,-6 286,-12 286,-12 286,-56 286,-56 286,-62 280,-68 274,-68\"/>\n<text text-anchor=\"middle\" x=\"216\" y=\"-52.8\" font-family=\"Helvetica,sans-Serif\" font-size=\"14.00\" fill=\"#000000\">gini = 0.314</text>\n<text text-anchor=\"middle\" x=\"216\" y=\"-37.8\" font-family=\"Helvetica,sans-Serif\" font-size=\"14.00\" fill=\"#000000\">samples = 2302</text>\n<text text-anchor=\"middle\" x=\"216\" y=\"-22.8\" font-family=\"Helvetica,sans-Serif\" font-size=\"14.00\" fill=\"#000000\">value = [449, 1853]</text>\n<text text-anchor=\"middle\" x=\"216\" y=\"-7.8\" font-family=\"Helvetica,sans-Serif\" font-size=\"14.00\" fill=\"#000000\">class = sim</text>\n</g>\n<!-- 3&#45;&gt;5 -->\n<g id=\"edge5\" class=\"edge\">\n<title>3&#45;&gt;5</title>\n<path fill=\"none\" stroke=\"#000000\" d=\"M216,-103.9815C216,-95.618 216,-86.7965 216,-78.3409\"/>\n<polygon fill=\"#000000\" stroke=\"#000000\" points=\"219.5001,-78.2636 216,-68.2637 212.5001,-78.2637 219.5001,-78.2636\"/>\n</g>\n<!-- 7 -->\n<g id=\"node8\" class=\"node\">\n<title>7</title>\n<path fill=\"#fcefe5\" stroke=\"#000000\" d=\"M523.5,-187C523.5,-187 398.5,-187 398.5,-187 392.5,-187 386.5,-181 386.5,-175 386.5,-175 386.5,-116 386.5,-116 386.5,-110 392.5,-104 398.5,-104 398.5,-104 523.5,-104 523.5,-104 529.5,-104 535.5,-110 535.5,-116 535.5,-116 535.5,-175 535.5,-175 535.5,-181 529.5,-187 523.5,-187\"/>\n<text text-anchor=\"middle\" x=\"461\" y=\"-171.8\" font-family=\"Helvetica,sans-Serif\" font-size=\"14.00\" fill=\"#000000\">preco &lt;= 99974.41</text>\n<text text-anchor=\"middle\" x=\"461\" y=\"-156.8\" font-family=\"Helvetica,sans-Serif\" font-size=\"14.00\" fill=\"#000000\">gini = 0.498</text>\n<text text-anchor=\"middle\" x=\"461\" y=\"-141.8\" font-family=\"Helvetica,sans-Serif\" font-size=\"14.00\" fill=\"#000000\">samples = 3513</text>\n<text text-anchor=\"middle\" x=\"461\" y=\"-126.8\" font-family=\"Helvetica,sans-Serif\" font-size=\"14.00\" fill=\"#000000\">value = [1879, 1634]</text>\n<text text-anchor=\"middle\" x=\"461\" y=\"-111.8\" font-family=\"Helvetica,sans-Serif\" font-size=\"14.00\" fill=\"#000000\">class = não</text>\n</g>\n<!-- 6&#45;&gt;7 -->\n<g id=\"edge7\" class=\"edge\">\n<title>6&#45;&gt;7</title>\n<path fill=\"none\" stroke=\"#000000\" d=\"M461,-222.8796C461,-214.6838 461,-205.9891 461,-197.5013\"/>\n<polygon fill=\"#000000\" stroke=\"#000000\" points=\"464.5001,-197.298 461,-187.2981 457.5001,-197.2981 464.5001,-197.298\"/>\n</g>\n<!-- 10 -->\n<g id=\"node11\" class=\"node\">\n<title>10</title>\n<path fill=\"#e9965a\" stroke=\"#000000\" d=\"M753.5,-187C753.5,-187 622.5,-187 622.5,-187 616.5,-187 610.5,-181 610.5,-175 610.5,-175 610.5,-116 610.5,-116 610.5,-110 616.5,-104 622.5,-104 622.5,-104 753.5,-104 753.5,-104 759.5,-104 765.5,-110 765.5,-116 765.5,-116 765.5,-175 765.5,-175 765.5,-181 759.5,-187 753.5,-187\"/>\n<text text-anchor=\"middle\" x=\"688\" y=\"-171.8\" font-family=\"Helvetica,sans-Serif\" font-size=\"14.00\" fill=\"#000000\">preco &lt;= 100076.957</text>\n<text text-anchor=\"middle\" x=\"688\" y=\"-156.8\" font-family=\"Helvetica,sans-Serif\" font-size=\"14.00\" fill=\"#000000\">gini = 0.243</text>\n<text text-anchor=\"middle\" x=\"688\" y=\"-141.8\" font-family=\"Helvetica,sans-Serif\" font-size=\"14.00\" fill=\"#000000\">samples = 2140</text>\n<text text-anchor=\"middle\" x=\"688\" y=\"-126.8\" font-family=\"Helvetica,sans-Serif\" font-size=\"14.00\" fill=\"#000000\">value = [1837, 303]</text>\n<text text-anchor=\"middle\" x=\"688\" y=\"-111.8\" font-family=\"Helvetica,sans-Serif\" font-size=\"14.00\" fill=\"#000000\">class = não</text>\n</g>\n<!-- 6&#45;&gt;10 -->\n<g id=\"edge10\" class=\"edge\">\n<title>6&#45;&gt;10</title>\n<path fill=\"none\" stroke=\"#000000\" d=\"M540.3936,-222.8796C560.0179,-212.592 581.1418,-201.5182 601.1025,-191.0542\"/>\n<polygon fill=\"#000000\" stroke=\"#000000\" points=\"602.9504,-194.0373 610.1822,-186.2944 599.7003,-187.8375 602.9504,-194.0373\"/>\n</g>\n<!-- 8 -->\n<g id=\"node9\" class=\"node\">\n<title>8</title>\n<path fill=\"#f9e0ce\" stroke=\"#000000\" d=\"M441.5,-68C441.5,-68 316.5,-68 316.5,-68 310.5,-68 304.5,-62 304.5,-56 304.5,-56 304.5,-12 304.5,-12 304.5,-6 310.5,0 316.5,0 316.5,0 441.5,0 441.5,0 447.5,0 453.5,-6 453.5,-12 453.5,-12 453.5,-56 453.5,-56 453.5,-62 447.5,-68 441.5,-68\"/>\n<text text-anchor=\"middle\" x=\"379\" y=\"-52.8\" font-family=\"Helvetica,sans-Serif\" font-size=\"14.00\" fill=\"#000000\">gini = 0.49</text>\n<text text-anchor=\"middle\" x=\"379\" y=\"-37.8\" font-family=\"Helvetica,sans-Serif\" font-size=\"14.00\" fill=\"#000000\">samples = 2944</text>\n<text text-anchor=\"middle\" x=\"379\" y=\"-22.8\" font-family=\"Helvetica,sans-Serif\" font-size=\"14.00\" fill=\"#000000\">value = [1682, 1262]</text>\n<text text-anchor=\"middle\" x=\"379\" y=\"-7.8\" font-family=\"Helvetica,sans-Serif\" font-size=\"14.00\" fill=\"#000000\">class = não</text>\n</g>\n<!-- 7&#45;&gt;8 -->\n<g id=\"edge8\" class=\"edge\">\n<title>7&#45;&gt;8</title>\n<path fill=\"none\" stroke=\"#000000\" d=\"M430.4662,-103.9815C423.8424,-94.9747 416.8279,-85.4367 410.1795,-76.3965\"/>\n<polygon fill=\"#000000\" stroke=\"#000000\" points=\"412.9426,-74.2461 404.1984,-68.2637 407.3034,-78.3933 412.9426,-74.2461\"/>\n</g>\n<!-- 9 -->\n<g id=\"node10\" class=\"node\">\n<title>9</title>\n<path fill=\"#a2d1f3\" stroke=\"#000000\" d=\"M592,-68C592,-68 484,-68 484,-68 478,-68 472,-62 472,-56 472,-56 472,-12 472,-12 472,-6 478,0 484,0 484,0 592,0 592,0 598,0 604,-6 604,-12 604,-12 604,-56 604,-56 604,-62 598,-68 592,-68\"/>\n<text text-anchor=\"middle\" x=\"538\" y=\"-52.8\" font-family=\"Helvetica,sans-Serif\" font-size=\"14.00\" fill=\"#000000\">gini = 0.453</text>\n<text text-anchor=\"middle\" x=\"538\" y=\"-37.8\" font-family=\"Helvetica,sans-Serif\" font-size=\"14.00\" fill=\"#000000\">samples = 569</text>\n<text text-anchor=\"middle\" x=\"538\" y=\"-22.8\" font-family=\"Helvetica,sans-Serif\" font-size=\"14.00\" fill=\"#000000\">value = [197, 372]</text>\n<text text-anchor=\"middle\" x=\"538\" y=\"-7.8\" font-family=\"Helvetica,sans-Serif\" font-size=\"14.00\" fill=\"#000000\">class = sim</text>\n</g>\n<!-- 7&#45;&gt;9 -->\n<g id=\"edge9\" class=\"edge\">\n<title>7&#45;&gt;9</title>\n<path fill=\"none\" stroke=\"#000000\" d=\"M489.672,-103.9815C495.8285,-95.0666 502.3443,-85.6313 508.5305,-76.6734\"/>\n<polygon fill=\"#000000\" stroke=\"#000000\" points=\"511.5355,-78.4811 514.3381,-68.2637 505.7755,-74.5034 511.5355,-78.4811\"/>\n</g>\n<!-- 11 -->\n<g id=\"node12\" class=\"node\">\n<title>11</title>\n<path fill=\"#e68742\" stroke=\"#000000\" d=\"M742,-68C742,-68 634,-68 634,-68 628,-68 622,-62 622,-56 622,-56 622,-12 622,-12 622,-6 628,0 634,0 634,0 742,0 742,0 748,0 754,-6 754,-12 754,-12 754,-56 754,-56 754,-62 748,-68 742,-68\"/>\n<text text-anchor=\"middle\" x=\"688\" y=\"-52.8\" font-family=\"Helvetica,sans-Serif\" font-size=\"14.00\" fill=\"#000000\">gini = 0.082</text>\n<text text-anchor=\"middle\" x=\"688\" y=\"-37.8\" font-family=\"Helvetica,sans-Serif\" font-size=\"14.00\" fill=\"#000000\">samples = 1809</text>\n<text text-anchor=\"middle\" x=\"688\" y=\"-22.8\" font-family=\"Helvetica,sans-Serif\" font-size=\"14.00\" fill=\"#000000\">value = [1732, 77]</text>\n<text text-anchor=\"middle\" x=\"688\" y=\"-7.8\" font-family=\"Helvetica,sans-Serif\" font-size=\"14.00\" fill=\"#000000\">class = não</text>\n</g>\n<!-- 10&#45;&gt;11 -->\n<g id=\"edge11\" class=\"edge\">\n<title>10&#45;&gt;11</title>\n<path fill=\"none\" stroke=\"#000000\" d=\"M688,-103.9815C688,-95.618 688,-86.7965 688,-78.3409\"/>\n<polygon fill=\"#000000\" stroke=\"#000000\" points=\"691.5001,-78.2636 688,-68.2637 684.5001,-78.2637 691.5001,-78.2636\"/>\n</g>\n<!-- 12 -->\n<g id=\"node13\" class=\"node\">\n<title>12</title>\n<path fill=\"#95cbf1\" stroke=\"#000000\" d=\"M892,-68C892,-68 784,-68 784,-68 778,-68 772,-62 772,-56 772,-56 772,-12 772,-12 772,-6 778,0 784,0 784,0 892,0 892,0 898,0 904,-6 904,-12 904,-12 904,-56 904,-56 904,-62 898,-68 892,-68\"/>\n<text text-anchor=\"middle\" x=\"838\" y=\"-52.8\" font-family=\"Helvetica,sans-Serif\" font-size=\"14.00\" fill=\"#000000\">gini = 0.433</text>\n<text text-anchor=\"middle\" x=\"838\" y=\"-37.8\" font-family=\"Helvetica,sans-Serif\" font-size=\"14.00\" fill=\"#000000\">samples = 331</text>\n<text text-anchor=\"middle\" x=\"838\" y=\"-22.8\" font-family=\"Helvetica,sans-Serif\" font-size=\"14.00\" fill=\"#000000\">value = [105, 226]</text>\n<text text-anchor=\"middle\" x=\"838\" y=\"-7.8\" font-family=\"Helvetica,sans-Serif\" font-size=\"14.00\" fill=\"#000000\">class = sim</text>\n</g>\n<!-- 10&#45;&gt;12 -->\n<g id=\"edge12\" class=\"edge\">\n<title>10&#45;&gt;12</title>\n<path fill=\"none\" stroke=\"#000000\" d=\"M743.8545,-103.9815C756.8368,-94.3313 770.6394,-84.0714 783.5597,-74.4673\"/>\n<polygon fill=\"#000000\" stroke=\"#000000\" points=\"785.9678,-77.0384 791.9054,-68.2637 781.7917,-71.4204 785.9678,-77.0384\"/>\n</g>\n</g>\n</svg>\n"
          },
          "metadata": {
            "tags": []
          },
          "execution_count": 60
        }
      ]
    },
    {
      "cell_type": "code",
      "metadata": {
        "id": "h9ahNMBKLQ20"
      },
      "source": [
        "# melhor modelo real\n",
        "# para selecionar o melhor estimador dependo de validar (cruzada) e hiperparametros"
      ],
      "execution_count": null,
      "outputs": []
    }
  ]
}